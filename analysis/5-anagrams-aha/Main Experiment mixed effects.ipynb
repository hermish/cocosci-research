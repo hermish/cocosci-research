{
 "cells": [
  {
   "cell_type": "code",
   "execution_count": 9,
   "metadata": {},
   "outputs": [],
   "source": [
    "%matplotlib inline\n",
    "\n",
    "import matplotlib\n",
    "import numpy as np\n",
    "import matplotlib.pyplot as plt\n",
    "\n",
    "import json\n",
    "import numpy as np\n",
    "import seaborn as sns\n",
    "import matplotlib.pyplot as plt\n",
    "from scipy import stats\n",
    "import pandas as pd\n",
    "import scipy\n",
    "from scipy.stats import ttest_ind, ttest_ind_from_stats\n",
    "from scipy.special import stdtr\n",
    "from statistics import mean \n",
    "import scipy.stats as stats\n",
    "import statsmodels.api as sm\n",
    "from statsmodels.formula.api import ols"
   ]
  },
  {
   "cell_type": "code",
   "execution_count": 10,
   "metadata": {},
   "outputs": [
    {
     "data": {
      "text/plain": [
       "635"
      ]
     },
     "execution_count": 10,
     "metadata": {},
     "output_type": "execute_result"
    }
   ],
   "source": [
    "FILE_PATH = 'data/exp1_main2.json'\n",
    "all_entries = []\n",
    "all_entries1 = []\n",
    "all_entries2 = []\n",
    "\n",
    "with open(FILE_PATH) as file:\n",
    "    all_entries1 = json.loads(file.read(), strict=False)\n",
    "\n",
    "FILE_PATH = 'data/exp1_main.json'\n",
    "with open(FILE_PATH) as file:\n",
    "    for line in file:\n",
    "        entry = json.loads(line)\n",
    "        all_entries2.append(entry)\n",
    "        e = entry['data']\n",
    "        \n",
    "all_entries = all_entries1+all_entries2        \n",
    "len(all_entries1)"
   ]
  },
  {
   "cell_type": "code",
   "execution_count": 11,
   "metadata": {},
   "outputs": [
    {
     "name": "stdout",
     "output_type": "stream",
     "text": [
      "1410 1230\n"
     ]
    }
   ],
   "source": [
    "start = []\n",
    "finish = []\n",
    "for entry in all_entries:\n",
    "    if isinstance(entry['data'], dict):\n",
    "        condition = entry['data']\n",
    "        start.append(entry)\n",
    "    else:\n",
    "        condition = entry['data'][0]\n",
    "        finish.append(entry)\n",
    "print(len(start),len(finish))\n",
    "\n",
    "def return_indices(user_order): #function that searches through the list of anagrams and returns the indices of the anagrams seen by the subject\n",
    "    order = ['TEH', 'WYH', 'CPA', 'YSE', 'CPU','FNU', 'EEY', 'SNU', 'HTA', 'CNA', 'HTE', 'HWY', 'APC', 'EYS', 'PCU', 'NUF', 'YEE', 'UNS', 'AHT', 'ACN', 'WODR', 'DDEE', 'BLLE', 'STRO', 'PTIN', 'BTEL', 'CADR', 'FNDI', 'YLEL', 'CDOL','OWDR', 'EDDE', 'LBLE', 'TOSR', 'TIPN', 'TBLE', 'RADC', 'DIFN', 'LYLE','DOCL', 'VENGA','CLREK','PEOKR','OSIAS','GIATN','OUIPM','DONRO','PHNEO','ECELT','SCELA', 'EVANG', 'KLECR','KOERP','SAOSI','IGNAT','POUIM','OONRD','NPOHE','TELCE','ESALC', 'SADOWH','DOLRLA','RAODNM','SALYRA','WEIGTH','RDFUNE','LEETTR','CRABON','WIZRAD','BLLAET', 'HSOADW', 'RODLLA','MARNOD','AALRYS','IEGWHT','UEFNDR','RETLET','NCRBOA','ZIAWRD','EABLLT', 'CLEIMAT','JWAYALK','HAKMOCM','DURAELB','NAYUGHT','GLICAER','JLUMBED','EXPLIAN','GBRAAGE','JNOUREY', 'TCILAME','AYKAWLJ','CAMHOMK','EURADBL','AYUGNHT','CLAIGER','LUBMEJD','AXPLINE','BARAGGE','YUOEJRN']\n",
    "    idx = []\n",
    "    for i in range(len(user_order)):\n",
    "        idx.append(order.index(user_order[i]))\n",
    "    return idx\n",
    "\n",
    "def label_point(x, y, val, ax):\n",
    "    a = pd.concat({'x': x, 'y': y, 'val': val}, axis=1)\n",
    "    #print(a)\n",
    "    for i, point in a.iterrows():\n",
    "        ax.text(point['x']+.02, point['y'], str(point['val']))\n",
    "        \n",
    "def return_length(anagrams): #function that takes a list and returns the length of each string in that list\n",
    "    length = []    \n",
    "    for element in anagrams: # go thru each anagram\n",
    "        length.append(len(element)) #append length\n",
    "    return length"
   ]
  },
  {
   "cell_type": "code",
   "execution_count": 12,
   "metadata": {},
   "outputs": [
    {
     "name": "stdout",
     "output_type": "stream",
     "text": [
      "25 592\n"
     ]
    }
   ],
   "source": [
    "#get data for each subject \n",
    "time_guess = [] \n",
    "actual_rt = []\n",
    "aha = []\n",
    "subject_id = []\n",
    "anagram_id = []\n",
    "give_up = []\n",
    "anagram_length = []\n",
    "\n",
    "sub = 0\n",
    "bad = 0\n",
    "quit = 0\n",
    "for entry in finish: \n",
    "    sub = sub+1\n",
    "    entry_data = entry['data']\n",
    "    idx = return_indices((entry_data[0]['anagrams_seen'])) #get the indices of the anagrams seen by the subject\n",
    "    anagrams_answers = entry_data[0]['anagrams_answers']\n",
    "    an_length = return_length(anagrams_answers)\n",
    "    \n",
    "    anagram_length.append(an_length)\n",
    "    anagram_id.append(idx)\n",
    "    subject_id.append(sub*np.ones(5))\n",
    "    counter = 3 #3 is first time quiz is given to subjects\n",
    "    while '5' not in entry_data[counter]['responses']: #keep increasing counter everytime subject gets the quiz incorrectly\n",
    "        counter = counter+2\n",
    "    \n",
    "    for j in range(5):\n",
    "        counter = counter+3\n",
    "        time_guess.append(entry_data[counter]['response'])\n",
    "\n",
    "        counter = counter+1  \n",
    "        rt = entry_data[counter]['rt']\n",
    "        attempt = entry_data[counter]['responses'] \n",
    "        g = 0\n",
    "\n",
    "        while anagrams_answers[j].lower() not in attempt.lower(): #keep incrementing until person gets correct answer or gives up\n",
    "            if \"next\" in attempt.lower(): #break if person gave up\n",
    "                quit = quit+1\n",
    "                g = 1\n",
    "                break\n",
    "            else:                \n",
    "                counter = counter+1\n",
    "                attempt = entry_data[counter]['responses']\n",
    "                rt = rt+entry_data[counter]['rt']  \n",
    "        \n",
    "        if (rt*0.001)/60 > 4.3: #remove all responses greater than max(mean_rt)+1.5*max(mean_std). \n",
    "            bad = bad+1\n",
    "            g = 1\n",
    "        \n",
    "        give_up.append(g)\n",
    "        actual_rt.append(rt) #append actual time to complete\n",
    "        counter = counter+1    \n",
    "        r = entry_data[counter]['responses'] #aha rating\n",
    "        aha.append(int(r[6]))\n",
    "\n",
    "print(bad, quit)"
   ]
  },
  {
   "cell_type": "code",
   "execution_count": 13,
   "metadata": {},
   "outputs": [
    {
     "name": "stdout",
     "output_type": "stream",
     "text": [
      "4.1674\n"
     ]
    }
   ],
   "source": [
    "#data conversion, clean-up, and storage here\n",
    "time_guess = np.hstack(np.asarray(time_guess, dtype='float64'))*(3/100)*(60) \n",
    "actual_rt = np.hstack(np.asarray(actual_rt, dtype='float64'))*0.001\n",
    "aha = np.hstack(np.asarray(aha, dtype='float64')) \n",
    "subject_id = np.hstack(subject_id) \n",
    "anagram_id = np.hstack(anagram_id) \n",
    "anagram_length = np.hstack(anagram_length)\n",
    "give_up = np.hstack(give_up) \n",
    "tpe = time_guess - actual_rt\n",
    "\n",
    "indexes = [i for i,x in enumerate(give_up) if x == 0] #only get subjects who solved the anagram    \n",
    "\n",
    "aha = aha[np.asarray(indexes)] \n",
    "time_guess = time_guess[np.asarray(indexes)] \n",
    "actual_rt = actual_rt[np.asarray(indexes)] \n",
    "tpe = tpe[np.asarray(indexes)]\n",
    "subject_id = subject_id[np.asarray(indexes)]\n",
    "anagram_length = anagram_length[np.asarray(indexes)]\n",
    "anagram_id = anagram_id[np.asarray(indexes)]\n",
    "\n",
    "print(np.max(actual_rt)/60)"
   ]
  },
  {
   "cell_type": "code",
   "execution_count": 15,
   "metadata": {},
   "outputs": [
    {
     "data": {
      "text/plain": [
       "<AxesSubplot:xlabel='aha', ylabel='rt'>"
      ]
     },
     "execution_count": 15,
     "metadata": {},
     "output_type": "execute_result"
    },
    {
     "data": {
      "image/png": "[encoded data removed]",
      "text/plain": [
       "<Figure size 432x288 with 1 Axes>"
      ]
     },
     "metadata": {
      "needs_background": "light"
     },
     "output_type": "display_data"
    }
   ],
   "source": [
    "#do box plot and anova of all data for each aha rating\n",
    "import seaborn as sns\n",
    "import pandas as pd\n",
    "from matplotlib import pyplot as plt\n",
    "\n",
    "df = pd.DataFrame({'anagram_id': anagram_id, 'subject_id': subject_id,\n",
    "    'tpe': tpe/60,\n",
    "    'aha': aha,\n",
    "    'estimate': time_guess/60,\n",
    "     'rt':  actual_rt/60,\n",
    "     'length':  anagram_length})\n",
    "\n",
    "sns.boxplot(x=df[\"aha\"], y=df[\"rt\"])\n",
    "\n",
    "#stats.f_oneway(df['tpe'][df['aha'] == 0], \n",
    "#             df['tpe'][df['aha'] == 1],\n",
    "#             df['tpe'][df['aha'] == 2],\n",
    "#             df['tpe'][df['aha'] == 3],\n",
    "#             df['tpe'][df['aha'] == 4],\n",
    "#             df['tpe'][df['aha'] == 5],\n",
    "#             df['tpe'][df['aha'] == 6])\n",
    "\n",
    "#results = ols('tpe ~ C(aha)', data=df).fit()\n",
    "#results.summary()"
   ]
  },
  {
   "cell_type": "code",
   "execution_count": 16,
   "metadata": {},
   "outputs": [
    {
     "data": {
      "text/html": [
       "<table class=\"simpletable\">\n",
       "<tr>\n",
       "       <td>Model:</td>       <td>MixedLM</td> <td>Dependent Variable:</td>     <td>aha</td>    \n",
       "</tr>\n",
       "<tr>\n",
       "  <td>No. Observations:</td>  <td>5539</td>         <td>Method:</td>          <td>REML</td>    \n",
       "</tr>\n",
       "<tr>\n",
       "     <td>No. Groups:</td>       <td>1</td>          <td>Scale:</td>          <td>2.3274</td>   \n",
       "</tr>\n",
       "<tr>\n",
       "  <td>Min. group size:</td>   <td>5539</td>     <td>Log-Likelihood:</td>   <td>-11200.9704</td>\n",
       "</tr>\n",
       "<tr>\n",
       "  <td>Max. group size:</td>   <td>5539</td>       <td>Converged:</td>          <td>Yes</td>    \n",
       "</tr>\n",
       "<tr>\n",
       "  <td>Mean group size:</td>  <td>5539.0</td>           <td></td>                <td></td>      \n",
       "</tr>\n",
       "</table>\n",
       "<table class=\"simpletable\">\n",
       "<tr>\n",
       "         <td></td>        <th>Coef.</th> <th>Std.Err.</th>    <th>z</th>   <th>P>|z|</th> <th>[0.025</th> <th>0.975]</th>\n",
       "</tr>\n",
       "<tr>\n",
       "  <th>Intercept</th>      <td>2.445</td>   <td>0.112</td>  <td>21.929</td> <td>0.000</td>  <td>2.227</td>  <td>2.664</td>\n",
       "</tr>\n",
       "<tr>\n",
       "  <th>tpe</th>            <td>0.311</td>   <td>0.038</td>   <td>8.272</td> <td>0.000</td>  <td>0.237</td>  <td>0.384</td>\n",
       "</tr>\n",
       "<tr>\n",
       "  <th>length</th>         <td>0.135</td>   <td>0.021</td>   <td>6.490</td> <td>0.000</td>  <td>0.094</td>  <td>0.176</td>\n",
       "</tr>\n",
       "<tr>\n",
       "  <th>anagram_id Var</th> <td>0.038</td>   <td>0.009</td>     <td></td>      <td></td>       <td></td>       <td></td>   \n",
       "</tr>\n",
       "<tr>\n",
       "  <th>subject_id Var</th> <td>2.026</td>   <td>0.077</td>     <td></td>      <td></td>       <td></td>       <td></td>   \n",
       "</tr>\n",
       "</table>"
      ],
      "text/plain": [
       "<class 'statsmodels.iolib.summary2.Summary'>\n",
       "\"\"\"\n",
       "          Mixed Linear Model Regression Results\n",
       "=========================================================\n",
       "Model:            MixedLM Dependent Variable: aha        \n",
       "No. Observations: 5539    Method:             REML       \n",
       "No. Groups:       1       Scale:              2.3274     \n",
       "Min. group size:  5539    Log-Likelihood:     -11200.9704\n",
       "Max. group size:  5539    Converged:          Yes        \n",
       "Mean group size:  5539.0                                 \n",
       "---------------------------------------------------------\n",
       "                Coef. Std.Err.   z    P>|z| [0.025 0.975]\n",
       "---------------------------------------------------------\n",
       "Intercept       2.445    0.112 21.929 0.000  2.227  2.664\n",
       "tpe             0.311    0.038  8.272 0.000  0.237  0.384\n",
       "length          0.135    0.021  6.490 0.000  0.094  0.176\n",
       "anagram_id Var  0.038    0.009                           \n",
       "subject_id Var  2.026    0.077                           \n",
       "=========================================================\n",
       "\n",
       "\"\"\""
      ]
     },
     "execution_count": 16,
     "metadata": {},
     "output_type": "execute_result"
    }
   ],
   "source": [
    "import statsmodels.api as sm                                                                                               \n",
    "\n",
    "df[\"group\"] = 1                                                                                                            \n",
    "\n",
    "vcf = {\"subject_id\": \"0 + C(subject_id)\", \"anagram_id\": \"0 + C(anagram_id)\"}                                                         \n",
    "model = sm.MixedLM.from_formula(\"aha ~ estimate + rt + tpe + length\", groups=\"group\",                                                    \n",
    "                                vc_formula=vcf, re_formula=\"0\", data=df)                                                   \n",
    "result = model.fit()  \n",
    "result.summary()"
   ]
  },
  {
   "cell_type": "code",
   "execution_count": 16,
   "metadata": {},
   "outputs": [
    {
     "data": {
      "text/html": [
       "<table class=\"simpletable\">\n",
       "<caption>OLS Regression Results</caption>\n",
       "<tr>\n",
       "  <th>Dep. Variable:</th>           <td>aha</td>       <th>  R-squared:         </th> <td>   0.057</td> \n",
       "</tr>\n",
       "<tr>\n",
       "  <th>Model:</th>                   <td>OLS</td>       <th>  Adj. R-squared:    </th> <td>   0.057</td> \n",
       "</tr>\n",
       "<tr>\n",
       "  <th>Method:</th>             <td>Least Squares</td>  <th>  F-statistic:       </th> <td>   127.6</td> \n",
       "</tr>\n",
       "<tr>\n",
       "  <th>Date:</th>             <td>Wed, 04 Dec 2019</td> <th>  Prob (F-statistic):</th> <td>1.58e-54</td> \n",
       "</tr>\n",
       "<tr>\n",
       "  <th>Time:</th>                 <td>11:35:25</td>     <th>  Log-Likelihood:    </th> <td> -9071.8</td> \n",
       "</tr>\n",
       "<tr>\n",
       "  <th>No. Observations:</th>      <td>  4198</td>      <th>  AIC:               </th> <td>1.815e+04</td>\n",
       "</tr>\n",
       "<tr>\n",
       "  <th>Df Residuals:</th>          <td>  4195</td>      <th>  BIC:               </th> <td>1.817e+04</td>\n",
       "</tr>\n",
       "<tr>\n",
       "  <th>Df Model:</th>              <td>     2</td>      <th>                     </th>     <td> </td>    \n",
       "</tr>\n",
       "<tr>\n",
       "  <th>Covariance Type:</th>      <td>nonrobust</td>    <th>                     </th>     <td> </td>    \n",
       "</tr>\n",
       "</table>\n",
       "<table class=\"simpletable\">\n",
       "<tr>\n",
       "      <td></td>         <th>coef</th>     <th>std err</th>      <th>t</th>      <th>P>|t|</th>  <th>[0.025</th>    <th>0.975]</th>  \n",
       "</tr>\n",
       "<tr>\n",
       "  <th>Intercept</th> <td>    2.7234</td> <td>    0.045</td> <td>   60.561</td> <td> 0.000</td> <td>    2.635</td> <td>    2.812</td>\n",
       "</tr>\n",
       "<tr>\n",
       "  <th>rt</th>        <td>    0.3154</td> <td>    0.107</td> <td>    2.936</td> <td> 0.003</td> <td>    0.105</td> <td>    0.526</td>\n",
       "</tr>\n",
       "<tr>\n",
       "  <th>estimate</th>  <td>    0.5607</td> <td>    0.044</td> <td>   12.785</td> <td> 0.000</td> <td>    0.475</td> <td>    0.647</td>\n",
       "</tr>\n",
       "</table>\n",
       "<table class=\"simpletable\">\n",
       "<tr>\n",
       "  <th>Omnibus:</th>       <td>5896.351</td> <th>  Durbin-Watson:     </th> <td>   1.278</td>\n",
       "</tr>\n",
       "<tr>\n",
       "  <th>Prob(Omnibus):</th>  <td> 0.000</td>  <th>  Jarque-Bera (JB):  </th> <td> 276.407</td>\n",
       "</tr>\n",
       "<tr>\n",
       "  <th>Skew:</th>           <td>-0.072</td>  <th>  Prob(JB):          </th> <td>9.53e-61</td>\n",
       "</tr>\n",
       "<tr>\n",
       "  <th>Kurtosis:</th>       <td> 1.751</td>  <th>  Cond. No.          </th> <td>    4.74</td>\n",
       "</tr>\n",
       "</table><br/><br/>Warnings:<br/>[1] Standard Errors assume that the covariance matrix of the errors is correctly specified."
      ],
      "text/plain": [
       "<class 'statsmodels.iolib.summary.Summary'>\n",
       "\"\"\"\n",
       "                            OLS Regression Results                            \n",
       "==============================================================================\n",
       "Dep. Variable:                    aha   R-squared:                       0.057\n",
       "Model:                            OLS   Adj. R-squared:                  0.057\n",
       "Method:                 Least Squares   F-statistic:                     127.6\n",
       "Date:                Wed, 04 Dec 2019   Prob (F-statistic):           1.58e-54\n",
       "Time:                        11:35:25   Log-Likelihood:                -9071.8\n",
       "No. Observations:                4198   AIC:                         1.815e+04\n",
       "Df Residuals:                    4195   BIC:                         1.817e+04\n",
       "Df Model:                           2                                         \n",
       "Covariance Type:            nonrobust                                         \n",
       "==============================================================================\n",
       "                 coef    std err          t      P>|t|      [0.025      0.975]\n",
       "------------------------------------------------------------------------------\n",
       "Intercept      2.7234      0.045     60.561      0.000       2.635       2.812\n",
       "rt             0.3154      0.107      2.936      0.003       0.105       0.526\n",
       "estimate       0.5607      0.044     12.785      0.000       0.475       0.647\n",
       "==============================================================================\n",
       "Omnibus:                     5896.351   Durbin-Watson:                   1.278\n",
       "Prob(Omnibus):                  0.000   Jarque-Bera (JB):              276.407\n",
       "Skew:                          -0.072   Prob(JB):                     9.53e-61\n",
       "Kurtosis:                       1.751   Cond. No.                         4.74\n",
       "==============================================================================\n",
       "\n",
       "Warnings:\n",
       "[1] Standard Errors assume that the covariance matrix of the errors is correctly specified.\n",
       "\"\"\""
      ]
     },
     "execution_count": 16,
     "metadata": {},
     "output_type": "execute_result"
    }
   ],
   "source": [
    "# interaction effect analysis\n",
    "from scipy import stats\n",
    "import statsmodels.api as sm\n",
    "import statsmodels.formula.api as smf\n",
    "\n",
    "model = smf.ols(formula='aha ~ rt+estimate', data=df).fit()\n",
    "model.summary()"
   ]
  },
  {
   "cell_type": "code",
   "execution_count": 22,
   "metadata": {},
   "outputs": [
    {
     "data": {
      "text/plain": [
       "(array([1.00e+00, 0.00e+00, 0.00e+00, 0.00e+00, 0.00e+00, 0.00e+00,\n",
       "        0.00e+00, 0.00e+00, 0.00e+00, 0.00e+00, 0.00e+00, 0.00e+00,\n",
       "        0.00e+00, 0.00e+00, 0.00e+00, 0.00e+00, 0.00e+00, 0.00e+00,\n",
       "        0.00e+00, 0.00e+00, 0.00e+00, 0.00e+00, 0.00e+00, 0.00e+00,\n",
       "        0.00e+00, 0.00e+00, 0.00e+00, 0.00e+00, 0.00e+00, 0.00e+00,\n",
       "        0.00e+00, 0.00e+00, 0.00e+00, 0.00e+00, 0.00e+00, 0.00e+00,\n",
       "        1.00e+00, 0.00e+00, 0.00e+00, 0.00e+00, 0.00e+00, 0.00e+00,\n",
       "        0.00e+00, 0.00e+00, 0.00e+00, 0.00e+00, 0.00e+00, 0.00e+00,\n",
       "        0.00e+00, 0.00e+00, 0.00e+00, 0.00e+00, 1.00e+00, 1.00e+00,\n",
       "        0.00e+00, 2.00e+00, 2.00e+00, 1.00e+00, 1.00e+00, 0.00e+00,\n",
       "        1.00e+00, 3.00e+00, 2.00e+00, 2.00e+00, 0.00e+00, 4.00e+00,\n",
       "        0.00e+00, 2.00e+00, 3.00e+00, 1.00e+00, 3.00e+00, 4.00e+00,\n",
       "        4.00e+00, 1.10e+01, 1.30e+01, 1.30e+01, 1.40e+01, 2.60e+01,\n",
       "        5.00e+01, 1.03e+03, 5.66e+02, 3.35e+02, 5.30e+02, 1.66e+02,\n",
       "        1.62e+02, 3.18e+02, 1.58e+02, 7.30e+01, 6.90e+01, 7.50e+01,\n",
       "        6.40e+01, 9.10e+01, 1.39e+02, 5.30e+01, 3.60e+01, 5.50e+01,\n",
       "        3.60e+01, 2.30e+01, 3.20e+01, 4.90e+01]),\n",
       " array([-1.17457833e+01, -1.15990093e+01, -1.14522353e+01, -1.13054613e+01,\n",
       "        -1.11586873e+01, -1.10119133e+01, -1.08651393e+01, -1.07183653e+01,\n",
       "        -1.05715913e+01, -1.04248173e+01, -1.02780433e+01, -1.01312693e+01,\n",
       "        -9.98449533e+00, -9.83772133e+00, -9.69094733e+00, -9.54417333e+00,\n",
       "        -9.39739933e+00, -9.25062533e+00, -9.10385133e+00, -8.95707733e+00,\n",
       "        -8.81030333e+00, -8.66352933e+00, -8.51675533e+00, -8.36998133e+00,\n",
       "        -8.22320733e+00, -8.07643333e+00, -7.92965933e+00, -7.78288533e+00,\n",
       "        -7.63611133e+00, -7.48933733e+00, -7.34256333e+00, -7.19578933e+00,\n",
       "        -7.04901533e+00, -6.90224133e+00, -6.75546733e+00, -6.60869333e+00,\n",
       "        -6.46191933e+00, -6.31514533e+00, -6.16837133e+00, -6.02159733e+00,\n",
       "        -5.87482333e+00, -5.72804933e+00, -5.58127533e+00, -5.43450133e+00,\n",
       "        -5.28772733e+00, -5.14095333e+00, -4.99417933e+00, -4.84740533e+00,\n",
       "        -4.70063133e+00, -4.55385733e+00, -4.40708333e+00, -4.26030933e+00,\n",
       "        -4.11353533e+00, -3.96676133e+00, -3.81998733e+00, -3.67321333e+00,\n",
       "        -3.52643933e+00, -3.37966533e+00, -3.23289133e+00, -3.08611733e+00,\n",
       "        -2.93934333e+00, -2.79256933e+00, -2.64579533e+00, -2.49902133e+00,\n",
       "        -2.35224733e+00, -2.20547333e+00, -2.05869933e+00, -1.91192533e+00,\n",
       "        -1.76515133e+00, -1.61837733e+00, -1.47160333e+00, -1.32482933e+00,\n",
       "        -1.17805533e+00, -1.03128133e+00, -8.84507333e-01, -7.37733333e-01,\n",
       "        -5.90959333e-01, -4.44185333e-01, -2.97411333e-01, -1.50637333e-01,\n",
       "        -3.86333333e-03,  1.42910667e-01,  2.89684667e-01,  4.36458667e-01,\n",
       "         5.83232667e-01,  7.30006667e-01,  8.76780667e-01,  1.02355467e+00,\n",
       "         1.17032867e+00,  1.31710267e+00,  1.46387667e+00,  1.61065067e+00,\n",
       "         1.75742467e+00,  1.90419867e+00,  2.05097267e+00,  2.19774667e+00,\n",
       "         2.34452067e+00,  2.49129467e+00,  2.63806867e+00,  2.78484267e+00,\n",
       "         2.93161667e+00]),\n",
       " <a list of 100 Patch objects>)"
      ]
     },
     "execution_count": 22,
     "metadata": {},
     "output_type": "execute_result"
    },
    {
     "data": {
      "image/png": "[encoded data removed]",
      "text/plain": [
       "<Figure size 432x288 with 1 Axes>"
      ]
     },
     "metadata": {
      "needs_background": "light"
     },
     "output_type": "display_data"
    }
   ],
   "source": [
    "plt.hist(tpe/60, bins=100)"
   ]
  },
  {
   "cell_type": "code",
   "execution_count": 17,
   "metadata": {},
   "outputs": [],
   "source": [
    "import numpy as np\n",
    "from scipy.stats import gamma\n",
    "import matplotlib.pyplot as plt\n",
    "def plot_gamma_k():\n",
    "    \"\"\"\n",
    "    k : the number of events for which you are waiting to occur.\n",
    "    λ : the rate of events happening following Poisson dist.\n",
    "    \"\"\"\n",
    "    x = np.linspace(0, 50, 1000)\n",
    "    a = 1  # k = 1\n",
    "    mean, var, skew, kurt = gamma.stats(a, moments='mvsk')\n",
    "    y1 = gamma.pdf(x, a)\n",
    "    a = 5  # k = 5\n",
    "    mean, var, skew, kurt = gamma.stats(a, moments='mvsk')\n",
    "    y2 = gamma.pdf(x, a)\n",
    "    a = 10  # k = 15\n",
    "    mean, var, skew, kurt = gamma.stats(a, moments='mvsk')\n",
    "    y3 = gamma.pdf(x, a)\n",
    "    plt.title(\"PDF of Gamma Distribution\")\n",
    "    plt.xlabel(\"T\")\n",
    "    plt.ylabel(\"Probability Density\")\n",
    "    plt.plot(x, y1, label=\"alpha = 1\", color='palegreen')\n",
    "    plt.plot(x, y2, label=\"alpha = 5\", color='yellowgreen')\n",
    "    plt.plot(x, y3, label=\"alpha = 10\", color='olivedrab')\n",
    "    plt.legend(bbox_to_anchor=(1, 1), loc='upper right',\n",
    "               borderaxespad=1, fontsize=12)\n",
    "    plt.ylim([0, 0.40])\n",
    "    plt.xlim([0, 20])\n",
    "    plt.savefig('gamma_k.png')\n",
    "    plt.clf()\n",
    "def plot_gamma_lambda():\n",
    "    \"\"\"\n",
    "    k : the number of events for which you are waiting to occur.\n",
    "    𝛽 : the rate of events happening following Poisson dist.\n",
    "    \"\"\"\n",
    "    a = 10  # k = 10\n",
    "    x = np.linspace(0, 50, 1000)\n",
    "    lambda_ = 1\n",
    "    mean, var, skew, kurt = gamma.stats(a, scale=1/lambda_, moments='mvsk')\n",
    "    y1 = gamma.pdf(x, a, scale=1/lambda_)\n",
    "    lambda_ = 2\n",
    "    mean, var, skew, kurt = gamma.stats(a, scale=1/lambda_, moments='mvsk')\n",
    "    y2 = gamma.pdf(x, a, scale=1/lambda_)\n",
    "    lambda_ = 3\n",
    "    mean, var, skew, kurt = gamma.stats(a, scale=1/lambda_, moments='mvsk')\n",
    "    y3 = gamma.pdf(x, a, scale=1/lambda_)\n",
    "    plt.title(\"PDF of Gamma Distribution (alpha = 10)\")\n",
    "    plt.xlabel(\"T\")\n",
    "    plt.ylabel(\"Probability Density\")\n",
    "    plt.plot(x, y1, label=\"beta = 1\", color='gold')\n",
    "    plt.plot(x, y2, label=\"beta = 2\", color='burlywood')\n",
    "    plt.plot(x, y3, label=\"beta = 3\", color='darkorange')\n",
    "    plt.legend(bbox_to_anchor=(1, 1), loc='upper right',\n",
    "               borderaxespad=1, fontsize=12)\n",
    "    plt.ylim([0, 0.40])\n",
    "    plt.xlim([0, 20])\n",
    "    plt.savefig('gamma_lambda.png')\n",
    "    plt.clf()"
   ]
  },
  {
   "cell_type": "code",
   "execution_count": 18,
   "metadata": {},
   "outputs": [
    {
     "data": {
      "text/plain": [
       "<Figure size 432x288 with 0 Axes>"
      ]
     },
     "metadata": {},
     "output_type": "display_data"
    }
   ],
   "source": [
    "plot_gamma_k()"
   ]
  },
  {
   "cell_type": "code",
   "execution_count": 19,
   "metadata": {},
   "outputs": [
    {
     "data": {
      "text/plain": [
       "<Figure size 432x288 with 0 Axes>"
      ]
     },
     "metadata": {},
     "output_type": "display_data"
    }
   ],
   "source": [
    "plot_gamma_lambda()"
   ]
  },
  {
   "cell_type": "code",
   "execution_count": 21,
   "metadata": {},
   "outputs": [
    {
     "data": {
      "text/plain": [
       "(4198,)"
      ]
     },
     "execution_count": 21,
     "metadata": {},
     "output_type": "execute_result"
    }
   ],
   "source": [
    "np.shape(tpe)"
   ]
  },
  {
   "cell_type": "code",
   "execution_count": 37,
   "metadata": {},
   "outputs": [
    {
     "data": {
      "text/plain": [
       "112572"
      ]
     },
     "execution_count": 37,
     "metadata": {},
     "output_type": "execute_result"
    }
   ],
   "source": [
    "rt"
   ]
  },
  {
   "cell_type": "code",
   "execution_count": 16,
   "metadata": {},
   "outputs": [
    {
     "data": {
      "text/plain": [
       "2.1929715775689287"
      ]
     },
     "execution_count": 16,
     "metadata": {},
     "output_type": "execute_result"
    }
   ],
   "source": [
    "np.mean(actual_rt/60)+5*np.std(actual_rt/60)"
   ]
  },
  {
   "cell_type": "code",
   "execution_count": null,
   "metadata": {},
   "outputs": [],
   "source": []
  }
 ],
 "metadata": {
  "kernelspec": {
   "display_name": "Python 3",
   "language": "python",
   "name": "python3"
  },
  "language_info": {
   "codemirror_mode": {
    "name": "ipython",
    "version": 3
   },
   "file_extension": ".py",
   "mimetype": "text/x-python",
   "name": "python",
   "nbconvert_exporter": "python",
   "pygments_lexer": "ipython3",
   "version": "3.8.5"
  }
 },
 "nbformat": 4,
 "nbformat_minor": 2
}
