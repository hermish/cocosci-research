{
 "cells": [
  {
   "cell_type": "code",
   "execution_count": 1,
   "metadata": {},
   "outputs": [],
   "source": [
    "%matplotlib inline\n",
    "\n",
    "import matplotlib\n",
    "import numpy as np\n",
    "import matplotlib.pyplot as plt\n",
    "\n",
    "import json\n",
    "import numpy as np\n",
    "import seaborn as sns\n",
    "import matplotlib.pyplot as plt\n",
    "from scipy import stats\n",
    "import pandas as pd\n",
    "import scipy\n",
    "from scipy.stats import ttest_ind, ttest_ind_from_stats\n",
    "from scipy.special import stdtr"
   ]
  },
  {
   "cell_type": "code",
   "execution_count": 2,
   "metadata": {},
   "outputs": [
    {
     "data": {
      "text/plain": [
       "390"
      ]
     },
     "execution_count": 2,
     "metadata": {},
     "output_type": "execute_result"
    }
   ],
   "source": [
    "FILE_PATH = 'data/pilot4.json'\n",
    "#pilot3.json has 10 anagrams -- each subject sees three anagrams randomly -- possible confound of ordering effects\n",
    "#pilot4.json has 15 anagrams -- each subject only sees 1 anagram randomly. \n",
    "all_entries = []\n",
    "with open(FILE_PATH) as file:\n",
    "    for line in file:\n",
    "        entry = json.loads(line)\n",
    "        all_entries.append(entry)\n",
    "len(all_entries)"
   ]
  },
  {
   "cell_type": "code",
   "execution_count": 3,
   "metadata": {},
   "outputs": [
    {
     "name": "stdout",
     "output_type": "stream",
     "text": [
      "221 169\n"
     ]
    }
   ],
   "source": [
    "start = []\n",
    "finish = []\n",
    "for entry in all_entries:\n",
    "    if isinstance(entry['data'], dict):\n",
    "        condition = entry['data']\n",
    "        start.append(entry)\n",
    "    else:\n",
    "        condition = entry['data'][0]\n",
    "        finish.append(entry)\n",
    "print(len(start),len(finish))\n",
    "\n",
    "def return_indices(user_order): #function that searches through the list of anagrams and returns the indices of the anagrams seen by the subject\n",
    "    order = ['TEH', 'CTA', 'BLEL', 'SROT', 'WROD', 'PITN', 'SONW', 'VLVOO', 'PONHE', 'PREOK', 'YJAKWLA', 'KHAOMCM', 'IORCNAG', 'DALRBEU', 'HNATUYG']\n",
    "    idx = []\n",
    "    idx.append(order.index(user_order))\n",
    "    return idx\n",
    "\n",
    "def label_point(x, y, val, ax):\n",
    "    a = pd.concat({'x': x, 'y': y, 'val': val}, axis=1)\n",
    "    #print(a)\n",
    "    for i, point in a.iterrows():\n",
    "        ax.text(point['x']+.02, point['y'], str(point['val']))"
   ]
  },
  {
   "cell_type": "code",
   "execution_count": 4,
   "metadata": {},
   "outputs": [],
   "source": [
    "#get subject data for the 15 anagrams\n",
    "\n",
    "time_guess = [[] for i in range(15)] \n",
    "actual_rt = [[] for i in range(15)]\n",
    "give_up = [[] for i in range(15)]\n",
    "aha = [[] for i in range(15)]\n",
    "\n",
    "for entry in finish: \n",
    "    entry_data = entry['data']\n",
    "    idx = return_indices((entry_data[0]['anagrams_seen'])) #get the indices of the anagrams seen by the subject\n",
    "    anagrams_answers = entry_data[0]['anagrams_answers']\n",
    "    time_guess[idx[0]].append(entry_data[5]['response']) #5 is first time estimation\n",
    "    \n",
    "    counter = 6    \n",
    "    rt = entry_data[6]['rt']\n",
    "    attempt = entry_data[6]['responses'] \n",
    "    g = 0\n",
    "    while anagrams_answers.lower() not in attempt.lower(): #keep incrementing until person gets correct answer or gives up        \n",
    "        if \"next\" in attempt.lower(): #break if person gave up            \n",
    "            g = 1\n",
    "            break\n",
    "        else:                \n",
    "            counter = counter+1\n",
    "            attempt = entry_data[counter]['responses']\n",
    "            rt = rt+entry_data[counter]['rt']  \n",
    "            \n",
    "    give_up[idx[0]].append(g) #did subject give up or not\n",
    "    actual_rt[idx[0]].append(rt) #append actual time to complete\n",
    "\n",
    "    counter = counter+1    \n",
    "    r = entry_data[counter]['responses'] #aha rating\n",
    "    aha[idx[0]].append(int(r[6]))\n"
   ]
  },
  {
   "cell_type": "code",
   "execution_count": 5,
   "metadata": {},
   "outputs": [
    {
     "name": "stdout",
     "output_type": "stream",
     "text": [
      "Anagram: the Time guess: 3.3333333333333335 Actual RT: 4.803222222222222 TPE: -1.4698888888888892 AHA: 3.0 numSubs: 9\n",
      "Anagram: cat Time guess: 3.642857142857143 Actual RT: 8.208 TPE: -4.565142857142858 AHA: 2.7857142857142856 numSubs: 14\n",
      "Anagram: bell Time guess: 20.625 Actual RT: 5.61525 TPE: 15.00975 AHA: 4.1875 numSubs: 16\n",
      "Anagram: sort Time guess: 50.333333333333336 Actual RT: 27.43188888888889 TPE: 22.901444444444447 AHA: 2.7777777777777777 numSubs: 9\n",
      "Anagram: word Time guess: 33.0 Actual RT: 6.039777777777778 TPE: 26.960222222222225 AHA: 3.9444444444444446 numSubs: 18\n",
      "Anagram: pint Time guess: 24.0 Actual RT: 8.288714285714287 TPE: 15.711285714285713 AHA: 3.7142857142857144 numSubs: 7\n",
      "Anagram: snow Time guess: 6.5 Actual RT: 5.8 TPE: 0.6999999999999998 AHA: 4.333333333333333 numSubs: 6\n",
      "Anagram: volvo Time guess: 100.66666666666667 Actual RT: 14.387777777777778 TPE: 86.27888888888889 AHA: 4.444444444444445 numSubs: 9\n",
      "Anagram: phone Time guess: 30.75 Actual RT: 6.927 TPE: 23.822999999999993 AHA: 4.0 numSubs: 12\n",
      "Anagram: poker Time guess: 97.0 Actual RT: 29.01033333333333 TPE: 67.98966666666666 AHA: 3.6666666666666665 numSubs: 6\n",
      "Anagram: jaywalk Time guess: 102.66666666666667 Actual RT: 31.95411111111111 TPE: 70.71255555555555 AHA: 4.333333333333333 numSubs: 9\n",
      "Anagram: hammock Time guess: 112.33333333333333 Actual RT: 37.13655555555555 TPE: 75.19677777777778 AHA: 5.111111111111111 numSubs: 9\n",
      "Anagram: organic Time guess: 90.75 Actual RT: 40.434125 TPE: 50.31587499999999 AHA: 4.375 numSubs: 8\n",
      "Anagram: durable Time guess: 103.5 Actual RT: 35.79900000000001 TPE: 67.701 AHA: 4.0 numSubs: 2\n",
      "Anagram: naughty Time guess: 129.0 Actual RT: 77.3165 TPE: 51.683499999999995 AHA: 4.5 numSubs: 2\n"
     ]
    }
   ],
   "source": [
    "#data conversion, clean-up, and storage here\n",
    "anagrams = ['the', 'cat', 'bell', 'sort', 'word', 'pint', 'snow', 'volvo', 'phone', 'poker', 'jaywalk', 'hammock', 'organic', 'durable', 'naughty']\n",
    "mean_time_guess = []\n",
    "mean_rt = []\n",
    "mean_tpe = []\n",
    "mean_aha = []\n",
    "mean_tpe2 = []\n",
    "mean_aha2 = []\n",
    "for i in range(15): #go through all 15 anagrams here\n",
    "    give_up_i = give_up[i]\n",
    "    aha_i = aha[i]    \n",
    "    time_guess_i = np.asarray(time_guess[i], dtype='float64')*30 \n",
    "    actual_rt_i = np.asarray(actual_rt[i], dtype='float64')*0.001  \n",
    "    tpe_i = time_guess_i-actual_rt_i\n",
    "    \n",
    "    indexes = [i for i,x in enumerate(give_up_i) if x == 0] #only get subjects who solved the anagram    \n",
    "    aha_i = np.asarray(aha_i)\n",
    "    aha_i = aha_i[np.asarray(indexes)] \n",
    "    time_guess_i = time_guess_i[np.asarray(indexes)] \n",
    "    actual_rt_i = actual_rt_i[np.asarray(indexes)] \n",
    "    tpe_i = tpe_i[np.asarray(indexes)]\n",
    "    \n",
    "    mean_time_guess.append(np.mean(time_guess_i/60))\n",
    "    mean_rt.append(np.mean(actual_rt_i/60))\n",
    "    mean_tpe.append(np.mean(tpe_i/60))\n",
    "    mean_aha.append(np.mean(aha_i))\n",
    "    mean_tpe2.append(tpe_i/60) #this is for power analysis later on\n",
    "    mean_aha2.append(aha_i)\n",
    "    print('Anagram:', anagrams[i], 'Time guess:', np.mean(time_guess_i), 'Actual RT:',np.mean(actual_rt_i), 'TPE:', np.mean(tpe_i), 'AHA:',np.mean(aha_i), 'numSubs:', len(aha_i))\n",
    "    \n",
    "    \n"
   ]
  },
  {
   "cell_type": "code",
   "execution_count": 20,
   "metadata": {},
   "outputs": [
    {
     "name": "stdout",
     "output_type": "stream",
     "text": [
      "[[1.         0.61062029]\n",
      " [0.61062029 1.        ]]\n",
      "[[1.         0.38781903]\n",
      " [0.38781903 1.        ]]\n",
      "[[1.         0.57209875]\n",
      " [0.57209875 1.        ]]\n",
      "[[1.         0.93097406]\n",
      " [0.93097406 1.        ]]\n"
     ]
    },
    {
     "data": {
      "image/png": "[encoded data removed]",
      "text/plain": [
       "<Figure size 360x360 with 1 Axes>"
      ]
     },
     "metadata": {},
     "output_type": "display_data"
    }
   ],
   "source": [
    "import seaborn as sns\n",
    "import pandas as pd\n",
    "sns.set(style=\"white\", font_scale=1.25)\n",
    "sns.set(color_codes=True)\n",
    "\n",
    "df = pd.DataFrame({'anagrams': ['THE', 'CAT', 'BELL', 'SORT', 'WORD', 'PINT', 'SNOW', 'VOLVO', 'PHONE', 'POKER', 'JAYWALK', 'HAMMOCK', 'ORGANIC', 'DURABLE', 'NAUGHTY'],\n",
    "    'tpe': mean_tpe,\n",
    "    'aha': mean_aha,\n",
    "    'estimate': mean_time_guess,\n",
    "     'rt':  mean_rt})\n",
    "#print(df)\n",
    "#sns.lmplot('aha', 'tpe', data=df, fit_reg=False)\n",
    "#label_point(df['aha'], df['tpe'], df['anagrams'] , plt.gca()) #function to label point in scatter plot\n",
    "\n",
    "#sns.lmplot('aha', 'rt', data=df, fit_reg=False)\n",
    "#label_point(df['aha'], df['rt'], df['anagrams'] , plt.gca()) #function to label point in scatter plot\n",
    "\n",
    "sns_plot = sns.lmplot('tpe', 'rt', data=df, fit_reg=False,  markers=\"x\")\n",
    "label_point(df['tpe'], df['rt'], df['anagrams'] , plt.gca()) #function to label point in scatter plot\n",
    "sns_plot.savefig(\"output.png\")\n",
    "print(np.corrcoef(mean_tpe, mean_aha))\n",
    "print(np.corrcoef(mean_rt, mean_aha))\n",
    "print(np.corrcoef(mean_rt, mean_tpe))\n",
    "print(np.corrcoef(mean_time_guess, mean_tpe))"
   ]
  },
  {
   "cell_type": "code",
   "execution_count": 7,
   "metadata": {},
   "outputs": [
    {
     "name": "stdout",
     "output_type": "stream",
     "text": [
      "0.5429095021964756\n",
      "0.025580414827129857\n"
     ]
    }
   ],
   "source": [
    "#power analysis\n",
    "\n",
    "n = 35\n",
    "\n",
    "aha = []\n",
    "tpe = []\n",
    "means = []\n",
    "for l in range(100):\n",
    "    for i in range(len(mean_aha)):\n",
    "        a = np.random.choice(mean_aha2[i],n)\n",
    "        aha.append(np.mean(a))\n",
    "        b = np.random.choice(mean_tpe2[i],n)\n",
    "        tpe.append(np.mean(b))        \n",
    "    c = np.corrcoef(aha, tpe)\n",
    "    means.append(c[1][0])\n",
    "        \n",
    "print(np.mean(means))\n",
    "print(np.std(means))    \n",
    "    "
   ]
  },
  {
   "cell_type": "code",
   "execution_count": 8,
   "metadata": {},
   "outputs": [
    {
     "ename": "ImportError",
     "evalue": "cannot import name 'factorial'",
     "output_type": "error",
     "traceback": [
      "\u001b[1;31m---------------------------------------------------------------------------\u001b[0m",
      "\u001b[1;31mImportError\u001b[0m                               Traceback (most recent call last)",
      "\u001b[1;32m<ipython-input-8-39b2c5cc5864>\u001b[0m in \u001b[0;36m<module>\u001b[1;34m()\u001b[0m\n\u001b[0;32m      1\u001b[0m \u001b[1;31m#mediation analysis\u001b[0m\u001b[1;33m\u001b[0m\u001b[1;33m\u001b[0m\u001b[0m\n\u001b[0;32m      2\u001b[0m \u001b[1;32mfrom\u001b[0m \u001b[0mscipy\u001b[0m \u001b[1;32mimport\u001b[0m \u001b[0mstats\u001b[0m\u001b[1;33m\u001b[0m\u001b[0m\n\u001b[1;32m----> 3\u001b[1;33m \u001b[1;32mimport\u001b[0m \u001b[0mstatsmodels\u001b[0m\u001b[1;33m.\u001b[0m\u001b[0mapi\u001b[0m \u001b[1;32mas\u001b[0m \u001b[0msm\u001b[0m\u001b[1;33m\u001b[0m\u001b[0m\n\u001b[0m\u001b[0;32m      4\u001b[0m \u001b[1;32mimport\u001b[0m \u001b[0mmath\u001b[0m\u001b[1;33m\u001b[0m\u001b[0m\n\u001b[0;32m      5\u001b[0m \u001b[1;33m\u001b[0m\u001b[0m\n",
      "\u001b[1;32mC:\\Users\\RACH0_000\\Anaconda3\\lib\\site-packages\\statsmodels\\api.py\u001b[0m in \u001b[0;36m<module>\u001b[1;34m()\u001b[0m\n\u001b[0;32m     14\u001b[0m \u001b[1;32mfrom\u001b[0m \u001b[1;33m.\u001b[0m \u001b[1;32mimport\u001b[0m \u001b[0mrobust\u001b[0m\u001b[1;33m\u001b[0m\u001b[0m\n\u001b[0;32m     15\u001b[0m \u001b[1;32mfrom\u001b[0m \u001b[1;33m.\u001b[0m\u001b[0mrobust\u001b[0m\u001b[1;33m.\u001b[0m\u001b[0mrobust_linear_model\u001b[0m \u001b[1;32mimport\u001b[0m \u001b[0mRLM\u001b[0m\u001b[1;33m\u001b[0m\u001b[0m\n\u001b[1;32m---> 16\u001b[1;33m from .discrete.discrete_model import (Poisson, Logit, Probit,\n\u001b[0m\u001b[0;32m     17\u001b[0m                                       \u001b[0mMNLogit\u001b[0m\u001b[1;33m,\u001b[0m \u001b[0mNegativeBinomial\u001b[0m\u001b[1;33m,\u001b[0m\u001b[1;33m\u001b[0m\u001b[0m\n\u001b[0;32m     18\u001b[0m                                       \u001b[0mGeneralizedPoisson\u001b[0m\u001b[1;33m,\u001b[0m\u001b[1;33m\u001b[0m\u001b[0m\n",
      "\u001b[1;32mC:\\Users\\RACH0_000\\Anaconda3\\lib\\site-packages\\statsmodels\\discrete\\discrete_model.py\u001b[0m in \u001b[0;36m<module>\u001b[1;34m()\u001b[0m\n\u001b[0;32m     43\u001b[0m \u001b[1;33m\u001b[0m\u001b[0m\n\u001b[0;32m     44\u001b[0m \u001b[1;32mfrom\u001b[0m \u001b[0mstatsmodels\u001b[0m\u001b[1;33m.\u001b[0m\u001b[0mbase\u001b[0m\u001b[1;33m.\u001b[0m\u001b[0ml1_slsqp\u001b[0m \u001b[1;32mimport\u001b[0m \u001b[0mfit_l1_slsqp\u001b[0m\u001b[1;33m\u001b[0m\u001b[0m\n\u001b[1;32m---> 45\u001b[1;33m \u001b[1;32mfrom\u001b[0m \u001b[0mstatsmodels\u001b[0m\u001b[1;33m.\u001b[0m\u001b[0mdistributions\u001b[0m \u001b[1;32mimport\u001b[0m \u001b[0mgenpoisson_p\u001b[0m\u001b[1;33m\u001b[0m\u001b[0m\n\u001b[0m\u001b[0;32m     46\u001b[0m \u001b[1;33m\u001b[0m\u001b[0m\n\u001b[0;32m     47\u001b[0m \u001b[1;32mtry\u001b[0m\u001b[1;33m:\u001b[0m\u001b[1;33m\u001b[0m\u001b[0m\n",
      "\u001b[1;32mC:\\Users\\RACH0_000\\Anaconda3\\lib\\site-packages\\statsmodels\\distributions\\__init__.py\u001b[0m in \u001b[0;36m<module>\u001b[1;34m()\u001b[0m\n\u001b[0;32m      1\u001b[0m \u001b[1;32mfrom\u001b[0m \u001b[1;33m.\u001b[0m\u001b[0mempirical_distribution\u001b[0m \u001b[1;32mimport\u001b[0m \u001b[0mECDF\u001b[0m\u001b[1;33m,\u001b[0m \u001b[0mmonotone_fn_inverter\u001b[0m\u001b[1;33m,\u001b[0m \u001b[0mStepFunction\u001b[0m\u001b[1;33m\u001b[0m\u001b[0m\n\u001b[1;32m----> 2\u001b[1;33m \u001b[1;32mfrom\u001b[0m \u001b[1;33m.\u001b[0m\u001b[0medgeworth\u001b[0m \u001b[1;32mimport\u001b[0m \u001b[0mExpandedNormal\u001b[0m\u001b[1;33m\u001b[0m\u001b[0m\n\u001b[0m\u001b[0;32m      3\u001b[0m \u001b[1;32mfrom\u001b[0m \u001b[1;33m.\u001b[0m\u001b[0mdiscrete\u001b[0m \u001b[1;32mimport\u001b[0m \u001b[0mgenpoisson_p\u001b[0m\u001b[1;33m,\u001b[0m \u001b[0mzipoisson\u001b[0m\u001b[1;33m,\u001b[0m \u001b[0mzigenpoisson\u001b[0m\u001b[1;33m,\u001b[0m \u001b[0mzinegbin\u001b[0m\u001b[1;33m\u001b[0m\u001b[0m\n",
      "\u001b[1;32mC:\\Users\\RACH0_000\\Anaconda3\\lib\\site-packages\\statsmodels\\distributions\\edgeworth.py\u001b[0m in \u001b[0;36m<module>\u001b[1;34m()\u001b[0m\n\u001b[0;32m      5\u001b[0m \u001b[1;32mimport\u001b[0m \u001b[0mnumpy\u001b[0m \u001b[1;32mas\u001b[0m \u001b[0mnp\u001b[0m\u001b[1;33m\u001b[0m\u001b[0m\n\u001b[0;32m      6\u001b[0m \u001b[1;32mfrom\u001b[0m \u001b[0mnumpy\u001b[0m\u001b[1;33m.\u001b[0m\u001b[0mpolynomial\u001b[0m\u001b[1;33m.\u001b[0m\u001b[0mhermite_e\u001b[0m \u001b[1;32mimport\u001b[0m \u001b[0mHermiteE\u001b[0m\u001b[1;33m\u001b[0m\u001b[0m\n\u001b[1;32m----> 7\u001b[1;33m \u001b[1;32mfrom\u001b[0m \u001b[0mscipy\u001b[0m\u001b[1;33m.\u001b[0m\u001b[0mmisc\u001b[0m \u001b[1;32mimport\u001b[0m \u001b[0mfactorial\u001b[0m\u001b[1;33m\u001b[0m\u001b[0m\n\u001b[0m\u001b[0;32m      8\u001b[0m \u001b[1;32mfrom\u001b[0m \u001b[0mscipy\u001b[0m\u001b[1;33m.\u001b[0m\u001b[0mstats\u001b[0m \u001b[1;32mimport\u001b[0m \u001b[0mrv_continuous\u001b[0m\u001b[1;33m\u001b[0m\u001b[0m\n\u001b[0;32m      9\u001b[0m \u001b[1;32mimport\u001b[0m \u001b[0mscipy\u001b[0m\u001b[1;33m.\u001b[0m\u001b[0mspecial\u001b[0m \u001b[1;32mas\u001b[0m \u001b[0mspecial\u001b[0m\u001b[1;33m\u001b[0m\u001b[0m\n",
      "\u001b[1;31mImportError\u001b[0m: cannot import name 'factorial'"
     ]
    }
   ],
   "source": [
    "#mediation analysis\n",
    "from scipy import stats\n",
    "import statsmodels.api as sm\n",
    "import math\n",
    "\n",
    "all_predictors = ['tpe', 'rt', 'estimate']\n",
    "X = df[all_predictors]\n",
    "y = df['aha']\n",
    "X = sm.add_constant(X)\n",
    "\n",
    "linear_model = sm.OLS(y, X)\n",
    "results = linear_model.fit()\n",
    "predictions = results.predict(X)\n",
    "print(results.summary())"
   ]
  },
  {
   "cell_type": "code",
   "execution_count": null,
   "metadata": {},
   "outputs": [],
   "source": []
  },
  {
   "cell_type": "code",
   "execution_count": null,
   "metadata": {},
   "outputs": [],
   "source": []
  },
  {
   "cell_type": "code",
   "execution_count": null,
   "metadata": {},
   "outputs": [],
   "source": []
  },
  {
   "cell_type": "code",
   "execution_count": null,
   "metadata": {},
   "outputs": [],
   "source": []
  },
  {
   "cell_type": "code",
   "execution_count": null,
   "metadata": {
    "collapsed": true
   },
   "outputs": [],
   "source": []
  }
 ],
 "metadata": {
  "kernelspec": {
   "display_name": "Python 3",
   "language": "python",
   "name": "python3"
  },
  "language_info": {
   "codemirror_mode": {
    "name": "ipython",
    "version": 3
   },
   "file_extension": ".py",
   "mimetype": "text/x-python",
   "name": "python",
   "nbconvert_exporter": "python",
   "pygments_lexer": "ipython3",
   "version": "3.5.3"
  }
 },
 "nbformat": 4,
 "nbformat_minor": 2
}
