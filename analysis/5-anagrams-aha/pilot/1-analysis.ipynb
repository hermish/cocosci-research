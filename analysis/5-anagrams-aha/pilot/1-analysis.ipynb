{
 "cells": [
  {
   "cell_type": "code",
   "execution_count": 189,
   "metadata": {},
   "outputs": [],
   "source": [
    "%matplotlib inline\n",
    "\n",
    "import matplotlib\n",
    "import numpy as np\n",
    "import matplotlib.pyplot as plt\n",
    "\n",
    "import json\n",
    "import numpy as np\n",
    "import seaborn as sns\n",
    "import matplotlib.pyplot as plt\n",
    "from scipy import stats\n",
    "import pandas as pd\n",
    "import scipy\n",
    "from scipy.stats import ttest_ind, ttest_ind_from_stats\n",
    "from scipy.special import stdtr"
   ]
  },
  {
   "cell_type": "code",
   "execution_count": 190,
   "metadata": {},
   "outputs": [
    {
     "data": {
      "text/plain": [
       "60"
      ]
     },
     "execution_count": 190,
     "metadata": {},
     "output_type": "execute_result"
    }
   ],
   "source": [
    "FILE_PATH = 'data/pilot2.json'\n",
    "#pilot1.json has 3 anagrams - the, volvo, organic -- it failed most likely because configuration of organic was too easy for people\n",
    "#pilot2.json has 3 anagrams - the, volvo, hammock -- there is some weak signal with this pilot, pilot 3 will tell us more. \n",
    "all_entries = []\n",
    "with open(FILE_PATH) as file:\n",
    "    for line in file:\n",
    "        entry = json.loads(line)\n",
    "        all_entries.append(entry)\n",
    "len(all_entries)"
   ]
  },
  {
   "cell_type": "code",
   "execution_count": 191,
   "metadata": {},
   "outputs": [
    {
     "name": "stdout",
     "output_type": "stream",
     "text": [
      "30 30\n"
     ]
    }
   ],
   "source": [
    "start = []\n",
    "finish = []\n",
    "for entry in all_entries:\n",
    "    if isinstance(entry['data'], dict):\n",
    "        condition = entry['data']\n",
    "        start.append(entry)\n",
    "    else:\n",
    "        condition = entry['data'][0]\n",
    "        finish.append(entry)\n",
    "print(len(start),len(finish))"
   ]
  },
  {
   "cell_type": "code",
   "execution_count": 1,
   "metadata": {},
   "outputs": [
    {
     "ename": "NameError",
     "evalue": "name 'finish' is not defined",
     "output_type": "error",
     "traceback": [
      "\u001b[1;31m---------------------------------------------------------------------------\u001b[0m",
      "\u001b[1;31mNameError\u001b[0m                                 Traceback (most recent call last)",
      "\u001b[1;32m<ipython-input-1-3d30882ab62a>\u001b[0m in \u001b[0;36m<module>\u001b[1;34m()\u001b[0m\n\u001b[0;32m      5\u001b[0m \u001b[0mgive_up_1\u001b[0m\u001b[1;33m,\u001b[0m \u001b[0mgive_up_2\u001b[0m\u001b[1;33m,\u001b[0m \u001b[0mgive_up_3\u001b[0m \u001b[1;33m=\u001b[0m \u001b[1;33m[\u001b[0m\u001b[1;33m]\u001b[0m\u001b[1;33m,\u001b[0m\u001b[1;33m[\u001b[0m\u001b[1;33m]\u001b[0m\u001b[1;33m,\u001b[0m\u001b[1;33m[\u001b[0m\u001b[1;33m]\u001b[0m\u001b[1;33m\u001b[0m\u001b[0m\n\u001b[0;32m      6\u001b[0m \u001b[1;33m\u001b[0m\u001b[0m\n\u001b[1;32m----> 7\u001b[1;33m \u001b[1;32mfor\u001b[0m \u001b[0mentry\u001b[0m \u001b[1;32min\u001b[0m \u001b[0mfinish\u001b[0m\u001b[1;33m:\u001b[0m\u001b[1;33m\u001b[0m\u001b[0m\n\u001b[0m\u001b[0;32m      8\u001b[0m     \u001b[0mentry_data\u001b[0m \u001b[1;33m=\u001b[0m \u001b[0mentry\u001b[0m\u001b[1;33m[\u001b[0m\u001b[1;34m'data'\u001b[0m\u001b[1;33m]\u001b[0m\u001b[1;33m\u001b[0m\u001b[0m\n\u001b[0;32m      9\u001b[0m     \u001b[1;31m#data for THE anagram\u001b[0m\u001b[1;33m\u001b[0m\u001b[1;33m\u001b[0m\u001b[0m\n",
      "\u001b[1;31mNameError\u001b[0m: name 'finish' is not defined"
     ]
    }
   ],
   "source": [
    "time_guess_1,time_guess_2,time_guess_3 = [],[],[] \n",
    "actual_rt_1,actual_rt_2,actual_rt_3 = [],[],[] \n",
    "pleasant_1, pleasant_2,pleasant_3 = [],[],[] \n",
    "aha_1, aha_2, aha_3 = [],[],[]\n",
    "give_up_1, give_up_2, give_up_3 = [],[],[]\n",
    "\n",
    "for entry in finish: \n",
    "    entry_data = entry['data']\n",
    "    #data for THE anagram\n",
    "    time_guess_1.append(entry_data[5]['response']) #5 is first time estimation\n",
    "\n",
    "    counter = 6    \n",
    "    rt = entry_data[6]['rt']\n",
    "    attempt = entry_data[6]['responses'] \n",
    "    g = 0\n",
    "    while \"the\" not in attempt.lower(): #keep incrementing until person gets correct answer or gives up\n",
    "        if \"next\" in attempt.lower(): #break if person gave up\n",
    "            g = 1\n",
    "            break\n",
    "        else:    \n",
    "            counter = counter+1\n",
    "            attempt = entry_data[counter]['responses']\n",
    "            rt = rt+entry_data[counter]['rt']  \n",
    "            \n",
    "    give_up_1.append(g) #did subject give up or not\n",
    "    actual_rt_1.append(rt) #append actual time to complete\n",
    "\n",
    "    counter=counter+1\n",
    "    r = entry_data[counter]['responses'] #pleasant-ness rating\n",
    "    pleasant_1.append(int(r[6]))\n",
    "\n",
    "    counter = counter+1\n",
    "    r = entry_data[counter]['responses'] #aha rating\n",
    "    aha_1.append(int(r[6]))\n",
    "\n",
    "    #data for VOLVO anagram    \n",
    "    counter = counter+3\n",
    "    time_guess_2.append(entry_data[counter]['response']) #time estimation\n",
    "\n",
    "    counter = counter+1   \n",
    "    rt = entry_data[counter]['rt']\n",
    "    attempt = entry_data[counter]['responses']\n",
    "    g = 0\n",
    "    while \"volvo\" not in attempt.lower(): #keep incrementing until person gets correct answer or gives up, \n",
    "        if \"next\" in attempt.lower(): #break if person gave up \n",
    "            g = 1 #person gave up\n",
    "            break\n",
    "        else:\n",
    "            counter = counter+1\n",
    "            attempt = entry_data[counter]['responses']\n",
    "            rt = rt+entry_data[counter]['rt']   \n",
    "    \n",
    "    give_up_2.append(g)\n",
    "    actual_rt_2.append(rt) #append actual time to complete\n",
    "\n",
    "    counter=counter+1\n",
    "    r = entry_data[counter]['responses'] #pleasant-ness rating\n",
    "    pleasant_2.append(int(r[6]))\n",
    "\n",
    "    counter = counter+1\n",
    "    r = entry_data[counter]['responses'] #aha rating\n",
    "    aha_2.append(int(r[6]))\n",
    "\n",
    "    #data for HAMMOCK anagram    \n",
    "    counter = counter+3\n",
    "    time_guess_3.append(entry_data[counter]['response']) #time estimation\n",
    "    g = 0\n",
    "    counter = counter+1   \n",
    "    rt = entry_data[counter]['rt']\n",
    "    attempt = entry_data[counter]['responses']    \n",
    "    while \"hammock\" not in attempt.lower(): #keep incrementing until person gets correct answer or gives up        \n",
    "        if \"next\" in attempt.lower(): #break if person gave up\n",
    "            g = 1\n",
    "            break\n",
    "        else:            \n",
    "            rt = rt+entry_data[counter]['rt']\n",
    "            counter = counter+1\n",
    "            attempt = entry_data[counter]['responses']    \n",
    "            \n",
    "    give_up_3.append(g) #add if subject gave up or not\n",
    "    actual_rt_3.append(rt) #append actual time to complete\n",
    "    \n",
    "    counter=counter+1\n",
    "    r = entry_data[counter]['responses'] #pleasant-ness rating\n",
    "    pleasant_3.append(int(r[6]))\n",
    "\n",
    "    counter = counter+1\n",
    "    r = entry_data[counter]['responses'] #aha rating    \n",
    "    aha_3.append(int(r[6]))\n",
    "    \n",
    "time_guess_1 = np.asarray(time_guess_1, dtype='float64')*60 \n",
    "actual_rt_1 = np.asarray(actual_rt_1, dtype='float64')*0.001 \n",
    "tpe_1 = time_guess_1-actual_rt_1\n",
    "\n",
    "time_guess_2 = np.asarray(time_guess_2, dtype='float64')*60 \n",
    "actual_rt_2 = np.asarray(actual_rt_2, dtype='float64')*0.001 \n",
    "tpe_2 = time_guess_2-actual_rt_2\n",
    "\n",
    "time_guess_3 = np.asarray(time_guess_3, dtype='float64')*60\n",
    "actual_rt_3 = np.asarray(actual_rt_3, dtype='float64')*0.001 \n",
    "tpe_3 = time_guess_3-actual_rt_3"
   ]
  },
  {
   "cell_type": "code",
   "execution_count": 281,
   "metadata": {},
   "outputs": [],
   "source": [
    "#clean up data\n",
    "\n",
    "#remove people who gave up\n",
    "indexes = [i for i,x in enumerate(give_up_1) if x == 0] #only get subjects who solved the anagram\n",
    "aha_1 = np.asarray(aha_1)\n",
    "time_guess_1 = time_guess_1[np.asarray(indexes)] \n",
    "actual_rt_1 = actual_rt_1[np.asarray(indexes)] \n",
    "tpe_1 = tpe_1[np.asarray(indexes)] \n",
    "aha_1 = aha_1[np.asarray(indexes)] #aha rating\n",
    "\n",
    "indexes = [i for i,x in enumerate(give_up_2) if x == 0] #only get subjects who solved the anagram\n",
    "aha_2 = np.asarray(aha_2)\n",
    "time_guess_2 = time_guess_2[np.asarray(indexes)] \n",
    "actual_rt_2 = actual_rt_2[np.asarray(indexes)] \n",
    "tpe_2 = tpe_2[np.asarray(indexes)] \n",
    "aha_2 = aha_2[np.asarray(indexes)] #aha rating\n",
    "\n",
    "indexes = [i for i,x in enumerate(give_up_3) if x == 0] #only get subjects who solved the anagram\n",
    "aha_3 = np.asarray(aha_3)\n",
    "time_guess_3 = time_guess_3[np.asarray(indexes)] \n",
    "actual_rt_3 = actual_rt_3[np.asarray(indexes)] \n",
    "tpe_3 = tpe_3[np.asarray(indexes)] \n",
    "aha_3 = aha_3[np.asarray(indexes)] #aha rating\n",
    "\n",
    "#concatenate all arrays\n",
    "\n",
    "aha = np.concatenate((aha_1,aha_2),axis=0)\n",
    "aha = np.concatenate((aha,aha_3),axis=0)\n",
    "\n",
    "give_up = np.concatenate((np.asarray(give_up_1),np.asarray(give_up_2)),axis=0)\n",
    "give_up = np.concatenate((give_up,np.asarray(give_up_3)),axis=0)\n",
    "\n",
    "time_guess = np.concatenate((time_guess_1, time_guess_2), axis = 0)\n",
    "time_guess = np.concatenate((time_guess, time_guess_3), axis = 0)\n",
    "\n",
    "actual_rt = np.concatenate((actual_rt_1, actual_rt_2), axis = 0)\n",
    "actual_rt = np.concatenate((actual_rt, actual_rt_3), axis = 0)\n",
    "\n",
    "tpe = np.concatenate((tpe_1, tpe_2), axis = 0)\n",
    "tpe = np.concatenate((tpe, tpe_3), axis = 0)"
   ]
  },
  {
   "cell_type": "code",
   "execution_count": 284,
   "metadata": {},
   "outputs": [
    {
     "data": {
      "text/plain": [
       "0.16373381498714479"
      ]
     },
     "execution_count": 284,
     "metadata": {},
     "output_type": "execute_result"
    },
    {
     "data": {
      "image/png": "[encoded data removed]",
      "text/plain": [
       "<Figure size 432x288 with 1 Axes>"
      ]
     },
     "metadata": {},
     "output_type": "display_data"
    }
   ],
   "source": [
    "#global analysis\n",
    "plt.style.use('seaborn-whitegrid')\n",
    "\n",
    "plt.plot(actual_rt,aha, 'o', color='black') #change here\n",
    "#correlate here\n",
    "np.corrcoef(time_guess, aha)[0, 1]\n",
    "np.corrcoef(actual_rt, aha)[0, 1]\n",
    "np.corrcoef(tpe, aha)[0, 1]"
   ]
  },
  {
   "cell_type": "code",
   "execution_count": 289,
   "metadata": {},
   "outputs": [
    {
     "name": "stdout",
     "output_type": "stream",
     "text": [
      "5.0 79.3846153846 229.5\n",
      "3.87053333333 10.8046538462 49.0344375\n",
      "1.12946666667 68.5799615385 180.4655625\n",
      "2.9 2.92307692308 4.25\n"
     ]
    }
   ],
   "source": [
    "#analysis of individual anagrams\n",
    "\n",
    "print(np.mean(time_guess_1), np.mean(time_guess_2), np.mean(time_guess_3))\n",
    "print(np.mean(actual_rt_1), np.mean(actual_rt_2), np.mean(actual_rt_3))\n",
    "print(np.mean(tpe_1), np.mean(tpe_2), np.mean(tpe_3))\n",
    "print(np.mean(aha_1), np.mean(aha_2), np.mean(aha_3))"
   ]
  },
  {
   "cell_type": "code",
   "execution_count": 288,
   "metadata": {},
   "outputs": [
    {
     "name": "stdout",
     "output_type": "stream",
     "text": [
      "30\n"
     ]
    }
   ],
   "source": [
    "#2 pilots worth running\n",
    "#pilot 1 -- same but for higher number of anagrams (maybe 20 anagrams and do the plots of tpe vs aha for the 20 anagrams)\n",
    "#pilot 2 -- you will need to do probing every x seconds for new time estimation\n",
    "\n",
    "#also need to address problems with people simply googling the answers"
   ]
  },
  {
   "cell_type": "code",
   "execution_count": null,
   "metadata": {},
   "outputs": [],
   "source": []
  },
  {
   "cell_type": "code",
   "execution_count": null,
   "metadata": {},
   "outputs": [],
   "source": []
  },
  {
   "cell_type": "code",
   "execution_count": null,
   "metadata": {
    "collapsed": true
   },
   "outputs": [],
   "source": []
  }
 ],
 "metadata": {
  "kernelspec": {
   "display_name": "Python 3",
   "language": "python",
   "name": "python3"
  },
  "language_info": {
   "codemirror_mode": {
    "name": "ipython",
    "version": 3
   },
   "file_extension": ".py",
   "mimetype": "text/x-python",
   "name": "python",
   "nbconvert_exporter": "python",
   "pygments_lexer": "ipython3",
   "version": "3.5.3"
  }
 },
 "nbformat": 4,
 "nbformat_minor": 2
}
