{
 "cells": [
  {
   "cell_type": "code",
   "execution_count": 1,
   "metadata": {},
   "outputs": [],
   "source": [
    "%matplotlib inline\n",
    "\n",
    "import matplotlib\n",
    "import numpy as np\n",
    "import matplotlib.pyplot as plt\n",
    "\n",
    "import json\n",
    "import numpy as np\n",
    "import seaborn as sns\n",
    "import matplotlib.pyplot as plt\n",
    "from scipy import stats\n",
    "import pandas as pd\n",
    "import scipy\n",
    "from scipy.stats import ttest_ind, ttest_ind_from_stats\n",
    "from scipy.special import stdtr\n",
    "from statistics import mean "
   ]
  },
  {
   "cell_type": "code",
   "execution_count": 2,
   "metadata": {},
   "outputs": [
    {
     "data": {
      "text/plain": [
       "212"
      ]
     },
     "execution_count": 2,
     "metadata": {},
     "output_type": "execute_result"
    }
   ],
   "source": [
    "FILE_PATH = 'data/pilot5.json'\n",
    "#pilot 5 has 3 anagrams, subjects are probed about their closeness ratings every 20seconds (press key b/w 0-9)\n",
    "all_entries = []\n",
    "with open(FILE_PATH) as file:\n",
    "    for line in file:\n",
    "        entry = json.loads(line)\n",
    "        all_entries.append(entry)\n",
    "        e = entry['data']\n",
    "len(all_entries)\n",
    "\n"
   ]
  },
  {
   "cell_type": "code",
   "execution_count": 3,
   "metadata": {},
   "outputs": [],
   "source": [
    "start = []\n",
    "finish = []\n",
    "k = 0\n",
    "for entry in all_entries:\n",
    "    if isinstance(entry['data'], dict):\n",
    "        start.append(entry)\n",
    "    else:\n",
    "        if(k==25):            \n",
    "            pass #don't append the 25th guy, dropped out midway\n",
    "        else:\n",
    "            finish.append(entry)\n",
    "        k = k+1\n",
    "\n",
    "def return_indices(user_order): #function that searches through the list of anagrams and returns the indices of the anagrams seen by the subject\n",
    "    order = ['BLEL', 'SROT', 'WROD', 'PITN', 'SONW', 'VLVOO', 'PONHE', 'RECKL', 'SSOIA', 'PREOK', 'YJAKWLA', 'KHAOMCM', 'IORCNAG', 'DALRBEU', 'HNATUYG']\n",
    "    idx = []\n",
    "    for i in range(len(user_order)):\n",
    "        idx.append(order.index(user_order[i]))\n",
    "    return idx\n",
    "\n",
    "def label_point(x, y, val, ax):\n",
    "    a = pd.concat({'x': x, 'y': y, 'val': val}, axis=1)\n",
    "    #print(a)\n",
    "    for i, point in a.iterrows():\n",
    "        ax.text(point['x']+.02, point['y'], str(point['val']))"
   ]
  },
  {
   "cell_type": "code",
   "execution_count": 4,
   "metadata": {},
   "outputs": [],
   "source": [
    "#Total of 102 subjects and each saw 3 anagrams -- so total datapoints = 102*3 -- this block analyses the total datapoints individually\n",
    "#get warmth ratings and aha ratings for all the individual anagrams seen by subjects\n",
    "\n",
    "outer_counter = 0\n",
    "\n",
    "close_guess = [[] for i in range(400)]\n",
    "give_up = []\n",
    "aha = []\n",
    "actual_rt = []\n",
    "anagrams = list()\n",
    "\n",
    "for entry in finish: \n",
    "    #if(outer_counter==25):\n",
    "        #print(entry)\n",
    "    entry_data = entry['data']      \n",
    "    idx = return_indices((entry_data[0]['anagrams_seen'])) #get the indices of the anagrams seen by the subject\n",
    "    anagrams_answers = entry_data[0]['anagrams_answers']\n",
    "    close_guess[outer_counter].append(entry_data[5]['key_press']-48) #5 is first warmth estimation\n",
    "    \n",
    "    counter = 6    \n",
    "    attempt = entry_data[6]['responses'] \n",
    "    rt = entry_data[6]['rt']\n",
    "    g = 0\n",
    "    \n",
    "    anagrams.append(anagrams_answers[0].lower()) #append the anagram\n",
    "    \n",
    "    while anagrams_answers[0].lower() not in attempt.lower(): #keep incrementing until person gets correct answer or gives up\n",
    "        if \"next\" in attempt.lower(): #break if person gave up\n",
    "            g = 1 #subject gave up\n",
    "            break\n",
    "        else:                \n",
    "            counter = counter+1\n",
    "            close_guess[outer_counter].append(entry_data[counter]['key_press']-48) #closeness rating\n",
    "            counter = counter+1\n",
    "            attempt = entry_data[counter]['responses']\n",
    "            rt = rt+entry_data[counter]['rt']\n",
    "    \n",
    "    counter = counter+2\n",
    "    r = entry_data[counter]['responses'] #aha rating\n",
    "    aha.append(int(r[6]))\n",
    "    give_up.append(g) #add if subject gave up or not\n",
    "    actual_rt.append(rt) #append actual time to complete\n",
    "    \n",
    "    outer_counter=outer_counter+1 #move to the next anagram\n",
    "    \n",
    "    #next anagram\n",
    "    counter = counter+3\n",
    "    close_guess[outer_counter].append(entry_data[counter]['key_press']-48) #closeness rating\n",
    "    \n",
    "    counter = counter+1    \n",
    "    attempt = entry_data[counter]['responses']\n",
    "    rt = entry_data[counter]['rt']\n",
    "    \n",
    "    g = 0\n",
    "    anagrams.append(anagrams_answers[1].lower()) #append the anagram\n",
    "    \n",
    "    while anagrams_answers[1].lower() not in attempt.lower(): #keep incrementing until person gets correct answer or gives up\n",
    "        if \"next\" in attempt.lower(): #break if person gave up\n",
    "            g = 1 #subject gave up\n",
    "            break\n",
    "        else:                \n",
    "            counter = counter+1\n",
    "            close_guess[outer_counter].append(entry_data[counter]['key_press']-48) #closeness rating\n",
    "            counter = counter+1\n",
    "            attempt = entry_data[counter]['responses']\n",
    "            rt = rt+entry_data[counter]['rt']\n",
    "            \n",
    "    counter = counter+2\n",
    "    r = entry_data[counter]['responses'] #aha rating\n",
    "    aha.append(int(r[6]))\n",
    "    give_up.append(g) #add if subject gave up or not\n",
    "    actual_rt.append(rt) #append actual time to complete\n",
    "    \n",
    "    outer_counter=outer_counter+1 #move to the next anagram\n",
    "    \n",
    "    #next anagram\n",
    "    counter = counter+3\n",
    "    close_guess[outer_counter].append(entry_data[counter]['key_press']-48) #closeness rating\n",
    "    \n",
    "    counter = counter+1    \n",
    "    attempt = entry_data[counter]['responses'] \n",
    "    rt = entry_data[counter]['rt']\n",
    "    \n",
    "    g = 0\n",
    "    anagrams.append(anagrams_answers[2].lower()) #append the anagram\n",
    "    \n",
    "    while anagrams_answers[2].lower() not in attempt.lower(): #keep incrementing until person gets correct answer or gives up\n",
    "        if \"next\" in attempt.lower(): #break if person gave up\n",
    "            g = 1 #subject gave up\n",
    "            break\n",
    "        else:                \n",
    "            counter = counter+1\n",
    "            close_guess[outer_counter].append(entry_data[counter]['key_press']-48) #closeness rating\n",
    "            counter = counter+1\n",
    "            attempt = entry_data[counter]['responses']\n",
    "            rt = rt+entry_data[counter]['rt']\n",
    "            \n",
    "    counter = counter+2\n",
    "    r = entry_data[counter]['responses'] #aha rating\n",
    "    aha.append(int(r[6]))\n",
    "    give_up.append(g) #add if subject gave up or not\n",
    "    actual_rt.append(rt) #append actual time to complete\n",
    "    \n",
    "    outer_counter=outer_counter+1 #move to the next anagram"
   ]
  },
  {
   "cell_type": "code",
   "execution_count": 5,
   "metadata": {},
   "outputs": [],
   "source": [
    "#data clean-up and storage here\n",
    "mean_error = [] #mean warm prediction errors done \n",
    "close_guess = [x for x in close_guess if x != []]\n",
    "\n",
    "last_close = [item[-1] for item in close_guess] #last warmth estimation\n",
    "first_close = [item[0] for item in close_guess] #first warmth estimation\n",
    "len_close = [len(item) for item in close_guess] #how long was the person stuck in the problem? \n",
    "\n",
    "indexes = [i for i,x in enumerate(give_up) if x == 0] #only get subjects who solved the anagram\n",
    "\n",
    "aha = np.asarray(aha)\n",
    "aha = aha[np.asarray(indexes)] \n",
    "\n",
    "actual_rt = np.asarray(actual_rt, dtype='float64')*0.001 \n",
    "actual_rt = actual_rt[np.asarray(indexes)]\n",
    "\n",
    "last_close = np.asarray(last_close)\n",
    "last_close = last_close[np.asarray(indexes)] \n",
    "\n",
    "first_close = np.asarray(first_close)\n",
    "first_close = first_close[np.asarray(indexes)] \n",
    "\n",
    "len_close = np.asarray(len_close)\n",
    "len_close = len_close[np.asarray(indexes)] \n",
    "\n",
    "#compute mean wpe for each datapoint i.e. how much prediction error people make while solving the anagram? \n",
    "for a in close_guess:\n",
    "    \n",
    "    a.append(9) #append completed at end of it\n",
    "    if(len(a)<2):\n",
    "        mean_error.append(a[0])\n",
    "    else:        \n",
    "        cons_diff = [x - a[i - 1] for i, x in enumerate(a)][1:] #get consecutive difference between warm ratings    \n",
    "        mean_error.append(mean(cons_diff))\n",
    "\n",
    "mean_error = np.asarray(mean_error)\n",
    "mean_error = mean_error[np.asarray(indexes)] \n",
    "anagrams = [anagrams[i] for i in indexes]"
   ]
  },
  {
   "cell_type": "code",
   "execution_count": 9,
   "metadata": {
    "scrolled": true
   },
   "outputs": [
    {
     "name": "stdout",
     "output_type": "stream",
     "text": [
      "[[ 1.         -0.49469052]\n",
      " [-0.49469052  1.        ]]\n",
      "[[ 1.         -0.47028727]\n",
      " [-0.47028727  1.        ]]\n",
      "[[ 1.         -0.57055521]\n",
      " [-0.57055521  1.        ]]\n",
      "[[1.         0.32196249]\n",
      " [0.32196249 1.        ]]\n",
      "[[1.       0.383562]\n",
      " [0.383562 1.      ]]\n",
      "[[1.         0.93318386]\n",
      " [0.93318386 1.        ]]\n"
     ]
    },
    {
     "data": {
      "image/png": "[encoded data removed]",
      "text/plain": [
       "<Figure size 360x360 with 1 Axes>"
      ]
     },
     "metadata": {},
     "output_type": "display_data"
    }
   ],
   "source": [
    "import seaborn as sns\n",
    "import pandas as pd\n",
    "%matplotlib inline\n",
    "\n",
    "sns.set(style=\"white\", font_scale=1.25)\n",
    "\n",
    "df = pd.DataFrame({'num': [1]*len(aha), 'first_estimate': first_close, 'rt':actual_rt, 'anagrams': anagrams,'warm': last_close, 'mean_wpe': mean_error,'length': len_close,'aha': aha}) \n",
    "\n",
    "df_number = df.groupby(['anagrams']).sum() #number of subjects for each anagram\n",
    "nums = df_number['num']\n",
    "\n",
    "df_means = df.groupby(['anagrams']).mean() #means for each anagram\n",
    "df_means['anagrams'] = list(df_means.index)\n",
    "print(np.corrcoef(df_means['aha'], df_means['warm'])) #correlate the two\n",
    "#print(np.corrcoef(df_means['wpe'], nums)) #correlate the two\n",
    "print(np.corrcoef(df_means['length'], df_means['warm'])) #correlate the two\n",
    "print(np.corrcoef(df_means['rt'], df_means['warm'])) #correlate the two\n",
    "print(np.corrcoef(df_means['aha'], df_means['length'])) #correlate the two\n",
    "print(np.corrcoef(df_means['aha'], df_means['rt'])) #correlate the two\n",
    "print(np.corrcoef(df_means['warm'], df_means['first_estimate'])) #correlate the two\n",
    "\n",
    "sns.lmplot('aha', 'warm', data=df_means, fit_reg=False) #plot it\n",
    "label_point(df_means['aha'], df_means['warm'], df_means['anagrams'] , plt.gca()) \n",
    "\n",
    "#sns.lmplot('aha', 'length', data=df_means, fit_reg=False) #plot it\n",
    "#label_point(df_means['aha'], df_means['length'], df_means['anagrams'] , plt.gca()) \n",
    "\n",
    "#sns.lmplot('aha', 'rt', data=df_means, fit_reg=False) #plot it\n",
    "#label_point(df_means['aha'], df_means['rt'], df_means['anagrams'] , plt.gca()) "
   ]
  },
  {
   "cell_type": "code",
   "execution_count": 96,
   "metadata": {
    "scrolled": true
   },
   "outputs": [
    {
     "name": "stdout",
     "output_type": "stream",
     "text": [
      "-0.4651299082390076\n",
      "0.08975158139064329\n"
     ]
    }
   ],
   "source": [
    "#power analysis\n",
    "df = pd.DataFrame({'num': [1]*len(aha), 'rt':actual_rt, 'anagrams': anagrams,'warm': last_close, 'mean_wpe': mean_error,'length': len_close,'aha': aha}) \n",
    "n = 70\n",
    "means = []\n",
    "for i in range(1000):\n",
    "    df_sample = df.groupby(['anagrams'])['aha', 'warm'].apply(lambda s: s.sample(n, replace=True)) #sample with replacement\n",
    "    df_means = df_sample.groupby(['anagrams']).mean()\n",
    "    a = np.corrcoef(df_means['aha'], df_means['warm'])\n",
    "    means.append(a[1][0])\n",
    "\n",
    "print(np.mean(means))\n",
    "print(np.std(means))"
   ]
  },
  {
   "cell_type": "code",
   "execution_count": 10,
   "metadata": {},
   "outputs": [
    {
     "ename": "ImportError",
     "evalue": "cannot import name 'factorial'",
     "output_type": "error",
     "traceback": [
      "\u001b[1;31m---------------------------------------------------------------------------\u001b[0m",
      "\u001b[1;31mImportError\u001b[0m                               Traceback (most recent call last)",
      "\u001b[1;32m<ipython-input-10-b5ffff9ff1dc>\u001b[0m in \u001b[0;36m<module>\u001b[1;34m()\u001b[0m\n\u001b[0;32m      1\u001b[0m \u001b[1;31m#mediation analysis\u001b[0m\u001b[1;33m\u001b[0m\u001b[1;33m\u001b[0m\u001b[0m\n\u001b[0;32m      2\u001b[0m \u001b[1;32mfrom\u001b[0m \u001b[0mscipy\u001b[0m \u001b[1;32mimport\u001b[0m \u001b[0mstats\u001b[0m\u001b[1;33m\u001b[0m\u001b[0m\n\u001b[1;32m----> 3\u001b[1;33m \u001b[1;32mimport\u001b[0m \u001b[0mstatsmodels\u001b[0m\u001b[1;33m.\u001b[0m\u001b[0mapi\u001b[0m \u001b[1;32mas\u001b[0m \u001b[0msm\u001b[0m\u001b[1;33m\u001b[0m\u001b[0m\n\u001b[0m\u001b[0;32m      4\u001b[0m \u001b[1;32mimport\u001b[0m \u001b[0mmath\u001b[0m\u001b[1;33m\u001b[0m\u001b[0m\n\u001b[0;32m      5\u001b[0m \u001b[1;33m\u001b[0m\u001b[0m\n",
      "\u001b[1;32mC:\\Users\\RACH0_000\\Anaconda3\\lib\\site-packages\\statsmodels\\api.py\u001b[0m in \u001b[0;36m<module>\u001b[1;34m()\u001b[0m\n\u001b[0;32m     14\u001b[0m \u001b[1;32mfrom\u001b[0m \u001b[1;33m.\u001b[0m \u001b[1;32mimport\u001b[0m \u001b[0mrobust\u001b[0m\u001b[1;33m\u001b[0m\u001b[0m\n\u001b[0;32m     15\u001b[0m \u001b[1;32mfrom\u001b[0m \u001b[1;33m.\u001b[0m\u001b[0mrobust\u001b[0m\u001b[1;33m.\u001b[0m\u001b[0mrobust_linear_model\u001b[0m \u001b[1;32mimport\u001b[0m \u001b[0mRLM\u001b[0m\u001b[1;33m\u001b[0m\u001b[0m\n\u001b[1;32m---> 16\u001b[1;33m from .discrete.discrete_model import (Poisson, Logit, Probit,\n\u001b[0m\u001b[0;32m     17\u001b[0m                                       \u001b[0mMNLogit\u001b[0m\u001b[1;33m,\u001b[0m \u001b[0mNegativeBinomial\u001b[0m\u001b[1;33m,\u001b[0m\u001b[1;33m\u001b[0m\u001b[0m\n\u001b[0;32m     18\u001b[0m                                       \u001b[0mGeneralizedPoisson\u001b[0m\u001b[1;33m,\u001b[0m\u001b[1;33m\u001b[0m\u001b[0m\n",
      "\u001b[1;32mC:\\Users\\RACH0_000\\Anaconda3\\lib\\site-packages\\statsmodels\\discrete\\discrete_model.py\u001b[0m in \u001b[0;36m<module>\u001b[1;34m()\u001b[0m\n\u001b[0;32m     43\u001b[0m \u001b[1;33m\u001b[0m\u001b[0m\n\u001b[0;32m     44\u001b[0m \u001b[1;32mfrom\u001b[0m \u001b[0mstatsmodels\u001b[0m\u001b[1;33m.\u001b[0m\u001b[0mbase\u001b[0m\u001b[1;33m.\u001b[0m\u001b[0ml1_slsqp\u001b[0m \u001b[1;32mimport\u001b[0m \u001b[0mfit_l1_slsqp\u001b[0m\u001b[1;33m\u001b[0m\u001b[0m\n\u001b[1;32m---> 45\u001b[1;33m \u001b[1;32mfrom\u001b[0m \u001b[0mstatsmodels\u001b[0m\u001b[1;33m.\u001b[0m\u001b[0mdistributions\u001b[0m \u001b[1;32mimport\u001b[0m \u001b[0mgenpoisson_p\u001b[0m\u001b[1;33m\u001b[0m\u001b[0m\n\u001b[0m\u001b[0;32m     46\u001b[0m \u001b[1;33m\u001b[0m\u001b[0m\n\u001b[0;32m     47\u001b[0m \u001b[1;32mtry\u001b[0m\u001b[1;33m:\u001b[0m\u001b[1;33m\u001b[0m\u001b[0m\n",
      "\u001b[1;32mC:\\Users\\RACH0_000\\Anaconda3\\lib\\site-packages\\statsmodels\\distributions\\__init__.py\u001b[0m in \u001b[0;36m<module>\u001b[1;34m()\u001b[0m\n\u001b[0;32m      1\u001b[0m \u001b[1;32mfrom\u001b[0m \u001b[1;33m.\u001b[0m\u001b[0mempirical_distribution\u001b[0m \u001b[1;32mimport\u001b[0m \u001b[0mECDF\u001b[0m\u001b[1;33m,\u001b[0m \u001b[0mmonotone_fn_inverter\u001b[0m\u001b[1;33m,\u001b[0m \u001b[0mStepFunction\u001b[0m\u001b[1;33m\u001b[0m\u001b[0m\n\u001b[1;32m----> 2\u001b[1;33m \u001b[1;32mfrom\u001b[0m \u001b[1;33m.\u001b[0m\u001b[0medgeworth\u001b[0m \u001b[1;32mimport\u001b[0m \u001b[0mExpandedNormal\u001b[0m\u001b[1;33m\u001b[0m\u001b[0m\n\u001b[0m\u001b[0;32m      3\u001b[0m \u001b[1;32mfrom\u001b[0m \u001b[1;33m.\u001b[0m\u001b[0mdiscrete\u001b[0m \u001b[1;32mimport\u001b[0m \u001b[0mgenpoisson_p\u001b[0m\u001b[1;33m,\u001b[0m \u001b[0mzipoisson\u001b[0m\u001b[1;33m,\u001b[0m \u001b[0mzigenpoisson\u001b[0m\u001b[1;33m,\u001b[0m \u001b[0mzinegbin\u001b[0m\u001b[1;33m\u001b[0m\u001b[0m\n",
      "\u001b[1;32mC:\\Users\\RACH0_000\\Anaconda3\\lib\\site-packages\\statsmodels\\distributions\\edgeworth.py\u001b[0m in \u001b[0;36m<module>\u001b[1;34m()\u001b[0m\n\u001b[0;32m      5\u001b[0m \u001b[1;32mimport\u001b[0m \u001b[0mnumpy\u001b[0m \u001b[1;32mas\u001b[0m \u001b[0mnp\u001b[0m\u001b[1;33m\u001b[0m\u001b[0m\n\u001b[0;32m      6\u001b[0m \u001b[1;32mfrom\u001b[0m \u001b[0mnumpy\u001b[0m\u001b[1;33m.\u001b[0m\u001b[0mpolynomial\u001b[0m\u001b[1;33m.\u001b[0m\u001b[0mhermite_e\u001b[0m \u001b[1;32mimport\u001b[0m \u001b[0mHermiteE\u001b[0m\u001b[1;33m\u001b[0m\u001b[0m\n\u001b[1;32m----> 7\u001b[1;33m \u001b[1;32mfrom\u001b[0m \u001b[0mscipy\u001b[0m\u001b[1;33m.\u001b[0m\u001b[0mmisc\u001b[0m \u001b[1;32mimport\u001b[0m \u001b[0mfactorial\u001b[0m\u001b[1;33m\u001b[0m\u001b[0m\n\u001b[0m\u001b[0;32m      8\u001b[0m \u001b[1;32mfrom\u001b[0m \u001b[0mscipy\u001b[0m\u001b[1;33m.\u001b[0m\u001b[0mstats\u001b[0m \u001b[1;32mimport\u001b[0m \u001b[0mrv_continuous\u001b[0m\u001b[1;33m\u001b[0m\u001b[0m\n\u001b[0;32m      9\u001b[0m \u001b[1;32mimport\u001b[0m \u001b[0mscipy\u001b[0m\u001b[1;33m.\u001b[0m\u001b[0mspecial\u001b[0m \u001b[1;32mas\u001b[0m \u001b[0mspecial\u001b[0m\u001b[1;33m\u001b[0m\u001b[0m\n",
      "\u001b[1;31mImportError\u001b[0m: cannot import name 'factorial'"
     ]
    }
   ],
   "source": [
    "#mediation analysis\n",
    "from scipy import stats\n",
    "import statsmodels.api as sm\n",
    "import math\n",
    "\n",
    "all_predictors = ['warm', 'rt']\n",
    "X = df[all_predictors]\n",
    "y = df['aha']\n",
    "X = sm.add_constant(X)\n",
    "\n",
    "linear_model = sm.OLS(y, X)\n",
    "results = linear_model.fit()\n",
    "predictions = results.predict(X)\n",
    "print(results.summary())"
   ]
  },
  {
   "cell_type": "code",
   "execution_count": null,
   "metadata": {},
   "outputs": [],
   "source": []
  },
  {
   "cell_type": "code",
   "execution_count": null,
   "metadata": {},
   "outputs": [],
   "source": []
  },
  {
   "cell_type": "code",
   "execution_count": null,
   "metadata": {},
   "outputs": [],
   "source": []
  },
  {
   "cell_type": "code",
   "execution_count": null,
   "metadata": {
    "collapsed": true
   },
   "outputs": [],
   "source": []
  }
 ],
 "metadata": {
  "kernelspec": {
   "display_name": "Python 3",
   "language": "python",
   "name": "python3"
  },
  "language_info": {
   "codemirror_mode": {
    "name": "ipython",
    "version": 3
   },
   "file_extension": ".py",
   "mimetype": "text/x-python",
   "name": "python",
   "nbconvert_exporter": "python",
   "pygments_lexer": "ipython3",
   "version": "3.5.3"
  }
 },
 "nbformat": 4,
 "nbformat_minor": 2
}
