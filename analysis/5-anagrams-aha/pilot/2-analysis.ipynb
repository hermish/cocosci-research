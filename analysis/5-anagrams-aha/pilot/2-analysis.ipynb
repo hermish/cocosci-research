{
 "cells": [
  {
   "cell_type": "code",
   "execution_count": 1,
   "metadata": {},
   "outputs": [],
   "source": [
    "%matplotlib inline\n",
    "\n",
    "import matplotlib\n",
    "import numpy as np\n",
    "import matplotlib.pyplot as plt\n",
    "\n",
    "import json\n",
    "import numpy as np\n",
    "import seaborn as sns\n",
    "import matplotlib.pyplot as plt\n",
    "from scipy import stats\n",
    "import pandas as pd\n",
    "import scipy\n",
    "from scipy.stats import ttest_ind, ttest_ind_from_stats\n",
    "from scipy.special import stdtr"
   ]
  },
  {
   "cell_type": "code",
   "execution_count": 2,
   "metadata": {},
   "outputs": [
    {
     "data": {
      "text/plain": [
       "144"
      ]
     },
     "execution_count": 2,
     "metadata": {},
     "output_type": "execute_result"
    }
   ],
   "source": [
    "FILE_PATH = 'data/pilot3.json'\n",
    "#pilot3.json has 10 anagrams -- each subject sees three anagrams randomly -- possible confound of ordering effects\n",
    "#pilot4.json has 10 anagrams as well -- each subject only sees 1 anagram randomly. \n",
    "all_entries = []\n",
    "with open(FILE_PATH) as file:\n",
    "    for line in file:\n",
    "        entry = json.loads(line)\n",
    "        all_entries.append(entry)\n",
    "len(all_entries)"
   ]
  },
  {
   "cell_type": "code",
   "execution_count": 3,
   "metadata": {},
   "outputs": [
    {
     "name": "stdout",
     "output_type": "stream",
     "text": [
      "72 72\n"
     ]
    }
   ],
   "source": [
    "start = []\n",
    "finish = []\n",
    "for entry in all_entries:\n",
    "    if isinstance(entry['data'], dict):\n",
    "        condition = entry['data']\n",
    "        start.append(entry)\n",
    "    else:\n",
    "        condition = entry['data'][0]\n",
    "        finish.append(entry)\n",
    "print(len(start),len(finish))\n",
    "\n",
    "def return_indices(user_order): #function that searches through the list of anagrams and returns the indices of the anagrams seen by the subject\n",
    "    order = ['TEH', 'SROT', 'BLUK', 'PITN', 'SONW', 'VLVOO', 'KHAOMCM', 'IORCNAG', 'HNATUYG', 'DALRBEU']\n",
    "    idx = []\n",
    "    for i in range(len(user_order)):\n",
    "        idx.append(order.index(user_order[i]))\n",
    "    return idx\n",
    "\n",
    "def label_point(x, y, val, ax):\n",
    "    a = pd.concat({'x': x, 'y': y, 'val': val}, axis=1)\n",
    "    #print(a)\n",
    "    for i, point in a.iterrows():\n",
    "        ax.text(point['x']+.02, point['y'], str(point['val']))"
   ]
  },
  {
   "cell_type": "code",
   "execution_count": 4,
   "metadata": {},
   "outputs": [],
   "source": [
    "#get subject data for the 10 anagrams\n",
    "\n",
    "time_guess = [[] for i in range(10)] \n",
    "actual_rt = [[] for i in range(10)]\n",
    "give_up = [[] for i in range(10)]\n",
    "aha = [[] for i in range(10)]\n",
    "\n",
    "for entry in finish: \n",
    "    entry_data = entry['data']\n",
    "    idx = return_indices((entry_data[0]['anagrams_seen'])) #get the indices of the anagrams seen by the subject\n",
    "    anagrams_answers = entry_data[0]['anagrams_answers']\n",
    "    \n",
    "    time_guess[idx[0]].append(entry_data[5]['response']) #5 is first time estimation\n",
    "    \n",
    "    counter = 6    \n",
    "    rt = entry_data[6]['rt']\n",
    "    attempt = entry_data[6]['responses'] \n",
    "    g = 0\n",
    "\n",
    "    while anagrams_answers[0].lower() not in attempt.lower(): #keep incrementing until person gets correct answer or gives up\n",
    "        if \"next\" in attempt.lower(): #break if person gave up\n",
    "            g = 1\n",
    "            break\n",
    "        else:                \n",
    "            counter = counter+1\n",
    "            attempt = entry_data[counter]['responses']\n",
    "            rt = rt+entry_data[counter]['rt']  \n",
    "            \n",
    "    give_up[idx[0]].append(g) #did subject give up or not\n",
    "    actual_rt[idx[0]].append(rt) #append actual time to complete\n",
    "\n",
    "    counter = counter+1    \n",
    "    r = entry_data[counter]['responses'] #aha rating\n",
    "    aha[idx[0]].append(int(r[6]))\n",
    "\n",
    "    #data for second anagram    \n",
    "    counter = counter+3\n",
    "    time_guess[idx[1]].append(entry_data[counter]['response']) #time estimation\n",
    "\n",
    "    counter = counter+1   \n",
    "    rt = entry_data[counter]['rt']\n",
    "    attempt = entry_data[counter]['responses']\n",
    "    g = 0\n",
    "    while anagrams_answers[1].lower() not in attempt.lower(): #keep incrementing until person gets correct answer or gives up,         \n",
    "        if \"next\" in attempt.lower(): #break if person gave up \n",
    "            g = 1 #person gave up\n",
    "            break\n",
    "        else:\n",
    "            counter = counter+1\n",
    "            attempt = entry_data[counter]['responses']\n",
    "            rt = rt+entry_data[counter]['rt']   \n",
    "    \n",
    "    give_up[idx[1]].append(g)\n",
    "    actual_rt[idx[1]].append(rt) #append actual time to complete\n",
    "\n",
    "    counter = counter+1\n",
    "    r = entry_data[counter]['responses'] #aha rating\n",
    "    aha[idx[1]].append(int(r[6]))\n",
    "\n",
    "    #data for third anagram    \n",
    "    counter = counter+3\n",
    "    time_guess[idx[2]].append(entry_data[counter]['response']) #time estimation\n",
    "    g = 0\n",
    "    counter = counter+1   \n",
    "    rt = entry_data[counter]['rt']\n",
    "    attempt = entry_data[counter]['responses']    \n",
    "    \n",
    "    while anagrams_answers[2].lower() not in attempt.lower(): #keep incrementing until person gets correct answer or gives up        \n",
    "        if \"next\" in attempt.lower(): #break if person gave up\n",
    "            g = 1\n",
    "            break\n",
    "        else:            \n",
    "            rt = rt+entry_data[counter]['rt']\n",
    "            counter = counter+1\n",
    "            attempt = entry_data[counter]['responses']    \n",
    "            \n",
    "    give_up[idx[2]].append(g) #add if subject gave up or not\n",
    "    actual_rt[idx[2]].append(rt) #append actual time to complete\n",
    "    \n",
    "    counter = counter+1\n",
    "    r = entry_data[counter]['responses'] #aha rating    \n",
    "    aha[idx[2]].append(int(r[6]))"
   ]
  },
  {
   "cell_type": "code",
   "execution_count": 5,
   "metadata": {},
   "outputs": [
    {
     "name": "stdout",
     "output_type": "stream",
     "text": [
      "Time guess: 19.0 Actual RT: 3.1215555555555556 TPE: 15.878444444444446 AHA: 2.611111111111111 numSubs: 18\n",
      "Time guess: 19.894736842105264 Actual RT: 13.187631578947366 TPE: 6.707105263157894 AHA: 3.0526315789473686 numSubs: 19\n",
      "Time guess: 33.81818181818182 Actual RT: 8.919818181818181 TPE: 24.898363636363637 AHA: 4.136363636363637 numSubs: 22\n",
      "Time guess: 34.758620689655174 Actual RT: 15.076758620689658 TPE: 19.681862068965515 AHA: 2.8620689655172415 numSubs: 29\n",
      "Time guess: 25.363636363636363 Actual RT: 7.290590909090909 TPE: 18.073045454545458 AHA: 2.3181818181818183 numSubs: 22\n",
      "Time guess: 75.75 Actual RT: 14.032000000000002 TPE: 61.718 AHA: 3.0625 numSubs: 16\n",
      "Time guess: 110.5 Actual RT: 43.44466666666667 TPE: 67.05533333333334 AHA: 3.9166666666666665 numSubs: 12\n",
      "Time guess: 70.0909090909091 Actual RT: 42.27009090909091 TPE: 27.820818181818183 AHA: 4.363636363636363 numSubs: 11\n",
      "Time guess: 120.0 Actual RT: 26.632545454545458 TPE: 93.36745454545456 AHA: 4.545454545454546 numSubs: 11\n",
      "Time guess: 132.3 Actual RT: 42.0038 TPE: 90.2962 AHA: 4.2 numSubs: 10\n"
     ]
    }
   ],
   "source": [
    "#data conversion, clean-up, and storage here\n",
    "\n",
    "mean_time_guess = []\n",
    "mean_rt = []\n",
    "mean_tpe = []\n",
    "mean_aha = []\n",
    "mean_tpe2 = []\n",
    "mean_aha2 = []\n",
    "\n",
    "for i in range(10): #go through all 10 anagrams here\n",
    "    give_up_i = give_up[i]\n",
    "    aha_i = aha[i]    \n",
    "    time_guess_i = np.asarray(time_guess[i], dtype='float64')*30 \n",
    "    actual_rt_i = np.asarray(actual_rt[i], dtype='float64')*0.001  \n",
    "    tpe_i = time_guess_i-actual_rt_i\n",
    "    \n",
    "    indexes = [i for i,x in enumerate(give_up_i) if x == 0] #only get subjects who solved the anagram    \n",
    "    aha_i = np.asarray(aha_i)\n",
    "    aha_i = aha_i[np.asarray(indexes)] \n",
    "    time_guess_i = time_guess_i[np.asarray(indexes)] \n",
    "    actual_rt_i = actual_rt_i[np.asarray(indexes)] \n",
    "    tpe_i = tpe_i[np.asarray(indexes)]\n",
    "    \n",
    "    mean_time_guess.append(np.mean(time_guess_i/60))\n",
    "    mean_rt.append(np.mean(actual_rt_i/60))\n",
    "    mean_tpe.append(np.mean(tpe_i/60))\n",
    "    mean_aha.append(np.mean(aha_i))\n",
    "    mean_tpe2.append(tpe_i/60) #this is for power analysis later on\n",
    "    mean_aha2.append(aha_i)\n",
    "    print('Time guess:', np.mean(time_guess_i), 'Actual RT:',np.mean(actual_rt_i), 'TPE:', np.mean(tpe_i), 'AHA:',np.mean(aha_i), 'numSubs:', len(aha_i))\n",
    "    \n",
    "    \n"
   ]
  },
  {
   "cell_type": "code",
   "execution_count": 6,
   "metadata": {},
   "outputs": [
    {
     "name": "stdout",
     "output_type": "stream",
     "text": [
      "        aha anagrams        rt       tpe\n",
      "0  2.611111      the  0.052026  0.264641\n",
      "1  3.052632     sort  0.219794  0.111785\n",
      "2  4.136364     bulk  0.148664  0.414973\n",
      "3  2.862069     pint  0.251279  0.328031\n",
      "4  2.318182     snow  0.121510  0.301217\n",
      "5  3.062500    volvo  0.233867  1.028633\n",
      "6  3.916667  hammock  0.724078  1.117589\n",
      "7  4.363636  organic  0.704502  0.463680\n",
      "8  4.545455  naughty  0.443876  1.556124\n",
      "9  4.200000  durable  0.700063  1.504937\n",
      "[[1.         0.62495646]\n",
      " [0.62495646 1.        ]]\n",
      "[[1.         0.72510973]\n",
      " [0.72510973 1.        ]]\n"
     ]
    },
    {
     "data": {
      "image/png": "[encoded data removed]",
      "text/plain": [
       "<Figure size 360x360 with 1 Axes>"
      ]
     },
     "metadata": {},
     "output_type": "display_data"
    }
   ],
   "source": [
    "import seaborn as sns\n",
    "import pandas as pd\n",
    "sns.set(style=\"white\", font_scale=1.25)\n",
    "\n",
    "df = pd.DataFrame({'anagrams': ['the', 'sort', 'bulk', 'pint', 'snow', 'volvo', 'hammock', 'organic', 'naughty', 'durable'],\n",
    "    'tpe': mean_tpe,\n",
    "    'aha': mean_aha,\n",
    "     'rt':  mean_rt})\n",
    "print(df)\n",
    "#sns.lmplot('aha', 'tpe', data=df, fit_reg=False)\n",
    "#label_point(df['aha'], df['tpe'], df['anagrams'] , plt.gca()) #function to label point in scatter plot\n",
    "sns.lmplot('aha', 'tpe', data=df, fit_reg=False)\n",
    "label_point(df['aha'], df['tpe'], df['anagrams'] , plt.gca()) #function to label point in scatter plot\n",
    "\n",
    "print(np.corrcoef(df['aha'], df['tpe'])) \n",
    "print(np.corrcoef(df['aha'], df['rt'])) "
   ]
  },
  {
   "cell_type": "code",
   "execution_count": 10,
   "metadata": {},
   "outputs": [
    {
     "name": "stdout",
     "output_type": "stream",
     "text": [
      "                            OLS Regression Results                            \n",
      "==============================================================================\n",
      "Dep. Variable:                    aha   R-squared:                       0.577\n",
      "Model:                            OLS   Adj. R-squared:                  0.456\n",
      "Method:                 Least Squares   F-statistic:                     4.767\n",
      "Date:                Fri, 30 Aug 2019   Prob (F-statistic):             0.0494\n",
      "Time:                        19:06:26   Log-Likelihood:                -7.2472\n",
      "No. Observations:                  10   AIC:                             20.49\n",
      "Df Residuals:                       7   BIC:                             21.40\n",
      "Df Model:                           2                                         \n",
      "Covariance Type:            nonrobust                                         \n",
      "==============================================================================\n",
      "                 coef    std err          t      P>|t|      [0.025      0.975]\n",
      "------------------------------------------------------------------------------\n",
      "const          2.5933      0.352      7.361      0.000       1.760       3.426\n",
      "tpe            0.4288      0.468      0.917      0.390      -0.677       1.535\n",
      "rt             1.6932      0.965      1.754      0.123      -0.590       3.976\n",
      "==============================================================================\n",
      "Omnibus:                        3.468   Durbin-Watson:                   1.814\n",
      "Prob(Omnibus):                  0.177   Jarque-Bera (JB):                1.574\n",
      "Skew:                           0.971   Prob(JB):                        0.455\n",
      "Kurtosis:                       2.937   Cond. No.                         7.16\n",
      "==============================================================================\n",
      "\n",
      "Warnings:\n",
      "[1] Standard Errors assume that the covariance matrix of the errors is correctly specified.\n"
     ]
    },
    {
     "name": "stderr",
     "output_type": "stream",
     "text": [
      "C:\\Users\\RACH0_000\\Anaconda3\\lib\\site-packages\\scipy\\stats\\stats.py:1334: UserWarning: kurtosistest only valid for n>=20 ... continuing anyway, n=10\n",
      "  \"anyway, n=%i\" % int(n))\n"
     ]
    }
   ],
   "source": [
    "from scipy import stats\n",
    "import statsmodels.api as sm\n",
    "import math\n",
    "\n",
    "all_predictors = ['tpe', 'rt']\n",
    "X = df[all_predictors]\n",
    "y = df['aha']\n",
    "X = sm.add_constant(X)\n",
    "\n",
    "linear_model = sm.OLS(y, X)\n",
    "results = linear_model.fit()\n",
    "predictions = results.predict(X)\n",
    "print(results.summary())"
   ]
  },
  {
   "cell_type": "code",
   "execution_count": 15,
   "metadata": {},
   "outputs": [
    {
     "data": {
      "image/png": "[encoded data removed]",
      "text/plain": [
       "<Figure size 432x288 with 1 Axes>"
      ]
     },
     "metadata": {},
     "output_type": "display_data"
    }
   ],
   "source": [
    "#power analysis\n",
    "import matplotlib.pyplot as plt\n",
    "\n",
    "for n in [5,10,15,20,25,30,35,40,45,50,55,60]:\n",
    "    aha = []\n",
    "    tpe = []\n",
    "    means = []\n",
    "    for l in range(1000):\n",
    "        for i in range(len(mean_aha)):\n",
    "            a = np.random.choice(mean_aha2[i],n)\n",
    "            aha.append(np.mean(a))\n",
    "            b = np.random.choice(mean_tpe2[i],n)\n",
    "            tpe.append(np.mean(b))        \n",
    "        c = np.corrcoef(aha, tpe)\n",
    "        means.append(c[1][0])\n",
    "        \n",
    "    plt.errorbar(n, np.mean(means), np.std(means)/np.sqrt(len(means)), marker='o', color = 'k')\n",
    "    plt.xlabel('Sample size')\n",
    "    plt.ylabel('Aha-time prediction error corr')\n",
    "    plt.ylim([0.30,0.60])"
   ]
  },
  {
   "cell_type": "code",
   "execution_count": 22,
   "metadata": {},
   "outputs": [
    {
     "data": {
      "image/png": "[encoded data removed]",
      "text/plain": [
       "<Figure size 432x288 with 1 Axes>"
      ]
     },
     "metadata": {},
     "output_type": "display_data"
    }
   ],
   "source": [
    "for n in [5,10,15,20,25,30,35,40,45,50,55,60]:\n",
    "    aha = []\n",
    "    tpe = []\n",
    "    means = []\n",
    "    for l in range(100):\n",
    "        for i in range(len(mean_aha)):\n",
    "            a = np.random.choice(mean_aha2[i],n)\n",
    "            aha.append(np.mean(a))\n",
    "            b = np.random.choice(mean_aha2[i],n)\n",
    "            tpe.append(np.mean(b))        \n",
    "        c = np.corrcoef(aha, tpe)\n",
    "        means.append(c[1][0])\n",
    "        \n",
    "    plt.errorbar(n, np.mean(means), np.std(means)/np.sqrt(len(means)), marker='o', color = 'k')\n",
    "    plt.xlabel('Sample size')\n",
    "    plt.ylabel('aha consistency')\n",
    "    plt.ylim([0.30,0.95])"
   ]
  },
  {
   "cell_type": "code",
   "execution_count": 19,
   "metadata": {},
   "outputs": [
    {
     "data": {
      "image/png": "[encoded data removed]",
      "text/plain": [
       "<Figure size 432x288 with 1 Axes>"
      ]
     },
     "metadata": {},
     "output_type": "display_data"
    }
   ],
   "source": [
    "for n in [5,10,15,20,25,30,35,40,45,50,55,60]:\n",
    "    aha = []\n",
    "    tpe = []\n",
    "    means = []\n",
    "    for l in range(100):\n",
    "        for i in range(len(mean_aha)):\n",
    "            a = np.random.choice(mean_tpe2[i],n)\n",
    "            aha.append(np.mean(a))\n",
    "            b = np.random.choice(mean_tpe2[i],n)\n",
    "            tpe.append(np.mean(b))        \n",
    "        c = np.corrcoef(aha, tpe)\n",
    "        means.append(c[1][0])\n",
    "        \n",
    "    plt.errorbar(n, np.mean(means), np.std(means)/np.sqrt(len(means)), marker='o', color = 'k')\n",
    "    plt.xlabel('Sample size')\n",
    "    plt.ylabel('time prediction error consistency')\n",
    "    plt.ylim([0.7,1])"
   ]
  },
  {
   "cell_type": "code",
   "execution_count": null,
   "metadata": {},
   "outputs": [],
   "source": []
  },
  {
   "cell_type": "code",
   "execution_count": null,
   "metadata": {
    "collapsed": true
   },
   "outputs": [],
   "source": []
  }
 ],
 "metadata": {
  "kernelspec": {
   "display_name": "Python 3",
   "language": "python",
   "name": "python3"
  },
  "language_info": {
   "codemirror_mode": {
    "name": "ipython",
    "version": 3
   },
   "file_extension": ".py",
   "mimetype": "text/x-python",
   "name": "python",
   "nbconvert_exporter": "python",
   "pygments_lexer": "ipython3",
   "version": "3.5.3"
  }
 },
 "nbformat": 4,
 "nbformat_minor": 2
}
