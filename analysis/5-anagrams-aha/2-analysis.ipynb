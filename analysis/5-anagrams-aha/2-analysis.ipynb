{
 "cells": [
  {
   "cell_type": "code",
   "execution_count": 2,
   "metadata": {},
   "outputs": [],
   "source": [
    "%matplotlib inline\n",
    "\n",
    "import matplotlib\n",
    "import numpy as np\n",
    "import matplotlib.pyplot as plt\n",
    "\n",
    "import json\n",
    "import numpy as np\n",
    "import seaborn as sns\n",
    "import matplotlib.pyplot as plt\n",
    "from scipy import stats\n",
    "import pandas as pd\n",
    "import scipy\n",
    "from scipy.stats import ttest_ind, ttest_ind_from_stats\n",
    "from scipy.special import stdtr"
   ]
  },
  {
   "cell_type": "code",
   "execution_count": 3,
   "metadata": {},
   "outputs": [
    {
     "data": {
      "text/plain": [
       "144"
      ]
     },
     "execution_count": 3,
     "metadata": {},
     "output_type": "execute_result"
    }
   ],
   "source": [
    "FILE_PATH = 'data/pilot3.json'\n",
    "#pilot3.json has 10 anagrams -- each subject sees three anagrams randomly -- possible confound of ordering effects\n",
    "#pilot4.json has 10 anagrams as well -- each subject only sees 1 anagram randomly. \n",
    "all_entries = []\n",
    "with open(FILE_PATH) as file:\n",
    "    for line in file:\n",
    "        entry = json.loads(line)\n",
    "        all_entries.append(entry)\n",
    "len(all_entries)"
   ]
  },
  {
   "cell_type": "code",
   "execution_count": 4,
   "metadata": {},
   "outputs": [
    {
     "name": "stdout",
     "output_type": "stream",
     "text": [
      "72 72\n"
     ]
    }
   ],
   "source": [
    "start = []\n",
    "finish = []\n",
    "for entry in all_entries:\n",
    "    if isinstance(entry['data'], dict):\n",
    "        condition = entry['data']\n",
    "        start.append(entry)\n",
    "    else:\n",
    "        condition = entry['data'][0]\n",
    "        finish.append(entry)\n",
    "print(len(start),len(finish))\n",
    "\n",
    "def return_indices(user_order): #function that searches through the list of anagrams and returns the indices of the anagrams seen by the subject\n",
    "    order = ['TEH', 'SROT', 'BLUK', 'PITN', 'SONW', 'VLVOO', 'KHAOMCM', 'IORCNAG', 'HNATUYG', 'DALRBEU']\n",
    "    idx = []\n",
    "    for i in range(len(user_order)):\n",
    "        idx.append(order.index(user_order[i]))\n",
    "    return idx"
   ]
  },
  {
   "cell_type": "code",
   "execution_count": 5,
   "metadata": {},
   "outputs": [],
   "source": [
    "#get subject data for the 10 anagrams\n",
    "\n",
    "time_guess = [[] for i in range(10)] \n",
    "actual_rt = [[] for i in range(10)]\n",
    "give_up = [[] for i in range(10)]\n",
    "aha = [[] for i in range(10)]\n",
    "\n",
    "for entry in finish: \n",
    "    entry_data = entry['data']\n",
    "    idx = return_indices((entry_data[0]['anagrams_seen'])) #get the indices of the anagrams seen by the subject\n",
    "    anagrams_answers = entry_data[0]['anagrams_answers']\n",
    "    \n",
    "    time_guess[idx[0]].append(entry_data[5]['response']) #5 is first time estimation\n",
    "    \n",
    "    counter = 6    \n",
    "    rt = entry_data[6]['rt']\n",
    "    attempt = entry_data[6]['responses'] \n",
    "    g = 0\n",
    "\n",
    "    while anagrams_answers[0].lower() not in attempt.lower(): #keep incrementing until person gets correct answer or gives up\n",
    "        if \"next\" in attempt.lower(): #break if person gave up\n",
    "            g = 1\n",
    "            break\n",
    "        else:                \n",
    "            counter = counter+1\n",
    "            attempt = entry_data[counter]['responses']\n",
    "            rt = rt+entry_data[counter]['rt']  \n",
    "            \n",
    "    give_up[idx[0]].append(g) #did subject give up or not\n",
    "    actual_rt[idx[0]].append(rt) #append actual time to complete\n",
    "\n",
    "    counter = counter+1    \n",
    "    r = entry_data[counter]['responses'] #aha rating\n",
    "    aha[idx[0]].append(int(r[6]))\n",
    "\n",
    "    #data for second anagram    \n",
    "    counter = counter+3\n",
    "    time_guess[idx[1]].append(entry_data[counter]['response']) #time estimation\n",
    "\n",
    "    counter = counter+1   \n",
    "    rt = entry_data[counter]['rt']\n",
    "    attempt = entry_data[counter]['responses']\n",
    "    g = 0\n",
    "    while anagrams_answers[1].lower() not in attempt.lower(): #keep incrementing until person gets correct answer or gives up,         \n",
    "        if \"next\" in attempt.lower(): #break if person gave up \n",
    "            g = 1 #person gave up\n",
    "            break\n",
    "        else:\n",
    "            counter = counter+1\n",
    "            attempt = entry_data[counter]['responses']\n",
    "            rt = rt+entry_data[counter]['rt']   \n",
    "    \n",
    "    give_up[idx[1]].append(g)\n",
    "    actual_rt[idx[1]].append(rt) #append actual time to complete\n",
    "\n",
    "    counter = counter+1\n",
    "    r = entry_data[counter]['responses'] #aha rating\n",
    "    aha[idx[1]].append(int(r[6]))\n",
    "\n",
    "    #data for third anagram    \n",
    "    counter = counter+3\n",
    "    time_guess[idx[2]].append(entry_data[counter]['response']) #time estimation\n",
    "    g = 0\n",
    "    counter = counter+1   \n",
    "    rt = entry_data[counter]['rt']\n",
    "    attempt = entry_data[counter]['responses']    \n",
    "    \n",
    "    while anagrams_answers[2].lower() not in attempt.lower(): #keep incrementing until person gets correct answer or gives up        \n",
    "        if \"next\" in attempt.lower(): #break if person gave up\n",
    "            g = 1\n",
    "            break\n",
    "        else:            \n",
    "            rt = rt+entry_data[counter]['rt']\n",
    "            counter = counter+1\n",
    "            attempt = entry_data[counter]['responses']    \n",
    "            \n",
    "    give_up[idx[2]].append(g) #add if subject gave up or not\n",
    "    actual_rt[idx[2]].append(rt) #append actual time to complete\n",
    "    \n",
    "    counter = counter+1\n",
    "    r = entry_data[counter]['responses'] #aha rating    \n",
    "    aha[idx[2]].append(int(r[6]))"
   ]
  },
  {
   "cell_type": "code",
   "execution_count": 6,
   "metadata": {},
   "outputs": [
    {
     "name": "stdout",
     "output_type": "stream",
     "text": [
      "Time guess: 19.0 Actual RT: 3.12155555556 TPE: 15.8784444444 AHA: 2.61111111111 numSubs: 18\n",
      "Time guess: 19.8947368421 Actual RT: 13.1876315789 TPE: 6.70710526316 AHA: 3.05263157895 numSubs: 19\n",
      "Time guess: 33.8181818182 Actual RT: 8.91981818182 TPE: 24.8983636364 AHA: 4.13636363636 numSubs: 22\n",
      "Time guess: 34.7586206897 Actual RT: 15.0767586207 TPE: 19.681862069 AHA: 2.86206896552 numSubs: 29\n",
      "Time guess: 25.3636363636 Actual RT: 7.29059090909 TPE: 18.0730454545 AHA: 2.31818181818 numSubs: 22\n",
      "Time guess: 75.75 Actual RT: 14.032 TPE: 61.718 AHA: 3.0625 numSubs: 16\n",
      "Time guess: 110.5 Actual RT: 43.4446666667 TPE: 67.0553333333 AHA: 3.91666666667 numSubs: 12\n",
      "Time guess: 70.0909090909 Actual RT: 42.2700909091 TPE: 27.8208181818 AHA: 4.36363636364 numSubs: 11\n",
      "Time guess: 120.0 Actual RT: 26.6325454545 TPE: 93.3674545455 AHA: 4.54545454545 numSubs: 11\n",
      "Time guess: 132.3 Actual RT: 42.0038 TPE: 90.2962 AHA: 4.2 numSubs: 10\n"
     ]
    }
   ],
   "source": [
    "#data conversion, clean-up, and storage here\n",
    "\n",
    "mean_time_guess = []\n",
    "mean_rt = []\n",
    "mean_tpe = []\n",
    "mean_aha = []\n",
    "\n",
    "for i in range(10): #go through all 10 anagrams here\n",
    "    give_up_i = give_up[i]\n",
    "    aha_i = aha[i]    \n",
    "    time_guess_i = np.asarray(time_guess[i], dtype='float64')*30 \n",
    "    actual_rt_i = np.asarray(actual_rt[i], dtype='float64')*0.001  \n",
    "    tpe_i = time_guess_i-actual_rt_i\n",
    "    \n",
    "    indexes = [i for i,x in enumerate(give_up_i) if x == 0] #only get subjects who solved the anagram    \n",
    "    aha_i = np.asarray(aha_i)\n",
    "    aha_i = aha_i[np.asarray(indexes)] \n",
    "    time_guess_i = time_guess_i[np.asarray(indexes)] \n",
    "    actual_rt_i = actual_rt_i[np.asarray(indexes)] \n",
    "    tpe_i = tpe_i[np.asarray(indexes)]\n",
    "    \n",
    "    mean_time_guess.append(np.mean(time_guess_i/60))\n",
    "    mean_rt.append(np.mean(actual_rt_i/60))\n",
    "    mean_tpe.append(np.mean(tpe_i/60))\n",
    "    mean_aha.append(np.mean(aha_i))\n",
    "    \n",
    "    print('Time guess:', np.mean(time_guess_i), 'Actual RT:',np.mean(actual_rt_i), 'TPE:', np.mean(tpe_i), 'AHA:',np.mean(aha_i), 'numSubs:', len(aha_i))\n",
    "    \n",
    "    \n"
   ]
  },
  {
   "cell_type": "code",
   "execution_count": 7,
   "metadata": {},
   "outputs": [
    {
     "name": "stdout",
     "output_type": "stream",
     "text": [
      "        aha anagrams        rt       tpe\n",
      "0  2.611111      TEH  0.052026  0.264641\n",
      "1  3.052632     SROT  0.219794  0.111785\n",
      "2  4.136364     BLUK  0.148664  0.414973\n",
      "3  2.862069     PITN  0.251279  0.328031\n",
      "4  2.318182     SONW  0.121510  0.301217\n",
      "5  3.062500    VLVOO  0.233867  1.028633\n",
      "6  3.916667  KHAOMCM  0.724078  1.117589\n",
      "7  4.363636  IORCNAG  0.704502  0.463680\n",
      "8  4.545455  HNATUYG  0.443876  1.556124\n",
      "9  4.200000  DALRBEU  0.700063  1.504937\n"
     ]
    },
    {
     "data": {
      "text/plain": [
       "<seaborn.axisgrid.FacetGrid at 0x23c5fc989b0>"
      ]
     },
     "execution_count": 7,
     "metadata": {},
     "output_type": "execute_result"
    },
    {
     "data": {
      "image/png": "[encoded data removed]",
      "text/plain": [
       "<Figure size 360x360 with 1 Axes>"
      ]
     },
     "metadata": {},
     "output_type": "display_data"
    },
    {
     "data": {
      "image/png": "[encoded data removed]",
      "text/plain": [
       "<Figure size 360x360 with 1 Axes>"
      ]
     },
     "metadata": {},
     "output_type": "display_data"
    }
   ],
   "source": [
    "import seaborn as sns\n",
    "import pandas as pd\n",
    "sns.set(style=\"white\", font_scale=1.25)\n",
    "\n",
    "df = pd.DataFrame({'anagrams': ['TEH', 'SROT', 'BLUK', 'PITN', 'SONW', 'VLVOO', 'KHAOMCM', 'IORCNAG', 'HNATUYG', 'DALRBEU'],\n",
    "    'tpe': mean_tpe,\n",
    "    'aha': mean_aha,\n",
    "     'rt':  mean_rt})\n",
    "print(df)\n",
    "sns.lmplot('aha', 'tpe', data=df, fit_reg=False)\n",
    "sns.lmplot('aha', 'rt', data=df, fit_reg=False)\n",
    "\n"
   ]
  },
  {
   "cell_type": "code",
   "execution_count": null,
   "metadata": {},
   "outputs": [],
   "source": []
  },
  {
   "cell_type": "code",
   "execution_count": null,
   "metadata": {},
   "outputs": [],
   "source": []
  },
  {
   "cell_type": "code",
   "execution_count": null,
   "metadata": {},
   "outputs": [],
   "source": []
  },
  {
   "cell_type": "code",
   "execution_count": null,
   "metadata": {},
   "outputs": [],
   "source": []
  },
  {
   "cell_type": "code",
   "execution_count": null,
   "metadata": {},
   "outputs": [],
   "source": []
  },
  {
   "cell_type": "code",
   "execution_count": null,
   "metadata": {
    "collapsed": true
   },
   "outputs": [],
   "source": []
  }
 ],
 "metadata": {
  "kernelspec": {
   "display_name": "Python 3",
   "language": "python",
   "name": "python3"
  },
  "language_info": {
   "codemirror_mode": {
    "name": "ipython",
    "version": 3
   },
   "file_extension": ".py",
   "mimetype": "text/x-python",
   "name": "python",
   "nbconvert_exporter": "python",
   "pygments_lexer": "ipython3",
   "version": "3.5.3"
  }
 },
 "nbformat": 4,
 "nbformat_minor": 2
}
