{
 "cells": [
  {
   "cell_type": "code",
   "execution_count": 1,
   "metadata": {},
   "outputs": [],
   "source": [
    "%matplotlib inline\n",
    "\n",
    "import matplotlib\n",
    "import numpy as np\n",
    "import matplotlib.pyplot as plt\n",
    "\n",
    "import json\n",
    "import numpy as np\n",
    "import seaborn as sns\n",
    "import matplotlib.pyplot as plt\n",
    "from scipy import stats\n",
    "import pandas as pd\n",
    "import scipy\n",
    "from scipy.stats import ttest_ind, ttest_ind_from_stats\n",
    "from scipy.special import stdtr"
   ]
  },
  {
   "cell_type": "code",
   "execution_count": 7,
   "metadata": {},
   "outputs": [
    {
     "data": {
      "text/plain": [
       "343"
      ]
     },
     "execution_count": 7,
     "metadata": {},
     "output_type": "execute_result"
    }
   ],
   "source": [
    "FILE_PATH = 'data/pilot4.json'\n",
    "#pilot3.json has 10 anagrams -- each subject sees three anagrams randomly -- possible confound of ordering effects\n",
    "#pilot4.json has 15 anagrams -- each subject only sees 1 anagram randomly. \n",
    "all_entries = []\n",
    "with open(FILE_PATH) as file:\n",
    "    for line in file:\n",
    "        entry = json.loads(line)\n",
    "        all_entries.append(entry)\n",
    "len(all_entries)"
   ]
  },
  {
   "cell_type": "code",
   "execution_count": 8,
   "metadata": {},
   "outputs": [
    {
     "name": "stdout",
     "output_type": "stream",
     "text": [
      "180 163\n"
     ]
    }
   ],
   "source": [
    "start = []\n",
    "finish = []\n",
    "for entry in all_entries:\n",
    "    if isinstance(entry['data'], dict):\n",
    "        condition = entry['data']\n",
    "        start.append(entry)\n",
    "    else:\n",
    "        condition = entry['data'][0]\n",
    "        finish.append(entry)\n",
    "print(len(start),len(finish))\n",
    "\n",
    "def return_indices(user_order): #function that searches through the list of anagrams and returns the indices of the anagrams seen by the subject\n",
    "    order = ['TEH', 'CTA', 'BLEL', 'SROT', 'WROD', 'PITN', 'SONW', 'VLVOO', 'PONHE', 'PREOK', 'YJAKWLA', 'KHAOMCM', 'IORCNAG', 'DALRBEU', 'HNATUYG']\n",
    "    idx = []\n",
    "    idx.append(order.index(user_order))\n",
    "    return idx"
   ]
  },
  {
   "cell_type": "code",
   "execution_count": 9,
   "metadata": {},
   "outputs": [],
   "source": [
    "#get subject data for the 15 anagrams\n",
    "\n",
    "time_guess = [[] for i in range(15)] \n",
    "actual_rt = [[] for i in range(15)]\n",
    "give_up = [[] for i in range(15)]\n",
    "aha = [[] for i in range(15)]\n",
    "\n",
    "for entry in finish: \n",
    "    entry_data = entry['data']\n",
    "    idx = return_indices((entry_data[0]['anagrams_seen'])) #get the indices of the anagrams seen by the subject\n",
    "    anagrams_answers = entry_data[0]['anagrams_answers']\n",
    "    time_guess[idx[0]].append(entry_data[5]['response']) #5 is first time estimation\n",
    "    \n",
    "    counter = 6    \n",
    "    rt = entry_data[6]['rt']\n",
    "    attempt = entry_data[6]['responses'] \n",
    "    g = 0\n",
    "    while anagrams_answers.lower() not in attempt.lower(): #keep incrementing until person gets correct answer or gives up        \n",
    "        if \"next\" in attempt.lower(): #break if person gave up            \n",
    "            g = 1\n",
    "            break\n",
    "        else:                \n",
    "            counter = counter+1\n",
    "            attempt = entry_data[counter]['responses']\n",
    "            rt = rt+entry_data[counter]['rt']  \n",
    "            \n",
    "    give_up[idx[0]].append(g) #did subject give up or not\n",
    "    actual_rt[idx[0]].append(rt) #append actual time to complete\n",
    "\n",
    "    counter = counter+1    \n",
    "    r = entry_data[counter]['responses'] #aha rating\n",
    "    aha[idx[0]].append(int(r[6]))\n"
   ]
  },
  {
   "cell_type": "code",
   "execution_count": 10,
   "metadata": {},
   "outputs": [
    {
     "name": "stdout",
     "output_type": "stream",
     "text": [
      "Time guess: 3.33333333333 Actual RT: 4.80322222222 TPE: -1.46988888889 AHA: 3.0 numSubs: 9\n",
      "Time guess: 3.64285714286 Actual RT: 8.208 TPE: -4.56514285714 AHA: 2.78571428571 numSubs: 14\n",
      "Time guess: 22.0 Actual RT: 5.747 TPE: 16.253 AHA: 4.13333333333 numSubs: 15\n",
      "Time guess: 56.625 Actual RT: 30.324 TPE: 26.301 AHA: 3.0 numSubs: 8\n",
      "Time guess: 34.2352941176 Actual RT: 6.075 TPE: 28.1602941176 AHA: 3.82352941176 numSubs: 17\n",
      "Time guess: 24.0 Actual RT: 8.28871428571 TPE: 15.7112857143 AHA: 3.71428571429 numSubs: 7\n",
      "Time guess: 6.5 Actual RT: 5.8 TPE: 0.7 AHA: 4.33333333333 numSubs: 6\n",
      "Time guess: 100.666666667 Actual RT: 14.3877777778 TPE: 86.2788888889 AHA: 4.44444444444 numSubs: 9\n",
      "Time guess: 30.75 Actual RT: 6.927 TPE: 23.823 AHA: 4.0 numSubs: 12\n",
      "Time guess: 97.0 Actual RT: 29.0103333333 TPE: 67.9896666667 AHA: 3.66666666667 numSubs: 6\n",
      "Time guess: 95.625 Actual RT: 34.0715 TPE: 61.5535 AHA: 4.375 numSubs: 8\n",
      "Time guess: 112.333333333 Actual RT: 37.1365555556 TPE: 75.1967777778 AHA: 5.11111111111 numSubs: 9\n",
      "Time guess: 90.75 Actual RT: 40.434125 TPE: 50.315875 AHA: 4.375 numSubs: 8\n",
      "Time guess: 103.5 Actual RT: 35.799 TPE: 67.701 AHA: 4.0 numSubs: 2\n",
      "Time guess: 129.0 Actual RT: 77.3165 TPE: 51.6835 AHA: 4.5 numSubs: 2\n"
     ]
    }
   ],
   "source": [
    "#data conversion, clean-up, and storage here\n",
    "\n",
    "mean_time_guess = []\n",
    "mean_rt = []\n",
    "mean_tpe = []\n",
    "mean_aha = []\n",
    "for i in range(15): #go through all 15 anagrams here\n",
    "    give_up_i = give_up[i]\n",
    "    aha_i = aha[i]    \n",
    "    time_guess_i = np.asarray(time_guess[i], dtype='float64')*30 \n",
    "    actual_rt_i = np.asarray(actual_rt[i], dtype='float64')*0.001  \n",
    "    tpe_i = time_guess_i-actual_rt_i\n",
    "    \n",
    "    indexes = [i for i,x in enumerate(give_up_i) if x == 0] #only get subjects who solved the anagram    \n",
    "    aha_i = np.asarray(aha_i)\n",
    "    aha_i = aha_i[np.asarray(indexes)] \n",
    "    time_guess_i = time_guess_i[np.asarray(indexes)] \n",
    "    actual_rt_i = actual_rt_i[np.asarray(indexes)] \n",
    "    tpe_i = tpe_i[np.asarray(indexes)]\n",
    "    \n",
    "    mean_time_guess.append(np.mean(time_guess_i/60))\n",
    "    mean_rt.append(np.mean(actual_rt_i/60))\n",
    "    mean_tpe.append(np.mean(tpe_i/60))\n",
    "    mean_aha.append(np.mean(aha_i))\n",
    "    \n",
    "    print('Time guess:', np.mean(time_guess_i), 'Actual RT:',np.mean(actual_rt_i), 'TPE:', np.mean(tpe_i), 'AHA:',np.mean(aha_i), 'numSubs:', len(aha_i))\n",
    "    \n",
    "    \n"
   ]
  },
  {
   "cell_type": "code",
   "execution_count": 13,
   "metadata": {},
   "outputs": [
    {
     "name": "stdout",
     "output_type": "stream",
     "text": [
      "         aha anagrams        rt       tpe\n",
      "0   3.000000      TEH  0.080054 -0.024498\n",
      "1   2.785714      CTA  0.136800 -0.076086\n",
      "2   4.133333     BLEL  0.095783  0.270883\n",
      "3   3.000000     SROT  0.505400  0.438350\n",
      "4   3.823529     WROD  0.101250  0.469338\n",
      "5   3.714286     PITN  0.138145  0.261855\n",
      "6   4.333333     SONW  0.096667  0.011667\n",
      "7   4.444444    VLVOO  0.239796  1.437981\n",
      "8   4.000000    PONHE  0.115450  0.397050\n",
      "9   3.666667    PREOK  0.483506  1.133161\n",
      "10  4.375000  YJAKWLA  0.567858  1.025892\n",
      "11  5.111111  KHAOMCM  0.618943  1.253280\n",
      "12  4.375000  IORCNAG  0.673902  0.838598\n",
      "13  4.000000  DALRBEU  0.596650  1.128350\n",
      "14  4.500000  HNATUYG  1.288608  0.861392\n",
      "[[ 1.          0.62690729]\n",
      " [ 0.62690729  1.        ]]\n",
      "[[ 1.          0.41394432]\n",
      " [ 0.41394432  1.        ]]\n",
      "[[ 1.          0.60676514]\n",
      " [ 0.60676514  1.        ]]\n",
      "[[ 1.          0.92805034]\n",
      " [ 0.92805034  1.        ]]\n"
     ]
    },
    {
     "data": {
      "image/png": "[encoded data removed]",
      "text/plain": [
       "<Figure size 360x360 with 1 Axes>"
      ]
     },
     "metadata": {},
     "output_type": "display_data"
    },
    {
     "data": {
      "image/png": "[encoded data removed]",
      "text/plain": [
       "<Figure size 360x360 with 1 Axes>"
      ]
     },
     "metadata": {},
     "output_type": "display_data"
    }
   ],
   "source": [
    "import seaborn as sns\n",
    "import pandas as pd\n",
    "sns.set(style=\"white\", font_scale=1.25)\n",
    "\n",
    "df = pd.DataFrame({'anagrams': ['TEH', 'CTA', 'BLEL', 'SROT', 'WROD', 'PITN', 'SONW', 'VLVOO', 'PONHE', 'PREOK', 'YJAKWLA', 'KHAOMCM', 'IORCNAG', 'DALRBEU', 'HNATUYG'],\n",
    "    'tpe': mean_tpe,\n",
    "    'aha': mean_aha,\n",
    "     'rt':  mean_rt})\n",
    "print(df)\n",
    "sns.lmplot('aha', 'tpe', data=df, fit_reg=False)\n",
    "sns.lmplot('aha', 'rt', data=df, fit_reg=False)\n",
    "\n",
    "print(np.corrcoef(mean_tpe, mean_aha))\n",
    "print(np.corrcoef(mean_rt, mean_aha))\n",
    "print(np.corrcoef(mean_time_guess, mean_aha))\n",
    "print(np.corrcoef(mean_time_guess, mean_tpe))"
   ]
  },
  {
   "cell_type": "code",
   "execution_count": 23,
   "metadata": {},
   "outputs": [
    {
     "name": "stdout",
     "output_type": "stream",
     "text": [
      "{\"q0\":\"rots\"}\n",
      "sort\n"
     ]
    }
   ],
   "source": []
  },
  {
   "cell_type": "code",
   "execution_count": null,
   "metadata": {},
   "outputs": [],
   "source": []
  },
  {
   "cell_type": "code",
   "execution_count": null,
   "metadata": {},
   "outputs": [],
   "source": []
  },
  {
   "cell_type": "code",
   "execution_count": null,
   "metadata": {},
   "outputs": [],
   "source": []
  },
  {
   "cell_type": "code",
   "execution_count": null,
   "metadata": {},
   "outputs": [],
   "source": []
  },
  {
   "cell_type": "code",
   "execution_count": null,
   "metadata": {
    "collapsed": true
   },
   "outputs": [],
   "source": []
  }
 ],
 "metadata": {
  "kernelspec": {
   "display_name": "Python 3",
   "language": "python",
   "name": "python3"
  },
  "language_info": {
   "codemirror_mode": {
    "name": "ipython",
    "version": 3
   },
   "file_extension": ".py",
   "mimetype": "text/x-python",
   "name": "python",
   "nbconvert_exporter": "python",
   "pygments_lexer": "ipython3",
   "version": "3.5.3"
  }
 },
 "nbformat": 4,
 "nbformat_minor": 2
}
