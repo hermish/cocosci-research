{
 "cells": [
  {
   "cell_type": "code",
   "execution_count": 29,
   "metadata": {},
   "outputs": [],
   "source": [
    "%matplotlib inline\n",
    "\n",
    "import matplotlib\n",
    "import numpy as np\n",
    "import matplotlib.pyplot as plt\n",
    "\n",
    "import json\n",
    "import numpy as np\n",
    "import seaborn as sns\n",
    "import matplotlib.pyplot as plt\n",
    "from scipy import stats\n",
    "import pandas as pd\n",
    "import scipy\n",
    "from scipy.stats import ttest_ind, ttest_ind_from_stats\n",
    "from scipy.special import stdtr"
   ]
  },
  {
   "cell_type": "code",
   "execution_count": 35,
   "metadata": {},
   "outputs": [
    {
     "data": {
      "text/plain": [
       "72"
      ]
     },
     "execution_count": 35,
     "metadata": {},
     "output_type": "execute_result"
    }
   ],
   "source": [
    "FILE_PATH = 'data/pilot3.json'\n",
    "all_entries = []\n",
    "with open(FILE_PATH) as file:\n",
    "    for line in file:\n",
    "        entry = json.loads(line)\n",
    "        all_entries.append(entry)\n",
    "len(all_entries)"
   ]
  },
  {
   "cell_type": "code",
   "execution_count": 36,
   "metadata": {},
   "outputs": [],
   "source": [
    "#hint, none conditions\n",
    "hint_start, none_start = [], []\n",
    "hint_finish, none_finish = [], []\n",
    "\n",
    "for entry in all_entries:  \n",
    "    if isinstance(entry['data'], dict):\n",
    "        condition = entry['data']['conditionNumber']\n",
    "        #starts[condition].append(entry)\n",
    "    else:\n",
    "        condition = entry['data'][0]['conditionNumber']          \n",
    "        if condition == 'hint':\n",
    "            hint_finish.append(entry)\n",
    "        else:\n",
    "            none_finish.append(entry)\n"
   ]
  },
  {
   "cell_type": "code",
   "execution_count": 37,
   "metadata": {
    "scrolled": true
   },
   "outputs": [
    {
     "name": "stdout",
     "output_type": "stream",
     "text": [
      "[9, 4, 9, 8, 9, 7, 9, 8, 9, 9, 9, 9, 0, 9, 9, 9, 9, 5, 9]\n",
      "[[7, 7, 0, 1, 3, 6, 0, 6, 1, 4, 2, 6, 9, 2, 0, 0, 0, 0, 0], [7, 8, 0, 1, 2, 6, 1, 3, 1, 4, 1, 6, 1, 2, 0, 0, 1, 0, 9], [5, 9, 0, 1, 2, 5, 1, 1, 1, 3, 1, 3, 0, 1, 0, 0, 0, 0, 9], [9, 9, 9, 9, 9, 9, 9, 9, 9, 9, 9, 9, 9, 9, 9, 9, 9, 9, 9]]\n",
      "[9, 0, 9, 9, 9, 7, 9, 8, 9, 9, 9, 1, 0, 9, 9, 9]\n",
      "[[1, 3, 1, 1, 2, 1, 0, 2, 7, 0, 1, 0, 8, 0, 1, 4], [1, 7, 1, 2, 2, 1, 0, 1, 6, 0, 2, 2, 9, 0, 1, 3], [1, 9, 1, 1, 1, 1, 0, 1, 5, 0, 4, 1, 9, 0, 0, 6], [9, 9, 8, 9, 9, 6, 9, 9, 9, 9, 9, 4, 9, 9, 9, 9]]\n"
     ]
    }
   ],
   "source": [
    "#calculate aha and warm ratings\n",
    "\n",
    "hint_aha = [] #final ratings for the last anagram\n",
    "hint_warm = [[] for i in range(4)]\n",
    "for entry in hint_finish:\n",
    "    entry_data = entry['data']    \n",
    "    for i in range(4): #warm ratings here 6, 9, 12, 15\n",
    "            r = entry_data[3*(i+2)]['responses'] #get people's warm rating here\n",
    "            hint_warm[i].append(int(r[6]))\n",
    "    r = entry_data[17]['responses'] #get people's aha rating here\n",
    "    hint_aha.append(int(r[6]))\n",
    "\n",
    "none_aha = [] #final ratings for the last anagram\n",
    "none_warm = [[] for i in range(4)]\n",
    "for entry in none_finish:\n",
    "    entry_data = entry['data']\n",
    "    for i in range(4): #warm ratings here 6, 9, 12, 15\n",
    "            r = entry_data[3*(i+2)]['responses'] #get people's warm rating here\n",
    "            none_warm[i].append(int(r[6]))\n",
    "    r = entry_data[17]['responses'] #get people's aha rating here\n",
    "    none_aha.append(int(r[6])) \n",
    "\n",
    "print(hint_aha)\n",
    "print(hint_warm)\n",
    "print(none_aha)\n",
    "print(none_warm)"
   ]
  },
  {
   "cell_type": "code",
   "execution_count": 38,
   "metadata": {},
   "outputs": [
    {
     "name": "stdout",
     "output_type": "stream",
     "text": [
      "[1, 18]\n",
      "[1, 12]\n",
      "[9, 9, 8, 9, 7, 9, 8, 9, 9, 9, 9, 0, 9, 9, 9, 9, 5]\n",
      "[9, 9, 9, 9, 7, 9, 8, 9, 9, 9, 1, 9, 9, 9]\n"
     ]
    }
   ],
   "source": [
    "#remove potentially bad subjects\n",
    "\n",
    "hint_idx = []\n",
    "for k in range(3):\n",
    "    indices = [i for i, x in enumerate(hint_warm[k]) if x == 9]\n",
    "    hint_idx.append(indices)\n",
    "    #print(hint_warm[i].index(9))\n",
    "    #print(hint_warm[i])\n",
    "\n",
    "none_idx = []\n",
    "for k in range(3):\n",
    "    indices = [i for i, x in enumerate(none_warm[k]) if x == 9]\n",
    "    none_idx.append(indices)\n",
    "    #print(hint_warm[i].index(9))\n",
    "    #print(hint_warm[i])\n",
    "print(hint_idx[2])\n",
    "print(none_idx[2])    \n",
    "hint_aha = [i for j, i in enumerate(hint_aha) if j not in hint_idx[2]]\n",
    "print(hint_aha)\n",
    "\n",
    "none_aha = [i for j, i in enumerate(none_aha) if j not in none_idx[2]]\n",
    "print(none_aha)"
   ]
  },
  {
   "cell_type": "code",
   "execution_count": 39,
   "metadata": {},
   "outputs": [
    {
     "data": {
      "image/png": "[encoded data removed]",
      "text/plain": [
       "<Figure size 432x288 with 1 Axes>"
      ]
     },
     "metadata": {
      "needs_background": "light"
     },
     "output_type": "display_data"
    }
   ],
   "source": [
    "hint_aha_mean = np.mean(hint_aha)\n",
    "hint_aha_error = stats.sem(hint_aha)\n",
    "none_aha_mean = np.mean(none_aha)\n",
    "none_aha_error = stats.sem(none_aha)\n",
    "\n",
    "plt.bar(\n",
    "    np.arange(2),\n",
    "    [hint_aha_mean, none_aha_mean],\n",
    "    yerr=[hint_aha_error, none_aha_error]\n",
    ")\n",
    "\n",
    "plt.show()\n"
   ]
  },
  {
   "cell_type": "code",
   "execution_count": 102,
   "metadata": {},
   "outputs": [
    {
     "name": "stdout",
     "output_type": "stream",
     "text": [
      "HINT\n",
      "2.12903225806\n",
      "2.67741935484\n",
      "3.1935483871\n",
      "4.03225806452\n",
      "3.96774193548\n",
      "9.0\n",
      "NONE\n",
      "1.63157894737\n",
      "1.68421052632\n",
      "2.42105263158\n",
      "2.47368421053\n",
      "2.68421052632\n",
      "8.57894736842\n"
     ]
    }
   ],
   "source": [
    "print('HINT')\n",
    "for i in range(6):\n",
    "    print(np.mean(hint_warm[i])) \n",
    "    \n",
    "print('NONE')\n",
    "for i in range(6):\n",
    "    print(np.mean(none_warm[i])) "
   ]
  },
  {
   "cell_type": "code",
   "execution_count": null,
   "metadata": {},
   "outputs": [],
   "source": []
  },
  {
   "cell_type": "code",
   "execution_count": null,
   "metadata": {},
   "outputs": [],
   "source": []
  },
  {
   "cell_type": "code",
   "execution_count": null,
   "metadata": {},
   "outputs": [],
   "source": []
  },
  {
   "cell_type": "code",
   "execution_count": null,
   "metadata": {},
   "outputs": [],
   "source": []
  },
  {
   "cell_type": "code",
   "execution_count": null,
   "metadata": {},
   "outputs": [],
   "source": []
  },
  {
   "cell_type": "code",
   "execution_count": null,
   "metadata": {
    "collapsed": true
   },
   "outputs": [],
   "source": []
  }
 ],
 "metadata": {
  "kernelspec": {
   "display_name": "Python 3",
   "language": "python",
   "name": "python3"
  },
  "language_info": {
   "codemirror_mode": {
    "name": "ipython",
    "version": 3
   },
   "file_extension": ".py",
   "mimetype": "text/x-python",
   "name": "python",
   "nbconvert_exporter": "python",
   "pygments_lexer": "ipython3",
   "version": "3.5.3"
  }
 },
 "nbformat": 4,
 "nbformat_minor": 2
}
