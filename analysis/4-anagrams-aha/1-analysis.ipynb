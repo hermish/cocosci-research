{
 "cells": [
  {
   "cell_type": "code",
   "execution_count": 1,
   "metadata": {},
   "outputs": [],
   "source": [
    "%matplotlib inline\n",
    "\n",
    "import matplotlib\n",
    "import numpy as np\n",
    "import matplotlib.pyplot as plt\n",
    "\n",
    "import json\n",
    "import numpy as np\n",
    "import seaborn as sns\n",
    "import matplotlib.pyplot as plt\n",
    "from scipy import stats\n",
    "import pandas as pd\n",
    "import scipy\n",
    "from scipy.stats import ttest_ind, ttest_ind_from_stats\n",
    "from scipy.special import stdtr"
   ]
  },
  {
   "cell_type": "code",
   "execution_count": 2,
   "metadata": {},
   "outputs": [
    {
     "data": {
      "text/plain": [
       "86"
      ]
     },
     "execution_count": 2,
     "metadata": {},
     "output_type": "execute_result"
    }
   ],
   "source": [
    "FILE_PATH = 'data/pilot.json'\n",
    "all_entries = []\n",
    "with open(FILE_PATH) as file:\n",
    "    for line in file:\n",
    "        entry = json.loads(line)\n",
    "        all_entries.append(entry)\n",
    "len(all_entries)"
   ]
  },
  {
   "cell_type": "code",
   "execution_count": 3,
   "metadata": {},
   "outputs": [],
   "source": [
    "#sequential, instant conditions\n",
    "seq_start, ins_start = [], []\n",
    "seq_finish, ins_finish = [], []\n",
    "\n",
    "for entry in all_entries:  \n",
    "    if isinstance(entry['data'], dict):\n",
    "        condition = entry['data']['conditionNumber']\n",
    "        #starts[condition].append(entry)\n",
    "    else:\n",
    "        condition = entry['data'][0]['conditionNumber']          \n",
    "        if condition == 'sequential':\n",
    "            seq_finish.append(entry)\n",
    "        else:\n",
    "            ins_finish.append(entry)\n"
   ]
  },
  {
   "cell_type": "code",
   "execution_count": 10,
   "metadata": {
    "scrolled": true
   },
   "outputs": [
    {
     "name": "stdout",
     "output_type": "stream",
     "text": [
      "[9, 1, 9, 9, 9, 9, 9, 9, 5, 9, 9, 9, 9, 9, 9, 9, 9, 9]\n",
      "[9, 1, 9, 0, 0, 2, 9, 0, 0, 0, 9, 3, 7, 1, 2, 9, 6, 2]\n",
      "[8, 9, 9, 7, 9, 9, 9, 9, 9, 0, 9, 9, 9, 9, 9, 6, 9, 9, 9, 9, 1, 9, 8, 9]\n",
      "[1, 0, 9, 1, 1, 1, 9, 0, 9, 0, 1, 4, 0, 9, 0, 1, 2, 1, 0, 4, 0, 0, 2, 1]\n"
     ]
    }
   ],
   "source": [
    "#calculate aha and warm ratings\n",
    "\n",
    "seq_aha = [] #final ratings for the last anagram\n",
    "seq_warm = [[] for i in range(7)]\n",
    "for entry in seq_finish:\n",
    "    entry_data = entry['data']\n",
    "    for i in range(7): #warm ratings here 4,6,8, 10, 12, 14, 16\n",
    "            r = entry_data[2*(i+2)]['responses'] #get people's aha rating here\n",
    "            seq_warm[i].append(int(r[6]))\n",
    "    r = entry_data[17]['responses'] #get people's aha rating here\n",
    "    seq_aha.append(int(r[6]))\n",
    "\n",
    "ins_aha = []\n",
    "ins_warm = [[] for i in range(7)]\n",
    "for entry in ins_finish:\n",
    "    entry_data = entry['data']\n",
    "    for i in range(7): #warm ratings here 4,6,8, 10, 12, 14, 16\n",
    "            r = entry_data[2*(i+2)]['responses'] #get people's aha rating here\n",
    "            ins_warm[i].append(int(r[6]))\n",
    "    r = entry_data[17]['responses'] #get people's aha rating here    \n",
    "    ins_aha.append(int(r[6]))\n",
    "\n",
    "a = np.asarray(seq_warm[6])-np.asarray(seq_warm[5])\n",
    "b = seq_aha\n",
    "c = np.asarray(ins_warm[6])-np.asarray(ins_warm[5])\n",
    "d = ins_aha\n",
    "#print(b)\n",
    "#print(d)\n",
    "print(seq_warm[6])\n",
    "print(seq_warm[4])\n",
    "print(ins_warm[6])\n",
    "print(ins_warm[5])\n",
    "#np.corrcoef(a,b)\n",
    "#np.corrcoef(c,d)\n",
    "#print(np.asarray(ins_warm[6])-np.asarray(ins_warm[5]))\n",
    "#print(ins_aha)"
   ]
  },
  {
   "cell_type": "code",
   "execution_count": 6,
   "metadata": {},
   "outputs": [
    {
     "data": {
      "image/png": "[encoded data removed]",
      "text/plain": [
       "<Figure size 432x288 with 1 Axes>"
      ]
     },
     "metadata": {
      "needs_background": "light"
     },
     "output_type": "display_data"
    }
   ],
   "source": [
    "seq_aha_mean = np.mean(seq_aha)\n",
    "seq_aha_error = stats.sem(seq_aha)\n",
    "ins_aha_mean = np.mean(ins_aha)\n",
    "ins_aha_error = stats.sem(ins_aha)\n",
    "\n",
    "plt.bar(\n",
    "    np.arange(2),\n",
    "    [seq_aha_mean, ins_aha_mean],\n",
    "    yerr=[seq_aha_error, ins_aha_error]\n",
    ")\n",
    "\n",
    "plt.show()\n"
   ]
  },
  {
   "cell_type": "code",
   "execution_count": 7,
   "metadata": {},
   "outputs": [
    {
     "name": "stdout",
     "output_type": "stream",
     "text": [
      "SEQUENTIAL\n",
      "1.33333333333\n",
      "1.38888888889\n",
      "1.94444444444\n",
      "3.38888888889\n",
      "3.83333333333\n",
      "4.72222222222\n",
      "8.33333333333\n",
      "INSTANT\n",
      "1.45833333333\n",
      "1.58333333333\n",
      "1.83333333333\n",
      "2.04166666667\n",
      "2.79166666667\n",
      "2.33333333333\n",
      "8.0\n"
     ]
    }
   ],
   "source": [
    "print('SEQUENTIAL')\n",
    "for i in range(7):\n",
    "    print(np.mean(seq_warm[i])) \n",
    "    \n",
    "print('INSTANT')\n",
    "for i in range(7):\n",
    "    print(np.mean(ins_warm[i])) "
   ]
  },
  {
   "cell_type": "code",
   "execution_count": 23,
   "metadata": {},
   "outputs": [
    {
     "name": "stdout",
     "output_type": "stream",
     "text": [
      "{\"q0\":\"rots\"}\n",
      "sort\n"
     ]
    }
   ],
   "source": []
  },
  {
   "cell_type": "code",
   "execution_count": null,
   "metadata": {},
   "outputs": [],
   "source": []
  },
  {
   "cell_type": "code",
   "execution_count": null,
   "metadata": {},
   "outputs": [],
   "source": []
  },
  {
   "cell_type": "code",
   "execution_count": null,
   "metadata": {},
   "outputs": [],
   "source": []
  },
  {
   "cell_type": "code",
   "execution_count": null,
   "metadata": {},
   "outputs": [],
   "source": []
  },
  {
   "cell_type": "code",
   "execution_count": null,
   "metadata": {
    "collapsed": true
   },
   "outputs": [],
   "source": []
  }
 ],
 "metadata": {
  "kernelspec": {
   "display_name": "Python 3",
   "language": "python",
   "name": "python3"
  },
  "language_info": {
   "codemirror_mode": {
    "name": "ipython",
    "version": 3
   },
   "file_extension": ".py",
   "mimetype": "text/x-python",
   "name": "python",
   "nbconvert_exporter": "python",
   "pygments_lexer": "ipython3",
   "version": "3.5.3"
  }
 },
 "nbformat": 4,
 "nbformat_minor": 2
}
