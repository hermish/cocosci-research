{
 "cells": [
  {
   "cell_type": "code",
   "execution_count": 1,
   "metadata": {},
   "outputs": [],
   "source": [
    "%matplotlib inline\n",
    "\n",
    "import matplotlib\n",
    "import numpy as np\n",
    "import matplotlib.pyplot as plt\n",
    "\n",
    "import json\n",
    "import numpy as np\n",
    "import seaborn as sns\n",
    "import matplotlib.pyplot as plt\n",
    "from scipy import stats\n",
    "import pandas as pd\n",
    "import scipy\n",
    "from scipy.stats import ttest_ind, ttest_ind_from_stats\n",
    "from scipy.special import stdtr"
   ]
  },
  {
   "cell_type": "code",
   "execution_count": 2,
   "metadata": {},
   "outputs": [
    {
     "data": {
      "text/plain": [
       "186"
      ]
     },
     "execution_count": 2,
     "metadata": {},
     "output_type": "execute_result"
    }
   ],
   "source": [
    "FILE_PATH = 'data/pilot6.json'\n",
    "all_entries = []\n",
    "with open(FILE_PATH) as file:\n",
    "    for line in file:\n",
    "        entry = json.loads(line)\n",
    "        all_entries.append(entry)\n",
    "len(all_entries)"
   ]
  },
  {
   "cell_type": "code",
   "execution_count": 3,
   "metadata": {},
   "outputs": [
    {
     "name": "stdout",
     "output_type": "stream",
     "text": [
      "50 41\n"
     ]
    }
   ],
   "source": [
    "#expected, unexpected conditions\n",
    "exp_start, unexp_start = [], []\n",
    "exp_finish, unexp_finish = [], []\n",
    "\n",
    "for entry in all_entries:  \n",
    "    if isinstance(entry['data'], dict):\n",
    "        condition = entry['data']['conditionNumber']\n",
    "        #starts[condition].append(entry)\n",
    "    else:\n",
    "        condition = entry['data'][0]['conditionNumber']   \n",
    "        if condition == 'expected':\n",
    "            exp_finish.append(entry)\n",
    "        else:\n",
    "            unexp_finish.append(entry)\n",
    "print(len(exp_finish), len(unexp_finish))"
   ]
  },
  {
   "cell_type": "code",
   "execution_count": 4,
   "metadata": {
    "scrolled": true
   },
   "outputs": [
    {
     "name": "stdout",
     "output_type": "stream",
     "text": [
      "[[1, 0, 1, 0, 1, 2, 1, 0, 0, 0, 0, 3, 1, 0, 0, 0, 0, 1, 0, 0, 9, 0, 1, 2, 0, 0, 2, 5, 1, 6, 0, 0, 3, 1, 9, 1, 0, 0, 1, 3, 0, 0, 1, 3, 0, 2, 0, 2, 0, 0], [9, 9, 1, 0, 1, 0, 1, 0, 0, 0, 0, 2, 0, 0, 0, 0, 0, 2, 0, 0, 9, 0, 1, 2, 0, 0, 2, 4, 1, 9, 0, 0, 3, 1, 9, 1, 0, 1, 6, 9, 0, 0, 2, 4, 0, 2, 0, 2, 0, 2], [9, 9, 0, 0, 1, 0, 9, 9, 0, 0, 1, 1, 0, 0, 9, 0, 0, 2, 0, 0, 9, 0, 1, 3, 9, 0, 2, 4, 8, 9, 9, 1, 4, 1, 9, 1, 0, 2, 9, 9, 0, 0, 1, 6, 0, 2, 0, 2, 0, 0], [9, 9, 0, 1, 0, 0, 9, 9, 0, 0, 1, 9, 0, 9, 9, 0, 0, 2, 0, 0, 9, 0, 1, 2, 9, 0, 2, 4, 6, 9, 9, 0, 4, 1, 9, 1, 0, 1, 9, 9, 1, 1, 3, 8, 1, 2, 0, 2, 0, 1], [9, 9, 0, 0, 0, 0, 9, 9, 0, 0, 1, 9, 0, 9, 9, 0, 0, 2, 0, 0, 9, 0, 1, 2, 9, 0, 1, 4, 9, 9, 9, 0, 4, 1, 9, 2, 0, 1, 9, 9, 1, 1, 3, 9, 1, 2, 0, 3, 0, 0], [9, 9, 2, 1, 1, 0, 9, 9, 0, 0, 1, 9, 0, 9, 9, 0, 0, 5, 0, 0, 9, 0, 1, 2, 9, 9, 3, 4, 7, 9, 9, 0, 5, 2, 9, 2, 0, 1, 9, 9, 2, 0, 3, 9, 1, 2, 1, 3, 0, 8], [9, 9, 1, 0, 0, 0, 9, 9, 0, 0, 1, 9, 0, 9, 9, 0, 0, 9, 0, 0, 9, 0, 1, 2, 9, 9, 1, 4, 6, 9, 9, 0, 5, 1, 9, 2, 0, 0, 9, 9, 2, 0, 2, 9, 1, 2, 0, 3, 0, 9], [9, 9, 9, 9, 9, 9, 9, 9, 9, 9, 9, 9, 9, 9, 9, 9, 9, 9, 9, 9, 9, 9, 9, 9, 9, 9, 9, 4, 9, 9, 9, 0, 9, 9, 9, 9, 9, 9, 9, 9, 9, 9, 9, 9, 9, 9, 9, 9, 9, 9]]\n",
      "[0, 3, 6, 2, 6, 6, 6, 0, 6, 6, 4, 6, 5, 6, 0, 6, 6, 0, 6, 6, 6, 3, 6, 6, 0, 6, 6, 6, 6, 0, 0, 0, 5, 4, 0, 6, 6, 6, 0, 0, 5, 6, 6, 1, 6, 5, 5, 6, 6, 6]\n",
      "[[9, 0, 0, 0, 0, 0, 1, 0, 0, 9, 0, 0, 1, 6, 0, 0, 9, 1, 0, 0, 9, 0, 0, 0, 0, 1, 1, 0, 0, 0, 0, 9, 0, 9, 0, 0, 0, 9, 1, 0, 0], [9, 0, 0, 0, 0, 1, 1, 1, 0, 9, 0, 0, 1, 9, 0, 0, 9, 9, 0, 0, 9, 9, 0, 0, 1, 1, 2, 0, 0, 0, 0, 9, 9, 9, 0, 0, 0, 9, 1, 0, 0], [9, 9, 9, 9, 4, 9, 2, 2, 9, 9, 9, 9, 9, 0, 9, 0, 9, 9, 8, 0, 9, 9, 9, 0, 1, 9, 2, 0, 9, 9, 9, 9, 9, 9, 0, 0, 9, 9, 9, 7, 9]]\n",
      "[1, 6, 6, 5, 3, 6, 0, 0, 4, 0, 3, 4, 6, 0, 5, 0, 0, 2, 5, 0, 0, 0, 6, 0, 0, 6, 0, 1, 6, 6, 5, 0, 3, 0, 0, 0, 5, 0, 6, 3, 6]\n"
     ]
    }
   ],
   "source": [
    "#calculate aha and warm ratings for expected\n",
    "exp_aha1 = [] #final ratings for the first anagram\n",
    "exp_warm1 = [[] for i in range(8)]\n",
    "exp_quiz = [] #answer to the quiz\n",
    "exp_aha2 = [] #final ratings for the second anagram\n",
    "exp_warm2 = [[] for i in range(8)]\n",
    "\n",
    "for entry in exp_finish:\n",
    "    entry_data = entry['data']        \n",
    "    \n",
    "    r= entry_data[5]['responses']\n",
    "    exp_quiz.append(int(r[7])) #people give quiz on 6  \n",
    "    \n",
    "    for i in range(8): #warm ratings here 7, 10, 13, 16, 19, 22, 25, 28            \n",
    "            r = entry_data[3*(i+2)+1]['responses'] #get people's warm rating here for ORGANIC\n",
    "            exp_warm1[i].append(int(r[6]))\n",
    "         \n",
    "    r = entry_data[30]['responses'] #get people's aha rating here for ORGANIC\n",
    "    exp_aha1.append(int(r[6]))\n",
    "    \n",
    "    for k in range(8): #warm ratings here 33,36,39,42, 45,48, 51, 54\n",
    "            r = entry_data[3*(k+11)]['responses'] #get people's warm rating here for Naughty\n",
    "            exp_warm2[k].append(int(r[6]))\n",
    "    \n",
    "    r = entry_data[-1]['responses'] #get people's aha rating here for NAUGHTY\n",
    "    exp_aha2.append(int(r[6]))\n",
    "\n",
    "#calculate aha and warm ratings for unexpected\n",
    "unexp_aha1 = [] #final ratings for the first anagram\n",
    "unexp_warm1 = [[] for i in range(8)]\n",
    "unexp_quiz = []\n",
    "unexp_aha2 = [] #final ratings for the second anagram\n",
    "unexp_warm2 = [[] for i in range(3)]\n",
    "for entry in unexp_finish:\n",
    "    entry_data = entry['data']    \n",
    "\n",
    "    r= entry_data[5]['responses']\n",
    "    unexp_quiz.append(int(r[7])) #people give quiz on 19 \n",
    "    \n",
    "    for i in range(8): #warm ratings here 6, 9, 12, 15\n",
    "            r = entry_data[3*(i+2)+1]['responses'] #get people's warm rating here for Organic\n",
    "            unexp_warm1[i].append(int(r[6]))\n",
    "         \n",
    "    r = entry_data[30]['responses'] #get people's aha rating here for Naughty\n",
    "    unexp_aha1.append(int(r[6]))\n",
    "       \n",
    "    for k in range(3): #warm ratings here 30, 33, 36, 39\n",
    "            r = entry_data[3*(k+11)]['responses'] #get people's warm rating here for PHONE\n",
    "            unexp_warm2[k].append(int(r[6]))\n",
    "    \n",
    "    r = entry_data[-1]['responses'] #get people's aha rating here for NAUGHTY\n",
    "    unexp_aha2.append(int(r[6]))\n",
    "    \n",
    "#print(exp_warm2)\n",
    "print(exp_warm1)\n",
    "print(exp_aha1)\n",
    "print(unexp_warm2)\n",
    "print(unexp_aha2)\n",
    "#print(unexp_warm2)"
   ]
  },
  {
   "cell_type": "code",
   "execution_count": 5,
   "metadata": {},
   "outputs": [
    {
     "name": "stdout",
     "output_type": "stream",
     "text": [
      "[0, 0, 6, 1, 0, 0, 0, 5, 0, 6, 5, 1, 3, 0, 5, 3, 6, 0, 0, 0, 6, 0, 1, 0, 0, 6, 1, 6, 1, 0, 0, 6, 3, 1, 0, 1, 0, 0, 0, 0, 0, 0, 6, 3, 0, 0, 6, 6, 0, 6]\n",
      "37\n",
      "[1, 5, 6, 1, 3, 5, 3, 6, 6, 1, 6, 3, 6]\n",
      "[1, 6, 6, 5, 3, 6, 0, 0, 4, 0, 3, 4, 6, 0, 5, 0, 0, 2, 5, 0, 0, 0, 6, 0, 0, 6, 0, 1, 6, 6, 5, 0, 3, 0, 0, 0, 5, 0, 6, 3, 6]\n",
      "23\n",
      "[6, 6, 5, 6, 4, 3, 4, 6, 5, 5, 6, 6, 6, 6, 5, 5, 6, 6]\n"
     ]
    }
   ],
   "source": [
    "#remove bad subjects\n",
    "import itertools\n",
    "\n",
    "exp_idx = []\n",
    "\n",
    "for k in range(7):\n",
    "    indices = [i for i, x in enumerate(exp_warm2[k]) if x == 9] #if gotten answer before already\n",
    "    exp_idx.append(indices)\n",
    "\n",
    "indices = [i for i, x in enumerate(exp_warm2[7]) if x < 5] #if not got the answer at the last round\n",
    "exp_idx.append(indices)\n",
    "\n",
    "indices = [i for i, x in enumerate(exp_quiz) if x != 7] #if not got the correct quiz answer\n",
    "exp_idx.append(indices)\n",
    "\n",
    "exp_idx = list(itertools.chain.from_iterable(exp_idx))\n",
    "exp_idx = list(sorted(set(exp_idx))) #get unique values\n",
    "\n",
    "unexp_idx = []\n",
    "for k in range(2):\n",
    "    indices = [i for i, x in enumerate(unexp_warm2[k]) if x == 9] #if gotten answer before already\n",
    "    unexp_idx.append(indices)\n",
    "\n",
    "indices = [i for i, x in enumerate(unexp_warm2[2]) if x < 5] #if not got the answer at the last round\n",
    "unexp_idx.append(indices)\n",
    "\n",
    "indices = [i for i, x in enumerate(unexp_quiz) if x != 7] #if not got the correct quiz answer\n",
    "unexp_idx.append(indices)\n",
    "\n",
    "unexp_idx = list(itertools.chain.from_iterable(unexp_idx)) #flatten the list\n",
    "unexp_idx = list(sorted(set(unexp_idx))) #get unique values\n",
    "\n",
    "print(exp_aha2)\n",
    "exp_aha2 = [i for j, i in enumerate(exp_aha2) if j not in exp_idx]\n",
    "print(len(exp_idx))\n",
    "print(exp_aha2)\n",
    "\n",
    "print(unexp_aha2)\n",
    "unexp_aha2 = [i for j, i in enumerate(unexp_aha2) if j not in unexp_idx]\n",
    "print(len(unexp_idx))\n",
    "print(unexp_aha2)\n"
   ]
  },
  {
   "cell_type": "code",
   "execution_count": 19,
   "metadata": {},
   "outputs": [
    {
     "name": "stdout",
     "output_type": "stream",
     "text": [
      "-2.1655611680148383 0.04651529849910848\n"
     ]
    },
    {
     "data": {
      "image/png": "[encoded data removed]",
      "text/plain": [
       "<Figure size 360x360 with 1 Axes>"
      ]
     },
     "metadata": {},
     "output_type": "display_data"
    }
   ],
   "source": [
    "import seaborn as sns\n",
    "sns.set(style=\"white\", font_scale=1.5, rc={'figure.figsize':(5,5)})\n",
    "\n",
    "exp_aha2_mean = np.mean(exp_aha2)\n",
    "exp_aha2_error = stats.sem(exp_aha2)\n",
    "unexp_aha2_mean = np.mean(unexp_aha2)\n",
    "unexp_aha2_error = stats.sem(unexp_aha2)\n",
    "\n",
    "sns.barplot(\n",
    "    np.arange(2),\n",
    "    [exp_aha2_mean, unexp_aha2_mean],\n",
    "    yerr=[exp_aha2_error, unexp_aha2_error],palette=\"Paired\", \n",
    "    errcolor=\".2\", edgecolor=\".2\",linewidth=2.5, error_kw=dict(ecolor='k', lw=2.5, capsize=5, capthick=2)\n",
    ")\n",
    "\n",
    "\n",
    "t, p = ttest_ind(exp_aha2, unexp_aha2, equal_var=False)\n",
    "print(t,p)\n",
    "\n",
    "#plt.show()"
   ]
  },
  {
   "cell_type": "code",
   "execution_count": 7,
   "metadata": {},
   "outputs": [
    {
     "name": "stdout",
     "output_type": "stream",
     "text": [
      "[0, 3, 6, 2, 6, 6, 6, 0, 6, 6, 4, 6, 5, 6, 0, 6, 6, 0, 6, 6, 6, 3, 6, 6, 0, 6, 6, 6, 6, 0, 0, 0, 5, 4, 0, 6, 6, 6, 0, 0, 5, 6, 6, 1, 6, 5, 5, 6, 6, 6]\n",
      "21\n",
      "[6, 2, 6, 6, 6, 6, 4, 5, 6, 6, 6, 6, 3, 6, 6, 6, 5, 4, 6, 6, 6, 5, 6, 6, 6, 5, 5, 6, 6]\n",
      "[1, 0, 3, 5, 5, 6, 6, 0, 6, 0, 2, 6, 6, 4, 6, 6, 0, 6, 6, 0, 0, 0, 0, 3, 6, 6, 5, 6, 6, 6, 6, 0, 0, 0, 6, 6, 6, 6, 6, 6, 6]\n",
      "20\n",
      "[5, 5, 6, 6, 2, 6, 6, 4, 6, 6, 6, 3, 6, 6, 6, 6, 6, 6, 6, 6, 6]\n"
     ]
    }
   ],
   "source": [
    "#remove bad subjects\n",
    "import itertools\n",
    "\n",
    "exp_idx = []\n",
    "\n",
    "for k in range(7):\n",
    "    indices = [i for i, x in enumerate(exp_warm1[k]) if x == 9] #if gotten answer before already\n",
    "    exp_idx.append(indices)\n",
    "\n",
    "indices = [i for i, x in enumerate(exp_warm1[7]) if x < 6] #if not got the answer at the last round\n",
    "exp_idx.append(indices)\n",
    "\n",
    "indices = [i for i, x in enumerate(exp_quiz) if x != 7] #if not got the correct quiz answer\n",
    "exp_idx.append(indices)\n",
    "\n",
    "exp_idx = list(itertools.chain.from_iterable(exp_idx))\n",
    "exp_idx = list(sorted(set(exp_idx))) #get unique values\n",
    "\n",
    "unexp_idx = []\n",
    "for k in range(7):\n",
    "    indices = [i for i, x in enumerate(unexp_warm1[k]) if x == 9] #if gotten answer before already\n",
    "    unexp_idx.append(indices)\n",
    "\n",
    "indices = [i for i, x in enumerate(unexp_warm1[7]) if x < 6] #if not got the answer at the last round\n",
    "unexp_idx.append(indices)\n",
    "\n",
    "indices = [i for i, x in enumerate(unexp_quiz) if x != 7] #if not got the correct quiz answer\n",
    "unexp_idx.append(indices)\n",
    "\n",
    "unexp_idx = list(itertools.chain.from_iterable(unexp_idx)) #flatten the list\n",
    "unexp_idx = list(sorted(set(unexp_idx))) #get unique values\n",
    "\n",
    "print(exp_aha1)\n",
    "exp_aha1 = [i for j, i in enumerate(exp_aha1) if j not in exp_idx]\n",
    "print(len(exp_idx))\n",
    "print(exp_aha1)\n",
    "\n",
    "print(unexp_aha1)\n",
    "unexp_aha1 = [i for j, i in enumerate(unexp_aha1) if j not in unexp_idx]\n",
    "print(len(unexp_idx))\n",
    "print(unexp_aha1)"
   ]
  },
  {
   "cell_type": "code",
   "execution_count": 20,
   "metadata": {},
   "outputs": [
    {
     "data": {
      "image/png": "[encoded data removed]",
      "text/plain": [
       "<Figure size 360x360 with 1 Axes>"
      ]
     },
     "metadata": {},
     "output_type": "display_data"
    }
   ],
   "source": [
    "import seaborn as sns\n",
    "sns.set(style=\"white\", font_scale=1.5, rc={'figure.figsize':(5,5)})\n",
    "\n",
    "exp_aha1_mean = np.mean(exp_aha1)\n",
    "exp_aha1_error = stats.sem(exp_aha1)\n",
    "unexp_aha1_mean = np.mean(unexp_aha1)\n",
    "unexp_aha1_error = stats.sem(unexp_aha1)\n",
    "\n",
    "sns.barplot(\n",
    "    np.arange(2),\n",
    "    [exp_aha1_mean, unexp_aha1_mean],\n",
    "    yerr=[exp_aha1_error, unexp_aha1_error],palette=\"Paired\", \n",
    "    errcolor=\".2\", edgecolor=\".2\",linewidth=2.5, error_kw=dict(ecolor='k', lw=2.5, capsize=5, capthick=2)\n",
    ")\n",
    "\n",
    "plt.show()"
   ]
  },
  {
   "cell_type": "code",
   "execution_count": null,
   "metadata": {},
   "outputs": [],
   "source": []
  },
  {
   "cell_type": "code",
   "execution_count": null,
   "metadata": {},
   "outputs": [],
   "source": []
  },
  {
   "cell_type": "code",
   "execution_count": null,
   "metadata": {},
   "outputs": [],
   "source": []
  },
  {
   "cell_type": "code",
   "execution_count": null,
   "metadata": {},
   "outputs": [],
   "source": []
  },
  {
   "cell_type": "code",
   "execution_count": null,
   "metadata": {
    "collapsed": true
   },
   "outputs": [],
   "source": []
  }
 ],
 "metadata": {
  "kernelspec": {
   "display_name": "Python 3",
   "language": "python",
   "name": "python3"
  },
  "language_info": {
   "codemirror_mode": {
    "name": "ipython",
    "version": 3
   },
   "file_extension": ".py",
   "mimetype": "text/x-python",
   "name": "python",
   "nbconvert_exporter": "python",
   "pygments_lexer": "ipython3",
   "version": "3.5.3"
  }
 },
 "nbformat": 4,
 "nbformat_minor": 2
}
