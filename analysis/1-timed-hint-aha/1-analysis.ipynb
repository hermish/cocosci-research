{
 "cells": [
  {
   "cell_type": "code",
   "execution_count": 61,
   "metadata": {},
   "outputs": [],
   "source": [
    "import json\n",
    "import numpy as np\n",
    "import seaborn as sns\n",
    "import matplotlib.pyplot as plt\n",
    "from scipy import stats"
   ]
  },
  {
   "cell_type": "code",
   "execution_count": 62,
   "metadata": {},
   "outputs": [
    {
     "data": {
      "text/plain": [
       "124"
      ]
     },
     "execution_count": 62,
     "metadata": {},
     "output_type": "execute_result"
    }
   ],
   "source": [
    "FILE_PATH = 'data/entries.json'\n",
    "\n",
    "all_entries = []\n",
    "with open(FILE_PATH) as file:\n",
    "    for line in file:\n",
    "        entry = json.loads(line)\n",
    "        all_entries.append(entry)\n",
    "len(all_entries)"
   ]
  },
  {
   "cell_type": "code",
   "execution_count": 63,
   "metadata": {},
   "outputs": [
    {
     "name": "stdout",
     "output_type": "stream",
     "text": [
      "29 34\n",
      "28 33\n"
     ]
    }
   ],
   "source": [
    "control_start, exp_start = [], []\n",
    "control_finish, exp_finish = [], []\n",
    "starts = [control_start, exp_start]\n",
    "finishes = [control_finish, exp_finish]\n",
    "\n",
    "for entry in all_entries:\n",
    "    if isinstance(entry['data'], dict):\n",
    "        condition = entry['data']['conditionNumber']\n",
    "        starts[condition].append(entry)\n",
    "    else:\n",
    "        condition = entry['data'][0]['conditionNumber']\n",
    "        finishes[condition].append(entry)\n",
    "\n",
    "print(len(control_start), len(exp_start))\n",
    "print(len(control_finish), len(exp_finish))"
   ]
  },
  {
   "cell_type": "code",
   "execution_count": 73,
   "metadata": {},
   "outputs": [
    {
     "name": "stdout",
     "output_type": "stream",
     "text": [
      "28 28\n",
      "33 33\n"
     ]
    }
   ],
   "source": [
    "contol_aha, control_pleasant = [], []\n",
    "for entry in control_finish:\n",
    "    entry_data = entry['data']\n",
    "    for question in range(5, 7):\n",
    "        rating = entry_data[question]['response']\n",
    "        if 'Aha' in entry_data[question]['stimulus']:\n",
    "            contol_aha.append(rating)\n",
    "        else:\n",
    "            control_pleasant.append(rating)\n",
    "            \n",
    "exp_aha, exp_pleasant = [], []         \n",
    "for entry in exp_finish:\n",
    "    entry_data = entry['data']\n",
    "    for question in range(6, 8):\n",
    "        rating = entry_data[question]['response']\n",
    "        if 'Aha' in entry_data[question]['stimulus']:\n",
    "            exp_aha.append(rating)\n",
    "        else:\n",
    "            exp_pleasant.append(rating)\n",
    "            \n",
    "def clean(values):\n",
    "    return [int(value) for value in values]\n",
    "            \n",
    "contol_aha = clean(contol_aha)\n",
    "control_pleasant = clean(control_pleasant)\n",
    "exp_aha, exp_pleasant = clean(exp_aha), clean(exp_pleasant)\n",
    "            \n",
    "print(len(contol_aha), len(control_pleasant))\n",
    "print(len(exp_aha), len(exp_pleasant))"
   ]
  },
  {
   "cell_type": "code",
   "execution_count": 74,
   "metadata": {},
   "outputs": [
    {
     "data": {
      "image/png": "[encoded data removed]",
      "text/plain": [
       "<Figure size 432x288 with 1 Axes>"
      ]
     },
     "metadata": {
      "needs_background": "light"
     },
     "output_type": "display_data"
    }
   ],
   "source": [
    "plt.hist(exp_aha)\n",
    "plt.show()"
   ]
  },
  {
   "cell_type": "code",
   "execution_count": 75,
   "metadata": {},
   "outputs": [
    {
     "data": {
      "image/png": "[encoded data removed]",
      "text/plain": [
       "<Figure size 432x288 with 1 Axes>"
      ]
     },
     "metadata": {
      "needs_background": "light"
     },
     "output_type": "display_data"
    }
   ],
   "source": [
    "control_aha_mean = np.mean(contol_aha)\n",
    "control_aha_error = stats.sem(contol_aha)\n",
    "exp_aha_mean = np.mean(exp_aha)\n",
    "exp_aha_error = stats.sem(exp_aha)\n",
    "\n",
    "plt.bar(\n",
    "    np.arange(2),\n",
    "    [control_aha_mean, exp_aha_mean],\n",
    "    yerr=[control_aha_error, exp_aha_error]\n",
    ")\n",
    "plt.show()"
   ]
  },
  {
   "cell_type": "code",
   "execution_count": 76,
   "metadata": {},
   "outputs": [
    {
     "data": {
      "image/png": "[encoded data removed]",
      "text/plain": [
       "<Figure size 432x288 with 1 Axes>"
      ]
     },
     "metadata": {
      "needs_background": "light"
     },
     "output_type": "display_data"
    }
   ],
   "source": [
    "control_pleasant_mean = np.mean(control_pleasant)\n",
    "control_pleasant_error = stats.sem(control_pleasant)\n",
    "exp_pleasant_mean = np.mean(exp_pleasant)\n",
    "exp_pleasant_error = stats.sem(exp_pleasant)\n",
    "\n",
    "plt.bar(\n",
    "    np.arange(2),\n",
    "    [control_aha_mean, exp_aha_mean],\n",
    "    yerr=[control_aha_error, exp_aha_error]\n",
    ")\n",
    "plt.show()"
   ]
  },
  {
   "cell_type": "code",
   "execution_count": null,
   "metadata": {},
   "outputs": [],
   "source": []
  }
 ],
 "metadata": {
  "kernelspec": {
   "display_name": "Python 3",
   "language": "python",
   "name": "python3"
  },
  "language_info": {
   "codemirror_mode": {
    "name": "ipython",
    "version": 3
   },
   "file_extension": ".py",
   "mimetype": "text/x-python",
   "name": "python",
   "nbconvert_exporter": "python",
   "pygments_lexer": "ipython3",
   "version": "3.6.5"
  }
 },
 "nbformat": 4,
 "nbformat_minor": 2
}
