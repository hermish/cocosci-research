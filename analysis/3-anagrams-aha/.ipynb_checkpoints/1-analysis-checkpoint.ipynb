{
 "cells": [
  {
   "cell_type": "code",
   "execution_count": 78,
   "metadata": {
    "collapsed": false
   },
   "outputs": [],
   "source": [
    "%matplotlib inline\n",
    "\n",
    "import matplotlib\n",
    "import numpy as np\n",
    "import matplotlib.pyplot as plt\n",
    "\n",
    "import json\n",
    "import numpy as np\n",
    "import seaborn as sns\n",
    "import matplotlib.pyplot as plt\n",
    "from scipy import stats\n",
    "import pandas as pd\n",
    "import scipy\n",
    "from scipy.stats import ttest_ind, ttest_ind_from_stats\n",
    "from scipy.special import stdtr"
   ]
  },
  {
   "cell_type": "code",
   "execution_count": 79,
   "metadata": {
    "collapsed": false
   },
   "outputs": [
    {
     "data": {
      "text/plain": [
       "183"
      ]
     },
     "execution_count": 79,
     "metadata": {},
     "output_type": "execute_result"
    }
   ],
   "source": [
    "FILE_PATH = 'data/entries.json'\n",
    "\n",
    "all_entries = []\n",
    "with open(FILE_PATH) as file:\n",
    "    for line in file:\n",
    "        entry = json.loads(line)\n",
    "        all_entries.append(entry)\n",
    "len(all_entries)"
   ]
  },
  {
   "cell_type": "code",
   "execution_count": 80,
   "metadata": {
    "collapsed": false
   },
   "outputs": [
    {
     "name": "stdout",
     "output_type": "stream",
     "text": [
      "53 42\n",
      "47 41\n"
     ]
    }
   ],
   "source": [
    "control_start, exp_start = [], []\n",
    "control_finish, exp_finish = [], []\n",
    "starts = [control_start, exp_start]\n",
    "finishes = [control_finish, exp_finish]\n",
    "\n",
    "for entry in all_entries:\n",
    "    if isinstance(entry['data'], dict):\n",
    "        condition = entry['data']['conditionNumber']\n",
    "        starts[condition].append(entry)\n",
    "    else:\n",
    "        condition = entry['data'][0]['conditionNumber']\n",
    "        finishes[condition].append(entry)\n",
    "\n",
    "print(len(control_start), len(exp_start))\n",
    "print(len(control_finish), len(exp_finish))\n"
   ]
  },
  {
   "cell_type": "code",
   "execution_count": 81,
   "metadata": {
    "collapsed": false
   },
   "outputs": [
    {
     "name": "stdout",
     "output_type": "stream",
     "text": [
      "45 45\n",
      "39 39\n"
     ]
    }
   ],
   "source": [
    "contol_aha, control_pleasant = [], []\n",
    "for entry in control_finish:\n",
    "    entry_data = entry['data']\n",
    "    rating = entry_data[17]['responses'] #did they get the correct answer for last anagram here\n",
    "    \n",
    "    if int(rating[6]) > 0:\n",
    "        print(entry_data[16]['responses'])\n",
    "        rating = entry_data[19]['responses'] #aha response here\n",
    "        contol_aha.append(rating[6])\n",
    "        rating = entry_data[18]['responses'] #pleasant response here\n",
    "        control_pleasant.append(rating[6])\n",
    "    else:\n",
    "        continue\n",
    "            \n",
    "exp_aha, exp_pleasant = [], []         \n",
    "for entry in exp_finish:\n",
    "    entry_data = entry['data']\n",
    "    rating = entry_data[17]['responses'] #did they get the correct answer for last anagram here\n",
    "\n",
    "    if int(rating[6]) > 0: #only get data if they got the last anagram\n",
    "        rating = entry_data[19]['responses'] #aha response here\n",
    "        exp_aha.append(rating[6])\n",
    "        rating = entry_data[18]['responses'] #pleasant response here\n",
    "        exp_pleasant.append(rating[6])\n",
    "    else:\n",
    "        continue   \n",
    "        \n",
    "def clean(values):\n",
    "    return [int(value) for value in values]\n",
    "\n",
    "contol_aha = clean(contol_aha)\n",
    "control_pleasant = clean(control_pleasant)\n",
    "exp_aha, exp_pleasant = clean(exp_aha), clean(exp_pleasant)\n",
    "          \n",
    "print(len(contol_aha), len(control_pleasant))\n",
    "print(len(exp_aha), len(exp_pleasant))"
   ]
  },
  {
   "cell_type": "code",
   "execution_count": 82,
   "metadata": {
    "collapsed": false
   },
   "outputs": [
    {
     "data": {
      "image/png": "[encoded data removed]",
      "text/plain": [
       "<matplotlib.figure.Figure at 0x1a6608c78d0>"
      ]
     },
     "metadata": {},
     "output_type": "display_data"
    }
   ],
   "source": [
    "plt.hist(contol_aha)\n",
    "axes = plt.gca()\n",
    "axes.set_ylim([0,20])\n",
    "plt.show()"
   ]
  },
  {
   "cell_type": "code",
   "execution_count": 83,
   "metadata": {
    "collapsed": false
   },
   "outputs": [
    {
     "name": "stdout",
     "output_type": "stream",
     "text": [
      "3.688888888888889 3.2564102564102564\n"
     ]
    },
    {
     "data": {
      "image/png": "[encoded data removed]",
      "text/plain": [
       "<matplotlib.figure.Figure at 0x1a66097deb8>"
      ]
     },
     "metadata": {},
     "output_type": "display_data"
    }
   ],
   "source": [
    "control_aha_mean = np.mean(contol_aha)\n",
    "control_aha_error = stats.sem(contol_aha)\n",
    "exp_aha_mean = np.mean(exp_aha)\n",
    "exp_aha_error = stats.sem(exp_aha)\n",
    "\n",
    "plt.bar(\n",
    "    np.arange(2),\n",
    "    [control_aha_mean, exp_aha_mean],\n",
    "    yerr=[control_aha_error, exp_aha_error]\n",
    ")\n",
    "\n",
    "print(control_aha_mean, exp_aha_mean)\n",
    "plt.show()"
   ]
  },
  {
   "cell_type": "code",
   "execution_count": 87,
   "metadata": {
    "collapsed": false
   },
   "outputs": [
    {
     "name": "stdout",
     "output_type": "stream",
     "text": [
      "1.0052772162750052 0.3177206828565264\n"
     ]
    }
   ],
   "source": [
    "t, p = ttest_ind(contol_aha, exp_aha)\n",
    "print(t, p)"
   ]
  },
  {
   "cell_type": "code",
   "execution_count": 85,
   "metadata": {
    "collapsed": false
   },
   "outputs": [
    {
     "name": "stdout",
     "output_type": "stream",
     "text": [
      "4.622222222222222\n",
      "4.538461538461538\n"
     ]
    },
    {
     "data": {
      "image/png": "[encoded data removed]",
      "text/plain": [
       "<matplotlib.figure.Figure at 0x1a660bdc2e8>"
      ]
     },
     "metadata": {},
     "output_type": "display_data"
    }
   ],
   "source": [
    "control_pleasant_mean = np.mean(control_pleasant)\n",
    "control_pleasant_error = stats.sem(control_pleasant)\n",
    "exp_pleasant_mean = np.mean(exp_pleasant)\n",
    "exp_pleasant_error = stats.sem(exp_pleasant)\n",
    "\n",
    "print(control_pleasant_mean)\n",
    "print(exp_pleasant_mean)\n",
    "\n",
    "plt.bar(\n",
    "    np.arange(2),\n",
    "    [control_pleasant_mean, exp_pleasant_mean],\n",
    "    yerr=[control_pleasant_error, exp_pleasant_error]\n",
    ")\n",
    "plt.show()"
   ]
  },
  {
   "cell_type": "code",
   "execution_count": 86,
   "metadata": {
    "collapsed": false
   },
   "outputs": [
    {
     "name": "stdout",
     "output_type": "stream",
     "text": [
      "0.3053364529829661 0.7609086711985529\n"
     ]
    }
   ],
   "source": [
    "t, p = ttest_ind(control_pleasant, exp_pleasant, equal_var=False)\n",
    "print(t, p)"
   ]
  },
  {
   "cell_type": "code",
   "execution_count": null,
   "metadata": {
    "collapsed": true
   },
   "outputs": [],
   "source": []
  }
 ],
 "metadata": {
  "kernelspec": {
   "display_name": "Python 3",
   "language": "python",
   "name": "python3"
  },
  "language_info": {
   "codemirror_mode": {
    "name": "ipython",
    "version": 3
   },
   "file_extension": ".py",
   "mimetype": "text/x-python",
   "name": "python",
   "nbconvert_exporter": "python",
   "pygments_lexer": "ipython3",
   "version": "3.5.3"
  }
 },
 "nbformat": 4,
 "nbformat_minor": 2
}
