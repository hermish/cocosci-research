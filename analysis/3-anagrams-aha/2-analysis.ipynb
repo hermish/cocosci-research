{
 "cells": [
  {
   "cell_type": "code",
   "execution_count": 1,
   "metadata": {},
   "outputs": [],
   "source": [
    "%matplotlib inline\n",
    "\n",
    "import matplotlib\n",
    "import numpy as np\n",
    "import matplotlib.pyplot as plt\n",
    "\n",
    "import json\n",
    "import numpy as np\n",
    "import seaborn as sns\n",
    "import matplotlib.pyplot as plt\n",
    "from scipy import stats\n",
    "import pandas as pd\n",
    "import scipy\n",
    "from scipy.stats import ttest_ind, ttest_ind_from_stats\n",
    "from scipy.special import stdtr"
   ]
  },
  {
   "cell_type": "code",
   "execution_count": 2,
   "metadata": {},
   "outputs": [
    {
     "data": {
      "text/plain": [
       "254"
      ]
     },
     "execution_count": 2,
     "metadata": {},
     "output_type": "execute_result"
    }
   ],
   "source": [
    "FILE_PATH = 'data/pilot4.json'\n",
    "\n",
    "all_entries = []\n",
    "with open(FILE_PATH) as file:\n",
    "    for line in file:\n",
    "        entry = json.loads(line)\n",
    "        all_entries.append(entry)\n",
    "len(all_entries)"
   ]
  },
  {
   "cell_type": "code",
   "execution_count": 3,
   "metadata": {},
   "outputs": [
    {
     "name": "stdout",
     "output_type": "stream",
     "text": [
      "64 66\n",
      "60 64\n"
     ]
    }
   ],
   "source": [
    "#control is hard condition, exp is easy condition, should change variable names\n",
    "control_start, exp_start = [], []\n",
    "control_finish, exp_finish = [], []\n",
    "starts = [control_start, exp_start]\n",
    "finishes = [control_finish, exp_finish]\n",
    "\n",
    "for entry in all_entries:\n",
    "    if isinstance(entry['data'], dict):\n",
    "        condition = entry['data']['conditionNumber']\n",
    "        starts[condition].append(entry)\n",
    "    else:\n",
    "        condition = entry['data'][0]['conditionNumber']\n",
    "        finishes[condition].append(entry)\n",
    "\n",
    "print(len(control_start), len(exp_start))\n",
    "print(len(control_finish), len(exp_finish))\n"
   ]
  },
  {
   "cell_type": "code",
   "execution_count": 4,
   "metadata": {},
   "outputs": [
    {
     "name": "stdout",
     "output_type": "stream",
     "text": [
      "60 64\n"
     ]
    }
   ],
   "source": [
    "contol_aha, control_pleasant, control_correct = [], [], [] #final ratings for the last anagram\n",
    "control_pleasant1, control_pleasant2, control_pleasant3, control_pleasant4 = [], [], [],[]\n",
    "control_aha1, control_aha2, control_aha3, control_aha4 = [], [], [],[]\n",
    "\n",
    "for entry in control_finish:\n",
    "    entry_data = entry['data']\n",
    "\n",
    "    #collect pleasantness ratings\n",
    "    r = entry_data[4]['responses'] #get people's pleasant rating here\n",
    "    control_pleasant1.append(int(r[6]))\n",
    "    \n",
    "    r = entry_data[8]['responses']\n",
    "    control_pleasant2.append(int(r[6]))\n",
    "    \n",
    "    r = entry_data[12]['responses'] \n",
    "    control_pleasant3.append(int(r[6]))\n",
    "    \n",
    "    r = entry_data[16]['responses'] \n",
    "    control_pleasant4.append(int(r[6]))\n",
    "    \n",
    "    #collect aha ratings\n",
    "    r = entry_data[5]['responses'] #get people's aha rating here\n",
    "    control_aha1.append(int(r[6]))\n",
    "    \n",
    "    r = entry_data[9]['responses']\n",
    "    control_aha2.append(int(r[6]))\n",
    "    \n",
    "    r = entry_data[13]['responses'] \n",
    "    control_aha3.append(int(r[6]))\n",
    "    \n",
    "    r = entry_data[17]['responses'] \n",
    "    control_aha4.append(int(r[6]))\n",
    "    \n",
    "    rating = entry_data[21]['responses'] #aha response here\n",
    "    contol_aha.append(rating[6])\n",
    "    rating = entry_data[20]['responses'] #pleasant response here\n",
    "    control_pleasant.append(rating[6])\n",
    "            \n",
    "exp_aha, exp_pleasant, exp_correct = [], [], []\n",
    "exp_pleasant1, exp_pleasant2, exp_pleasant3, exp_pleasant4 = [], [], [],[]\n",
    "exp_aha1, exp_aha2, exp_aha3, exp_aha4 = [], [], [],[]\n",
    "for entry in exp_finish:\n",
    "    entry_data = entry['data']\n",
    "                    \n",
    "    #collect pleasantness ratings\n",
    "    r = entry_data[4]['responses'] #get people's pleasant rating here\n",
    "    exp_pleasant1.append(int(r[6]))\n",
    "    \n",
    "    r = entry_data[8]['responses']\n",
    "    exp_pleasant2.append(int(r[6]))\n",
    "    \n",
    "    r = entry_data[12]['responses'] \n",
    "    exp_pleasant3.append(int(r[6]))\n",
    "    \n",
    "    r = entry_data[16]['responses'] \n",
    "    exp_pleasant4.append(int(r[6]))\n",
    "    \n",
    "    #collect aha ratings\n",
    "    r = entry_data[5]['responses'] #get people's aha rating here\n",
    "    exp_aha1.append(int(r[6]))\n",
    "    \n",
    "    r = entry_data[9]['responses']\n",
    "    exp_aha2.append(int(r[6]))\n",
    "    \n",
    "    r = entry_data[13]['responses'] \n",
    "    exp_aha3.append(int(r[6]))\n",
    "    \n",
    "    r = entry_data[17]['responses'] \n",
    "    exp_aha4.append(int(r[6]))\n",
    "   \n",
    "    rating = entry_data[21]['responses'] #aha response here\n",
    "    exp_aha.append(rating[6])\n",
    "    rating = entry_data[20]['responses'] #pleasant response here\n",
    "    exp_pleasant.append(rating[6])\n",
    "        \n",
    "def clean(values):\n",
    "    return [int(value)+1 for value in values]\n",
    "\n",
    "contol_aha = clean(contol_aha)\n",
    "control_pleasant = clean(control_pleasant)\n",
    "exp_aha, exp_pleasant = clean(exp_aha), clean(exp_pleasant)\n",
    "          \n",
    "print(len(contol_aha), len(exp_aha))\n",
    "#print(len(exp_aha), len(exp_pleasant))"
   ]
  },
  {
   "cell_type": "code",
   "execution_count": null,
   "metadata": {},
   "outputs": [],
   "source": []
  },
  {
   "cell_type": "code",
   "execution_count": 5,
   "metadata": {},
   "outputs": [
    {
     "data": {
      "image/png": "[encoded data removed]",
      "text/plain": [
       "<Figure size 288x360 with 1 Axes>"
      ]
     },
     "metadata": {},
     "output_type": "display_data"
    },
    {
     "name": "stdout",
     "output_type": "stream",
     "text": [
      "4.6 3.296875\n"
     ]
    }
   ],
   "source": [
    "import seaborn as sns\n",
    "sns.set(style=\"white\", font_scale=1.5, rc={'figure.figsize':(4,5)})\n",
    "\n",
    "control_aha_mean = np.mean(contol_aha)\n",
    "control_aha_error = stats.sem(contol_aha)\n",
    "exp_aha_mean = np.mean(exp_aha)\n",
    "exp_aha_error = stats.sem(exp_aha)\n",
    "\n",
    "ax = sns.barplot(\n",
    "    np.arange(2), \n",
    "    [exp_aha_mean, control_aha_mean ],\n",
    "    yerr=[exp_aha_error, control_aha_error],\n",
    "    palette=\"BuGn\", errcolor=\".2\", edgecolor=\".2\",linewidth=2.5, error_kw=dict(ecolor='k', lw=2.5, capsize=5, capthick=2)\n",
    ")\n",
    "plt.xticks(np.arange(2), ['Condition 1','Condition 2'])\n",
    "ax.set(ylabel='Mean Aha rating')\n",
    "ax.tick_params(axis=u'both', which=u'both',length=0)\n",
    "plt.ylim([0,7]) \n",
    "plt.show()\n",
    "print(control_aha_mean, exp_aha_mean)\n"
   ]
  },
  {
   "cell_type": "code",
   "execution_count": 6,
   "metadata": {},
   "outputs": [
    {
     "name": "stdout",
     "output_type": "stream",
     "text": [
      "3.38547860531 0.000956400717419\n"
     ]
    }
   ],
   "source": [
    "t, p = ttest_ind(contol_aha, exp_aha)\n",
    "print(t, p)"
   ]
  },
  {
   "cell_type": "code",
   "execution_count": 7,
   "metadata": {},
   "outputs": [
    {
     "name": "stdout",
     "output_type": "stream",
     "text": [
      "5.28333333333\n",
      "5.171875\n"
     ]
    },
    {
     "data": {
      "image/png": "[encoded data removed]",
      "text/plain": [
       "<Figure size 288x360 with 1 Axes>"
      ]
     },
     "metadata": {},
     "output_type": "display_data"
    }
   ],
   "source": [
    "control_pleasant_mean = np.mean(control_pleasant)\n",
    "control_pleasant_error = stats.sem(control_pleasant)\n",
    "exp_pleasant_mean = np.mean(exp_pleasant)\n",
    "exp_pleasant_error = stats.sem(exp_pleasant)\n",
    "\n",
    "print(control_pleasant_mean)\n",
    "print(exp_pleasant_mean)\n",
    "\n",
    "plt.bar(\n",
    "    np.arange(2),\n",
    "    [control_pleasant_mean, exp_pleasant_mean],\n",
    "    yerr=[control_pleasant_error, exp_pleasant_error]\n",
    ")\n",
    "plt.show()"
   ]
  },
  {
   "cell_type": "code",
   "execution_count": 8,
   "metadata": {},
   "outputs": [
    {
     "name": "stdout",
     "output_type": "stream",
     "text": [
      "0.423969927124 0.672358793167\n"
     ]
    }
   ],
   "source": [
    "t, p = ttest_ind(control_pleasant, exp_pleasant, equal_var=False)\n",
    "print(t, p)"
   ]
  },
  {
   "cell_type": "code",
   "execution_count": 9,
   "metadata": {},
   "outputs": [
    {
     "data": {
      "image/png": "[encoded data removed]",
      "text/plain": [
       "<Figure size 288x360 with 1 Axes>"
      ]
     },
     "metadata": {},
     "output_type": "display_data"
    },
    {
     "data": {
      "image/png": "[encoded data removed]",
      "text/plain": [
       "<Figure size 288x360 with 1 Axes>"
      ]
     },
     "metadata": {},
     "output_type": "display_data"
    }
   ],
   "source": [
    "control_pleasant_mean1 = np.mean(control_pleasant1)\n",
    "control_pleasant_error1 = stats.sem(control_pleasant1)\n",
    "control_pleasant_mean2 = np.mean(control_pleasant2)\n",
    "control_pleasant_error2 = stats.sem(control_pleasant2)\n",
    "control_pleasant_mean3 = np.mean(control_pleasant3)\n",
    "control_pleasant_error3 = stats.sem(control_pleasant3)\n",
    "control_pleasant_mean4 = np.mean(control_pleasant4)\n",
    "control_pleasant_error4 = stats.sem(control_pleasant4)\n",
    "control_pleasant_mean = np.mean(control_pleasant) #final anagram\n",
    "control_pleasant_error = stats.sem(control_pleasant)\n",
    "\n",
    "plt.bar(\n",
    "    np.arange(5),\n",
    "    [control_pleasant_mean1, control_pleasant_mean2, control_pleasant_mean3, control_pleasant_mean4, control_pleasant_mean],\n",
    "    yerr=[control_pleasant_error1, control_pleasant_error2, control_pleasant_error3, control_pleasant_error4, control_pleasant_error]\n",
    ")\n",
    "plt.show()\n",
    "\n",
    "plt.figure(2)\n",
    "\n",
    "exp_pleasant_mean1 = np.mean(exp_pleasant1)\n",
    "exp_pleasant_error1 = stats.sem(exp_pleasant1)\n",
    "exp_pleasant_mean2 = np.mean(exp_pleasant2)\n",
    "exp_pleasant_error2 = stats.sem(exp_pleasant2)\n",
    "exp_pleasant_mean3 = np.mean(exp_pleasant3)\n",
    "exp_pleasant_error3 = stats.sem(exp_pleasant3)\n",
    "exp_pleasant_mean4 = np.mean(exp_pleasant4)\n",
    "exp_pleasant_error4 = stats.sem(exp_pleasant4)\n",
    "exp_pleasant_mean = np.mean(exp_pleasant) #final anagram\n",
    "exp_pleasant_error = stats.sem(exp_pleasant)\n",
    "\n",
    "plt.bar(\n",
    "    np.arange(5),\n",
    "    [exp_pleasant_mean1, exp_pleasant_mean2, exp_pleasant_mean3, exp_pleasant_mean4, exp_pleasant_mean],\n",
    "    yerr=[exp_pleasant_error1, exp_pleasant_error2, exp_pleasant_error3, exp_pleasant_error4, exp_pleasant_error]\n",
    ")\n",
    "plt.show()\n"
   ]
  },
  {
   "cell_type": "code",
   "execution_count": 10,
   "metadata": {},
   "outputs": [
    {
     "data": {
      "image/png": "[encoded data removed]",
      "text/plain": [
       "<Figure size 504x216 with 1 Axes>"
      ]
     },
     "metadata": {},
     "output_type": "display_data"
    },
    {
     "data": {
      "image/png": "[encoded data removed]",
      "text/plain": [
       "<Figure size 504x216 with 1 Axes>"
      ]
     },
     "metadata": {},
     "output_type": "display_data"
    }
   ],
   "source": [
    "import seaborn as sns\n",
    "sns.set(style=\"white\", font_scale=1.25, rc={'figure.figsize':(7,3)})\n",
    "\n",
    "def change_width(ax, new_value) :\n",
    "    for patch in ax.patches :\n",
    "        current_width = patch.get_width()\n",
    "        diff = current_width - new_value\n",
    "\n",
    "        # we change the bar width\n",
    "        patch.set_width(new_value)\n",
    "\n",
    "        # we recenter the bar\n",
    "        patch.set_x(patch.get_x() + diff * .5)\n",
    "\n",
    "control_aha_mean1 = np.mean(control_aha1)\n",
    "control_aha_error1 = stats.sem(control_aha1)\n",
    "control_aha_mean2 = np.mean(control_aha2)\n",
    "control_aha_error2 = stats.sem(control_aha2)\n",
    "control_aha_mean3 = np.mean(control_aha3)\n",
    "control_aha_error3 = stats.sem(control_aha3)\n",
    "control_aha_mean4 = np.mean(control_aha4)\n",
    "control_aha_error4 = stats.sem(control_aha4)\n",
    "control_aha_mean = np.mean(contol_aha) #final anagram\n",
    "control_aha_error = stats.sem(contol_aha)\n",
    "\n",
    "ax = sns.barplot(\n",
    "    np.arange(5),\n",
    "    [control_aha_mean1, control_aha_mean2, control_aha_mean3, control_aha_mean4, control_aha_mean],\n",
    "    yerr=[control_aha_error1, control_aha_error2, control_aha_error3, control_aha_error4, control_aha_error],\n",
    "    palette=\"rocket\", linewidth=2.5, error_kw=dict(ecolor='k', lw=2.5, capsize=5, capthick=2)\n",
    ")\n",
    "\n",
    "plt.xticks(np.arange(5), ['IORCNAG','HNATUYG', 'KHAOMCM','DALRBEU','SONW'])\n",
    "ax.set(title = 'Trajectory of Aha ratings for Condition 2', ylabel='Mean Aha rating')\n",
    "ax.tick_params(axis=u'both', which=u'both',length=0)\n",
    "plt.ylim([0,7]) \n",
    "change_width(ax, .5)\n",
    "plt.show()\n",
    "\n",
    "plt.figure(2)\n",
    "\n",
    "exp_aha_mean1 = np.mean(exp_aha1)\n",
    "exp_aha_error1 = stats.sem(exp_aha1)\n",
    "exp_aha_mean2 = np.mean(exp_aha2)\n",
    "exp_aha_error2 = stats.sem(exp_aha2)\n",
    "exp_aha_mean3 = np.mean(exp_aha3)\n",
    "exp_aha_error3 = stats.sem(exp_aha3)\n",
    "exp_aha_mean4 = np.mean(exp_aha4)\n",
    "exp_aha_error4 = stats.sem(exp_aha4)\n",
    "exp_aha_mean = np.mean(exp_aha) #final anagram\n",
    "exp_aha_error = stats.sem(exp_aha)\n",
    "\n",
    "ax = sns.barplot(\n",
    "    np.arange(5),\n",
    "    [exp_aha_mean1, exp_aha_mean2, exp_aha_mean3, exp_aha_mean4, exp_aha_mean],\n",
    "    yerr=[exp_aha_error1, exp_aha_error2, exp_aha_error3, exp_aha_error4, exp_aha_error],\n",
    "    palette=\"rocket\", linewidth=2.5, error_kw=dict(ecolor='k', lw=2.5, capsize=5, capthick=2)\n",
    ")\n",
    "plt.xticks(np.arange(5), ['SROT','BLUK', 'PITN','OROD','SONW'])\n",
    "ax.set(title = 'Trajectory of Aha ratings for Condition 1', ylabel='Mean Aha rating')\n",
    "ax.tick_params(axis=u'both', which=u'both',length=0)\n",
    "plt.ylim([0,7]) \n",
    "change_width(ax, .5)\n",
    "plt.show()\n"
   ]
  },
  {
   "cell_type": "code",
   "execution_count": null,
   "metadata": {
    "collapsed": true
   },
   "outputs": [],
   "source": []
  }
 ],
 "metadata": {
  "kernelspec": {
   "display_name": "Python 3",
   "language": "python",
   "name": "python3"
  },
  "language_info": {
   "codemirror_mode": {
    "name": "ipython",
    "version": 3
   },
   "file_extension": ".py",
   "mimetype": "text/x-python",
   "name": "python",
   "nbconvert_exporter": "python",
   "pygments_lexer": "ipython3",
   "version": "3.5.3"
  }
 },
 "nbformat": 4,
 "nbformat_minor": 2
}
