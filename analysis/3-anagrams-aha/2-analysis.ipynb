{
 "cells": [
  {
   "cell_type": "code",
   "execution_count": 1,
   "metadata": {},
   "outputs": [
    {
     "name": "stderr",
     "output_type": "stream",
     "text": [
      "C:\\Users\\RACH0_000\\Anaconda3\\lib\\site-packages\\pandas\\compat\\_optional.py:106: UserWarning: Pandas requires version '1.2.1' or newer of 'bottleneck' (version '1.0.0' currently installed).\n",
      "  warnings.warn(msg, UserWarning)\n"
     ]
    }
   ],
   "source": [
    "%matplotlib inline\n",
    "\n",
    "import matplotlib\n",
    "import numpy as np\n",
    "import matplotlib.pyplot as plt\n",
    "\n",
    "import json\n",
    "import numpy as np\n",
    "import seaborn as sns\n",
    "import matplotlib.pyplot as plt\n",
    "from scipy import stats\n",
    "import pandas as pd\n",
    "import scipy\n",
    "from scipy.stats import ttest_ind, ttest_ind_from_stats\n",
    "from scipy.special import stdtr"
   ]
  },
  {
   "cell_type": "code",
   "execution_count": 2,
   "metadata": {},
   "outputs": [],
   "source": [
    "FILE_PATH = 'data/entries.json'\n",
    "\n",
    "import ast\n",
    "\n",
    "all_entries = []\n",
    "with open(FILE_PATH) as file:\n",
    "    all_entries = json.loads(file.read(), strict=False)\n"
   ]
  },
  {
   "cell_type": "code",
   "execution_count": 21,
   "metadata": {},
   "outputs": [
    {
     "name": "stdout",
     "output_type": "stream",
     "text": [
      "193 141\n",
      "175 127\n"
     ]
    }
   ],
   "source": [
    "#hard is hard condition, exp is easy condition\n",
    "hard_start, exp_start = [], []\n",
    "hard_finish, exp_finish = [], []\n",
    "starts = [hard_start, exp_start]\n",
    "finishes = [hard_finish, exp_finish]\n",
    "\n",
    "for entry in all_entries:\n",
    "    if isinstance(entry['data'], dict):\n",
    "        condition = entry['data']['conditionNumber']\n",
    "        starts[condition].append(entry)\n",
    "    else:\n",
    "        condition = entry['data'][0]['conditionNumber']\n",
    "        finishes[condition].append(entry)\n",
    "\n",
    "print(len(hard_start), len(exp_start))\n",
    "print(len(hard_finish), len(exp_finish))"
   ]
  },
  {
   "cell_type": "code",
   "execution_count": 22,
   "metadata": {},
   "outputs": [
    {
     "name": "stdout",
     "output_type": "stream",
     "text": [
      "116 122\n"
     ]
    }
   ],
   "source": [
    "hard_aha, hard_pleasant, hard_correct = [], [], [] #final ratings for the last anagram\n",
    "hard_pleasant1, hard_pleasant2, hard_pleasant3, hard_pleasant4 = [], [], [],[]\n",
    "hard_aha1, hard_aha2, hard_aha3, hard_aha4 = [], [], [],[]\n",
    "hard_stimulus = []\n",
    "\n",
    "test_stimulus_hard = []\n",
    "test_stimulus_easy = []\n",
    "\n",
    "for entry in hard_finish:\n",
    "    entry_data = entry['data']\n",
    "    #collect pleasantness ratings\n",
    "    hard_stimulus.append(entry_data[4]['stimulus'][23:30])\n",
    "    r1 = entry_data[5]['responses'] #get people's pleasant rating here\n",
    "    hard_pleasant1.append(int(r1[6]))\n",
    "    \n",
    "    r2 = entry_data[9]['responses']\n",
    "    hard_pleasant2.append(int(r2[6]))\n",
    "    hard_stimulus.append(entry_data[8]['stimulus'][23:30])\n",
    "    \n",
    "    r3 = entry_data[13]['responses'] \n",
    "    hard_pleasant3.append(int(r3[6]))\n",
    "    hard_stimulus.append(entry_data[12]['stimulus'][23:30])\n",
    "    \n",
    "    r4 = entry_data[17]['responses'] \n",
    "    hard_pleasant4.append(int(r4[6]))\n",
    "    hard_stimulus.append(entry_data[16]['stimulus'][23:30])\n",
    "    \n",
    "    r5 = entry_data[21]['responses'] #pleasant response here\n",
    "    hard_pleasant.append(int(r5[6]))\n",
    "\n",
    "    a = True\n",
    "    #collect aha ratings\n",
    "    b = int(r1[6])+int(r2[6])+int(r3[6])+int(r4[6])\n",
    "    if b < 2 and int(r5[6]) == 1:\n",
    "        r = entry_data[6]['responses'] #get people's aha rating here\n",
    "        hard_aha1.append(int(r[6]))\n",
    "\n",
    "        r = entry_data[10]['responses']\n",
    "        hard_aha2.append(int(r[6]))\n",
    "\n",
    "        r = entry_data[14]['responses'] \n",
    "        hard_aha3.append(int(r[6]))\n",
    "\n",
    "        r = entry_data[18]['responses'] \n",
    "        hard_aha4.append(int(r[6]))\n",
    "\n",
    "        rating = entry_data[22]['responses'] #aha response here\n",
    "        hard_aha.append(rating[6])\n",
    "        test_stimulus_hard.append(entry_data[20]['stimulus'])\n",
    "            \n",
    "exp_aha, exp_pleasant, exp_correct = [], [], []\n",
    "exp_pleasant1, exp_pleasant2, exp_pleasant3, exp_pleasant4 = [], [], [],[]\n",
    "exp_aha1, exp_aha2, exp_aha3, exp_aha4 = [], [], [],[]\n",
    "easy_stimulus = []\n",
    "for entry in exp_finish:\n",
    "\n",
    "    entry_data = entry['data']                 \n",
    "    #collect pleasantness ratings\n",
    "    r1 = entry_data[5]['responses'] #get people's pleasant rating here\n",
    "    exp_pleasant1.append(int(r1[6]))\n",
    "    easy_stimulus.append(entry_data[4]['stimulus'])\n",
    "    \n",
    "    r2 = entry_data[9]['responses']\n",
    "    exp_pleasant2.append(int(r2[6]))\n",
    "    easy_stimulus.append(entry_data[8]['stimulus'])\n",
    "                         \n",
    "    r3 = entry_data[13]['responses'] \n",
    "    exp_pleasant3.append(int(r3[6]))\n",
    "    easy_stimulus.append(entry_data[12]['stimulus'])\n",
    "    \n",
    "    r4 = entry_data[17]['responses'] \n",
    "    exp_pleasant4.append(int(r4[6]))\n",
    "    easy_stimulus.append(entry_data[16]['stimulus'])                     \n",
    "\n",
    "    r5 = entry_data[21]['responses'] #pleasant response here\n",
    "    exp_pleasant.append(int(r5[6]))    \n",
    "    \n",
    "    #collect aha ratings\n",
    "    b = int(r1[6])+int(r2[6])+int(r3[6])+int(r4[6])\n",
    "    if b > 2 and int(r5[6]) == 1:\n",
    "        r = entry_data[6]['responses'] #get people's aha rating here\n",
    "        exp_aha1.append(int(r[6]))\n",
    "\n",
    "        r = entry_data[10]['responses']\n",
    "        exp_aha2.append(int(r[6]))\n",
    "\n",
    "        r = entry_data[14]['responses'] \n",
    "        exp_aha3.append(int(r[6]))\n",
    "\n",
    "        r = entry_data[18]['responses'] \n",
    "        exp_aha4.append(int(r[6]))\n",
    "\n",
    "        rating = entry_data[22]['responses'] #aha response here\n",
    "        exp_aha.append(rating[6])\n",
    "        test_stimulus_easy.append(entry_data[20]['stimulus'])\n",
    "        \n",
    "def clean(values):\n",
    "    return [int(value)+1 for value in values]\n",
    "\n",
    "hard_aha = clean(hard_aha)\n",
    "exp_aha= clean(exp_aha)\n",
    "          \n",
    "print(len(hard_aha), len(exp_aha))"
   ]
  },
  {
   "cell_type": "code",
   "execution_count": 145,
   "metadata": {},
   "outputs": [
    {
     "ename": "ValueError",
     "evalue": "arrays must all be same length",
     "output_type": "error",
     "traceback": [
      "\u001b[1;31m---------------------------------------------------------------------------\u001b[0m",
      "\u001b[1;31mValueError\u001b[0m                                Traceback (most recent call last)",
      "\u001b[1;32m<ipython-input-145-12094e2b0712>\u001b[0m in \u001b[0;36m<module>\u001b[1;34m()\u001b[0m\n\u001b[0;32m      4\u001b[0m \u001b[1;33m\u001b[0m\u001b[0m\n\u001b[0;32m      5\u001b[0m \u001b[0md\u001b[0m \u001b[1;33m=\u001b[0m \u001b[1;33m{\u001b[0m\u001b[1;34m'anagrams'\u001b[0m\u001b[1;33m:\u001b[0m \u001b[0mhard_stimulus\u001b[0m\u001b[1;33m,\u001b[0m \u001b[1;34m'ahas'\u001b[0m\u001b[1;33m:\u001b[0m \u001b[0mhard_ahas\u001b[0m\u001b[1;33m,\u001b[0m \u001b[1;34m'solved'\u001b[0m\u001b[1;33m:\u001b[0m \u001b[0mhard_pleasants\u001b[0m\u001b[1;33m}\u001b[0m\u001b[1;33m\u001b[0m\u001b[0m\n\u001b[1;32m----> 6\u001b[1;33m \u001b[0mdf\u001b[0m \u001b[1;33m=\u001b[0m \u001b[0mpd\u001b[0m\u001b[1;33m.\u001b[0m\u001b[0mDataFrame\u001b[0m\u001b[1;33m(\u001b[0m\u001b[0mdata\u001b[0m\u001b[1;33m=\u001b[0m\u001b[0md\u001b[0m\u001b[1;33m)\u001b[0m\u001b[1;33m\u001b[0m\u001b[0m\n\u001b[0m\u001b[0;32m      7\u001b[0m \u001b[0mdf\u001b[0m\u001b[1;33m.\u001b[0m\u001b[0mgroupby\u001b[0m\u001b[1;33m(\u001b[0m\u001b[1;33m[\u001b[0m\u001b[1;34m'anagrams'\u001b[0m\u001b[1;33m]\u001b[0m\u001b[1;33m)\u001b[0m\u001b[1;33m.\u001b[0m\u001b[0mmin\u001b[0m\u001b[1;33m(\u001b[0m\u001b[1;33m)\u001b[0m\u001b[1;33m\u001b[0m\u001b[0m\n",
      "\u001b[1;32mC:\\Users\\RACH0_000\\Anaconda3\\lib\\site-packages\\pandas\\core\\frame.py\u001b[0m in \u001b[0;36m__init__\u001b[1;34m(self, data, index, columns, dtype, copy)\u001b[0m\n\u001b[0;32m    409\u001b[0m             )\n\u001b[0;32m    410\u001b[0m         \u001b[1;32melif\u001b[0m \u001b[0misinstance\u001b[0m\u001b[1;33m(\u001b[0m\u001b[0mdata\u001b[0m\u001b[1;33m,\u001b[0m \u001b[0mdict\u001b[0m\u001b[1;33m)\u001b[0m\u001b[1;33m:\u001b[0m\u001b[1;33m\u001b[0m\u001b[0m\n\u001b[1;32m--> 411\u001b[1;33m             \u001b[0mmgr\u001b[0m \u001b[1;33m=\u001b[0m \u001b[0minit_dict\u001b[0m\u001b[1;33m(\u001b[0m\u001b[0mdata\u001b[0m\u001b[1;33m,\u001b[0m \u001b[0mindex\u001b[0m\u001b[1;33m,\u001b[0m \u001b[0mcolumns\u001b[0m\u001b[1;33m,\u001b[0m \u001b[0mdtype\u001b[0m\u001b[1;33m=\u001b[0m\u001b[0mdtype\u001b[0m\u001b[1;33m)\u001b[0m\u001b[1;33m\u001b[0m\u001b[0m\n\u001b[0m\u001b[0;32m    412\u001b[0m         \u001b[1;32melif\u001b[0m \u001b[0misinstance\u001b[0m\u001b[1;33m(\u001b[0m\u001b[0mdata\u001b[0m\u001b[1;33m,\u001b[0m \u001b[0mma\u001b[0m\u001b[1;33m.\u001b[0m\u001b[0mMaskedArray\u001b[0m\u001b[1;33m)\u001b[0m\u001b[1;33m:\u001b[0m\u001b[1;33m\u001b[0m\u001b[0m\n\u001b[0;32m    413\u001b[0m             \u001b[1;32mimport\u001b[0m \u001b[0mnumpy\u001b[0m\u001b[1;33m.\u001b[0m\u001b[0mma\u001b[0m\u001b[1;33m.\u001b[0m\u001b[0mmrecords\u001b[0m \u001b[1;32mas\u001b[0m \u001b[0mmrecords\u001b[0m\u001b[1;33m\u001b[0m\u001b[0m\n",
      "\u001b[1;32mC:\\Users\\RACH0_000\\Anaconda3\\lib\\site-packages\\pandas\\core\\internals\\construction.py\u001b[0m in \u001b[0;36minit_dict\u001b[1;34m(data, index, columns, dtype)\u001b[0m\n\u001b[0;32m    255\u001b[0m             \u001b[0marr\u001b[0m \u001b[1;32mif\u001b[0m \u001b[1;32mnot\u001b[0m \u001b[0mis_datetime64tz_dtype\u001b[0m\u001b[1;33m(\u001b[0m\u001b[0marr\u001b[0m\u001b[1;33m)\u001b[0m \u001b[1;32melse\u001b[0m \u001b[0marr\u001b[0m\u001b[1;33m.\u001b[0m\u001b[0mcopy\u001b[0m\u001b[1;33m(\u001b[0m\u001b[1;33m)\u001b[0m \u001b[1;32mfor\u001b[0m \u001b[0marr\u001b[0m \u001b[1;32min\u001b[0m \u001b[0marrays\u001b[0m\u001b[1;33m\u001b[0m\u001b[0m\n\u001b[0;32m    256\u001b[0m         ]\n\u001b[1;32m--> 257\u001b[1;33m     \u001b[1;32mreturn\u001b[0m \u001b[0marrays_to_mgr\u001b[0m\u001b[1;33m(\u001b[0m\u001b[0marrays\u001b[0m\u001b[1;33m,\u001b[0m \u001b[0mdata_names\u001b[0m\u001b[1;33m,\u001b[0m \u001b[0mindex\u001b[0m\u001b[1;33m,\u001b[0m \u001b[0mcolumns\u001b[0m\u001b[1;33m,\u001b[0m \u001b[0mdtype\u001b[0m\u001b[1;33m=\u001b[0m\u001b[0mdtype\u001b[0m\u001b[1;33m)\u001b[0m\u001b[1;33m\u001b[0m\u001b[0m\n\u001b[0m\u001b[0;32m    258\u001b[0m \u001b[1;33m\u001b[0m\u001b[0m\n\u001b[0;32m    259\u001b[0m \u001b[1;33m\u001b[0m\u001b[0m\n",
      "\u001b[1;32mC:\\Users\\RACH0_000\\Anaconda3\\lib\\site-packages\\pandas\\core\\internals\\construction.py\u001b[0m in \u001b[0;36marrays_to_mgr\u001b[1;34m(arrays, arr_names, index, columns, dtype)\u001b[0m\n\u001b[0;32m     75\u001b[0m     \u001b[1;31m# figure out the index, if necessary\u001b[0m\u001b[1;33m\u001b[0m\u001b[1;33m\u001b[0m\u001b[0m\n\u001b[0;32m     76\u001b[0m     \u001b[1;32mif\u001b[0m \u001b[0mindex\u001b[0m \u001b[1;32mis\u001b[0m \u001b[1;32mNone\u001b[0m\u001b[1;33m:\u001b[0m\u001b[1;33m\u001b[0m\u001b[0m\n\u001b[1;32m---> 77\u001b[1;33m         \u001b[0mindex\u001b[0m \u001b[1;33m=\u001b[0m \u001b[0mextract_index\u001b[0m\u001b[1;33m(\u001b[0m\u001b[0marrays\u001b[0m\u001b[1;33m)\u001b[0m\u001b[1;33m\u001b[0m\u001b[0m\n\u001b[0m\u001b[0;32m     78\u001b[0m     \u001b[1;32melse\u001b[0m\u001b[1;33m:\u001b[0m\u001b[1;33m\u001b[0m\u001b[0m\n\u001b[0;32m     79\u001b[0m         \u001b[0mindex\u001b[0m \u001b[1;33m=\u001b[0m \u001b[0mensure_index\u001b[0m\u001b[1;33m(\u001b[0m\u001b[0mindex\u001b[0m\u001b[1;33m)\u001b[0m\u001b[1;33m\u001b[0m\u001b[0m\n",
      "\u001b[1;32mC:\\Users\\RACH0_000\\Anaconda3\\lib\\site-packages\\pandas\\core\\internals\\construction.py\u001b[0m in \u001b[0;36mextract_index\u001b[1;34m(data)\u001b[0m\n\u001b[0;32m    366\u001b[0m             \u001b[0mlengths\u001b[0m \u001b[1;33m=\u001b[0m \u001b[0mlist\u001b[0m\u001b[1;33m(\u001b[0m\u001b[0mset\u001b[0m\u001b[1;33m(\u001b[0m\u001b[0mraw_lengths\u001b[0m\u001b[1;33m)\u001b[0m\u001b[1;33m)\u001b[0m\u001b[1;33m\u001b[0m\u001b[0m\n\u001b[0;32m    367\u001b[0m             \u001b[1;32mif\u001b[0m \u001b[0mlen\u001b[0m\u001b[1;33m(\u001b[0m\u001b[0mlengths\u001b[0m\u001b[1;33m)\u001b[0m \u001b[1;33m>\u001b[0m \u001b[1;36m1\u001b[0m\u001b[1;33m:\u001b[0m\u001b[1;33m\u001b[0m\u001b[0m\n\u001b[1;32m--> 368\u001b[1;33m                 \u001b[1;32mraise\u001b[0m \u001b[0mValueError\u001b[0m\u001b[1;33m(\u001b[0m\u001b[1;34m\"arrays must all be same length\"\u001b[0m\u001b[1;33m)\u001b[0m\u001b[1;33m\u001b[0m\u001b[0m\n\u001b[0m\u001b[0;32m    369\u001b[0m \u001b[1;33m\u001b[0m\u001b[0m\n\u001b[0;32m    370\u001b[0m             \u001b[1;32mif\u001b[0m \u001b[0mhave_dicts\u001b[0m\u001b[1;33m:\u001b[0m\u001b[1;33m\u001b[0m\u001b[0m\n",
      "\u001b[1;31mValueError\u001b[0m: arrays must all be same length"
     ]
    }
   ],
   "source": [
    "#analyze which hard stimulus generated more aha\n",
    "hard_ahas = hard_aha1+hard_aha2+hard_aha3+hard_aha4\n",
    "hard_pleasants = hard_pleasant1+hard_pleasant2+hard_pleasant3+hard_pleasant4\n",
    "\n",
    "d = {'anagrams': hard_stimulus, 'ahas': hard_ahas, 'solved': hard_pleasants}\n",
    "df = pd.DataFrame(data=d)\n",
    "df.groupby(['anagrams']).mean()"
   ]
  },
  {
   "cell_type": "code",
   "execution_count": 21,
   "metadata": {},
   "outputs": [
    {
     "data": {
      "text/html": [
       "<div>\n",
       "<style scoped>\n",
       "    .dataframe tbody tr th:only-of-type {\n",
       "        vertical-align: middle;\n",
       "    }\n",
       "\n",
       "    .dataframe tbody tr th {\n",
       "        vertical-align: top;\n",
       "    }\n",
       "\n",
       "    .dataframe thead th {\n",
       "        text-align: right;\n",
       "    }\n",
       "</style>\n",
       "<table border=\"1\" class=\"dataframe\">\n",
       "  <thead>\n",
       "    <tr style=\"text-align: right;\">\n",
       "      <th></th>\n",
       "      <th>ahas</th>\n",
       "      <th>solved</th>\n",
       "    </tr>\n",
       "    <tr>\n",
       "      <th>anagrams</th>\n",
       "      <th></th>\n",
       "      <th></th>\n",
       "    </tr>\n",
       "  </thead>\n",
       "  <tbody>\n",
       "    <tr>\n",
       "      <th>&lt;blockquote&gt;\\n  &lt;h1 id=\"betl\"&gt;BETL&lt;/h1&gt;\\n  &lt;p&gt;&lt;br&gt;&lt;/p&gt;\\n&lt;/blockquote&gt;</th>\n",
       "      <td>2.472222</td>\n",
       "      <td>0.958333</td>\n",
       "    </tr>\n",
       "    <tr>\n",
       "      <th>&lt;blockquote&gt;\\n  &lt;h1 id=\"codl\"&gt;CODL&lt;/h1&gt;\\n  &lt;p&gt;&lt;br&gt;&lt;/p&gt;\\n&lt;/blockquote&gt;</th>\n",
       "      <td>2.597403</td>\n",
       "      <td>0.948052</td>\n",
       "    </tr>\n",
       "    <tr>\n",
       "      <th>&lt;blockquote&gt;\\n  &lt;h1 id=\"fidn\"&gt;FIDN&lt;/h1&gt;\\n  &lt;p&gt;&lt;br&gt;&lt;/p&gt;\\n&lt;/blockquote&gt;</th>\n",
       "      <td>2.720000</td>\n",
       "      <td>0.933333</td>\n",
       "    </tr>\n",
       "    <tr>\n",
       "      <th>&lt;blockquote&gt;\\n  &lt;h1 id=\"fodo\"&gt;FODO&lt;/h1&gt;\\n  &lt;p&gt;&lt;br&gt;&lt;/p&gt;\\n&lt;/blockquote&gt;</th>\n",
       "      <td>2.880000</td>\n",
       "      <td>0.920000</td>\n",
       "    </tr>\n",
       "    <tr>\n",
       "      <th>&lt;blockquote&gt;\\n  &lt;h1 id=\"pitn\"&gt;PITN&lt;/h1&gt;\\n  &lt;p&gt;&lt;br&gt;&lt;/p&gt;\\n&lt;/blockquote&gt;</th>\n",
       "      <td>2.861538</td>\n",
       "      <td>0.923077</td>\n",
       "    </tr>\n",
       "  </tbody>\n",
       "</table>\n",
       "</div>"
      ],
      "text/plain": [
       "                                                        ahas    solved\n",
       "anagrams                                                              \n",
       "<blockquote>\\n  <h1 id=\"betl\">BETL</h1>\\n  <p><...  2.472222  0.958333\n",
       "<blockquote>\\n  <h1 id=\"codl\">CODL</h1>\\n  <p><...  2.597403  0.948052\n",
       "<blockquote>\\n  <h1 id=\"fidn\">FIDN</h1>\\n  <p><...  2.720000  0.933333\n",
       "<blockquote>\\n  <h1 id=\"fodo\">FODO</h1>\\n  <p><...  2.880000  0.920000\n",
       "<blockquote>\\n  <h1 id=\"pitn\">PITN</h1>\\n  <p><...  2.861538  0.923077"
      ]
     },
     "execution_count": 21,
     "metadata": {},
     "output_type": "execute_result"
    }
   ],
   "source": [
    "#analyze which Easy stimulus generated more aha\n",
    "easy_ahas = exp_aha1+exp_aha2+exp_aha3+exp_aha4\n",
    "easy_pleasants = exp_pleasant1+exp_pleasant2+exp_pleasant3+exp_pleasant4\n",
    "\n",
    "d = {'anagrams': easy_stimulus, 'ahas': easy_ahas, 'solved': easy_pleasants}\n",
    "df = pd.DataFrame(data=d)\n",
    "df.groupby(['anagrams']).mean()"
   ]
  },
  {
   "cell_type": "code",
   "execution_count": 87,
   "metadata": {},
   "outputs": [
    {
     "data": {
      "text/html": [
       "<div>\n",
       "<style scoped>\n",
       "    .dataframe tbody tr th:only-of-type {\n",
       "        vertical-align: middle;\n",
       "    }\n",
       "\n",
       "    .dataframe tbody tr th {\n",
       "        vertical-align: top;\n",
       "    }\n",
       "\n",
       "    .dataframe thead th {\n",
       "        text-align: right;\n",
       "    }\n",
       "</style>\n",
       "<table border=\"1\" class=\"dataframe\">\n",
       "  <thead>\n",
       "    <tr style=\"text-align: right;\">\n",
       "      <th></th>\n",
       "      <th>ahas</th>\n",
       "    </tr>\n",
       "    <tr>\n",
       "      <th>anagrams</th>\n",
       "      <th></th>\n",
       "    </tr>\n",
       "  </thead>\n",
       "  <tbody>\n",
       "    <tr>\n",
       "      <th>&lt;blockquote&gt;\\n  &lt;h1 id=\"bluk\"&gt;BLUK&lt;/h1&gt;\\n  &lt;p&gt;&lt;br&gt;&lt;/p&gt;\\n&lt;/blockquote&gt;</th>\n",
       "      <td>3.391304</td>\n",
       "    </tr>\n",
       "    <tr>\n",
       "      <th>&lt;blockquote&gt;\\n  &lt;h1 id=\"brid\"&gt;BRID&lt;/h1&gt;\\n  &lt;p&gt;&lt;br&gt;&lt;/p&gt;\\n&lt;/blockquote&gt;</th>\n",
       "      <td>3.695652</td>\n",
       "    </tr>\n",
       "    <tr>\n",
       "      <th>&lt;blockquote&gt;\\n  &lt;h1 id=\"glod\"&gt;GLOD&lt;/h1&gt;\\n  &lt;p&gt;&lt;br&gt;&lt;/p&gt;\\n&lt;/blockquote&gt;</th>\n",
       "      <td>3.565217</td>\n",
       "    </tr>\n",
       "    <tr>\n",
       "      <th>&lt;blockquote&gt;\\n  &lt;h1 id=\"knig\"&gt;KNIG&lt;/h1&gt;\\n  &lt;p&gt;&lt;br&gt;&lt;/p&gt;\\n&lt;/blockquote&gt;</th>\n",
       "      <td>3.793103</td>\n",
       "    </tr>\n",
       "    <tr>\n",
       "      <th>&lt;blockquote&gt;\\n  &lt;h1 id=\"sonw\"&gt;SONW&lt;/h1&gt;\\n  &lt;p&gt;&lt;br&gt;&lt;/p&gt;\\n&lt;/blockquote&gt;</th>\n",
       "      <td>3.625000</td>\n",
       "    </tr>\n",
       "  </tbody>\n",
       "</table>\n",
       "</div>"
      ],
      "text/plain": [
       "                                                        ahas\n",
       "anagrams                                                    \n",
       "<blockquote>\\n  <h1 id=\"bluk\">BLUK</h1>\\n  <p><...  3.391304\n",
       "<blockquote>\\n  <h1 id=\"brid\">BRID</h1>\\n  <p><...  3.695652\n",
       "<blockquote>\\n  <h1 id=\"glod\">GLOD</h1>\\n  <p><...  3.565217\n",
       "<blockquote>\\n  <h1 id=\"knig\">KNIG</h1>\\n  <p><...  3.793103\n",
       "<blockquote>\\n  <h1 id=\"sonw\">SONW</h1>\\n  <p><...  3.625000"
      ]
     },
     "execution_count": 87,
     "metadata": {},
     "output_type": "execute_result"
    }
   ],
   "source": [
    "#g analyze if there is any item effect on the last anagram\n",
    "d = {'anagrams': test_stimulus_easy, 'ahas': exp_aha}\n",
    "df = pd.DataFrame(data=d)\n",
    "df.groupby(['anagrams']).mean()"
   ]
  },
  {
   "cell_type": "code",
   "execution_count": 148,
   "metadata": {},
   "outputs": [
    {
     "data": {
      "text/html": [
       "<div>\n",
       "<style scoped>\n",
       "    .dataframe tbody tr th:only-of-type {\n",
       "        vertical-align: middle;\n",
       "    }\n",
       "\n",
       "    .dataframe tbody tr th {\n",
       "        vertical-align: top;\n",
       "    }\n",
       "\n",
       "    .dataframe thead th {\n",
       "        text-align: right;\n",
       "    }\n",
       "</style>\n",
       "<table border=\"1\" class=\"dataframe\">\n",
       "  <thead>\n",
       "    <tr style=\"text-align: right;\">\n",
       "      <th></th>\n",
       "      <th>ahas</th>\n",
       "    </tr>\n",
       "    <tr>\n",
       "      <th>anagrams</th>\n",
       "      <th></th>\n",
       "    </tr>\n",
       "  </thead>\n",
       "  <tbody>\n",
       "    <tr>\n",
       "      <th>&lt;blockquote&gt;\\n  &lt;h1 id=\"bluk\"&gt;BLUK&lt;/h1&gt;\\n  &lt;p&gt;&lt;br&gt;&lt;/p&gt;\\n&lt;/blockquote&gt;</th>\n",
       "      <td>4.000000</td>\n",
       "    </tr>\n",
       "    <tr>\n",
       "      <th>&lt;blockquote&gt;\\n  &lt;h1 id=\"brid\"&gt;BRID&lt;/h1&gt;\\n  &lt;p&gt;&lt;br&gt;&lt;/p&gt;\\n&lt;/blockquote&gt;</th>\n",
       "      <td>4.600000</td>\n",
       "    </tr>\n",
       "    <tr>\n",
       "      <th>&lt;blockquote&gt;\\n  &lt;h1 id=\"glod\"&gt;GLOD&lt;/h1&gt;\\n  &lt;p&gt;&lt;br&gt;&lt;/p&gt;\\n&lt;/blockquote&gt;</th>\n",
       "      <td>5.105263</td>\n",
       "    </tr>\n",
       "    <tr>\n",
       "      <th>&lt;blockquote&gt;\\n  &lt;h1 id=\"knig\"&gt;KNIG&lt;/h1&gt;\\n  &lt;p&gt;&lt;br&gt;&lt;/p&gt;\\n&lt;/blockquote&gt;</th>\n",
       "      <td>4.192308</td>\n",
       "    </tr>\n",
       "    <tr>\n",
       "      <th>&lt;blockquote&gt;\\n  &lt;h1 id=\"sonw\"&gt;SONW&lt;/h1&gt;\\n  &lt;p&gt;&lt;br&gt;&lt;/p&gt;\\n&lt;/blockquote&gt;</th>\n",
       "      <td>4.650000</td>\n",
       "    </tr>\n",
       "  </tbody>\n",
       "</table>\n",
       "</div>"
      ],
      "text/plain": [
       "                                                        ahas\n",
       "anagrams                                                    \n",
       "<blockquote>\\n  <h1 id=\"bluk\">BLUK</h1>\\n  <p><...  4.000000\n",
       "<blockquote>\\n  <h1 id=\"brid\">BRID</h1>\\n  <p><...  4.600000\n",
       "<blockquote>\\n  <h1 id=\"glod\">GLOD</h1>\\n  <p><...  5.105263\n",
       "<blockquote>\\n  <h1 id=\"knig\">KNIG</h1>\\n  <p><...  4.192308\n",
       "<blockquote>\\n  <h1 id=\"sonw\">SONW</h1>\\n  <p><...  4.650000"
      ]
     },
     "execution_count": 148,
     "metadata": {},
     "output_type": "execute_result"
    }
   ],
   "source": [
    "#g analyze if there is any item effect on the last anagram\n",
    "d = {'anagrams': test_stimulus_hard, 'ahas': hard_aha}\n",
    "df = pd.DataFrame(data=d)\n",
    "df.groupby(['anagrams']).mean()"
   ]
  },
  {
   "cell_type": "code",
   "execution_count": 15,
   "metadata": {},
   "outputs": [
    {
     "data": {
      "image/png": "[encoded data removed]",
      "text/plain": [
       "<Figure size 288x360 with 1 Axes>"
      ]
     },
     "metadata": {},
     "output_type": "display_data"
    },
    {
     "name": "stdout",
     "output_type": "stream",
     "text": [
      "4.4655172413793105 3.622950819672131\n"
     ]
    }
   ],
   "source": [
    "import seaborn as sns\n",
    "sns.set(style=\"whitegrid\", font_scale=1.5, rc={'figure.figsize':(4,5), \n",
    "                                              \"grid.linewidth\": 1, \"axes.linewidth\": 1, \n",
    "                                              })\n",
    "\n",
    "hard_aha_mean = np.mean(hard_aha)\n",
    "hard_aha_error = stats.sem(hard_aha)\n",
    "exp_aha_mean = np.mean(exp_aha)\n",
    "exp_aha_error = stats.sem(exp_aha)\n",
    "\n",
    "ax = sns.barplot(\n",
    "    np.arange(2), \n",
    "    [exp_aha_mean, hard_aha_mean],\n",
    "    yerr=[exp_aha_error, hard_aha_error],\n",
    "    palette=\"Blues\", errcolor=\".2\", edgecolor=\".2\",linewidth=2.5, error_kw=dict(ecolor='k', lw=2.5, capsize=5, capthick=2)\n",
    ")\n",
    "plt.xticks(np.arange(2), ['Expected','Unexpected'])\n",
    "#ax.set(ylabel='Mean Aha! rating on the test anagram')\n",
    "ax.tick_params(axis=u'both', which=u'both',length=0)\n",
    "plt.ylim([1,7]) \n",
    "sns.despine(ax=ax, left=True, top=False)\n",
    "plt.savefig('Aha_Exp2.png',dpi=1200)\n",
    "plt.show()\n",
    "print(hard_aha_mean, exp_aha_mean)\n"
   ]
  },
  {
   "cell_type": "code",
   "execution_count": 17,
   "metadata": {},
   "outputs": [
    {
     "name": "stdout",
     "output_type": "stream",
     "text": [
      "3.1351973885107487 0.001935245682003974\n"
     ]
    }
   ],
   "source": [
    "t, p = ttest_ind(hard_aha, exp_aha)\n",
    "print(t, p)"
   ]
  },
  {
   "cell_type": "code",
   "execution_count": 25,
   "metadata": {},
   "outputs": [
    {
     "data": {
      "text/html": [
       "<div>\n",
       "<style scoped>\n",
       "    .dataframe tbody tr th:only-of-type {\n",
       "        vertical-align: middle;\n",
       "    }\n",
       "\n",
       "    .dataframe tbody tr th {\n",
       "        vertical-align: top;\n",
       "    }\n",
       "\n",
       "    .dataframe thead th {\n",
       "        text-align: right;\n",
       "    }\n",
       "</style>\n",
       "<table border=\"1\" class=\"dataframe\">\n",
       "  <thead>\n",
       "    <tr style=\"text-align: right;\">\n",
       "      <th></th>\n",
       "      <th>ahas</th>\n",
       "    </tr>\n",
       "    <tr>\n",
       "      <th>anagrams</th>\n",
       "      <th></th>\n",
       "    </tr>\n",
       "  </thead>\n",
       "  <tbody>\n",
       "    <tr>\n",
       "      <th>&lt;blockquote&gt;\\n  &lt;h1 id=\"bluk\"&gt;BLUK&lt;/h1&gt;\\n  &lt;p&gt;&lt;br&gt;&lt;/p&gt;\\n&lt;/blockquote&gt;</th>\n",
       "      <td>23</td>\n",
       "    </tr>\n",
       "    <tr>\n",
       "      <th>&lt;blockquote&gt;\\n  &lt;h1 id=\"brid\"&gt;BRID&lt;/h1&gt;\\n  &lt;p&gt;&lt;br&gt;&lt;/p&gt;\\n&lt;/blockquote&gt;</th>\n",
       "      <td>23</td>\n",
       "    </tr>\n",
       "    <tr>\n",
       "      <th>&lt;blockquote&gt;\\n  &lt;h1 id=\"glod\"&gt;GLOD&lt;/h1&gt;\\n  &lt;p&gt;&lt;br&gt;&lt;/p&gt;\\n&lt;/blockquote&gt;</th>\n",
       "      <td>23</td>\n",
       "    </tr>\n",
       "    <tr>\n",
       "      <th>&lt;blockquote&gt;\\n  &lt;h1 id=\"knig\"&gt;KNIG&lt;/h1&gt;\\n  &lt;p&gt;&lt;br&gt;&lt;/p&gt;\\n&lt;/blockquote&gt;</th>\n",
       "      <td>29</td>\n",
       "    </tr>\n",
       "    <tr>\n",
       "      <th>&lt;blockquote&gt;\\n  &lt;h1 id=\"sonw\"&gt;SONW&lt;/h1&gt;\\n  &lt;p&gt;&lt;br&gt;&lt;/p&gt;\\n&lt;/blockquote&gt;</th>\n",
       "      <td>24</td>\n",
       "    </tr>\n",
       "  </tbody>\n",
       "</table>\n",
       "</div>"
      ],
      "text/plain": [
       "                                                    ahas\n",
       "anagrams                                                \n",
       "<blockquote>\\n  <h1 id=\"bluk\">BLUK</h1>\\n  <p><...    23\n",
       "<blockquote>\\n  <h1 id=\"brid\">BRID</h1>\\n  <p><...    23\n",
       "<blockquote>\\n  <h1 id=\"glod\">GLOD</h1>\\n  <p><...    23\n",
       "<blockquote>\\n  <h1 id=\"knig\">KNIG</h1>\\n  <p><...    29\n",
       "<blockquote>\\n  <h1 id=\"sonw\">SONW</h1>\\n  <p><...    24"
      ]
     },
     "execution_count": 25,
     "metadata": {},
     "output_type": "execute_result"
    }
   ],
   "source": [
    "test_stimulus = test_stimulus_easy+test_stimulus_hard\n",
    "aha = exp_aha+hard_aha\n",
    "a = [1] * len(test_stimulus_hard)\n",
    "b = [0] * len(test_stimulus_easy)\n",
    "condition = b + a\n",
    "\n",
    "\n",
    "d = {'anagrams': test_stimulus_hard, 'ahas': hard_aha}\n",
    "df1 = pd.DataFrame(data=d)\n",
    "\n",
    "d = {'anagrams': test_stimulus_easy, 'ahas': exp_aha}\n",
    "df2 = pd.DataFrame(data=d)\n",
    "\n",
    "d = {'anagrams': test_stimulus, 'ahas': aha, 'condition': condition}\n",
    "df = pd.DataFrame(data=d)\n",
    "\n",
    "df2.groupby(['anagrams']).count()"
   ]
  },
  {
   "cell_type": "code",
   "execution_count": 26,
   "metadata": {},
   "outputs": [
    {
     "name": "stderr",
     "output_type": "stream",
     "text": [
      "C:\\Users\\RACH0_000\\Anaconda3\\lib\\site-packages\\statsmodels\\base\\model.py:568: ConvergenceWarning: Maximum Likelihood optimization failed to converge. Check mle_retvals\n",
      "  \"Check mle_retvals\", ConvergenceWarning)\n",
      "C:\\Users\\RACH0_000\\Anaconda3\\lib\\site-packages\\statsmodels\\regression\\mixed_linear_model.py:2114: ConvergenceWarning: Retrying MixedLM optimization with lbfgs\n",
      "  ConvergenceWarning)\n",
      "C:\\Users\\RACH0_000\\Anaconda3\\lib\\site-packages\\statsmodels\\base\\model.py:568: ConvergenceWarning: Maximum Likelihood optimization failed to converge. Check mle_retvals\n",
      "  \"Check mle_retvals\", ConvergenceWarning)\n",
      "C:\\Users\\RACH0_000\\Anaconda3\\lib\\site-packages\\statsmodels\\regression\\mixed_linear_model.py:2114: ConvergenceWarning: Retrying MixedLM optimization with cg\n",
      "  ConvergenceWarning)\n",
      "C:\\Users\\RACH0_000\\Anaconda3\\lib\\site-packages\\statsmodels\\base\\model.py:568: ConvergenceWarning: Maximum Likelihood optimization failed to converge. Check mle_retvals\n",
      "  \"Check mle_retvals\", ConvergenceWarning)\n",
      "C:\\Users\\RACH0_000\\Anaconda3\\lib\\site-packages\\statsmodels\\regression\\mixed_linear_model.py:2118: ConvergenceWarning: MixedLM optimization failed, trying a different optimizer may help.\n",
      "  warnings.warn(msg, ConvergenceWarning)\n",
      "C:\\Users\\RACH0_000\\Anaconda3\\lib\\site-packages\\statsmodels\\regression\\mixed_linear_model.py:2130: ConvergenceWarning: Gradient optimization failed, |grad| = 3.332742\n",
      "  warnings.warn(msg, ConvergenceWarning)\n",
      "C:\\Users\\RACH0_000\\Anaconda3\\lib\\site-packages\\statsmodels\\regression\\mixed_linear_model.py:2149: ConvergenceWarning: The MLE may be on the boundary of the parameter space.\n",
      "  warnings.warn(msg, ConvergenceWarning)\n"
     ]
    },
    {
     "data": {
      "text/html": [
       "<table class=\"simpletable\">\n",
       "<tr>\n",
       "       <td>Model:</td>       <td>MixedLM</td> <td>Dependent Variable:</td>   <td>ahas</td>   \n",
       "</tr>\n",
       "<tr>\n",
       "  <td>No. Observations:</td>   <td>238</td>         <td>Method:</td>         <td>REML</td>   \n",
       "</tr>\n",
       "<tr>\n",
       "     <td>No. Groups:</td>       <td>5</td>          <td>Scale:</td>         <td>4.2916</td>  \n",
       "</tr>\n",
       "<tr>\n",
       "  <td>Min. group size:</td>    <td>42</td>      <td>Log-Likelihood:</td>   <td>-511.6826</td>\n",
       "</tr>\n",
       "<tr>\n",
       "  <td>Max. group size:</td>    <td>55</td>        <td>Converged:</td>         <td>No</td>    \n",
       "</tr>\n",
       "<tr>\n",
       "  <td>Mean group size:</td>   <td>47.6</td>            <td></td>               <td></td>     \n",
       "</tr>\n",
       "</table>\n",
       "<table class=\"simpletable\">\n",
       "<tr>\n",
       "      <td></td>      <th>Coef.</th> <th>Std.Err.</th>    <th>z</th>   <th>P>|z|</th> <th>[0.025</th> <th>0.975]</th>\n",
       "</tr>\n",
       "<tr>\n",
       "  <th>Intercept</th> <td>3.623</td>   <td>0.191</td>  <td>18.934</td> <td>0.000</td>  <td>3.248</td>  <td>3.998</td>\n",
       "</tr>\n",
       "<tr>\n",
       "  <th>condition</th> <td>0.844</td>   <td>0.275</td>   <td>3.074</td> <td>0.002</td>  <td>0.306</td>  <td>1.382</td>\n",
       "</tr>\n",
       "<tr>\n",
       "  <th>Group Var</th> <td>0.007</td>   <td>0.165</td>     <td></td>      <td></td>       <td></td>       <td></td>   \n",
       "</tr>\n",
       "</table>"
      ],
      "text/plain": [
       "<class 'statsmodels.iolib.summary2.Summary'>\n",
       "\"\"\"\n",
       "         Mixed Linear Model Regression Results\n",
       "=======================================================\n",
       "Model:            MixedLM Dependent Variable: ahas     \n",
       "No. Observations: 238     Method:             REML     \n",
       "No. Groups:       5       Scale:              4.2916   \n",
       "Min. group size:  42      Log-Likelihood:     -511.6826\n",
       "Max. group size:  55      Converged:          No       \n",
       "Mean group size:  47.6                                 \n",
       "-------------------------------------------------------\n",
       "              Coef. Std.Err.   z    P>|z| [0.025 0.975]\n",
       "-------------------------------------------------------\n",
       "Intercept     3.623    0.191 18.934 0.000  3.248  3.998\n",
       "condition     0.844    0.275  3.074 0.002  0.306  1.382\n",
       "Group Var     0.007    0.165                           \n",
       "=======================================================\n",
       "\n",
       "\"\"\""
      ]
     },
     "execution_count": 26,
     "metadata": {},
     "output_type": "execute_result"
    }
   ],
   "source": [
    "#mixed effects linear model to test effect of condition and item on Aha! rating\n",
    "import statsmodels.api as sm\n",
    "import statsmodels.formula.api as smf                                                                                               \n",
    "\n",
    "mixed = smf.mixedlm(\"ahas ~ condition\", df, groups=df[\"anagrams\"])\n",
    "mixed_fit = mixed.fit()\n",
    "#print the summary\n",
    "mixed_fit.summary()"
   ]
  },
  {
   "cell_type": "code",
   "execution_count": 56,
   "metadata": {},
   "outputs": [
    {
     "name": "stdout",
     "output_type": "stream",
     "text": [
      "[5, 5, 5, 3, 3, 3, 0, 0, 0, 0, 0, 0, 0, 0, 0, 0, 0, 0, 0, 0, 0, 0, 0, 0, 0, 0, 0, 1, 1, 0, 0, 0, 0, 0, 1, 2, 2, 2, 2, 2, 2, 0, 0, 0, 0, 0, 0, 0, 0, 0, 0, 0, 0, 0, 0, 0, 0, 0, 0, 0, 0, 0, 0, 0, 1, 1, 0, 0, 0, 0, 0, 0, 0, 0, 0, 0, 0, 0, 0, 0, 0, 0, 0, 0, 0]\n"
     ]
    },
    {
     "data": {
      "image/png": "[encoded data removed]",
      "text/plain": [
       "<Figure size 504x216 with 1 Axes>"
      ]
     },
     "metadata": {},
     "output_type": "display_data"
    }
   ],
   "source": [
    "plt.hist(hard_pleasant)\n",
    "\n",
    "print(hard_pleasant1)"
   ]
  },
  {
   "cell_type": "code",
   "execution_count": 60,
   "metadata": {},
   "outputs": [
    {
     "data": {
      "image/png": "[encoded data removed]",
      "text/plain": [
       "<Figure size 288x360 with 1 Axes>"
      ]
     },
     "metadata": {},
     "output_type": "display_data"
    },
    {
     "data": {
      "image/png": "[encoded data removed]",
      "text/plain": [
       "<Figure size 288x360 with 1 Axes>"
      ]
     },
     "metadata": {},
     "output_type": "display_data"
    }
   ],
   "source": [
    "hard_pleasant_mean1 = np.mean(hard_pleasant1)\n",
    "hard_pleasant_error1 = stats.sem(hard_pleasant1)\n",
    "hard_pleasant_mean2 = np.mean(hard_pleasant2)\n",
    "hard_pleasant_error2 = stats.sem(hard_pleasant2)\n",
    "hard_pleasant_mean3 = np.mean(hard_pleasant3)\n",
    "hard_pleasant_error3 = stats.sem(hard_pleasant3)\n",
    "hard_pleasant_mean4 = np.mean(hard_pleasant4)\n",
    "hard_pleasant_error4 = stats.sem(hard_pleasant4)\n",
    "hard_pleasant_mean = np.mean(hard_pleasant) #final anagram\n",
    "hard_pleasant_error = stats.sem(hard_pleasant)\n",
    "\n",
    "plt.bar(\n",
    "    np.arange(5),\n",
    "    [hard_pleasant_mean1, hard_pleasant_mean2, hard_pleasant_mean3, hard_pleasant_mean4, hard_pleasant_mean],\n",
    "    yerr=[hard_pleasant_error1, hard_pleasant_error2, hard_pleasant_error3, hard_pleasant_error4, hard_pleasant_error]\n",
    ")\n",
    "plt.show()\n",
    "\n",
    "plt.figure(2)\n",
    "\n",
    "exp_pleasant_mean1 = np.mean(exp_pleasant1)\n",
    "exp_pleasant_error1 = stats.sem(exp_pleasant1)\n",
    "exp_pleasant_mean2 = np.mean(exp_pleasant2)\n",
    "exp_pleasant_error2 = stats.sem(exp_pleasant2)\n",
    "exp_pleasant_mean3 = np.mean(exp_pleasant3)\n",
    "exp_pleasant_error3 = stats.sem(exp_pleasant3)\n",
    "exp_pleasant_mean4 = np.mean(exp_pleasant4)\n",
    "exp_pleasant_error4 = stats.sem(exp_pleasant4)\n",
    "exp_pleasant_mean = np.mean(exp_pleasant) #final anagram\n",
    "exp_pleasant_error = stats.sem(exp_pleasant)\n",
    "\n",
    "plt.bar(\n",
    "    np.arange(5),\n",
    "    [exp_pleasant_mean1, exp_pleasant_mean2, exp_pleasant_mean3, exp_pleasant_mean4, exp_pleasant_mean],\n",
    "    yerr=[exp_pleasant_error1, exp_pleasant_error2, exp_pleasant_error3, exp_pleasant_error4, exp_pleasant_error]\n",
    ")\n",
    "plt.show()\n"
   ]
  },
  {
   "cell_type": "code",
   "execution_count": 63,
   "metadata": {},
   "outputs": [
    {
     "data": {
      "image/png": "[encoded data removed]",
      "text/plain": [
       "<Figure size 504x216 with 1 Axes>"
      ]
     },
     "metadata": {},
     "output_type": "display_data"
    },
    {
     "data": {
      "image/png": "[encoded data removed]",
      "text/plain": [
       "<Figure size 504x216 with 1 Axes>"
      ]
     },
     "metadata": {},
     "output_type": "display_data"
    }
   ],
   "source": [
    "import seaborn as sns\n",
    "sns.set(style=\"white\", font_scale=1.25, rc={'figure.figsize':(7,3)})\n",
    "\n",
    "def change_width(ax, new_value) :\n",
    "    for patch in ax.patches :\n",
    "        current_width = patch.get_width()\n",
    "        diff = current_width - new_value\n",
    "\n",
    "        # we change the bar width\n",
    "        patch.set_width(new_value)\n",
    "\n",
    "        # we recenter the bar\n",
    "        patch.set_x(patch.get_x() + diff * .5)\n",
    "\n",
    "hard_aha_mean1 = np.mean(hard_aha1)\n",
    "hard_aha_error1 = stats.sem(hard_aha1)\n",
    "hard_aha_mean2 = np.mean(hard_aha2)\n",
    "hard_aha_error2 = stats.sem(hard_aha2)\n",
    "hard_aha_mean3 = np.mean(hard_aha3)\n",
    "hard_aha_error3 = stats.sem(hard_aha3)\n",
    "hard_aha_mean4 = np.mean(hard_aha4)\n",
    "hard_aha_error4 = stats.sem(hard_aha4)\n",
    "hard_aha_mean = np.mean(hard_aha) #final anagram\n",
    "hard_aha_error = stats.sem(hard_aha)\n",
    "\n",
    "ax = sns.barplot(\n",
    "    np.arange(5),\n",
    "    [hard_aha_mean1, hard_aha_mean2, hard_aha_mean3, hard_aha_mean4, hard_aha_mean],\n",
    "    yerr=[hard_aha_error1, hard_aha_error2, hard_aha_error3, hard_aha_error4, hard_aha_error],\n",
    "    palette=\"rocket\", linewidth=2.5, error_kw=dict(ecolor='k', lw=2.5, capsize=5, capthick=2)\n",
    ")\n",
    "\n",
    "plt.xticks(np.arange(5), ['IORCNAG','HNATUYG', 'KHAOMCM','DALRBEU','SONW'])\n",
    "ax.set(title = 'Trajectory of Aha ratings for Condition 2', ylabel='Mean Aha rating')\n",
    "ax.tick_params(axis=u'both', which=u'both',length=0)\n",
    "plt.ylim([0,7]) \n",
    "change_width(ax, .5)\n",
    "plt.show()\n",
    "\n",
    "plt.figure(2)\n",
    "\n",
    "exp_aha_mean1 = np.mean(exp_aha1)\n",
    "exp_aha_error1 = stats.sem(exp_aha1)\n",
    "exp_aha_mean2 = np.mean(exp_aha2)\n",
    "exp_aha_error2 = stats.sem(exp_aha2)\n",
    "exp_aha_mean3 = np.mean(exp_aha3)\n",
    "exp_aha_error3 = stats.sem(exp_aha3)\n",
    "exp_aha_mean4 = np.mean(exp_aha4)\n",
    "exp_aha_error4 = stats.sem(exp_aha4)\n",
    "exp_aha_mean = np.mean(exp_aha) #final anagram\n",
    "exp_aha_error = stats.sem(exp_aha)\n",
    "\n",
    "ax = sns.barplot(\n",
    "    np.arange(5),\n",
    "    [exp_aha_mean1, exp_aha_mean2, exp_aha_mean3, exp_aha_mean4, exp_aha_mean],\n",
    "    yerr=[exp_aha_error1, exp_aha_error2, exp_aha_error3, exp_aha_error4, exp_aha_error],\n",
    "    palette=\"rocket\", linewidth=2.5, error_kw=dict(ecolor='k', lw=2.5, capsize=5, capthick=2)\n",
    ")\n",
    "plt.xticks(np.arange(5), ['SROT','BLUK', 'PITN','OROD','SONW'])\n",
    "ax.set(title = 'Trajectory of Aha ratings for Condition 1', ylabel='Mean Aha rating')\n",
    "ax.tick_params(axis=u'both', which=u'both',length=0)\n",
    "plt.ylim([0,7]) \n",
    "change_width(ax, .5)\n",
    "plt.show()\n"
   ]
  },
  {
   "cell_type": "code",
   "execution_count": null,
   "metadata": {
    "collapsed": true
   },
   "outputs": [],
   "source": []
  }
 ],
 "metadata": {
  "kernelspec": {
   "display_name": "Python 3",
   "language": "python",
   "name": "python3"
  },
  "language_info": {
   "codemirror_mode": {
    "name": "ipython",
    "version": 3
   },
   "file_extension": ".py",
   "mimetype": "text/x-python",
   "name": "python",
   "nbconvert_exporter": "python",
   "pygments_lexer": "ipython3",
   "version": "3.5.3"
  }
 },
 "nbformat": 4,
 "nbformat_minor": 2
}
