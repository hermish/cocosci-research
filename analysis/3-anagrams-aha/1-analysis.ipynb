{
 "cells": [
  {
   "cell_type": "code",
   "execution_count": 100,
   "metadata": {
    "collapsed": false
   },
   "outputs": [],
   "source": [
    "%matplotlib inline\n",
    "\n",
    "import matplotlib\n",
    "import numpy as np\n",
    "import matplotlib.pyplot as plt\n",
    "\n",
    "import json\n",
    "import numpy as np\n",
    "import seaborn as sns\n",
    "import matplotlib.pyplot as plt\n",
    "from scipy import stats\n",
    "import pandas as pd\n",
    "import scipy\n",
    "from scipy.stats import ttest_ind, ttest_ind_from_stats\n",
    "from scipy.special import stdtr"
   ]
  },
  {
   "cell_type": "code",
   "execution_count": 101,
   "metadata": {
    "collapsed": false
   },
   "outputs": [
    {
     "data": {
      "text/plain": [
       "318"
      ]
     },
     "execution_count": 101,
     "metadata": {},
     "output_type": "execute_result"
    }
   ],
   "source": [
    "FILE_PATH = 'data/entries.json'\n",
    "\n",
    "all_entries = []\n",
    "with open(FILE_PATH) as file:\n",
    "    for line in file:\n",
    "        entry = json.loads(line)\n",
    "        all_entries.append(entry)\n",
    "len(all_entries)"
   ]
  },
  {
   "cell_type": "code",
   "execution_count": 102,
   "metadata": {
    "collapsed": false
   },
   "outputs": [
    {
     "name": "stdout",
     "output_type": "stream",
     "text": [
      "86 81\n",
      "73 78\n"
     ]
    }
   ],
   "source": [
    "control_start, exp_start = [], []\n",
    "control_finish, exp_finish = [], []\n",
    "starts = [control_start, exp_start]\n",
    "finishes = [control_finish, exp_finish]\n",
    "\n",
    "for entry in all_entries:\n",
    "    if isinstance(entry['data'], dict):\n",
    "        condition = entry['data']['conditionNumber']\n",
    "        starts[condition].append(entry)\n",
    "    else:\n",
    "        condition = entry['data'][0]['conditionNumber']\n",
    "        finishes[condition].append(entry)\n",
    "\n",
    "print(len(control_start), len(exp_start))\n",
    "print(len(control_finish), len(exp_finish))\n"
   ]
  },
  {
   "cell_type": "code",
   "execution_count": 103,
   "metadata": {
    "collapsed": false
   },
   "outputs": [
    {
     "name": "stdout",
     "output_type": "stream",
     "text": [
      "44 60\n"
     ]
    }
   ],
   "source": [
    "contol_aha, control_pleasant, control_correct = [], [], []\n",
    "for entry in control_finish:\n",
    "    entry_data = entry['data']\n",
    "        \n",
    "    correct = 0 #number of correct answers\n",
    "    answers = ['organic', 'naughty', 'hammock', 'durable']\n",
    "    for n in [4,7,10,13]:\n",
    "        ans = entry_data[n]['responses'] #get people's answer here \n",
    "        for k in [0,1,2,3]:\n",
    "            if answers[k].lower() in ans.lower():\n",
    "                correct = correct+1 #get total number of anagrams people got correct here\n",
    "        \n",
    "    rating = entry_data[17]['responses'] #did they get the correct answer for test anagram here\n",
    "    \n",
    "    if int(rating[6]) > 0 and correct < 2 : #only get data if they got the last anagram and remove people if they got all answers correct\n",
    "    \n",
    "        rating = entry_data[19]['responses'] #aha response here\n",
    "        contol_aha.append(rating[6])\n",
    "        rating = entry_data[18]['responses'] #pleasant response here\n",
    "        control_pleasant.append(rating[6])\n",
    "        control_correct.append(correct)\n",
    "    else:\n",
    "        continue\n",
    "            \n",
    "exp_aha, exp_pleasant, exp_correct = [], [], []         \n",
    "for entry in exp_finish:\n",
    "    entry_data = entry['data']\n",
    "    \n",
    "    correct = 0 #number of correct answers\n",
    "    answers = ['door', 'bulk', 'pint', 'sort', 'rots']\n",
    "    for n in [4,7,10,13]:\n",
    "        ans = entry_data[n]['responses'] #get people's answer here \n",
    "        for k in [0,1,2,3,4]:\n",
    "            if answers[k].lower() in ans.lower():\n",
    "                correct = correct+1 #get total number of anagrams people got correct here\n",
    "        \n",
    "    rating = entry_data[17]['responses'] #did they get the correct answer for last anagram here\n",
    "    \n",
    "    if int(rating[6]) > 0 and correct > 3: #only get data if they got the last anagram and remove people if they didnt get a single answer correct\n",
    "    \n",
    "        rating = entry_data[19]['responses'] #aha response here\n",
    "        exp_aha.append(rating[6])\n",
    "        rating = entry_data[18]['responses'] #pleasant response here\n",
    "        exp_pleasant.append(rating[6])\n",
    "        exp_correct.append(correct)\n",
    "    else:\n",
    "        continue   \n",
    "        \n",
    "def clean(values):\n",
    "    return [int(value)+1 for value in values]\n",
    "\n",
    "contol_aha = clean(contol_aha)\n",
    "control_pleasant = clean(control_pleasant)\n",
    "exp_aha, exp_pleasant = clean(exp_aha), clean(exp_pleasant)\n",
    "          \n",
    "print(len(contol_aha), len(exp_aha))\n",
    "#print(len(exp_aha), len(exp_pleasant))"
   ]
  },
  {
   "cell_type": "code",
   "execution_count": null,
   "metadata": {
    "collapsed": false
   },
   "outputs": [],
   "source": []
  },
  {
   "cell_type": "code",
   "execution_count": 104,
   "metadata": {
    "collapsed": false
   },
   "outputs": [
    {
     "name": "stdout",
     "output_type": "stream",
     "text": [
      "4.068181818181818 3.966666666666667\n"
     ]
    },
    {
     "data": {
      "image/png": "[encoded data removed]",
      "text/plain": [
       "<matplotlib.figure.Figure at 0x1fdce6144a8>"
      ]
     },
     "metadata": {},
     "output_type": "display_data"
    },
    {
     "name": "stdout",
     "output_type": "stream",
     "text": [
      "0.05064326042622729\n"
     ]
    }
   ],
   "source": [
    "control_aha_mean = np.mean(contol_aha)\n",
    "control_aha_error = stats.sem(contol_aha)\n",
    "exp_aha_mean = np.mean(exp_aha)\n",
    "exp_aha_error = stats.sem(exp_aha)\n",
    "\n",
    "plt.bar(\n",
    "    np.arange(2),\n",
    "    [control_aha_mean, exp_aha_mean],\n",
    "    yerr=[control_aha_error, exp_aha_error]\n",
    ")\n",
    "\n",
    "print(control_aha_mean, exp_aha_mean)\n",
    "\n",
    "plt.show()\n",
    "\n",
    "print((control_aha_mean-exp_aha_mean)/np.std(contol_aha))\n"
   ]
  },
  {
   "cell_type": "code",
   "execution_count": 89,
   "metadata": {
    "collapsed": false
   },
   "outputs": [
    {
     "name": "stdout",
     "output_type": "stream",
     "text": [
      "0.26360327430867225 0.7925415514322702\n"
     ]
    }
   ],
   "source": [
    "t, p = ttest_ind(contol_aha, exp_aha)\n",
    "print(t, p)"
   ]
  },
  {
   "cell_type": "code",
   "execution_count": 105,
   "metadata": {
    "collapsed": false
   },
   "outputs": [
    {
     "name": "stdout",
     "output_type": "stream",
     "text": [
      "4.4772727272727275\n",
      "4.066666666666666\n"
     ]
    },
    {
     "data": {
      "image/png": "[encoded data removed]",
      "text/plain": [
       "<matplotlib.figure.Figure at 0x1fdd8b33940>"
      ]
     },
     "metadata": {},
     "output_type": "display_data"
    }
   ],
   "source": [
    "control_pleasant_mean = np.mean(control_pleasant)\n",
    "control_pleasant_error = stats.sem(control_pleasant)\n",
    "exp_pleasant_mean = np.mean(exp_pleasant)\n",
    "exp_pleasant_error = stats.sem(exp_pleasant)\n",
    "\n",
    "print(control_pleasant_mean)\n",
    "print(exp_pleasant_mean)\n",
    "\n",
    "plt.bar(\n",
    "    np.arange(2),\n",
    "    [control_pleasant_mean, exp_pleasant_mean],\n",
    "    yerr=[control_pleasant_error, exp_pleasant_error]\n",
    ")\n",
    "plt.show()"
   ]
  },
  {
   "cell_type": "code",
   "execution_count": 91,
   "metadata": {
    "collapsed": false
   },
   "outputs": [
    {
     "name": "stdout",
     "output_type": "stream",
     "text": [
      "0.8148259020867338 0.41687897753275927\n"
     ]
    }
   ],
   "source": [
    "t, p = ttest_ind(control_pleasant, exp_pleasant, equal_var=False)\n",
    "print(t, p)"
   ]
  },
  {
   "cell_type": "code",
   "execution_count": 47,
   "metadata": {
    "collapsed": false
   },
   "outputs": [
    {
     "name": "stdout",
     "output_type": "stream",
     "text": [
      "[[ 1.         -0.09269182]\n",
      " [-0.09269182  1.        ]]\n",
      "[[1.         0.17743882]\n",
      " [0.17743882 1.        ]]\n"
     ]
    },
    {
     "data": {
      "image/png": "[encoded data removed]",
      "text/plain": [
       "<matplotlib.figure.Figure at 0x1fddb009fd0>"
      ]
     },
     "metadata": {},
     "output_type": "display_data"
    }
   ],
   "source": [
    "control_correct_mean = np.mean(control_correct)\n",
    "control_correct_error = stats.sem(control_correct)\n",
    "exp_correct_mean = np.mean(exp_correct)\n",
    "exp_correct_error = stats.sem(exp_correct)\n",
    "\n",
    "plt.bar(\n",
    "    np.arange(2),\n",
    "    [control_correct_mean, exp_correct_mean],\n",
    "    yerr=[control_correct_error, exp_correct_error]\n",
    ")\n",
    "\n",
    "print(np.corrcoef([control_correct], [contol_aha]))\n",
    "print(np.corrcoef([exp_correct], [exp_aha]))"
   ]
  },
  {
   "cell_type": "code",
   "execution_count": null,
   "metadata": {
    "collapsed": true
   },
   "outputs": [],
   "source": []
  }
 ],
 "metadata": {
  "kernelspec": {
   "display_name": "Python 3",
   "language": "python",
   "name": "python3"
  },
  "language_info": {
   "codemirror_mode": {
    "name": "ipython",
    "version": 3
   },
   "file_extension": ".py",
   "mimetype": "text/x-python",
   "name": "python",
   "nbconvert_exporter": "python",
   "pygments_lexer": "ipython3",
   "version": "3.5.3"
  }
 },
 "nbformat": 4,
 "nbformat_minor": 2
}
