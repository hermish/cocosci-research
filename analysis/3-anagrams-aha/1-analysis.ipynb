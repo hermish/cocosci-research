{
 "cells": [
  {
   "cell_type": "code",
   "execution_count": 144,
   "metadata": {
    "collapsed": false
   },
   "outputs": [],
   "source": [
    "%matplotlib inline\n",
    "\n",
    "import matplotlib\n",
    "import numpy as np\n",
    "import matplotlib.pyplot as plt\n",
    "\n",
    "import json\n",
    "import numpy as np\n",
    "import seaborn as sns\n",
    "import matplotlib.pyplot as plt\n",
    "from scipy import stats\n",
    "import pandas as pd\n",
    "import scipy\n",
    "from scipy.stats import ttest_ind, ttest_ind_from_stats\n",
    "from scipy.special import stdtr"
   ]
  },
  {
   "cell_type": "code",
   "execution_count": 155,
   "metadata": {
    "collapsed": false
   },
   "outputs": [
    {
     "data": {
      "text/plain": [
       "330"
      ]
     },
     "execution_count": 155,
     "metadata": {},
     "output_type": "execute_result"
    }
   ],
   "source": [
    "FILE_PATH = 'data/pilot2.json'\n",
    "\n",
    "all_entries = []\n",
    "with open(FILE_PATH) as file:\n",
    "    for line in file:\n",
    "        entry = json.loads(line)\n",
    "        all_entries.append(entry)\n",
    "len(all_entries)"
   ]
  },
  {
   "cell_type": "code",
   "execution_count": 156,
   "metadata": {
    "collapsed": false
   },
   "outputs": [
    {
     "name": "stdout",
     "output_type": "stream",
     "text": [
      "81 89\n",
      "73 87\n"
     ]
    }
   ],
   "source": [
    "#control is hard condition, exp is easy condition, should change variable names\n",
    "control_start, exp_start = [], []\n",
    "control_finish, exp_finish = [], []\n",
    "starts = [control_start, exp_start]\n",
    "finishes = [control_finish, exp_finish]\n",
    "\n",
    "for entry in all_entries:\n",
    "    if isinstance(entry['data'], dict):\n",
    "        condition = entry['data']['conditionNumber']\n",
    "        starts[condition].append(entry)\n",
    "    else:\n",
    "        condition = entry['data'][0]['conditionNumber']\n",
    "        finishes[condition].append(entry)\n",
    "\n",
    "print(len(control_start), len(exp_start))\n",
    "print(len(control_finish), len(exp_finish))\n"
   ]
  },
  {
   "cell_type": "code",
   "execution_count": 176,
   "metadata": {
    "collapsed": false
   },
   "outputs": [
    {
     "name": "stdout",
     "output_type": "stream",
     "text": [
      "22 56\n"
     ]
    }
   ],
   "source": [
    "contol_aha, control_pleasant, control_correct = [], [], [] #final ratings for the last anagram\n",
    "control_pleasant1, control_pleasant2, control_pleasant3, control_pleasant4 = [], [], [],[]\n",
    "for entry in control_finish:\n",
    "    entry_data = entry['data']\n",
    "        \n",
    "    correct = 0 #number of correct answers\n",
    "    answers = ['organic', 'naughty', 'hammock', 'durable']\n",
    "    \n",
    "    for n in [4,8,12,16]: #loop to collect answers\n",
    "        ans = entry_data[n]['responses'] #get people's answer here \n",
    "        for k in [0,1,2,3]:\n",
    "            if answers[k].lower() in ans.lower():\n",
    "                correct = correct+1 #get total number of anagrams people got correct here\n",
    "    \n",
    "    #collect pleasantness ratings\n",
    "    r = entry_data[5]['responses'] #get people's pleasant rating here\n",
    "    control_pleasant1.append(int(r[6]))\n",
    "    \n",
    "    r = entry_data[9]['responses']\n",
    "    control_pleasant2.append(int(r[6]))\n",
    "    \n",
    "    r = entry_data[13]['responses'] \n",
    "    control_pleasant3.append(int(r[6]))\n",
    "    \n",
    "    r = entry_data[17]['responses'] \n",
    "    control_pleasant4.append(int(r[6]))\n",
    "    \n",
    "    #check whether their answer to delta was correct or not. \n",
    "    \n",
    "    last = entry_data[20]['responses'] #did they get the correct answer for last anagram here\n",
    "    check = 0\n",
    "    ans = ['delta', 'taled', 'dealt']\n",
    "    for k in [0,1,2]:\n",
    "        if ans[k].lower() in last.lower():\n",
    "            check = 1            \n",
    "    \n",
    "    if check > 0 and correct < 1 : #only get data if they got the last anagram and remove people if they got all answers correct\n",
    "    \n",
    "        rating = entry_data[23]['responses'] #aha response here\n",
    "        contol_aha.append(rating[6])\n",
    "        rating = entry_data[22]['responses'] #pleasant response here\n",
    "        control_pleasant.append(rating[6])\n",
    "        control_correct.append(correct)\n",
    "    else:\n",
    "        continue\n",
    "            \n",
    "exp_aha, exp_pleasant, exp_correct = [], [], []\n",
    "exp_pleasant1, exp_pleasant2, exp_pleasant3, exp_pleasant4 = [], [], [],[]\n",
    "for entry in exp_finish:\n",
    "    entry_data = entry['data']\n",
    "    \n",
    "    correct = 0 #number of correct answers\n",
    "    answers = ['door', 'bulk', 'pint', 'sort', 'rots']\n",
    "    for n in [4,8,12,16]:\n",
    "        ans = entry_data[n]['responses'] #get people's answer here \n",
    "        for k in [0,1,2,3,4]:\n",
    "            if answers[k].lower() in ans.lower():\n",
    "                correct = correct+1 #get total number of anagrams people got correct here\n",
    "                \n",
    "    #collect pleasantness ratings\n",
    "    r = entry_data[5]['responses'] #get people's pleasant rating here\n",
    "    exp_pleasant1.append(int(r[6]))\n",
    "    \n",
    "    r = entry_data[9]['responses']\n",
    "    exp_pleasant2.append(int(r[6]))\n",
    "    \n",
    "    r = entry_data[13]['responses'] \n",
    "    exp_pleasant3.append(int(r[6]))\n",
    "    \n",
    "    r = entry_data[17]['responses'] \n",
    "    exp_pleasant4.append(int(r[6]))\n",
    "   \n",
    "    last = entry_data[20]['responses'] #did they get the correct answer for last anagram here\n",
    "    check = 0\n",
    "    ans = ['delta', 'taled', 'dealt']\n",
    "    for k in [0,1,2]:\n",
    "        if ans[k].lower() in last.lower():\n",
    "            check = 1\n",
    "            \n",
    "    if check > 0 and correct > 3: #only get data if they got the last anagram and remove people if they didnt get a single answer correct\n",
    "    \n",
    "        rating = entry_data[23]['responses'] #aha response here\n",
    "        exp_aha.append(rating[6])\n",
    "        rating = entry_data[22]['responses'] #pleasant response here\n",
    "        exp_pleasant.append(rating[6])\n",
    "        exp_correct.append(correct)\n",
    "    else:\n",
    "        continue   \n",
    "        \n",
    "def clean(values):\n",
    "    return [int(value)+1 for value in values]\n",
    "\n",
    "contol_aha = clean(contol_aha)\n",
    "control_pleasant = clean(control_pleasant)\n",
    "exp_aha, exp_pleasant = clean(exp_aha), clean(exp_pleasant)\n",
    "          \n",
    "print(len(contol_aha), len(exp_aha))\n",
    "#print(len(exp_aha), len(exp_pleasant))"
   ]
  },
  {
   "cell_type": "code",
   "execution_count": null,
   "metadata": {
    "collapsed": false
   },
   "outputs": [],
   "source": []
  },
  {
   "cell_type": "code",
   "execution_count": 177,
   "metadata": {
    "collapsed": false
   },
   "outputs": [
    {
     "name": "stdout",
     "output_type": "stream",
     "text": [
      "4.2272727272727275 3.4107142857142856\n"
     ]
    },
    {
     "data": {
      "image/png": "[encoded data removed]",
      "text/plain": [
       "<matplotlib.figure.Figure at 0x22f4d75ba20>"
      ]
     },
     "metadata": {},
     "output_type": "display_data"
    },
    {
     "name": "stdout",
     "output_type": "stream",
     "text": [
      "0.42857227552291866\n"
     ]
    }
   ],
   "source": [
    "control_aha_mean = np.mean(contol_aha)\n",
    "control_aha_error = stats.sem(contol_aha)\n",
    "exp_aha_mean = np.mean(exp_aha)\n",
    "exp_aha_error = stats.sem(exp_aha)\n",
    "\n",
    "plt.bar(\n",
    "    np.arange(2),\n",
    "    [control_aha_mean, exp_aha_mean],\n",
    "    yerr=[control_aha_error, exp_aha_error]\n",
    ")\n",
    "\n",
    "print(control_aha_mean, exp_aha_mean)\n",
    "\n",
    "plt.show()\n",
    "\n",
    "print((control_aha_mean-exp_aha_mean)/np.std(contol_aha))\n"
   ]
  },
  {
   "cell_type": "code",
   "execution_count": 178,
   "metadata": {
    "collapsed": false
   },
   "outputs": [
    {
     "name": "stdout",
     "output_type": "stream",
     "text": [
      "1.5540485933672084 0.12432747449900594\n"
     ]
    }
   ],
   "source": [
    "t, p = ttest_ind(contol_aha, exp_aha)\n",
    "print(t, p)"
   ]
  },
  {
   "cell_type": "code",
   "execution_count": 163,
   "metadata": {
    "collapsed": false
   },
   "outputs": [
    {
     "name": "stdout",
     "output_type": "stream",
     "text": [
      "5.053571428571429\n",
      "5.621621621621622\n"
     ]
    },
    {
     "data": {
      "image/png": "[encoded data removed]",
      "text/plain": [
       "<matplotlib.figure.Figure at 0x22f4fa49908>"
      ]
     },
     "metadata": {},
     "output_type": "display_data"
    }
   ],
   "source": [
    "control_pleasant_mean = np.mean(control_pleasant)\n",
    "control_pleasant_error = stats.sem(control_pleasant)\n",
    "exp_pleasant_mean = np.mean(exp_pleasant)\n",
    "exp_pleasant_error = stats.sem(exp_pleasant)\n",
    "\n",
    "print(control_pleasant_mean)\n",
    "print(exp_pleasant_mean)\n",
    "\n",
    "plt.bar(\n",
    "    np.arange(2),\n",
    "    [control_pleasant_mean, exp_pleasant_mean],\n",
    "    yerr=[control_pleasant_error, exp_pleasant_error]\n",
    ")\n",
    "plt.show()"
   ]
  },
  {
   "cell_type": "code",
   "execution_count": 79,
   "metadata": {
    "collapsed": false
   },
   "outputs": [
    {
     "name": "stdout",
     "output_type": "stream",
     "text": [
      "-2.2507547540098867 0.028227372708127745\n"
     ]
    }
   ],
   "source": [
    "t, p = ttest_ind(control_pleasant, exp_pleasant, equal_var=False)\n",
    "print(t, p)"
   ]
  },
  {
   "cell_type": "code",
   "execution_count": 164,
   "metadata": {
    "collapsed": false
   },
   "outputs": [
    {
     "data": {
      "image/png": "[encoded data removed]",
      "text/plain": [
       "<matplotlib.figure.Figure at 0x22f4fc4bb38>"
      ]
     },
     "metadata": {},
     "output_type": "display_data"
    },
    {
     "data": {
      "image/png": "[encoded data removed]",
      "text/plain": [
       "<matplotlib.figure.Figure at 0x22f4fac6a90>"
      ]
     },
     "metadata": {},
     "output_type": "display_data"
    }
   ],
   "source": [
    "#perhaps it would be best if we didn't ask people \n",
    "#if they got the answer correctly or not in the fifth trial - new pilot for that\n",
    "#maybe can reduce time to 10 seconds to avoid cheating even more\n",
    "#also would best to give a four letter anagram in the last, instead of delta\n",
    "\n",
    "control_pleasant_mean1 = np.mean(control_pleasant1)\n",
    "control_pleasant_error1 = stats.sem(control_pleasant1)\n",
    "control_pleasant_mean2 = np.mean(control_pleasant2)\n",
    "control_pleasant_error2 = stats.sem(control_pleasant2)\n",
    "control_pleasant_mean3 = np.mean(control_pleasant3)\n",
    "control_pleasant_error3 = stats.sem(control_pleasant3)\n",
    "control_pleasant_mean4 = np.mean(control_pleasant4)\n",
    "control_pleasant_error4 = stats.sem(control_pleasant4)\n",
    "control_pleasant_mean = np.mean(control_pleasant) #final anagram\n",
    "control_pleasant_error = stats.sem(control_pleasant)\n",
    "\n",
    "plt.bar(\n",
    "    np.arange(5),\n",
    "    [control_pleasant_mean1, control_pleasant_mean2, control_pleasant_mean3, control_pleasant_mean4, control_pleasant_mean],\n",
    "    yerr=[control_pleasant_error1, control_pleasant_error2, control_pleasant_error3, control_pleasant_error4, control_pleasant_error]\n",
    ")\n",
    "plt.show()\n",
    "\n",
    "plt.figure(2)\n",
    "\n",
    "exp_pleasant_mean1 = np.mean(exp_pleasant1)\n",
    "exp_pleasant_error1 = stats.sem(exp_pleasant1)\n",
    "exp_pleasant_mean2 = np.mean(exp_pleasant2)\n",
    "exp_pleasant_error2 = stats.sem(exp_pleasant2)\n",
    "exp_pleasant_mean3 = np.mean(exp_pleasant3)\n",
    "exp_pleasant_error3 = stats.sem(exp_pleasant3)\n",
    "exp_pleasant_mean4 = np.mean(exp_pleasant4)\n",
    "exp_pleasant_error4 = stats.sem(exp_pleasant4)\n",
    "exp_pleasant_mean = np.mean(exp_pleasant) #final anagram\n",
    "exp_pleasant_error = stats.sem(exp_pleasant)\n",
    "\n",
    "plt.bar(\n",
    "    np.arange(5),\n",
    "    [exp_pleasant_mean1, exp_pleasant_mean2, exp_pleasant_mean3, exp_pleasant_mean4, exp_pleasant_mean],\n",
    "    yerr=[exp_pleasant_error1, exp_pleasant_error2, exp_pleasant_error3, exp_pleasant_error4, exp_pleasant_error]\n",
    ")\n",
    "plt.show()\n"
   ]
  },
  {
   "cell_type": "code",
   "execution_count": 87,
   "metadata": {
    "collapsed": false
   },
   "outputs": [
    {
     "ename": "TypeError",
     "evalue": "'type' object is not subscriptable",
     "output_type": "error",
     "traceback": [
      "\u001b[1;31m---------------------------------------------------------------------------\u001b[0m",
      "\u001b[1;31mTypeError\u001b[0m                                 Traceback (most recent call last)",
      "\u001b[1;32m<ipython-input-87-379e4d45d8eb>\u001b[0m in \u001b[0;36m<module>\u001b[1;34m()\u001b[0m\n\u001b[1;32m----> 1\u001b[1;33m \u001b[0mprint\u001b[0m\u001b[1;33m(\u001b[0m\u001b[0mint\u001b[0m\u001b[1;33m[\u001b[0m\u001b[0mcontrol_pleasant1\u001b[0m\u001b[1;33m]\u001b[0m\u001b[1;33m)\u001b[0m\u001b[1;33m\u001b[0m\u001b[0m\n\u001b[0m",
      "\u001b[1;31mTypeError\u001b[0m: 'type' object is not subscriptable"
     ]
    }
   ],
   "source": []
  },
  {
   "cell_type": "code",
   "execution_count": null,
   "metadata": {
    "collapsed": true
   },
   "outputs": [],
   "source": []
  }
 ],
 "metadata": {
  "kernelspec": {
   "display_name": "Python 3",
   "language": "python",
   "name": "python3"
  },
  "language_info": {
   "codemirror_mode": {
    "name": "ipython",
    "version": 3
   },
   "file_extension": ".py",
   "mimetype": "text/x-python",
   "name": "python",
   "nbconvert_exporter": "python",
   "pygments_lexer": "ipython3",
   "version": "3.5.3"
  }
 },
 "nbformat": 4,
 "nbformat_minor": 2
}
