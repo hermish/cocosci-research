{
 "cells": [
  {
   "cell_type": "code",
   "execution_count": 283,
   "id": "8071369c",
   "metadata": {},
   "outputs": [],
   "source": [
    "# Analytical Tools\n",
    "import numpy as np\n",
    "import pandas as pd\n",
    "import scipy\n",
    "import matplotlib.pyplot as plt\n",
    "import seaborn as sns\n",
    "from scipy import stats\n",
    "\n",
    "# General Utilities\n",
    "import math\n",
    "import json\n",
    "import pprint\n",
    "import itertools\n",
    "import importlib\n",
    "import itertools \n",
    "from itertools import zip_longest\n",
    "import numpy as np\n",
    "from scipy import stats\n",
    "from scipy import special as fn\n",
    "import collections, itertools\n",
    "from operator import itemgetter as at\n",
    "from random import randint\n",
    "import random\n",
    "import math\n",
    "from matplotlib.gridspec import GridSpec\n",
    "from stochastic.processes.continuous import GammaProcess\n",
    "\n",
    "# Some settings\n",
    "from IPython.display import Markdown, display\n",
    "log = pprint.pprint\n",
    "space = lambda: print()\n",
    "printmd = lambda text: display(Markdown(text))\n",
    "%matplotlib inline\n",
    "\n",
    "def set_pandas_display_options() -> None:\n",
    "    \"\"\"Set pandas display options.\"\"\"\n",
    "    display = pd.options.display\n",
    "    display.max_columns = 1000\n",
    "    display.max_rows = 1000\n",
    "    display.max_colwidth = 199\n",
    "    display.width = 1000\n",
    "\n",
    "set_pandas_display_options()\n",
    "\n",
    "#g compute completion time using gamma\n",
    "def compute_time(completion, time, beta_0, alpha_0, alpha, expected_beta, rho):    \n",
    "    #compute the times iteratively\n",
    "    expected_times = np.array([])\n",
    "    for i,_ in enumerate(completion):        \n",
    "        expected_beta = (alpha_0 + alpha*(time[i]-time[0]))/(beta_0 + (completion[i]-completion[0])) \n",
    "        expected_time = ((rho*expected_beta)/alpha)+(1/(2*alpha)) #compute expected time        \n",
    "        expected_times = np.append(expected_times, expected_time)\n",
    "    return expected_times"
   ]
  },
  {
   "cell_type": "code",
   "execution_count": 284,
   "id": "ee4007f5",
   "metadata": {},
   "outputs": [],
   "source": [
    "non_insight = ['Eric is trying to get in shape. He wants to do this by climbing stairs. He starts on the third floor, climbs up five stories, down seven, up six, down three, up four, down four, up five, down three, and then up two again. What floor is he on now?',\n",
    "'Ben spent $42 for shoes. This was $14 less than what he spent for a shirt and twice more expensive than the tie. The tie was $20 cheaper than the jeans. How much was the jeans?',\n",
    "'Andrew is twice the age of Brian, Charles is three times older than Brian, and the sum of their ages is 60 years. How old is Charles?',\n",
    "'Erin had 24 marbles and Evan had 3 marbles. Erin gave some of her marbles to Evan. Now Erin has exactly double the number of marbles that Evan has. How many marbles did Erin give to Evan?',\n",
    "'Lebrun, Lenoir, and Leblanc are, not necessarily in that order, the accountant, warehouseman, and traveling salesman of a firm. The salesman is unmarried. Both Lebrun and Lenoir are married. Lebrun is not the accountant. What job does Lenoir have? Accountant, warehouseman, or salesman?'];\n",
    "anagram = ['Solve this anagram: EURADBL', \n",
    "\t\t\t\t\t\t'Solve this anagram: MATCILE', \n",
    "\t\t\t\t\t\t'Solve this anagram: AYKAWLJ',\n",
    "\t\t\t\t\t\t'Solve this anagram: LUBMEJD',\n",
    "\t\t\t\t\t\t'Solve this anagram: NITGA',]\n",
    "\n",
    "#take mean increment after excluding the max increment\n",
    "def return_mean_after_excludeMax(list1):\n",
    "    lst_sort = [sorted(item) for item in list1]\n",
    "    for sublist in lst_sort:\n",
    "        del sublist[-1] #delete the max increment from each list\n",
    "    \n",
    "    listofmeans = [np.mean(i) for i in lst_sort] #get mean increment for each list\n",
    "    return listofmeans"
   ]
  },
  {
   "cell_type": "code",
   "execution_count": 285,
   "id": "248927d5",
   "metadata": {},
   "outputs": [],
   "source": [
    "with open('main.json') as json_file:\n",
    "    data = json.load(json_file)  "
   ]
  },
  {
   "cell_type": "code",
   "execution_count": 286,
   "id": "d351a6c2",
   "metadata": {},
   "outputs": [
    {
     "name": "stdout",
     "output_type": "stream",
     "text": [
      "we recruited  502 subjects\n"
     ]
    }
   ],
   "source": [
    "questions_non_insight = []\n",
    "answers_non_insight = [] #whether people typed done or skip\n",
    "solutions_non_insight = []\n",
    "difficulty_non_insight = []\n",
    "aha_non_insight = []\n",
    "rts_non_insight = []\n",
    "close_non_insight = []\n",
    "\n",
    "questions_anagram = []\n",
    "solutions_anagram = []\n",
    "answers_anagram = []\n",
    "difficulty_anagram = []\n",
    "aha_anagram = []\n",
    "rts_anagram = []\n",
    "close_anagram = []\n",
    "\n",
    "num_subs = 0\n",
    "for i in range(len(data)): #go thru the subjects\n",
    "    if len(data[i]['data']) > 3: #only look at subjects that finished the task             \n",
    "            num_subs = num_subs+1\n",
    "            k = 4\n",
    "            \n",
    "            for j in range(2):\n",
    "                question = data[i]['data'][0]['problems_seen'][j] #store the question seen by the participant\n",
    "                answers = []\n",
    "                rt = 0     \n",
    "                bad_subject = 0\n",
    "                close = []\n",
    "                \n",
    "                while True:\n",
    "                    answer = data[i]['data'][k]['responses']\n",
    "                    answers.append(answer)\n",
    "                    click = int(data[i]['data'][k]['rt']) #only finish if person typed a response and clicked continue\n",
    "                    k = k+1\n",
    "                    close.append(int(data[i]['data'][k]['response']))\n",
    "                    \n",
    "                    if (len(answer) > 9 and click < 10000):\n",
    "                        rt = rt + data[i]['data'][k]['rt']/1000\n",
    "                        k = k+1\n",
    "                        break\n",
    "                    else:\n",
    "                        rt = rt+10\n",
    "                        k = k+1\n",
    "                        \n",
    "                       \n",
    "                solution = answer #store people's solution here\n",
    "                response = data[i]['data'][k]['responses'] #store people's responses to the judgment questions here\n",
    "                \n",
    "                k = k+2 #move to the next question\n",
    "                \n",
    "                if question in non_insight:   \n",
    "                    questions_non_insight.append(question)\n",
    "                    answers_non_insight.append(answers)\n",
    "                    solutions_non_insight.append(solution)\n",
    "                    rts_non_insight.append(rt)\n",
    "                    difficulty_non_insight.append(int(response[6])+1)\n",
    "                    aha_non_insight.append(int(response[13])+1)\n",
    "                    close_non_insight.append(close)\n",
    "\n",
    "                elif question in anagram:\n",
    "                    questions_anagram.append(question)\n",
    "                    answers_anagram.append(answers)\n",
    "                    solutions_anagram.append(solution)\n",
    "                    rts_anagram.append(rt)\n",
    "                    difficulty_anagram.append(int(response[6])+1)\n",
    "                    aha_anagram.append(int(response[13])+1)\n",
    "                    close_anagram.append(close)\n",
    "\n",
    "print('we recruited ', num_subs, 'subjects')"
   ]
  },
  {
   "cell_type": "markdown",
   "id": "e1229338",
   "metadata": {},
   "source": [
    "Convert data into df"
   ]
  },
  {
   "cell_type": "code",
   "execution_count": 287,
   "id": "724758dd",
   "metadata": {},
   "outputs": [],
   "source": [
    "d = {'questions':questions_non_insight,\n",
    "     'answers':answers_non_insight, \n",
    "     'solutions': solutions_non_insight,\n",
    "     'rts': rts_non_insight,\n",
    "     'difficulty': difficulty_non_insight, \n",
    "     'aha': aha_non_insight,\n",
    "     'close': close_non_insight}\n",
    "\n",
    "d2 = {'questions':questions_anagram,\n",
    "     'answers':answers_anagram, \n",
    "      'solutions': solutions_anagram,\n",
    "     'rts': rts_anagram,\n",
    "     'difficulty': difficulty_anagram, \n",
    "     'aha': aha_anagram,\n",
    "     'close': close_anagram}\n",
    "\n",
    "df_non_insight = pd.DataFrame(d)\n",
    "df_anagram = pd.DataFrame(d2)"
   ]
  },
  {
   "cell_type": "markdown",
   "id": "1b84108f",
   "metadata": {},
   "source": [
    "Filter the data based on some criteria"
   ]
  },
  {
   "cell_type": "code",
   "execution_count": 345,
   "id": "0cb0f473",
   "metadata": {},
   "outputs": [
    {
     "name": "stdout",
     "output_type": "stream",
     "text": [
      "502 313\n",
      "502 331\n"
     ]
    }
   ],
   "source": [
    "#correct answers to the problems\n",
    "solutions1 = 'Accountant|41|eighth|8|8th|eight|30|thirty|six|6|account|warehouse|9|36|11|4|warehouseman|34|18'\n",
    "#\n",
    "solutions2 = 'durable|giant|jaywalk|climate|jumbled'\n",
    "\n",
    "#analyze only those responses for which people's answer is correct\n",
    "df_non_insight_filtered = df_non_insight.loc[(df_non_insight['solutions'].str.contains(solutions1, case = False)==True)\n",
    "                                             #& (df_non_insight['close'].str[0] != 100) \n",
    "                                             #& (df_non_insight['close'].str.len() > 1)\n",
    "                                             & (df_non_insight['close'].str[-1] > 80)\n",
    "                                            ]\n",
    "\n",
    "df_anagram_filtered = df_anagram.loc[(df_anagram['solutions'].str.contains(solutions2, case = False)==True) \n",
    "                                      #&(df_anagram['close'].str[0] != 100) \n",
    "                                      #&(df_anagram['close'].str.len() > 1)\n",
    "                                      #&(df_anagram['close'].str[-1] > 80)\n",
    "                                    ]\n",
    "\n",
    "print(len(df_non_insight.index), len(df_non_insight_filtered.index))\n",
    "print(len(df_anagram.index), len(df_anagram_filtered.index))"
   ]
  },
  {
   "cell_type": "code",
   "execution_count": 346,
   "id": "6682276b",
   "metadata": {},
   "outputs": [
    {
     "name": "stdout",
     "output_type": "stream",
     "text": [
      "Mean RT\n",
      "[52.90615821 45.41597321 45.29910735 49.58896226 67.68044167]\n",
      "Mean Aha\n",
      "[3.85074627 3.10714286 2.67647059 3.88709677 3.78333333]\n"
     ]
    }
   ],
   "source": [
    "df1 = df_non_insight.groupby(['questions'], as_index=False).agg(['mean', 'count'])\n",
    "df2 = df_non_insight_filtered.groupby(['questions'], as_index=False).agg(['mean', 'count'])\n",
    "#print(df2.index)\n",
    "#print('% Solved')\n",
    "#print(df2['rts']['count'].values/df1['rts']['count'].values)\n",
    "#print('Solved count')\n",
    "#print(df2['rts']['count'].values)\n",
    "#print('Mean difficulty')\n",
    "#print(df2['difficulty']['mean'].values)\n",
    "print('Mean RT')\n",
    "print(df2['rts']['mean'].values)\n",
    "print('Mean Aha')\n",
    "print(df2['aha']['mean'].values)"
   ]
  },
  {
   "cell_type": "code",
   "execution_count": 347,
   "id": "c8f76a1d",
   "metadata": {},
   "outputs": [
    {
     "name": "stdout",
     "output_type": "stream",
     "text": [
      "Mean RT\n",
      "[43.80846613 22.51905278 19.73450921 30.21474021 26.34956667]\n",
      "Mean Aha\n",
      "[5.17741935 5.29166667 5.30487805 5.35714286 5.17777778]\n",
      "3.4568690095846644\n"
     ]
    }
   ],
   "source": [
    "df3 = df_anagram.groupby(['questions'], as_index=False).agg(['mean', 'count'])\n",
    "df4 = df_anagram_filtered.groupby(['questions'], as_index=False).agg(['mean', 'count'])\n",
    "#print(df3.index)\n",
    "#print('% Solved')\n",
    "#print(df4['rts']['count'].values/df3['rts']['count'].values)\n",
    "#print('Solved count')\n",
    "#print(df4['rts']['count'].values)\n",
    "#print('Mean difficulty')\n",
    "#print(df4['difficulty']['mean'].values)\n",
    "print('Mean RT')\n",
    "print(df4['rts']['mean'].values)\n",
    "print('Mean Aha')\n",
    "print(df4['aha']['mean'].values)\n",
    "print(np.mean(df_non_insight_filtered['aha'].values))"
   ]
  },
  {
   "cell_type": "code",
   "execution_count": 348,
   "id": "bb2ff72e",
   "metadata": {},
   "outputs": [
    {
     "name": "stderr",
     "output_type": "stream",
     "text": [
      "/Users/rachitdubey/miniconda3/lib/python3.8/site-packages/seaborn/_decorators.py:36: FutureWarning: Pass the following variables as keyword args: x, y. From version 0.12, the only valid positional argument will be `data`, and passing other arguments without an explicit keyword will result in an error or misinterpretation.\n",
      "  warnings.warn(\n"
     ]
    },
    {
     "data": {
      "image/png": "[encoded data removed]",
      "text/plain": [
       "<Figure size 216x288 with 1 Axes>"
      ]
     },
     "metadata": {},
     "output_type": "display_data"
    }
   ],
   "source": [
    "import seaborn as sns\n",
    "sns.set(style=\"whitegrid\", font_scale=1.5, rc={'figure.figsize':(3,4), \n",
    "                                              \"grid.linewidth\": 1, \"axes.linewidth\": 1, 'patch.linewidth': 3.0})\n",
    "\n",
    "color = ['#6B88C7','#103783']\n",
    "ax = sns.barplot(np.arange(2), [np.mean(df_non_insight_filtered['aha'].values), np.mean(df_anagram_filtered['aha'].values)]\n",
    "                 , yerr=[np.std(df_non_insight_filtered['aha'].values)/np.sqrt(len(df_non_insight_filtered['aha'].values)), \n",
    "                        np.std(df_anagram_filtered['aha'].values)/np.sqrt(len(df_anagram_filtered['aha'].values))], \n",
    "                 palette = color, edgecolor = 'black',error_kw=dict(ecolor='k', lw=2.5, capsize=5, capthick=2))\n",
    "plt.xticks(np.arange(2), ['Analytical', 'Anagrams'])\n",
    "ax.tick_params(axis=u'both', which=u'both',length=0)\n",
    "plt.ylim([0,6])\n",
    "plt.tight_layout()\n",
    "sns.despine(ax=ax, left=True, top=False)\n",
    "plt.savefig('aha.png',dpi=1200)\n",
    "\n",
    "#plt.title('Mean Aha! ratings')"
   ]
  },
  {
   "cell_type": "markdown",
   "id": "f0ee40b4",
   "metadata": {},
   "source": [
    "Truncate data -- only gather closeness ratings until the first time subjects enter the correct answer (sometimes they aren't able to press enter..)"
   ]
  },
  {
   "cell_type": "code",
   "execution_count": 349,
   "id": "80e063e1",
   "metadata": {},
   "outputs": [
    {
     "name": "stdout",
     "output_type": "stream",
     "text": [
      "184 130\n"
     ]
    }
   ],
   "source": [
    "a = df_non_insight_filtered['answers'].values\n",
    "truncate_insight = []\n",
    "c1 = 0\n",
    "for j in range(len(a)):\n",
    "    for k in range(len(a[j])):\n",
    "        a1 = pd.Series(a[j][k])\n",
    "        if a1.str.contains(solutions1, case = False).bool() == True:\n",
    "                truncate_insight.append(k)\n",
    "                if k < len(a[j])-1:\n",
    "                    c1 = c1+len(a[j])-k\n",
    "                break\n",
    "                \n",
    "a = df_anagram_filtered['answers'].values\n",
    "truncate_anagram = []\n",
    "c2 = 0\n",
    "for j in range(len(a)):\n",
    "    for k in range(len(a[j])):\n",
    "        a1 = pd.Series(a[j][k])\n",
    "        if a1.str.contains(solutions2, case = False).bool() == True:\n",
    "                truncate_anagram.append(k)\n",
    "                if k < len(a[j])-1:\n",
    "                    c2 = c2+len(a[j])-k\n",
    "                break\n",
    "#pretty sure truncate_insight and truncate_anagrams are correct. \n",
    "print(c1,c2)"
   ]
  },
  {
   "cell_type": "markdown",
   "id": "459fbca0",
   "metadata": {},
   "source": [
    "For the filtered data, get average increment (until the timepoint of max increment) and max increment"
   ]
  },
  {
   "cell_type": "code",
   "execution_count": 350,
   "id": "5b48c710",
   "metadata": {},
   "outputs": [
    {
     "name": "stdout",
     "output_type": "stream",
     "text": [
      "4.852024443816945 8.179257362355953 781\n",
      "0.1258076223621736 2.395770392749245 331\n"
     ]
    },
    {
     "data": {
      "image/png": "[encoded data removed]",
      "text/plain": [
       "<Figure size 216x288 with 1 Axes>"
      ]
     },
     "metadata": {},
     "output_type": "display_data"
    }
   ],
   "source": [
    "increment_non_insight = []\n",
    "close_non_insight = []\n",
    "for i in range(len(df_non_insight_filtered.index)):\n",
    "    a = df_non_insight_filtered['close'].iloc[i]\n",
    "    b = a[0:truncate_insight[i]+1] #don't include repeat\n",
    "    increment_non_insight.append(np.diff(b))\n",
    "    close_non_insight.append(b)\n",
    "\n",
    "n = 10\n",
    "a = increment_non_insight\n",
    "m = [li[::-1] for li in a]\n",
    "l = [np.array(xi) for xi in m]\n",
    "df_2 = pd.DataFrame(l)\n",
    "y = np.flip(df_2.mean(0).values)\n",
    "x = np.array(range(len(y)))+1\n",
    "e = np.flip(df_2.sem(0,ddof=0).values)\n",
    "c = np.flip(df_2.count(0).values)\n",
    "plt.errorbar(x[-n:], y[-n:], e[-n:], linestyle='-', marker='o', color = '#276d9d')\n",
    "\n",
    "df3 = df_2.drop([0, 1], axis=1)\n",
    "print(np.mean(df3.mean()), np.mean(df3.stack().mean()),len(df3.stack()))  \n",
    "\n",
    "increment_anagram = []\n",
    "close_anagram = []\n",
    "for i in range(len(df_anagram_filtered.index)):\n",
    "    a = df_anagram_filtered['close'].iloc[i]\n",
    "    b = a[0:truncate_anagram[i]+1] #don't include repeat\n",
    "    increment_anagram.append(np.diff(b))\n",
    "    close_anagram.append(b)\n",
    "\n",
    "a = increment_anagram\n",
    "m = [li[::-1] for li in a]\n",
    "l = [np.array(xi) for xi in m]\n",
    "df_1 = pd.DataFrame(l)\n",
    "y = np.flip(df_1.mean(0).values)\n",
    "e = np.flip(df_1.sem(0,ddof=0).values)\n",
    "c = np.flip(df_1.count(0).values)\n",
    "plt.errorbar(x[-n:], y[-n:], e[-n:], linestyle='--', marker='o', color = '#45464f')\n",
    "\n",
    "df2 = df_1.drop([0, 1], axis=1)\n",
    "print(np.mean(df2.mean()), np.mean(df2.stack().mean()), len(df2.stack())) "
   ]
  },
  {
   "cell_type": "code",
   "execution_count": 384,
   "id": "eba47247",
   "metadata": {},
   "outputs": [
    {
     "name": "stdout",
     "output_type": "stream",
     "text": [
      "3.4568690095846644 5.27190332326284 1.7455262136084428 1.5925892396101031\n"
     ]
    },
    {
     "name": "stderr",
     "output_type": "stream",
     "text": [
      "/Users/rachitdubey/miniconda3/lib/python3.8/site-packages/seaborn/_decorators.py:36: FutureWarning: Pass the following variables as keyword args: x, y. From version 0.12, the only valid positional argument will be `data`, and passing other arguments without an explicit keyword will result in an error or misinterpretation.\n",
      "  warnings.warn(\n",
      "/Users/rachitdubey/miniconda3/lib/python3.8/site-packages/seaborn/_decorators.py:36: FutureWarning: Pass the following variables as keyword args: x, y. From version 0.12, the only valid positional argument will be `data`, and passing other arguments without an explicit keyword will result in an error or misinterpretation.\n",
      "  warnings.warn(\n",
      "/Users/rachitdubey/miniconda3/lib/python3.8/site-packages/seaborn/_decorators.py:36: FutureWarning: Pass the following variables as keyword args: x, y. From version 0.12, the only valid positional argument will be `data`, and passing other arguments without an explicit keyword will result in an error or misinterpretation.\n",
      "  warnings.warn(\n"
     ]
    },
    {
     "data": {
      "image/png": "[encoded data removed]",
      "text/plain": [
       "<Figure size 720x504 with 3 Axes>"
      ]
     },
     "metadata": {},
     "output_type": "display_data"
    },
    {
     "name": "stdout",
     "output_type": "stream",
     "text": [
      "Ttest_indResult(statistic=-13.774684259113437, pvalue=5.236833714326986e-38)\n",
      "Ttest_indResult(statistic=-13.408743002136331, pvalue=1.3627488513947738e-35)\n",
      "Ttest_indResult(statistic=5.180651316429667, pvalue=2.624641234143277e-07)\n",
      "(0.2201584703667261, 2.2510948802629053e-07) 644\n"
     ]
    }
   ],
   "source": [
    "import seaborn as sns\n",
    "sns.set(style=\"whitegrid\", font_scale=1.5, rc={\"grid.linewidth\": 1, \"axes.linewidth\": 1, 'patch.linewidth': 3.0})\n",
    "color = ['#6B88C7', '#103783']\n",
    "#color = ['#B6CCFE', '#00257A']\n",
    "\n",
    "import matplotlib.gridspec as gridspec\n",
    "fig = plt.figure(1)\n",
    "gridspec.GridSpec(2,3)\n",
    "\n",
    "print(np.mean(df_non_insight_filtered['aha'].values), np.mean(df_anagram_filtered['aha'].values), np.std(df_non_insight_filtered['aha'].values), np.std(df_anagram_filtered['aha'].values))\n",
    "plt.subplot2grid((2,3), (0,0), colspan=2, rowspan=2)\n",
    "ax = sns.barplot(np.arange(2), [np.mean(df_non_insight_filtered['aha'].values), np.mean(df_anagram_filtered['aha'].values)]\n",
    "                 , yerr=[np.std(df_non_insight_filtered['aha'].values)/np.sqrt(len(df_non_insight_filtered['aha'].values)), \n",
    "                        np.std(df_anagram_filtered['aha'].values)/np.sqrt(len(df_anagram_filtered['aha'].values))], \n",
    "                 palette = color, edgecolor = 'black',error_kw=dict(ecolor='k', lw=2.5, capsize=5, capthick=2))\n",
    "plt.xticks(np.arange(2), ['Analytical', 'Anagrams'])\n",
    "ax.tick_params(axis=u'both', which=u'both',length=0)\n",
    "plt.ylim([0,6])\n",
    "sns.despine(ax=ax, left=True, top=False)\n",
    "\n",
    "plt.subplot2grid((2,3), (0,2))\n",
    "ax = sns.barplot(np.arange(2), [df_2[1].mean(), df_1[1].mean()]\n",
    "                 , yerr=[df_2[1].sem(), df_1[1].sem()], \n",
    "                 palette = color, edgecolor = 'black', error_kw=dict(ecolor='k', lw=2.5, capsize=5, capthick=2))\n",
    "plt.xticks(np.arange(2), ['Analytical','Anagram'])\n",
    "ax.tick_params(axis=u'both', which=u'both',length=0)\n",
    "#plt.title('Max increment')\n",
    "sns.despine(ax=ax, left=True, top=False)\n",
    "\n",
    "plt.subplot2grid((2,3), (1,2))\n",
    "ax = sns.barplot(np.arange(2), [df3.stack().mean(), df2.stack().mean()]\n",
    "                 , yerr=[df3.stack().sem(), df2.stack().sem()], \n",
    "                 palette = color, edgecolor = 'black', error_kw=dict(ecolor='k', lw=2.5, capsize=5, capthick=2))\n",
    "plt.xticks(np.arange(2), ['Analytical','Anagram'])\n",
    "ax.tick_params(axis=u'both', which=u'both',length=0)\n",
    "#plt.title('Mean increment')\n",
    "#plt.ylim([0,10])\n",
    "sns.despine(ax=ax, left=True, top=False)\n",
    "\n",
    "fig.tight_layout()\n",
    "fig.set_size_inches(w=10,h=7)\n",
    "#plt.savefig('aha+max+mean.png',dpi=1200)\n",
    "plt.show()\n",
    "\n",
    "#stats\n",
    "from scipy import stats\n",
    "print(stats.ttest_ind(df_non_insight_filtered['aha'].values, df_anagram_filtered['aha'].values))\n",
    "a = df_2[df_2[1].notna()][1]\n",
    "b = df_1[df_1[1].notna()][1]\n",
    "print(stats.ttest_ind(a, b))\n",
    "print(stats.ttest_ind(df3.stack(), df2.stack()))\n",
    "\n",
    "ahas = np.concatenate([df_non_insight_filtered['aha'].values, df_anagram_filtered['aha'].values])\n",
    "maxes = np.concatenate([df_2[1], df_1[1]])\n",
    "c = np.vstack([ahas,maxes])\n",
    "d = c[:,~np.any(np.isnan(c), axis=0)] #g remove nans\n",
    "print(stats.mstats.pearsonr(d[0],d[1]), len(ahas))"
   ]
  },
  {
   "cell_type": "code",
   "execution_count": 373,
   "id": "4b1200b3",
   "metadata": {},
   "outputs": [
    {
     "name": "stdout",
     "output_type": "stream",
     "text": [
      "[ 1  2  3  4  5  6  7  8  9 10 11 12 13 14 15 16 17 18]\n",
      "[ 3.          3.          3.         13.33333333 11.8        15.4\n",
      " 16.         12.92857143 16.35       12.36363636 13.22222222 11.96428571\n",
      " 17.712      20.48587571 25.54958678 36.5472973  67.39297125 94.08626198]\n",
      "[0.         0.         2.12132034 8.92354356 6.73735853 6.21642984\n",
      " 5.30848378 4.32182913 4.8302562  3.13773742 2.49177889 1.79319437\n",
      " 1.82093834 1.6873486  1.57144313 1.63650036 1.69072282 0.65631955]\n",
      "counts: [  1   1   2   3   5  10  10  14  20  33  54  84 125 177 242 296 313 313]\n",
      "[ 1  2  3  4  5  6  7  8  9 10 11 12 13 14 15 16 17 18]\n",
      "[ 2.          6.          6.          7.          6.         10.\n",
      "  9.          9.         27.5        22.5        18.         35.\n",
      " 22.5        17.         14.         21.         14.          8.4\n",
      " 10.         13.83333333  7.8         8.90909091  7.375       8.89473684\n",
      " 15.10714286 10.35555556 12.78461538 15.54255319 19.36423841 67.43089431\n",
      " 96.90936556]\n",
      "[ 0.          0.          0.          0.          0.          0.\n",
      "  0.          0.         13.08147545  8.83883476  1.41421356  7.07106781\n",
      "  3.18198052  0.70710678  2.12132034  2.12132034  6.18241233  2.37655212\n",
      "  3.05941171  6.74708442  2.82063823  2.66738658  2.06131595  3.73565195\n",
      "  4.25624969  2.11243363  1.59562899  1.7306562   1.83947436  2.08150058\n",
      "  0.50505862]\n",
      "counts: [  1   1   1   1   1   1   1   1   2   2   2   2   2   2   2   2   3   5\n",
      "   5   6  10  11  16  19  28  45  65  94 151 246 331]\n"
     ]
    },
    {
     "data": {
      "image/png": "[encoded data removed]",
      "text/plain": [
       "<Figure size 720x432 with 2 Axes>"
      ]
     },
     "metadata": {},
     "output_type": "display_data"
    }
   ],
   "source": [
    "import seaborn as sns\n",
    "sns.set(style=\"white\", font_scale=1.7, rc={'figure.figsize':(10,6), \n",
    "                                              \"grid.linewidth\": 1, \"axes.linewidth\": 1,})\n",
    "\n",
    "a = close_non_insight\n",
    "n = 8 #how many points\n",
    "m = [li[::-1] for li in a]\n",
    "l = [np.array(xi) for xi in m]\n",
    "non_insight_data = l\n",
    "df_1 = pd.DataFrame(l)\n",
    "y = np.flip(df_1.mean(0).values)\n",
    "e = np.flip(df_1.sem(0,ddof=0).values)\n",
    "c = np.flip(df_1.count(0).values)\n",
    "print(x)\n",
    "print(y)\n",
    "print(e)\n",
    "print('counts: '+str(c))\n",
    "last_ratings_non_insight = df_1[0].values\n",
    "\n",
    "x = np.array(range(len(y)))+1\n",
    "plt.subplot(1, 2, 1)\n",
    "ax = plt.gca()\n",
    "ynew = 36.6\n",
    "ax.axhline(ynew, color='#8A2E37', linewidth=1.5, linestyle=':')\n",
    "\n",
    "\n",
    "plt.errorbar(x[-n:], y[-n:], e[-n:], linestyle='--', marker='o', color = '#6B88C7', markersize=9)\n",
    "plt.xticks(x[-n:], ['70', '', '50', '','','20','','0'])\n",
    "plt.ylim([0,100])\n",
    "plt.title('Analytical')\n",
    "plt.ylabel('Feeling of Closeness')\n",
    "plt.xlabel('Time point')\n",
    "\n",
    "a = close_anagram\n",
    "m = [li[::-1] for li in a]\n",
    "l = [np.array(xi) for xi in m]\n",
    "anagram_data = l\n",
    "df_1 = pd.DataFrame(l)\n",
    "y = np.flip(df_1.mean(0).values)\n",
    "e = np.flip(df_1.sem(0,ddof=0).values)\n",
    "c = np.flip(df_1.count(0).values)\n",
    "\n",
    "last_ratings_anagram = df_1[0].values\n",
    "\n",
    "#x = np.array(range(len(y)))+1\n",
    "plt.subplot(1, 2, 2)\n",
    "ax = plt.gca()\n",
    "ynew = 19.5\n",
    "ax.axhline(ynew, color='#8A2E37', linewidth=1.5, linestyle=':')\n",
    "\n",
    "plt.errorbar(x[-n:], y[-n:], e[-n:], linestyle='--', marker='o', color = '#103783', markersize=9)\n",
    "plt.xticks(x[-n:], ['70', '', '50', '','','20','','0'])\n",
    "plt.ylim([0,100])\n",
    "plt.title('Anagrams')\n",
    "plt.xlabel('Time point')\n",
    "\n",
    "#ax.grid(which='major', axis='y', linestyle='--')\n",
    "print(x)\n",
    "#print(y[-1], e[-1])\n",
    "print(y)\n",
    "print(e)\n",
    "print('counts: '+str(c))\n",
    "\n",
    "plt.tight_layout()\n",
    "\n",
    "#plt.savefig('meta_rate.png',dpi=1200)\n",
    "#plt.show()\n",
    "\n"
   ]
  },
  {
   "cell_type": "code",
   "execution_count": 120,
   "id": "dfd41890",
   "metadata": {},
   "outputs": [
    {
     "data": {
      "text/plain": [
       "Ttest_indResult(statistic=6.917935075541374, pvalue=1.0379300590356301e-11)"
      ]
     },
     "execution_count": 120,
     "metadata": {},
     "output_type": "execute_result"
    }
   ],
   "source": [
    "from scipy import stats\n",
    "stats.ttest_ind(last_ratings_anagram, last_ratings_non_insight)\n",
    "#print(np.mean(last_ratings_non_insight), np.mean(last_ratings_anagram))"
   ]
  },
  {
   "cell_type": "markdown",
   "id": "33e0ae74",
   "metadata": {},
   "source": [
    "Gamma process simulation -- individual fit depends on the prior; normaliziation probably makes sense? \n",
    "\n"
   ]
  },
  {
   "cell_type": "code",
   "execution_count": 301,
   "id": "c692968d",
   "metadata": {},
   "outputs": [
    {
     "name": "stdout",
     "output_type": "stream",
     "text": [
      "6.151444089456869 3.993170424913163 313 6.205780487804877 4.272539257620924 246\n"
     ]
    },
    {
     "data": {
      "text/plain": [
       "Ttest_indResult(statistic=-0.1545655689362508, pvalue=0.8772198049050342)"
      ]
     },
     "execution_count": 301,
     "metadata": {},
     "output_type": "execute_result"
    }
   ],
   "source": [
    "alpha = 25 #Prior agent\n",
    "alpha_0 = 25\n",
    "beta_0 = 25\n",
    "expected_beta = beta_0\n",
    "rho = 100\n",
    "ahas1 = []\n",
    "\n",
    "for a in non_insight_data:\n",
    "    b = np.flip(a) #flip array\n",
    "    completion = np.maximum.accumulate(b) #make data monotonic\n",
    "    time = np.arange(len(b))\n",
    "    expected_times = compute_time(completion, time, beta_0,alpha_0, alpha, expected_beta, rho)\n",
    "    expected_times = np.append(expected_times, (len(b))) #g add \n",
    "    expected_times = np.delete(expected_times, 0)\n",
    "    \n",
    "    r = 100\n",
    "    expected_r = r-expected_times\n",
    "    aha1 = np.ediff1d(expected_r)\n",
    "    #print(completion, expected_times, aha1, max(aha1))    \n",
    "    f = max(aha1)\n",
    "    if f > 10:\n",
    "        f = 10\n",
    "    elif f < 0:\n",
    "        f = 0\n",
    "    else:\n",
    "        f = round(max(aha1),3)\n",
    "    ahas1.append(f)\n",
    "\n",
    "ahas2 = []\n",
    "for a in anagram_data:\n",
    "    if len(a) > 1: #can't analyze data for which there is just 1 data point\n",
    "        b = np.flip(a) #flip array\n",
    "        completion = np.maximum.accumulate(b) #make data monotonic\n",
    "        time = np.arange(len(b))\n",
    "        expected_times = compute_time(completion, time, beta_0,alpha_0, alpha, expected_beta, rho)\n",
    "        expected_times = np.append(expected_times, (len(b))) #append final completion point\n",
    "        expected_times = np.delete(expected_times, 0) #remove first point (which is just prior) \n",
    "        \n",
    "        r = 100\n",
    "        expected_r = r-expected_times\n",
    "        aha2 = np.ediff1d(expected_r)\n",
    "        #print(completion, expected_times, aha2, max(aha2))\n",
    "        f = max(aha2)\n",
    "        if f > 10:\n",
    "            f = 10\n",
    "        elif f < 0:\n",
    "            f = 0\n",
    "        else:\n",
    "            f = round(max(aha2),3)\n",
    "        ahas2.append(f)\n",
    "\n",
    "print(np.mean(ahas1),np.std(ahas1),len(ahas1), np.mean(ahas2), np.std(ahas2), len(ahas2))\n",
    "stats.ttest_ind(ahas1, ahas2)"
   ]
  },
  {
   "cell_type": "markdown",
   "id": "11237e91",
   "metadata": {},
   "source": [
    "Mixed model analysis"
   ]
  },
  {
   "cell_type": "code",
   "execution_count": 298,
   "id": "502d26cc",
   "metadata": {},
   "outputs": [
    {
     "ename": "ValueError",
     "evalue": "x and y must have the same length.",
     "output_type": "error",
     "traceback": [
      "\u001b[0;31m---------------------------------------------------------------------------\u001b[0m",
      "\u001b[0;31mValueError\u001b[0m                                Traceback (most recent call last)",
      "\u001b[0;32m<ipython-input-298-e5d9c72740fd>\u001b[0m in \u001b[0;36m<module>\u001b[0;34m\u001b[0m\n\u001b[1;32m      2\u001b[0m \u001b[0mmodel\u001b[0m \u001b[0;34m=\u001b[0m \u001b[0mnp\u001b[0m\u001b[0;34m.\u001b[0m\u001b[0mconcatenate\u001b[0m\u001b[0;34m(\u001b[0m\u001b[0;34m(\u001b[0m\u001b[0mahas1\u001b[0m\u001b[0;34m,\u001b[0m\u001b[0mahas2\u001b[0m\u001b[0;34m)\u001b[0m\u001b[0;34m)\u001b[0m\u001b[0;34m\u001b[0m\u001b[0;34m\u001b[0m\u001b[0m\n\u001b[1;32m      3\u001b[0m \u001b[0;32mfrom\u001b[0m \u001b[0mscipy\u001b[0m\u001b[0;34m.\u001b[0m\u001b[0mstats\u001b[0m\u001b[0;34m.\u001b[0m\u001b[0mstats\u001b[0m \u001b[0;32mimport\u001b[0m \u001b[0mpearsonr\u001b[0m\u001b[0;34m\u001b[0m\u001b[0;34m\u001b[0m\u001b[0m\n\u001b[0;32m----> 4\u001b[0;31m \u001b[0mpearsonr\u001b[0m\u001b[0;34m(\u001b[0m\u001b[0msubj\u001b[0m\u001b[0;34m,\u001b[0m\u001b[0mmodel\u001b[0m\u001b[0;34m)\u001b[0m\u001b[0;34m\u001b[0m\u001b[0;34m\u001b[0m\u001b[0m\n\u001b[0m",
      "\u001b[0;32m~/miniconda3/lib/python3.8/site-packages/scipy/stats/stats.py\u001b[0m in \u001b[0;36mpearsonr\u001b[0;34m(x, y)\u001b[0m\n\u001b[1;32m   3901\u001b[0m     \u001b[0mn\u001b[0m \u001b[0;34m=\u001b[0m \u001b[0mlen\u001b[0m\u001b[0;34m(\u001b[0m\u001b[0mx\u001b[0m\u001b[0;34m)\u001b[0m\u001b[0;34m\u001b[0m\u001b[0;34m\u001b[0m\u001b[0m\n\u001b[1;32m   3902\u001b[0m     \u001b[0;32mif\u001b[0m \u001b[0mn\u001b[0m \u001b[0;34m!=\u001b[0m \u001b[0mlen\u001b[0m\u001b[0;34m(\u001b[0m\u001b[0my\u001b[0m\u001b[0;34m)\u001b[0m\u001b[0;34m:\u001b[0m\u001b[0;34m\u001b[0m\u001b[0;34m\u001b[0m\u001b[0m\n\u001b[0;32m-> 3903\u001b[0;31m         \u001b[0;32mraise\u001b[0m \u001b[0mValueError\u001b[0m\u001b[0;34m(\u001b[0m\u001b[0;34m'x and y must have the same length.'\u001b[0m\u001b[0;34m)\u001b[0m\u001b[0;34m\u001b[0m\u001b[0;34m\u001b[0m\u001b[0m\n\u001b[0m\u001b[1;32m   3904\u001b[0m \u001b[0;34m\u001b[0m\u001b[0m\n\u001b[1;32m   3905\u001b[0m     \u001b[0;32mif\u001b[0m \u001b[0mn\u001b[0m \u001b[0;34m<\u001b[0m \u001b[0;36m2\u001b[0m\u001b[0;34m:\u001b[0m\u001b[0;34m\u001b[0m\u001b[0;34m\u001b[0m\u001b[0m\n",
      "\u001b[0;31mValueError\u001b[0m: x and y must have the same length."
     ]
    }
   ],
   "source": [
    "subj = np.concatenate((df_non_insight_filtered['aha'].values, df_anagram_filtered['aha'].values))\n",
    "model = np.concatenate((ahas1,ahas2))\n",
    "from scipy.stats.stats import pearsonr\n",
    "pearsonr(subj,model)"
   ]
  },
  {
   "cell_type": "markdown",
   "id": "ab93f405",
   "metadata": {},
   "source": [
    "Create separate dfs for each non insight question"
   ]
  },
  {
   "cell_type": "code",
   "execution_count": 57,
   "id": "70069f3f",
   "metadata": {},
   "outputs": [
    {
     "data": {
      "text/plain": [
       "[5.0,\n",
       " 5.0,\n",
       " 2.0,\n",
       " 2.0,\n",
       " 1.0,\n",
       " 2.0,\n",
       " 7,\n",
       " 2.0,\n",
       " 1.0,\n",
       " 6.0,\n",
       " 2.0,\n",
       " 6.0,\n",
       " 7,\n",
       " 2.0,\n",
       " 2.0,\n",
       " 6.0,\n",
       " 4.0,\n",
       " 7,\n",
       " 2.0,\n",
       " 5.0,\n",
       " 6.0,\n",
       " 4.0,\n",
       " 4.0,\n",
       " 1.0,\n",
       " 1.0,\n",
       " 5.0,\n",
       " 4.0,\n",
       " 6.0,\n",
       " 6.0,\n",
       " 2.0,\n",
       " 6.0,\n",
       " 2.0,\n",
       " 1,\n",
       " 6.0,\n",
       " 1.0,\n",
       " 6.0,\n",
       " 7,\n",
       " 7,\n",
       " 2.0,\n",
       " 4.0,\n",
       " 6.0,\n",
       " 1.0,\n",
       " 3.0,\n",
       " 6.0,\n",
       " 7,\n",
       " 5.0,\n",
       " 6.0,\n",
       " 2.0,\n",
       " 4.0,\n",
       " 7.0,\n",
       " 3.0,\n",
       " 7.0,\n",
       " 2.0,\n",
       " 5.0,\n",
       " 1.0,\n",
       " 6.0,\n",
       " 2.0,\n",
       " 4.0,\n",
       " 7,\n",
       " 7,\n",
       " 1.0,\n",
       " 3.0,\n",
       " 6.0,\n",
       " 6.0,\n",
       " 2.0,\n",
       " 7,\n",
       " 3.0,\n",
       " 5.0,\n",
       " 2.0,\n",
       " 7,\n",
       " 2.0,\n",
       " 1,\n",
       " 6.0,\n",
       " 2.0,\n",
       " 4.0,\n",
       " 4.0,\n",
       " 6.0,\n",
       " 6.0,\n",
       " 2.0,\n",
       " 7,\n",
       " 2.0,\n",
       " 6.0,\n",
       " 4.0,\n",
       " 2.0,\n",
       " 2.0,\n",
       " 6.0,\n",
       " 4.0,\n",
       " 6.0,\n",
       " 7,\n",
       " 4.0,\n",
       " 2.0,\n",
       " 2.0,\n",
       " 2.0,\n",
       " 7,\n",
       " 2.0,\n",
       " 2.0,\n",
       " 2.0,\n",
       " 6.0,\n",
       " 7,\n",
       " 2.0,\n",
       " 2.0,\n",
       " 2.0,\n",
       " 6.0,\n",
       " 2.0,\n",
       " 7,\n",
       " 2.0,\n",
       " 6.0,\n",
       " 6.0,\n",
       " 6.0,\n",
       " 4.0,\n",
       " 4.0,\n",
       " 5.0,\n",
       " 6.0,\n",
       " 1.0,\n",
       " 6.0,\n",
       " 7,\n",
       " 2.0,\n",
       " 7,\n",
       " 6.0,\n",
       " 2.0,\n",
       " 4.0,\n",
       " 2.0,\n",
       " 6.0,\n",
       " 1.0,\n",
       " 6.0,\n",
       " 5.0,\n",
       " 4.0,\n",
       " 5.0,\n",
       " 4.0,\n",
       " 6.0,\n",
       " 2.0,\n",
       " 1.0,\n",
       " 5.0,\n",
       " 7,\n",
       " 2.0,\n",
       " 7,\n",
       " 5.0,\n",
       " 7,\n",
       " 3.0,\n",
       " 6.0,\n",
       " 4.0,\n",
       " 2.0,\n",
       " 2.0,\n",
       " 7,\n",
       " 6.0,\n",
       " 3.0,\n",
       " 2.0,\n",
       " 2.0,\n",
       " 2.0,\n",
       " 7,\n",
       " 4.0,\n",
       " 7,\n",
       " 4.0,\n",
       " 5.0,\n",
       " 6.0,\n",
       " 4.0,\n",
       " 2.0,\n",
       " 2.0,\n",
       " 2.0,\n",
       " 2.0,\n",
       " 2.0,\n",
       " 6.0,\n",
       " 5.0,\n",
       " 4.0,\n",
       " 6.0,\n",
       " 1.0,\n",
       " 1.0,\n",
       " 1,\n",
       " 1.0,\n",
       " 2.0,\n",
       " 3.0,\n",
       " 2.0,\n",
       " 2.0,\n",
       " 2.0,\n",
       " 2.0,\n",
       " 7,\n",
       " 2.0,\n",
       " 6.0,\n",
       " 5.0,\n",
       " 7.0,\n",
       " 3.0,\n",
       " 6.0,\n",
       " 3.0,\n",
       " 6.0,\n",
       " 2.0,\n",
       " 2.0,\n",
       " 5.0,\n",
       " 1.0,\n",
       " 5.0,\n",
       " 3.0,\n",
       " 5.0,\n",
       " 2.0,\n",
       " 1.0,\n",
       " 6.0,\n",
       " 7,\n",
       " 3.0,\n",
       " 5.0,\n",
       " 7,\n",
       " 2.0,\n",
       " 4.0,\n",
       " 2.0,\n",
       " 4.0,\n",
       " 2.0,\n",
       " 6.0,\n",
       " 6.0,\n",
       " 2.0,\n",
       " 7,\n",
       " 5.0,\n",
       " 2.0,\n",
       " 3.0,\n",
       " 4.0,\n",
       " 1.0,\n",
       " 1.0,\n",
       " 6.0,\n",
       " 6.0,\n",
       " 5.0,\n",
       " 1.0,\n",
       " 6.0,\n",
       " 6.0,\n",
       " 2.0,\n",
       " 2.0,\n",
       " 7,\n",
       " 6.0,\n",
       " 4.0,\n",
       " 2.0,\n",
       " 5.0,\n",
       " 6.0,\n",
       " 6.0,\n",
       " 2.0,\n",
       " 7,\n",
       " 6.0,\n",
       " 6.0,\n",
       " 2.0,\n",
       " 4.0,\n",
       " 2.0,\n",
       " 2.0,\n",
       " 2.0,\n",
       " 1.0,\n",
       " 1.0,\n",
       " 5.0,\n",
       " 4.0,\n",
       " 7,\n",
       " 7,\n",
       " 6.0,\n",
       " 1.0,\n",
       " 6.0,\n",
       " 6.0,\n",
       " 2.0,\n",
       " 2.0,\n",
       " 5.0,\n",
       " 2.0,\n",
       " 2.0,\n",
       " 3.0,\n",
       " 6.0,\n",
       " 4.0,\n",
       " 5.0,\n",
       " 7,\n",
       " 1,\n",
       " 5.0,\n",
       " 1.0,\n",
       " 6.0,\n",
       " 7.0,\n",
       " 2.0,\n",
       " 6.0,\n",
       " 5.0,\n",
       " 2.0,\n",
       " 7,\n",
       " 1.0,\n",
       " 1.0,\n",
       " 6.0,\n",
       " 6.0,\n",
       " 7,\n",
       " 2.0,\n",
       " 2.0]"
      ]
     },
     "execution_count": 57,
     "metadata": {},
     "output_type": "execute_result"
    }
   ],
   "source": [
    "ahas2"
   ]
  },
  {
   "cell_type": "markdown",
   "id": "edf7754e",
   "metadata": {},
   "source": [
    "Mean progress for non-insight vs. anagram problems"
   ]
  },
  {
   "cell_type": "code",
   "execution_count": null,
   "id": "430ceeca",
   "metadata": {},
   "outputs": [],
   "source": []
  },
  {
   "cell_type": "code",
   "execution_count": null,
   "id": "1d00c749",
   "metadata": {},
   "outputs": [],
   "source": []
  },
  {
   "cell_type": "code",
   "execution_count": null,
   "id": "3b81db51",
   "metadata": {},
   "outputs": [],
   "source": []
  },
  {
   "cell_type": "code",
   "execution_count": null,
   "id": "6b55bd4a",
   "metadata": {},
   "outputs": [],
   "source": []
  },
  {
   "cell_type": "code",
   "execution_count": null,
   "id": "fe482856",
   "metadata": {},
   "outputs": [],
   "source": []
  },
  {
   "cell_type": "code",
   "execution_count": null,
   "id": "d5b9fe5b",
   "metadata": {},
   "outputs": [],
   "source": []
  },
  {
   "cell_type": "code",
   "execution_count": null,
   "id": "7f179e57",
   "metadata": {},
   "outputs": [],
   "source": [
    "\n"
   ]
  },
  {
   "cell_type": "code",
   "execution_count": null,
   "id": "b742fbcc",
   "metadata": {},
   "outputs": [],
   "source": []
  },
  {
   "cell_type": "code",
   "execution_count": null,
   "id": "7d189288",
   "metadata": {},
   "outputs": [],
   "source": []
  },
  {
   "cell_type": "code",
   "execution_count": null,
   "id": "30d552e1",
   "metadata": {},
   "outputs": [],
   "source": []
  },
  {
   "cell_type": "markdown",
   "id": "5198480c",
   "metadata": {},
   "source": []
  },
  {
   "cell_type": "code",
   "execution_count": null,
   "id": "34cdb1cb",
   "metadata": {},
   "outputs": [],
   "source": []
  },
  {
   "cell_type": "code",
   "execution_count": null,
   "id": "dd0e362c",
   "metadata": {},
   "outputs": [],
   "source": []
  },
  {
   "cell_type": "code",
   "execution_count": null,
   "id": "1016ddee",
   "metadata": {},
   "outputs": [],
   "source": []
  },
  {
   "cell_type": "code",
   "execution_count": null,
   "id": "7d1294ec",
   "metadata": {},
   "outputs": [],
   "source": [
    "\n"
   ]
  },
  {
   "cell_type": "code",
   "execution_count": null,
   "id": "ee74f54c",
   "metadata": {},
   "outputs": [],
   "source": []
  },
  {
   "cell_type": "code",
   "execution_count": null,
   "id": "cfcadd18",
   "metadata": {},
   "outputs": [],
   "source": []
  },
  {
   "cell_type": "code",
   "execution_count": null,
   "id": "98da8806",
   "metadata": {},
   "outputs": [],
   "source": []
  }
 ],
 "metadata": {
  "kernelspec": {
   "display_name": "Python 3",
   "language": "python",
   "name": "python3"
  },
  "language_info": {
   "codemirror_mode": {
    "name": "ipython",
    "version": 3
   },
   "file_extension": ".py",
   "mimetype": "text/x-python",
   "name": "python",
   "nbconvert_exporter": "python",
   "pygments_lexer": "ipython3",
   "version": "3.8.5"
  }
 },
 "nbformat": 4,
 "nbformat_minor": 5
}
