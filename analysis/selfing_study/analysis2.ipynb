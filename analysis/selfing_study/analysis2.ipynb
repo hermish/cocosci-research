{
 "cells": [
  {
   "cell_type": "code",
   "execution_count": 1,
   "id": "8071369c",
   "metadata": {},
   "outputs": [],
   "source": [
    "# Analytical Tools\n",
    "import numpy as np\n",
    "import pandas as pd\n",
    "import scipy\n",
    "import matplotlib.pyplot as plt\n",
    "import seaborn as sns\n",
    "from scipy import stats\n",
    "\n",
    "# General Utilities\n",
    "import math\n",
    "import json\n",
    "import pprint\n",
    "import itertools\n",
    "import importlib\n",
    "\n",
    "# Some settings\n",
    "from IPython.display import Markdown, display\n",
    "log = pprint.pprint\n",
    "space = lambda: print()\n",
    "printmd = lambda text: display(Markdown(text))\n",
    "%matplotlib inline\n",
    "\n",
    "def set_pandas_display_options() -> None:\n",
    "    \"\"\"Set pandas display options.\"\"\"\n",
    "    display = pd.options.display\n",
    "\n",
    "    display.max_columns = 1000\n",
    "    display.max_rows = 1000\n",
    "    display.max_colwidth = 199\n",
    "    display.width = 1000\n",
    "    # display.precision = 2  # set as needed\n",
    "\n",
    "set_pandas_display_options()"
   ]
  },
  {
   "cell_type": "code",
   "execution_count": 2,
   "id": "ee4007f5",
   "metadata": {},
   "outputs": [],
   "source": [
    "anagram = ['CAMHOMK', \n",
    "\t\t\t\t\t\t'AYUGNHT', \n",
    "\t\t\t\t\t\t'LUBMEJD',\n",
    "\t\t\t\t\t\t'AXPLINE',]\n",
    "\n",
    "solutions = 'hammock|naughty|jumbled|explain'"
   ]
  },
  {
   "cell_type": "code",
   "execution_count": 3,
   "id": "87a547ad",
   "metadata": {},
   "outputs": [],
   "source": [
    "with open('pilot2.json') as json_file:\n",
    "    data = json.load(json_file) "
   ]
  },
  {
   "cell_type": "code",
   "execution_count": 131,
   "id": "e517ac4b",
   "metadata": {},
   "outputs": [
    {
     "data": {
      "text/plain": [
       "{'rt': 3567,\n",
       " 'stimulus': \"<center><p>Now the <b>black</b> anagram will be shown to you.</p> <p>If you are not able to solve the anagram in <b>1 minute</b>, you will be taken to the next screen.</p> <p>Press 'v' to view the anagram. </p></center>\",\n",
       " 'key_press': 86,\n",
       " 'trial_type': 'html-keyboard-response',\n",
       " 'trial_index': 12,\n",
       " 'time_elapsed': 218546,\n",
       " 'internal_node_id': '0.0-3.1-0.1',\n",
       " 'responseType': 'finish',\n",
       " 'participantID': 'srpzsfwo4h1wao66pw1j9vh107r87pub',\n",
       " 'black_problems': ['ECELT'],\n",
       " 'blue_problems': ['YUOEJRN']}"
      ]
     },
     "execution_count": 131,
     "metadata": {},
     "output_type": "execute_result"
    }
   ],
   "source": []
  },
  {
   "cell_type": "markdown",
   "id": "c6229919",
   "metadata": {},
   "source": [
    "Collect data in separate structures for non-insight (to check answers) and in 1 for anagram"
   ]
  },
  {
   "cell_type": "code",
   "execution_count": 4,
   "id": "d351a6c2",
   "metadata": {},
   "outputs": [
    {
     "name": "stdout",
     "output_type": "stream",
     "text": [
      "we recruited  101  subjects\n"
     ]
    }
   ],
   "source": [
    "black_anagram = []\n",
    "black_anagram_ans = []\n",
    "black_anagram_aha = []\n",
    "black_anagram_rt = []\n",
    "\n",
    "blue_anagram = []\n",
    "blue_anagram_ans = []\n",
    "blue_anagram_aha = []\n",
    "blue_anagram_rt = []\n",
    "\n",
    "num_subs = 0\n",
    "\n",
    "for i in range(len(data)): #go thru the subjects\n",
    "    if len(data[i]['data']) > 4: #only look at subjects that finished the task \n",
    "            num_subs = num_subs + 1            \n",
    "            quiz_answer = data[i]['data'][3]['responses'] #get answer to quiz answer\n",
    "            if '2 minutes' in quiz_answer:\n",
    "                j = 3\n",
    "            else:\n",
    "                quiz_answer = data[i]['data'][5]['responses']\n",
    "                if '2 minutes' in quiz_answer:\n",
    "                    j = 5 \n",
    "                else:\n",
    "                    j = 7\n",
    "            \n",
    "            for k in range(2):\n",
    "                color = data[i]['data'][j+1]['stimulus'] #which colored stimulus were they shown?\n",
    "                if 'blue' in color:\n",
    "                    blue_anagram.append(data[i]['data'][j+2]['blue_problems'][0])\n",
    "                    rt = data[i]['data'][j+2]['rt']/1000\n",
    "                    blue_anagram_rt.append(rt)\n",
    "                    blue_anagram_ans.append(data[i]['data'][j+2]['responses'])\n",
    "                    aha = int(data[i]['data'][j+4]['responses'][6])\n",
    "                    blue_anagram_aha.append(aha)\n",
    "                    j = j+4\n",
    "                elif 'black' in color:\n",
    "                    black_anagram.append(data[i]['data'][j+2]['black_problems'][0])\n",
    "                    rt = data[i]['data'][j+2]['rt']/1000\n",
    "                    black_anagram_rt.append(rt)\n",
    "                    black_anagram_ans.append(data[i]['data'][j+2]['responses'])\n",
    "                    aha = int(data[i]['data'][j+3]['responses'][6])\n",
    "                    black_anagram_aha.append(aha)\n",
    "                    j = j+3\n",
    "\n",
    "print('we recruited ', num_subs, ' subjects')"
   ]
  },
  {
   "cell_type": "markdown",
   "id": "e1229338",
   "metadata": {},
   "source": [
    "Convert data into df and do a filtering based on correct responses"
   ]
  },
  {
   "cell_type": "code",
   "execution_count": 22,
   "id": "724758dd",
   "metadata": {},
   "outputs": [],
   "source": [
    "d1 = {'anagrams':black_anagram,\n",
    "     'answers':black_anagram_ans, \n",
    "     'rts': black_anagram_rt,\n",
    "     'aha': black_anagram_aha}\n",
    "\n",
    "d2 = {'anagrams':blue_anagram,\n",
    "     'answers':blue_anagram_ans, \n",
    "     'rts': blue_anagram_rt,\n",
    "     'aha': blue_anagram_aha}\n",
    "\n",
    "df1 = pd.DataFrame(d1)\n",
    "df2 = pd.DataFrame(d2)\n",
    "df3 = df1.loc[(df1['answers'].str.contains(solutions, case = False)==True)]\n",
    "\n",
    "df3 = df3[df3['rts'] < 21]\n",
    "#df3 = df3[df3['rts'] > 9]\n",
    "\n",
    "df4 = df2#[df2['rts'] > 20]\n",
    "df4_2 = df4#.loc[(df4['answers'].str.contains(solutions, case = False)==False)]\n",
    "#df2_filtered = df2[df2['rts'] > 15000]"
   ]
  },
  {
   "cell_type": "code",
   "execution_count": 23,
   "id": "bedb2a22",
   "metadata": {},
   "outputs": [
    {
     "name": "stdout",
     "output_type": "stream",
     "text": [
      "44 101\n",
      "3.909090909090909 2.9405940594059405\n",
      "12.070227272727273 4.325615626913358 16.464762376237626 5.143808132402519\n"
     ]
    }
   ],
   "source": [
    "print(len(df3), len(df4_2))\n",
    "print(df3['aha'].mean(), df4_2['aha'].mean())\n",
    "print(df3['rts'].mean(), df3['rts'].std(), df4_2['rts'].mean(), df4_2['rts'].std())"
   ]
  },
  {
   "cell_type": "code",
   "execution_count": 24,
   "id": "eb31c38b",
   "metadata": {},
   "outputs": [
    {
     "data": {
      "text/html": [
       "<div>\n",
       "<style scoped>\n",
       "    .dataframe tbody tr th:only-of-type {\n",
       "        vertical-align: middle;\n",
       "    }\n",
       "\n",
       "    .dataframe tbody tr th {\n",
       "        vertical-align: top;\n",
       "    }\n",
       "\n",
       "    .dataframe thead tr th {\n",
       "        text-align: left;\n",
       "    }\n",
       "\n",
       "    .dataframe thead tr:last-of-type th {\n",
       "        text-align: right;\n",
       "    }\n",
       "</style>\n",
       "<table border=\"1\" class=\"dataframe\">\n",
       "  <thead>\n",
       "    <tr>\n",
       "      <th></th>\n",
       "      <th colspan=\"3\" halign=\"left\">rts</th>\n",
       "      <th colspan=\"3\" halign=\"left\">aha</th>\n",
       "    </tr>\n",
       "    <tr>\n",
       "      <th></th>\n",
       "      <th>mean</th>\n",
       "      <th>std</th>\n",
       "      <th>count</th>\n",
       "      <th>mean</th>\n",
       "      <th>std</th>\n",
       "      <th>count</th>\n",
       "    </tr>\n",
       "    <tr>\n",
       "      <th>anagrams</th>\n",
       "      <th></th>\n",
       "      <th></th>\n",
       "      <th></th>\n",
       "      <th></th>\n",
       "      <th></th>\n",
       "      <th></th>\n",
       "    </tr>\n",
       "  </thead>\n",
       "  <tbody>\n",
       "    <tr>\n",
       "      <th>AXPLINE</th>\n",
       "      <td>9.455727</td>\n",
       "      <td>3.373068</td>\n",
       "      <td>11</td>\n",
       "      <td>3.636364</td>\n",
       "      <td>1.629278</td>\n",
       "      <td>11</td>\n",
       "    </tr>\n",
       "    <tr>\n",
       "      <th>AYUGNHT</th>\n",
       "      <td>12.408556</td>\n",
       "      <td>4.459306</td>\n",
       "      <td>18</td>\n",
       "      <td>3.944444</td>\n",
       "      <td>1.862074</td>\n",
       "      <td>18</td>\n",
       "    </tr>\n",
       "    <tr>\n",
       "      <th>CAMHOMK</th>\n",
       "      <td>14.255818</td>\n",
       "      <td>4.159650</td>\n",
       "      <td>11</td>\n",
       "      <td>4.181818</td>\n",
       "      <td>1.721522</td>\n",
       "      <td>11</td>\n",
       "    </tr>\n",
       "    <tr>\n",
       "      <th>LUBMEJD</th>\n",
       "      <td>11.727250</td>\n",
       "      <td>4.059911</td>\n",
       "      <td>4</td>\n",
       "      <td>3.750000</td>\n",
       "      <td>1.892969</td>\n",
       "      <td>4</td>\n",
       "    </tr>\n",
       "  </tbody>\n",
       "</table>\n",
       "</div>"
      ],
      "text/plain": [
       "                rts                       aha                \n",
       "               mean       std count      mean       std count\n",
       "anagrams                                                     \n",
       "AXPLINE    9.455727  3.373068    11  3.636364  1.629278    11\n",
       "AYUGNHT   12.408556  4.459306    18  3.944444  1.862074    18\n",
       "CAMHOMK   14.255818  4.159650    11  4.181818  1.721522    11\n",
       "LUBMEJD   11.727250  4.059911     4  3.750000  1.892969     4"
      ]
     },
     "execution_count": 24,
     "metadata": {},
     "output_type": "execute_result"
    }
   ],
   "source": [
    "dft3 = df3.groupby(['anagrams']).agg(['mean', 'std', 'count'])\n",
    "dft4 = df4_2.groupby(['anagrams']).agg(['mean', 'std', 'count'])\n",
    "dft3"
   ]
  },
  {
   "cell_type": "markdown",
   "id": "b2bdc28c",
   "metadata": {},
   "source": [
    "Plot it!"
   ]
  },
  {
   "cell_type": "code",
   "execution_count": 17,
   "id": "dc892fd0",
   "metadata": {},
   "outputs": [
    {
     "name": "stderr",
     "output_type": "stream",
     "text": [
      "/Users/rachitdubey/miniconda3/lib/python3.8/site-packages/seaborn/_decorators.py:36: FutureWarning: Pass the following variables as keyword args: x, y. From version 0.12, the only valid positional argument will be `data`, and passing other arguments without an explicit keyword will result in an error or misinterpretation.\n",
      "  warnings.warn(\n",
      "/Users/rachitdubey/miniconda3/lib/python3.8/site-packages/seaborn/_decorators.py:36: FutureWarning: Pass the following variables as keyword args: x, y. From version 0.12, the only valid positional argument will be `data`, and passing other arguments without an explicit keyword will result in an error or misinterpretation.\n",
      "  warnings.warn(\n"
     ]
    },
    {
     "data": {
      "image/png": "[encoded data removed]",
      "text/plain": [
       "<Figure size 576x360 with 2 Axes>"
      ]
     },
     "metadata": {},
     "output_type": "display_data"
    }
   ],
   "source": [
    "import seaborn as sns\n",
    "sns.set(style=\"white\", font_scale=1.5, rc={'figure.figsize':(8,5), \n",
    "                                              \"grid.linewidth\": 1, \"axes.linewidth\": 1, 'patch.linewidth': 3.0})\n",
    "\n",
    "color = ['#454648', '#276d9d']\n",
    "plt.subplot(1, 2, 1)\n",
    "ax = sns.barplot(np.arange(2), [df3_2['aha'].mean(), df4_2['aha'].mean()]\n",
    "                 , yerr=[df3_2['aha'].sem(), df4_2['aha'].sem()], \n",
    "                 palette = color, edgecolor = 'black')\n",
    "plt.xticks(np.arange(2), ['Black','Blue'])\n",
    "ax.tick_params(axis=u'both', which=u'both',length=0)\n",
    "plt.title('Aha')\n",
    "\n",
    "plt.subplot(1, 2, 2)\n",
    "ax = sns.barplot(np.arange(2), [df3_2['rts'].mean(), df4_2['rts'].mean()]\n",
    "                 , yerr=[df3_2['rts'].sem(), df4_2['rts'].sem()], \n",
    "                 palette = color, edgecolor = 'black')\n",
    "plt.xticks(np.arange(2), ['Black','Blue'])\n",
    "ax.tick_params(axis=u'both', which=u'both',length=0)\n",
    "plt.title('RT')\n",
    "\n",
    "plt.tight_layout()\n",
    "plt.show()"
   ]
  },
  {
   "cell_type": "code",
   "execution_count": 24,
   "id": "6dbfd498",
   "metadata": {},
   "outputs": [
    {
     "data": {
      "text/plain": [
       "(array([ 2.,  3.,  2.,  3.,  0.,  5.,  2.,  0.,  3.,  2.,  1.,  3.,  2.,\n",
       "         5.,  2.,  1.,  3.,  1.,  2., 59.]),\n",
       " array([ 3.695  ,  4.53195,  5.3689 ,  6.20585,  7.0428 ,  7.87975,\n",
       "         8.7167 ,  9.55365, 10.3906 , 11.22755, 12.0645 , 12.90145,\n",
       "        13.7384 , 14.57535, 15.4123 , 16.24925, 17.0862 , 17.92315,\n",
       "        18.7601 , 19.59705, 20.434  ]),\n",
       " <BarContainer object of 20 artists>)"
      ]
     },
     "execution_count": 24,
     "metadata": {},
     "output_type": "execute_result"
    },
    {
     "data": {
      "image/png": "[encoded data removed]",
      "text/plain": [
       "<Figure size 576x360 with 1 Axes>"
      ]
     },
     "metadata": {},
     "output_type": "display_data"
    }
   ],
   "source": [
    "plt.hist(df2['rts'], 20)"
   ]
  },
  {
   "cell_type": "code",
   "execution_count": null,
   "id": "7d189288",
   "metadata": {},
   "outputs": [],
   "source": []
  },
  {
   "cell_type": "markdown",
   "id": "c34c5a2b",
   "metadata": {},
   "source": [
    "Anagram analysis"
   ]
  },
  {
   "cell_type": "code",
   "execution_count": null,
   "id": "4a003981",
   "metadata": {},
   "outputs": [],
   "source": []
  },
  {
   "cell_type": "code",
   "execution_count": null,
   "id": "30d552e1",
   "metadata": {},
   "outputs": [],
   "source": []
  },
  {
   "cell_type": "markdown",
   "id": "5198480c",
   "metadata": {},
   "source": [
    "Analyze only those responses for which people's confidence is greater than 5"
   ]
  },
  {
   "cell_type": "code",
   "execution_count": null,
   "id": "34cdb1cb",
   "metadata": {},
   "outputs": [],
   "source": []
  },
  {
   "cell_type": "code",
   "execution_count": null,
   "id": "dd0e362c",
   "metadata": {},
   "outputs": [],
   "source": []
  },
  {
   "cell_type": "markdown",
   "id": "155aa307",
   "metadata": {},
   "source": [
    "Plot distribution of curiosity ratings below"
   ]
  },
  {
   "cell_type": "code",
   "execution_count": null,
   "id": "7d1294ec",
   "metadata": {},
   "outputs": [],
   "source": []
  },
  {
   "cell_type": "code",
   "execution_count": null,
   "id": "ee74f54c",
   "metadata": {},
   "outputs": [],
   "source": []
  },
  {
   "cell_type": "code",
   "execution_count": null,
   "id": "cfcadd18",
   "metadata": {},
   "outputs": [],
   "source": []
  },
  {
   "cell_type": "code",
   "execution_count": null,
   "id": "98da8806",
   "metadata": {},
   "outputs": [],
   "source": []
  }
 ],
 "metadata": {
  "kernelspec": {
   "display_name": "Python 3",
   "language": "python",
   "name": "python3"
  },
  "language_info": {
   "codemirror_mode": {
    "name": "ipython",
    "version": 3
   },
   "file_extension": ".py",
   "mimetype": "text/x-python",
   "name": "python",
   "nbconvert_exporter": "python",
   "pygments_lexer": "ipython3",
   "version": "3.8.5"
  }
 },
 "nbformat": 4,
 "nbformat_minor": 5
}
