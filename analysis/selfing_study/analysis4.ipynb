{
 "cells": [
  {
   "cell_type": "code",
   "execution_count": 1,
   "id": "8071369c",
   "metadata": {},
   "outputs": [],
   "source": [
    "# Analytical Tools\n",
    "import numpy as np\n",
    "import pandas as pd\n",
    "import scipy\n",
    "import matplotlib.pyplot as plt\n",
    "import seaborn as sns\n",
    "from scipy import stats\n",
    "\n",
    "# General Utilities\n",
    "import math\n",
    "import json\n",
    "import pprint\n",
    "import itertools\n",
    "import importlib\n",
    "\n",
    "# Some settings\n",
    "from IPython.display import Markdown, display\n",
    "log = pprint.pprint\n",
    "space = lambda: print()\n",
    "printmd = lambda text: display(Markdown(text))\n",
    "%matplotlib inline\n",
    "\n",
    "def set_pandas_display_options() -> None:\n",
    "    \"\"\"Set pandas display options.\"\"\"\n",
    "    display = pd.options.display\n",
    "\n",
    "    display.max_columns = 1000\n",
    "    display.max_rows = 1000\n",
    "    display.max_colwidth = 199\n",
    "    display.width = 1000\n",
    "    # display.precision = 2  # set as needed\n",
    "\n",
    "set_pandas_display_options()"
   ]
  },
  {
   "cell_type": "code",
   "execution_count": 2,
   "id": "ee4007f5",
   "metadata": {},
   "outputs": [],
   "source": [
    "anagram = ['AALRYS',\n",
    "\t\t\t\t\t\t'AYKAWLJ',\n",
    "\t\t\t\t\t\t'AYUGHNT',\n",
    "\t\t\t\t\t\t'CLAIGER',\n",
    "\t\t\t\t\t\t'LUBMEJD',\n",
    "\t\t\t\t\t\t'AXPLINE']\n",
    "\n",
    "solutions = 'salary|jaywalk|NAUGHTY|GLACIER|JUMBLED|EXPLAIN'"
   ]
  },
  {
   "cell_type": "code",
   "execution_count": 3,
   "id": "87a547ad",
   "metadata": {},
   "outputs": [],
   "source": [
    "with open('pilot4.json') as json_file:\n",
    "    data = json.load(json_file) "
   ]
  },
  {
   "cell_type": "markdown",
   "id": "c6229919",
   "metadata": {},
   "source": [
    "Collect data in separate structures for non-insight (to check answers) and in 1 for anagram"
   ]
  },
  {
   "cell_type": "code",
   "execution_count": 4,
   "id": "d351a6c2",
   "metadata": {},
   "outputs": [
    {
     "name": "stdout",
     "output_type": "stream",
     "text": [
      "we recruited  102  subjects\n"
     ]
    }
   ],
   "source": [
    "black_anagram = []\n",
    "black_anagram_ans = []\n",
    "black_anagram_aha = []\n",
    "black_anagram_rt = []\n",
    "\n",
    "blue_anagram = []\n",
    "blue_anagram_ans = []\n",
    "blue_anagram_aha = []\n",
    "blue_anagram_rt = []\n",
    "\n",
    "num_subs = 0\n",
    "\n",
    "for i in range(len(data)): #go thru the subjects\n",
    "    if len(data[i]['data']) > 5: #only look at subjects that finished the task \n",
    "            num_subs = num_subs + 1            \n",
    "            quiz_answer = data[i]['data'][3]['responses'] #get answer to quiz answer\n",
    "            if '2 minutes' in quiz_answer:\n",
    "                j = 3\n",
    "            else:\n",
    "                quiz_answer = data[i]['data'][5]['responses']\n",
    "                if '2 minutes' in quiz_answer:\n",
    "                    j = 5 \n",
    "                else:\n",
    "                    j = 7\n",
    "            \n",
    "            for k in range(2):\n",
    "                color = data[i]['data'][j+1]['stimulus'] #which colored stimulus were they shown?\n",
    "                if 'blue' in color:\n",
    "                    blue_anagram.append(data[i]['data'][j+2]['blue_problems'][0])\n",
    "                    rt = data[i]['data'][j+2]['rt']/1000\n",
    "                    blue_anagram_rt.append(rt)\n",
    "                    blue_anagram_ans.append(data[i]['data'][j+2]['responses'])\n",
    "                    aha = int(data[i]['data'][j+4]['responses'][6])\n",
    "                    blue_anagram_aha.append(aha)\n",
    "                    j = j+4\n",
    "                elif 'black' in color:\n",
    "                    black_anagram.append(data[i]['data'][j+2]['black_problems'][0])\n",
    "                    rt = data[i]['data'][j+2]['rt']/1000\n",
    "                    black_anagram_rt.append(rt)\n",
    "                    black_anagram_ans.append(data[i]['data'][j+2]['responses'])\n",
    "                    aha = int(data[i]['data'][j+3]['responses'][6])\n",
    "                    black_anagram_aha.append(aha)\n",
    "                    j = j+3\n",
    "\n",
    "print('we recruited ', num_subs, ' subjects')"
   ]
  },
  {
   "cell_type": "markdown",
   "id": "e1229338",
   "metadata": {},
   "source": [
    "Convert data into df and do a filtering based on correct responses"
   ]
  },
  {
   "cell_type": "code",
   "execution_count": 40,
   "id": "724758dd",
   "metadata": {},
   "outputs": [],
   "source": [
    "d1 = {'anagrams':black_anagram,\n",
    "     'answers':black_anagram_ans, \n",
    "     'rts': black_anagram_rt,\n",
    "     'aha': black_anagram_aha}\n",
    "\n",
    "d2 = {'anagrams':blue_anagram,\n",
    "     'answers':blue_anagram_ans, \n",
    "     'rts': blue_anagram_rt,\n",
    "     'aha': blue_anagram_aha}\n",
    "\n",
    "df1 = pd.DataFrame(d1)\n",
    "df2 = pd.DataFrame(d2)\n",
    "df3 = df1.loc[(df1['answers'].str.contains(solutions, case = False)==True)]\n",
    "df3 = df3[df3['rts'] < 21]\n",
    "df3 = df3[df3['rts'] > 9]\n",
    "df4 = df2.loc[(df2['answers'].str.contains(solutions, case = False)==False)] #don't include blue anagrams for which people got the correct answer\n",
    "\n",
    "#df3_2 = df3[df3['rts'] < 70]\n",
    "\n",
    "#df4 = df2[df2['rts'] > 20]\n",
    "\n",
    "#df2_filtered = df2[df2['rts'] > 15000]"
   ]
  },
  {
   "cell_type": "code",
   "execution_count": 41,
   "id": "f3ee7b81",
   "metadata": {},
   "outputs": [
    {
     "data": {
      "text/html": [
       "<div>\n",
       "<style scoped>\n",
       "    .dataframe tbody tr th:only-of-type {\n",
       "        vertical-align: middle;\n",
       "    }\n",
       "\n",
       "    .dataframe tbody tr th {\n",
       "        vertical-align: top;\n",
       "    }\n",
       "\n",
       "    .dataframe thead tr th {\n",
       "        text-align: left;\n",
       "    }\n",
       "\n",
       "    .dataframe thead tr:last-of-type th {\n",
       "        text-align: right;\n",
       "    }\n",
       "</style>\n",
       "<table border=\"1\" class=\"dataframe\">\n",
       "  <thead>\n",
       "    <tr>\n",
       "      <th></th>\n",
       "      <th colspan=\"3\" halign=\"left\">rts</th>\n",
       "      <th colspan=\"3\" halign=\"left\">aha</th>\n",
       "    </tr>\n",
       "    <tr>\n",
       "      <th></th>\n",
       "      <th>median</th>\n",
       "      <th>std</th>\n",
       "      <th>count</th>\n",
       "      <th>median</th>\n",
       "      <th>std</th>\n",
       "      <th>count</th>\n",
       "    </tr>\n",
       "    <tr>\n",
       "      <th>anagrams</th>\n",
       "      <th></th>\n",
       "      <th></th>\n",
       "      <th></th>\n",
       "      <th></th>\n",
       "      <th></th>\n",
       "      <th></th>\n",
       "    </tr>\n",
       "  </thead>\n",
       "  <tbody>\n",
       "    <tr>\n",
       "      <th>AALRYS</th>\n",
       "      <td>24.352</td>\n",
       "      <td>42.454392</td>\n",
       "      <td>12</td>\n",
       "      <td>3.0</td>\n",
       "      <td>2.234373</td>\n",
       "      <td>12</td>\n",
       "    </tr>\n",
       "    <tr>\n",
       "      <th>AXPLINE</th>\n",
       "      <td>36.087</td>\n",
       "      <td>39.941673</td>\n",
       "      <td>23</td>\n",
       "      <td>4.0</td>\n",
       "      <td>2.210289</td>\n",
       "      <td>23</td>\n",
       "    </tr>\n",
       "    <tr>\n",
       "      <th>AYKAWLJ</th>\n",
       "      <td>18.230</td>\n",
       "      <td>33.994830</td>\n",
       "      <td>17</td>\n",
       "      <td>4.0</td>\n",
       "      <td>1.968502</td>\n",
       "      <td>17</td>\n",
       "    </tr>\n",
       "    <tr>\n",
       "      <th>AYUGHNT</th>\n",
       "      <td>9.568</td>\n",
       "      <td>27.235004</td>\n",
       "      <td>21</td>\n",
       "      <td>5.0</td>\n",
       "      <td>2.286607</td>\n",
       "      <td>21</td>\n",
       "    </tr>\n",
       "    <tr>\n",
       "      <th>CLAIGER</th>\n",
       "      <td>21.067</td>\n",
       "      <td>47.689955</td>\n",
       "      <td>16</td>\n",
       "      <td>3.5</td>\n",
       "      <td>2.604483</td>\n",
       "      <td>16</td>\n",
       "    </tr>\n",
       "    <tr>\n",
       "      <th>LUBMEJD</th>\n",
       "      <td>25.079</td>\n",
       "      <td>36.772168</td>\n",
       "      <td>13</td>\n",
       "      <td>4.0</td>\n",
       "      <td>2.047513</td>\n",
       "      <td>13</td>\n",
       "    </tr>\n",
       "  </tbody>\n",
       "</table>\n",
       "</div>"
      ],
      "text/plain": [
       "             rts                     aha                \n",
       "          median        std count median       std count\n",
       "anagrams                                                \n",
       "AALRYS    24.352  42.454392    12    3.0  2.234373    12\n",
       "AXPLINE   36.087  39.941673    23    4.0  2.210289    23\n",
       "AYKAWLJ   18.230  33.994830    17    4.0  1.968502    17\n",
       "AYUGHNT    9.568  27.235004    21    5.0  2.286607    21\n",
       "CLAIGER   21.067  47.689955    16    3.5  2.604483    16\n",
       "LUBMEJD   25.079  36.772168    13    4.0  2.047513    13"
      ]
     },
     "execution_count": 41,
     "metadata": {},
     "output_type": "execute_result"
    }
   ],
   "source": [
    "df1_a = df1.groupby(['anagrams']).agg(['median', 'std', 'count'])\n",
    "df1_a"
   ]
  },
  {
   "cell_type": "code",
   "execution_count": 42,
   "id": "bedb2a22",
   "metadata": {},
   "outputs": [
    {
     "name": "stdout",
     "output_type": "stream",
     "text": [
      "36 60\n",
      "4.333333333333333 1.75\n",
      "14.418111111111111 3.346600089453498 14.195000000000002 3.23440620385341\n"
     ]
    }
   ],
   "source": [
    "print(len(df3), len(df4))\n",
    "print(df3['aha'].mean(), df4['aha'].mean())\n",
    "print(df3['rts'].mean(), df3['rts'].std(), df4['rts'].mean(), df4['rts'].std())"
   ]
  },
  {
   "cell_type": "code",
   "execution_count": 43,
   "id": "eb31c38b",
   "metadata": {},
   "outputs": [
    {
     "data": {
      "text/html": [
       "<div>\n",
       "<style scoped>\n",
       "    .dataframe tbody tr th:only-of-type {\n",
       "        vertical-align: middle;\n",
       "    }\n",
       "\n",
       "    .dataframe tbody tr th {\n",
       "        vertical-align: top;\n",
       "    }\n",
       "\n",
       "    .dataframe thead tr th {\n",
       "        text-align: left;\n",
       "    }\n",
       "\n",
       "    .dataframe thead tr:last-of-type th {\n",
       "        text-align: right;\n",
       "    }\n",
       "</style>\n",
       "<table border=\"1\" class=\"dataframe\">\n",
       "  <thead>\n",
       "    <tr>\n",
       "      <th></th>\n",
       "      <th colspan=\"3\" halign=\"left\">rts</th>\n",
       "      <th colspan=\"3\" halign=\"left\">aha</th>\n",
       "    </tr>\n",
       "    <tr>\n",
       "      <th></th>\n",
       "      <th>median</th>\n",
       "      <th>std</th>\n",
       "      <th>count</th>\n",
       "      <th>median</th>\n",
       "      <th>std</th>\n",
       "      <th>count</th>\n",
       "    </tr>\n",
       "    <tr>\n",
       "      <th>anagrams</th>\n",
       "      <th></th>\n",
       "      <th></th>\n",
       "      <th></th>\n",
       "      <th></th>\n",
       "      <th></th>\n",
       "      <th></th>\n",
       "    </tr>\n",
       "  </thead>\n",
       "  <tbody>\n",
       "    <tr>\n",
       "      <th>AALRYS</th>\n",
       "      <td>10.8710</td>\n",
       "      <td>3.948794</td>\n",
       "      <td>3</td>\n",
       "      <td>4.0</td>\n",
       "      <td>1.527525</td>\n",
       "      <td>3</td>\n",
       "    </tr>\n",
       "    <tr>\n",
       "      <th>AXPLINE</th>\n",
       "      <td>15.7445</td>\n",
       "      <td>2.080774</td>\n",
       "      <td>4</td>\n",
       "      <td>4.5</td>\n",
       "      <td>2.380476</td>\n",
       "      <td>4</td>\n",
       "    </tr>\n",
       "    <tr>\n",
       "      <th>AYKAWLJ</th>\n",
       "      <td>16.3490</td>\n",
       "      <td>3.124428</td>\n",
       "      <td>11</td>\n",
       "      <td>5.0</td>\n",
       "      <td>1.439697</td>\n",
       "      <td>11</td>\n",
       "    </tr>\n",
       "    <tr>\n",
       "      <th>AYUGHNT</th>\n",
       "      <td>14.3560</td>\n",
       "      <td>3.478178</td>\n",
       "      <td>9</td>\n",
       "      <td>6.0</td>\n",
       "      <td>1.763834</td>\n",
       "      <td>9</td>\n",
       "    </tr>\n",
       "    <tr>\n",
       "      <th>CLAIGER</th>\n",
       "      <td>14.6320</td>\n",
       "      <td>3.398558</td>\n",
       "      <td>5</td>\n",
       "      <td>5.0</td>\n",
       "      <td>2.190890</td>\n",
       "      <td>5</td>\n",
       "    </tr>\n",
       "    <tr>\n",
       "      <th>LUBMEJD</th>\n",
       "      <td>12.8935</td>\n",
       "      <td>3.120781</td>\n",
       "      <td>4</td>\n",
       "      <td>4.5</td>\n",
       "      <td>0.957427</td>\n",
       "      <td>4</td>\n",
       "    </tr>\n",
       "  </tbody>\n",
       "</table>\n",
       "</div>"
      ],
      "text/plain": [
       "              rts                    aha                \n",
       "           median       std count median       std count\n",
       "anagrams                                                \n",
       "AALRYS    10.8710  3.948794     3    4.0  1.527525     3\n",
       "AXPLINE   15.7445  2.080774     4    4.5  2.380476     4\n",
       "AYKAWLJ   16.3490  3.124428    11    5.0  1.439697    11\n",
       "AYUGHNT   14.3560  3.478178     9    6.0  1.763834     9\n",
       "CLAIGER   14.6320  3.398558     5    5.0  2.190890     5\n",
       "LUBMEJD   12.8935  3.120781     4    4.5  0.957427     4"
      ]
     },
     "execution_count": 43,
     "metadata": {},
     "output_type": "execute_result"
    }
   ],
   "source": [
    "dft3 = df3.groupby(['anagrams']).agg(['median', 'std', 'count'])\n",
    "dft4 = df4.groupby(['anagrams']).agg(['mean', 'std', 'count'])\n",
    "dft3"
   ]
  },
  {
   "cell_type": "markdown",
   "id": "b2bdc28c",
   "metadata": {},
   "source": [
    "Plot it!"
   ]
  },
  {
   "cell_type": "code",
   "execution_count": 14,
   "id": "dc892fd0",
   "metadata": {},
   "outputs": [
    {
     "name": "stderr",
     "output_type": "stream",
     "text": [
      "/Users/rachitdubey/miniconda3/lib/python3.8/site-packages/seaborn/_decorators.py:36: FutureWarning: Pass the following variables as keyword args: x, y. From version 0.12, the only valid positional argument will be `data`, and passing other arguments without an explicit keyword will result in an error or misinterpretation.\n",
      "  warnings.warn(\n",
      "/Users/rachitdubey/miniconda3/lib/python3.8/site-packages/seaborn/_decorators.py:36: FutureWarning: Pass the following variables as keyword args: x, y. From version 0.12, the only valid positional argument will be `data`, and passing other arguments without an explicit keyword will result in an error or misinterpretation.\n",
      "  warnings.warn(\n"
     ]
    },
    {
     "data": {
      "image/png": "[encoded data removed]",
      "text/plain": [
       "<Figure size 576x360 with 2 Axes>"
      ]
     },
     "metadata": {},
     "output_type": "display_data"
    }
   ],
   "source": [
    "import seaborn as sns\n",
    "sns.set(style=\"white\", font_scale=1.5, rc={'figure.figsize':(8,5), \n",
    "                                              \"grid.linewidth\": 1, \"axes.linewidth\": 1, 'patch.linewidth': 3.0})\n",
    "\n",
    "color = ['#454648', '#276d9d']\n",
    "plt.subplot(1, 2, 1)\n",
    "ax = sns.barplot(np.arange(2), [df3['aha'].mean(), df4['aha'].mean()]\n",
    "                 , yerr=[df3['aha'].sem(), df4['aha'].sem()], \n",
    "                 palette = color, edgecolor = 'black')\n",
    "plt.xticks(np.arange(2), ['Black','Blue'])\n",
    "ax.tick_params(axis=u'both', which=u'both',length=0)\n",
    "plt.title('Aha')\n",
    "\n",
    "plt.subplot(1, 2, 2)\n",
    "ax = sns.barplot(np.arange(2), [df3['rts'].mean(), df4['rts'].mean()]\n",
    "                 , yerr=[df3['rts'].sem(), df4['rts'].sem()], \n",
    "                 palette = color, edgecolor = 'black')\n",
    "plt.xticks(np.arange(2), ['Black','Blue'])\n",
    "ax.tick_params(axis=u'both', which=u'both',length=0)\n",
    "plt.title('RT')\n",
    "\n",
    "plt.tight_layout()\n",
    "plt.show()"
   ]
  },
  {
   "cell_type": "code",
   "execution_count": 24,
   "id": "6dbfd498",
   "metadata": {},
   "outputs": [
    {
     "data": {
      "text/plain": [
       "(array([ 2.,  3.,  2.,  3.,  0.,  5.,  2.,  0.,  3.,  2.,  1.,  3.,  2.,\n",
       "         5.,  2.,  1.,  3.,  1.,  2., 59.]),\n",
       " array([ 3.695  ,  4.53195,  5.3689 ,  6.20585,  7.0428 ,  7.87975,\n",
       "         8.7167 ,  9.55365, 10.3906 , 11.22755, 12.0645 , 12.90145,\n",
       "        13.7384 , 14.57535, 15.4123 , 16.24925, 17.0862 , 17.92315,\n",
       "        18.7601 , 19.59705, 20.434  ]),\n",
       " <BarContainer object of 20 artists>)"
      ]
     },
     "execution_count": 24,
     "metadata": {},
     "output_type": "execute_result"
    },
    {
     "data": {
      "image/png": "[encoded data removed]",
      "text/plain": [
       "<Figure size 576x360 with 1 Axes>"
      ]
     },
     "metadata": {},
     "output_type": "display_data"
    }
   ],
   "source": [
    "plt.hist(df2['rts'], 20)"
   ]
  },
  {
   "cell_type": "code",
   "execution_count": null,
   "id": "7d189288",
   "metadata": {},
   "outputs": [],
   "source": []
  },
  {
   "cell_type": "markdown",
   "id": "c34c5a2b",
   "metadata": {},
   "source": [
    "Anagram analysis"
   ]
  },
  {
   "cell_type": "code",
   "execution_count": null,
   "id": "4a003981",
   "metadata": {},
   "outputs": [],
   "source": []
  },
  {
   "cell_type": "code",
   "execution_count": null,
   "id": "30d552e1",
   "metadata": {},
   "outputs": [],
   "source": []
  },
  {
   "cell_type": "markdown",
   "id": "5198480c",
   "metadata": {},
   "source": [
    "Analyze only those responses for which people's confidence is greater than 5"
   ]
  },
  {
   "cell_type": "code",
   "execution_count": null,
   "id": "34cdb1cb",
   "metadata": {},
   "outputs": [],
   "source": []
  },
  {
   "cell_type": "code",
   "execution_count": null,
   "id": "dd0e362c",
   "metadata": {},
   "outputs": [],
   "source": []
  },
  {
   "cell_type": "markdown",
   "id": "155aa307",
   "metadata": {},
   "source": [
    "Plot distribution of curiosity ratings below"
   ]
  },
  {
   "cell_type": "code",
   "execution_count": null,
   "id": "7d1294ec",
   "metadata": {},
   "outputs": [],
   "source": []
  },
  {
   "cell_type": "code",
   "execution_count": null,
   "id": "ee74f54c",
   "metadata": {},
   "outputs": [],
   "source": []
  },
  {
   "cell_type": "code",
   "execution_count": null,
   "id": "cfcadd18",
   "metadata": {},
   "outputs": [],
   "source": []
  },
  {
   "cell_type": "code",
   "execution_count": null,
   "id": "98da8806",
   "metadata": {},
   "outputs": [],
   "source": []
  }
 ],
 "metadata": {
  "kernelspec": {
   "display_name": "Python 3",
   "language": "python",
   "name": "python3"
  },
  "language_info": {
   "codemirror_mode": {
    "name": "ipython",
    "version": 3
   },
   "file_extension": ".py",
   "mimetype": "text/x-python",
   "name": "python",
   "nbconvert_exporter": "python",
   "pygments_lexer": "ipython3",
   "version": "3.8.5"
  }
 },
 "nbformat": 4,
 "nbformat_minor": 5
}
