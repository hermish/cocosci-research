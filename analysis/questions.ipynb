{
 "cells": [
  {
   "cell_type": "markdown",
   "metadata": {},
   "source": [
    "# Study Questions\n",
    "## Imports & Constants"
   ]
  },
  {
   "cell_type": "code",
   "execution_count": 1,
   "metadata": {},
   "outputs": [
    {
     "name": "stderr",
     "output_type": "stream",
     "text": [
      "/Users/hermish/anaconda/lib/python3.6/site-packages/statsmodels/compat/pandas.py:56: FutureWarning: The pandas.core.datetools module is deprecated and will be removed in a future version. Please use the pandas.tseries module instead.\n",
      "  from pandas.core import datetools\n"
     ]
    }
   ],
   "source": [
    "import numpy as np\n",
    "import pandas as pd\n",
    "import matplotlib.pyplot as plt\n",
    "import seaborn as sns\n",
    "import scipy\n",
    "from scipy import stats\n",
    "from textstat.textstat import textstat\n",
    "import pprint, math\n",
    "\n",
    "%matplotlib inline\n",
    "%run -i datajson.py\n",
    "# Ensures higher quality graphs!\n",
    "%config InlineBackend.figure_format = 'retina'"
   ]
  },
  {
   "cell_type": "code",
   "execution_count": 2,
   "metadata": {
    "collapsed": true
   },
   "outputs": [],
   "source": [
    "# File Names\n",
    "name = ['2017-10-02', '2017-10-06', '2017-10-16', '2017-10-25', '2017-11-01', \n",
    "        '2017-11-13', '2017-11-18', '2017-11-25', '2017-12-06']\n",
    "CURRENTS = ['../private/output/' + name + '.txt' for name in name]"
   ]
  },
  {
   "cell_type": "code",
   "execution_count": 3,
   "metadata": {
    "collapsed": true
   },
   "outputs": [],
   "source": [
    "# Utilities\n",
    "def head(arr, num=5):\n",
    "    try:\n",
    "        pprint.pprint(arr[:num])\n",
    "    except IndexError:\n",
    "        pprint.pprint(arr)\n",
    "\n",
    "def tail(arr, num=5):\n",
    "    try:\n",
    "        pprint.pprint(arr[-num-1:])\n",
    "    except IndexError:\n",
    "        pprint.pprint(arr)\n",
    "\n",
    "def clean_question(text):\n",
    "    start = text[:6].upper()\n",
    "    if start == 'ELI5: ':\n",
    "        return text[6:]\n",
    "    start = text[:5].upper()\n",
    "    if start == 'ELI5:':\n",
    "        return text[5:]\n",
    "    return text"
   ]
  },
  {
   "cell_type": "markdown",
   "metadata": {},
   "source": [
    "## Samples Questions"
   ]
  },
  {
   "cell_type": "code",
   "execution_count": 6,
   "metadata": {},
   "outputs": [
    {
     "name": "stdout",
     "output_type": "stream",
     "text": [
      "[4, 4, 5, 5, 5, 5, 5, 6, 6, 6, 6, 6, 6, 6, 6, 6, 6, 6, 6, 6, 6, 6, 6, 6, 7, 7, 7, 7, 7, 7, 7, 7, 7, 7, 7, 7, 7, 7, 7, 7, 7, 7, 7, 7, 7, 7, 7, 7, 7, 7, 7, 7, 8, 8, 8, 8, 8, 8, 8, 8, 8, 8, 8, 8, 8, 8, 8, 8, 8, 8, 8, 8, 8, 8, 8, 8, 8, 8, 8, 8, 8, 8, 8, 8, 8, 8, 8, 8, 8, 8, 8, 8, 8, 8, 8, 8, 9, 9, 9, 9, 9, 9, 9, 9, 9, 9, 9, 9, 9, 9, 9, 9, 9, 9, 9, 9, 9, 9, 9, 9, 9, 9, 9, 9, 9, 9, 9, 9, 9, 9, 9, 9, 9, 9, 9, 9, 9, 9, 9, 9, 9, 9, 9, 9, 10, 10, 10, 10, 10, 10, 10, 10, 10, 10, 10, 10, 10, 10, 10, 10, 10, 10, 10, 10, 10, 10, 10, 10, 10, 10, 10, 10, 10, 10, 10, 10, 10, 10, 10, 10, 10, 10, 11, 11, 11, 11, 11, 11, 11, 11, 11, 11, 11, 11, 11, 11, 11, 11, 11, 11, 11, 11, 11, 11, 11, 11, 11, 11, 11, 11, 11, 11, 11, 11, 11, 11, 11, 11, 11, 11, 11, 11, 11, 11, 11, 12, 12, 12, 12, 12, 12, 12, 12, 12, 12, 12, 12, 12, 12, 12, 12, 12, 12, 12, 12, 12, 12, 12, 12, 12, 12, 12, 12, 12, 12, 12, 12, 12, 12, 12, 12, 12, 12, 12, 12, 12, 12, 12, 13, 13, 13, 13, 13, 13, 13, 13, 13, 13, 13, 13, 13, 13, 13, 13, 13, 13, 13, 13, 13, 13, 13, 13, 13, 13, 13, 13, 13, 13, 13, 13, 13, 13, 13, 13, 13, 13, 13, 13, 13, 13, 13, 13, 13, 13, 14, 14, 14, 14, 14, 14, 14, 14, 14, 14, 14, 14, 14, 14, 14, 14, 14, 14, 14, 14, 14, 14, 14, 14, 14, 14, 14, 14, 14, 14, 14, 15, 15, 15, 15, 15, 15, 15, 15, 15, 15, 15, 15, 15, 15, 15, 15, 15, 15, 15, 15, 15, 15, 15, 15, 15, 15, 15, 15, 15, 15, 15, 15, 15, 15, 15, 15, 16, 16, 16, 16, 16, 16, 16, 16, 16, 16, 16, 16, 16, 16, 16, 16, 16, 16, 16, 16, 16, 16, 16, 16, 16, 16, 17, 17, 17, 17, 17, 17, 17, 17, 17, 17, 17, 17, 17, 17, 17, 17, 17, 17, 17, 17, 17, 17, 17, 17, 18, 18, 18, 18, 18, 18, 18, 18, 18, 18, 18, 18, 18, 18, 18, 18, 18, 18, 18, 19, 19, 19, 19, 19, 19, 19, 19, 19, 19, 19, 19, 19, 19, 20, 20, 20, 20, 20, 20, 20, 20, 20, 20, 20, 20, 20, 20, 20, 20, 20, 21, 21, 21, 21, 21, 21, 21, 21, 21, 21, 21, 21, 21, 22, 22, 22, 22, 22, 22, 22, 22, 22, 22, 22, 23, 23, 23, 23, 23, 23, 23, 23, 24, 24, 24, 24, 24, 24, 24, 24, 25, 25, 25, 25, 25, 25, 26, 26, 26, 26, 26, 26, 26, 26, 26, 26, 26, 26, 27, 27, 27, 27, 27, 27, 28, 28, 28, 28, 28, 28, 28, 28, 28, 28, 29, 29, 29, 29, 29, 29, 29, 29, 30, 30, 30, 30, 30, 30, 31, 31, 31, 31, 32, 32, 32, 32, 32, 32, 32, 32, 32, 33, 34, 34, 34, 34, 34, 35, 35, 36, 36, 36, 37, 37, 37, 37, 37, 38, 38, 38, 39, 39, 39, 39, 39, 40, 40, 40, 40, 40, 41, 41, 42, 42, 42, 43, 43, 43, 43, 43, 44, 44, 45, 46, 46, 47, 49, 49, 50, 51, 51, 52, 52, 52, 53, 53, 54, 54, 55, 55, 55, 56, 58, 58, 58, 59, 59, 60, 60, 60, 60, 63, 64, 64, 65, 66, 66, 66, 66, 70, 70, 71, 71, 73, 73, 74, 77, 78, 78, 83, 87, 89, 89, 92, 92, 93, 93, 94, 96, 97, 101, 103, 103, 104, 106, 108, 110, 111, 111, 113, 116, 117, 118, 122, 123, 124, 125, 125, 131, 133, 133, 133, 138, 139, 144, 151, 166, 170, 176, 183, 188, 194, 200, 205, 209, 212, 223, 237, 239, 241, 244, 249, 258, 261, 261, 275, 279, 284, 309, 328, 330, 342, 353, 361, 384, 391, 397, 398, 427, 489, 524, 534, 592, 601, 602, 616, 621, 623, 648, 669, 681, 699, 710, 721, 730, 742, 788, 807, 837, 915, 988, 1077, 1165, 1243, 1589, 1590, 1658, 1678, 1943, 1972, 2007, 2083, 2686, 2800, 2815, 2926, 2980, 3081, 3357, 3856, 4040, 4405, 4459, 4709, 5387, 5448, 5544, 5606, 6029, 6092, 6346, 6542, 6560, 7063, 7171, 7192, 8001, 8076, 8579, 9042, 9653, 9962, 10616, 10721, 10856, 11106, 11312, 11336, 11381, 11401, 11528, 11800, 11819, 12049, 12092, 12626, 12854, 13013, 13384, 13699, 13779, 14075, 14680, 15431, 15781, 16297, 16728, 18671, 19802, 20286, 24436, 25541, 27359]\n",
      "['How do they get the liquid medicine to completely fill liquicaps, like '\n",
      " 'Dayquil?',\n",
      " 'What are the biological advantagse and disadvantages of trees shedding their '\n",
      " 'leaves vs keeping them all year round (deciduous vs coniferous)?',\n",
      " 'Do multivitamins and Omega-3 pills actually do anything? or is it more of a '\n",
      " 'placebo-type thing?',\n",
      " 'How do earphones produce adequate bass despite their size?',\n",
      " 'Why does the eastern half of the United States have colder winters than the '\n",
      " 'western half?']\n",
      "336.4567901234568\n"
     ]
    }
   ],
   "source": [
    "collected_posts = RedditDataJSON.from_filenames(CURRENTS)\n",
    "raw_scores = {post['title']: int(post['score']) for post in collected_posts.posts}\n",
    "texts_only = list(raw_scores.keys())\n",
    "texts_only.sort(key=lambda post: raw_scores[post])\n",
    "\n",
    "print(list(sorted(raw_scores.values())))\n",
    "\n",
    "middle = [post for post in texts_only if 99 < raw_scores[post] < 1000]\n",
    "average_score = sum(raw_scores[post] for post in middle) / len(middle)\n",
    "cleaned = [clean_question(post) for post in middle]\n",
    "head(cleaned)\n",
    "print(average_score)"
   ]
  },
  {
   "cell_type": "code",
   "execution_count": 9,
   "metadata": {},
   "outputs": [
    {
     "name": "stdout",
     "output_type": "stream",
     "text": [
      "['When bacteria die, for example when boiling water, where do their corpses go?',\n",
      " 'What occurs physically that causes a person to foam at the mouth?',\n",
      " 'How do scientists know what the global temperature was millions of years ago?',\n",
      " 'Why is CPR for drowning different than CPR for people who collapse from heart problems? e.g rescue breaths are recommended for one but not the other.',\n",
      " 'How are tunnels that go underwater built?',\n",
      " 'Why are bubbles round?',\n",
      " 'What is matching? (Clothing)',\n",
      " 'How do activated carbon filters work?',\n",
      " 'Why are 9mm bullets less dangerous than 7.62 or even 5.56 ones? Shouldn’t they deal more damage with bigger size?',\n",
      " 'Do multivitamins and Omega-3 pills actually do anything? or is it more of a placebo-type thing?',\n",
      " 'ELI5 What is the differences between Hepatitis A, B, and C?',\n",
      " 'The Circle of Fifths',\n",
      " 'Why does the eastern half of the United States have colder winters than the western half?',\n",
      " 'How did we \"solve\" the Y2K problem? Was our solution completely thorough?',\n",
      " 'Why do typical spray pump bottles of cologne or perfume evaporate quickly when left on their side or \"tipped over\" but not upright?']\n"
     ]
    }
   ],
   "source": [
    "# Random Sampling\n",
    "questions = list(np.random.choice(cleaned, 15, replace=False))"
   ]
  },
  {
   "cell_type": "code",
   "execution_count": 45,
   "metadata": {},
   "outputs": [
    {
     "data": {
      "text/plain": [
       "(3364.567901234568, 33.0)"
      ]
     },
     "execution_count": 45,
     "metadata": {},
     "output_type": "execute_result"
    }
   ],
   "source": [
    "high_baseline = average_score * 10\n",
    "low_baseline = average_score // 10\n",
    "high_baseline, low_baseline"
   ]
  },
  {
   "cell_type": "code",
   "execution_count": null,
   "metadata": {
    "collapsed": true
   },
   "outputs": [],
   "source": []
  }
 ],
 "metadata": {
  "kernelspec": {
   "display_name": "Python 3",
   "language": "python",
   "name": "python3"
  },
  "language_info": {
   "codemirror_mode": {
    "name": "ipython",
    "version": 3
   },
   "file_extension": ".py",
   "mimetype": "text/x-python",
   "name": "python",
   "nbconvert_exporter": "python",
   "pygments_lexer": "ipython3",
   "version": "3.6.1"
  }
 },
 "nbformat": 4,
 "nbformat_minor": 2
}
