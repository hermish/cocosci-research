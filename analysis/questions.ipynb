{
  "cells": [
    {
      "cell_type": "markdown",
      "source": [
        "# Study Questions\n",
        "## Imports & Constants"
      ],
      "metadata": {
        "button": false,
        "deletable": true,
        "new_sheet": false,
        "run_control": {
          "read_only": false
        }
      }
    },
    {
      "cell_type": "code",
      "source": [
        "import numpy as np\n",
        "import pandas as pd\n",
        "import matplotlib.pyplot as plt\n",
        "import seaborn as sns\n",
        "import scipy\n",
        "from scipy import stats\n",
        "from textstat.textstat import textstat\n",
        "import pprint, math\n",
        "\n",
        "%matplotlib inline\n",
        "%run -i tools/datajson.py\n",
        "# Ensures higher quality graphs!\n",
        "%config InlineBackend.figure_format = 'retina'"
      ],
      "outputs": [],
      "execution_count": 6,
      "metadata": {
        "button": false,
        "collapsed": false,
        "deletable": true,
        "new_sheet": false,
        "run_control": {
          "read_only": false
        }
      }
    },
    {
      "cell_type": "code",
      "source": [
        "# File Names\n",
        "name = ['2017-10-02', '2017-10-06', '2017-10-16', '2017-10-25', '2017-11-01', \n",
        "        '2017-11-13', '2017-11-18', '2017-11-25', '2017-12-06', '2017-12-25']\n",
        "CURRENTS = ['../../private/output/' + name + '.txt' for name in name]\n"
      ],
      "outputs": [
        {
          "output_type": "stream",
          "name": "stdout",
          "text": [
            "[1, 2, 3]\n"
          ]
        }
      ],
      "execution_count": 7,
      "metadata": {
        "button": false,
        "collapsed": true,
        "deletable": true,
        "new_sheet": false,
        "run_control": {
          "read_only": false
        }
      }
    },
    {
      "cell_type": "code",
      "source": [
        "def clean_question(text):\n",
        "    start = text[:6].upper()\n",
        "    if start == 'ELI5: ':\n",
        "        return text[6:]\n",
        "    start = text[:5].upper()\n",
        "    if start == 'ELI5:':\n",
        "        return text[5:]\n",
        "    return text"
      ],
      "outputs": [],
      "execution_count": 3,
      "metadata": {
        "button": false,
        "collapsed": true,
        "deletable": true,
        "new_sheet": false,
        "run_control": {
          "read_only": false
        }
      }
    },
    {
      "cell_type": "markdown",
      "source": [
        "## Samples Questions"
      ],
      "metadata": {
        "button": false,
        "deletable": true,
        "new_sheet": false,
        "run_control": {
          "read_only": false
        }
      }
    },
    {
      "cell_type": "code",
      "source": [
        "collected_posts = RedditDataJSON.from_filenames(CURRENTS)\n",
        "print('Size:', collected_posts.size)\n",
        "raw_scores = {post['title']: int(post['score']) for post in collected_posts.posts}\n",
        "texts_only = list(raw_scores.keys())\n",
        "texts_only.sort(key=lambda post: raw_scores[post])\n",
        "\n",
        "middle = [post for post in texts_only if 200 <= raw_scores[post] <= 500]\n",
        "middle_scores = [raw_scores[post] for post in middle]\n",
        "\n",
        "plt.hist(middle_scores)\n",
        "plt.show()\n",
        "\n",
        "average_score = sum(middle_scores) / len(middle)\n",
        "cleaned = [clean_question(post) for post in middle]\n",
        "print('Average score:', average_score)"
      ],
      "outputs": [
        {
          "output_type": "stream",
          "name": "stdout",
          "text": [
            "Size: (1000, 3)\n"
          ]
        },
        {
          "output_type": "display_data",
          "data": {
            "text/plain": [
              "<matplotlib.figure.Figure at 0x11275a978>"
            ],
            "image/png": "[encoded data removed]"
          },
          "metadata": {
            "image/png": {
              "width": 366,
              "height": 248
            }
          }
        },
        {
          "output_type": "stream",
          "name": "stdout",
          "text": [
            "Average score: 305.06060606060606\n"
          ]
        }
      ],
      "execution_count": 4,
      "metadata": {
        "button": false,
        "collapsed": false,
        "deletable": true,
        "new_sheet": false,
        "run_control": {
          "read_only": false
        }
      }
    },
    {
      "cell_type": "code",
      "source": [
        "# Random Sampling\n",
        "questions = list(np.random.choice(cleaned, 15, replace=False))\n",
        "questions"
      ],
      "outputs": [
        {
          "output_type": "execute_result",
          "execution_count": 5,
          "data": {
            "text/plain": [
              "['What is the difference between forward and reverse osmosis?',\n",
              " 'Why do typical spray pump bottles of cologne or perfume evaporate quickly when left on their side or \"tipped over\" but not upright?',\n",
              " 'How Dual-Clutch Transmissions and Continuously Variable Transmissions use clutches but do not stall.',\n",
              " \"What gives something it's taste? Does pyrite taste like table salt because they are both cubes?\",\n",
              " \"What make objects 'bouncier' than others?\",\n",
              " 'Why is therapy effective? What is it about the brain that allows talking about your problems to help fix them?',\n",
              " 'If rockets use controlled explosions to propel forward, why can’t we use a nuclear reaction to launch/fly our rockets?',\n",
              " 'Why is CPR for drowning different than CPR for people who collapse from heart problems? e.g rescue breaths are recommended for one but not the other.',\n",
              " 'How does the body separates water from stomach acid?',\n",
              " 'Why is the consistency of my ice cream different when it melts and I refreeze it?',\n",
              " 'How can alcohol withdrawal or detox kill you?',\n",
              " 'How do scientists know what the global temperature was millions of years ago?',\n",
              " \"Why do some alcoholics suffer life threatening withdrawl symptoms when others with the same drinking habits don't when they quit?\",\n",
              " \"Why aren't other animals as freaked out by bugs and creepy crawlies as humans?\",\n",
              " 'Why do your eyelids get puffy after crying?']"
            ]
          },
          "metadata": {}
        }
      ],
      "execution_count": 5,
      "metadata": {
        "button": false,
        "collapsed": false,
        "deletable": true,
        "new_sheet": false,
        "run_control": {
          "read_only": false
        }
      }
    },
    {
      "cell_type": "code",
      "source": [
        "high_baseline = average_score * 10\n",
        "low_baseline = average_score // 10\n",
        "high_baseline, low_baseline"
      ],
      "outputs": [
        {
          "output_type": "execute_result",
          "execution_count": 10,
          "data": {
            "text/plain": [
              "(3050.6060606060605, 30.0)"
            ]
          },
          "metadata": {}
        }
      ],
      "execution_count": 10,
      "metadata": {
        "button": false,
        "collapsed": false,
        "deletable": true,
        "new_sheet": false,
        "run_control": {
          "read_only": false
        }
      }
    }
  ],
  "metadata": {
    "kernelspec": {
      "name": "python3",
      "language": "python",
      "display_name": "Python 3"
    },
    "language_info": {
      "name": "python",
      "version": "3.6.1",
      "mimetype": "text/x-python",
      "codemirror_mode": {
        "name": "ipython",
        "version": 3
      },
      "pygments_lexer": "ipython3",
      "nbconvert_exporter": "python",
      "file_extension": ".py"
    },
    "kernel_info": {
      "name": "python3"
    },
    "nteract": {
      "version": "0.5.5"
    }
  },
  "nbformat": 4,
  "nbformat_minor": 2
}