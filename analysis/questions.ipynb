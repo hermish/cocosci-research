{
 "cells": [
  {
   "cell_type": "markdown",
   "metadata": {
    "button": false,
    "new_sheet": false,
    "run_control": {
     "read_only": false
    }
   },
   "source": [
    "# Study Questions\n",
    "## Imports & Constants"
   ]
  },
  {
   "cell_type": "code",
   "execution_count": 21,
   "metadata": {
    "button": false,
    "new_sheet": false,
    "run_control": {
     "read_only": false
    }
   },
   "outputs": [],
   "source": [
    "import numpy as np\n",
    "import pandas as pd\n",
    "import matplotlib.pyplot as plt\n",
    "import seaborn as sns\n",
    "import scipy\n",
    "from scipy import stats\n",
    "from textstat.textstat import textstat\n",
    "import pprint, math\n",
    "\n",
    "log = pprint.pprint\n",
    "\n",
    "%matplotlib inline\n",
    "%run -i tools/datajson.py\n",
    "# Ensures higher quality graphs!\n",
    "%config InlineBackend.figure_format = 'retina'"
   ]
  },
  {
   "cell_type": "code",
   "execution_count": 13,
   "metadata": {
    "button": false,
    "collapsed": true,
    "new_sheet": false,
    "run_control": {
     "read_only": false
    }
   },
   "outputs": [],
   "source": [
    "# File Names\n",
    "NAMES = ['2017-10-02', '2017-10-06', '2017-10-16', '2017-10-25', '2017-11-01', \n",
    "        '2017-11-13', '2017-11-18', '2017-11-25', '2017-12-06', '2017-12-16',\n",
    "        '2017-12-25', '2018-01-04', '2018-01-17']\n",
    "CURRENTS = ['../private/output/' + name + '.txt' for name in NAMES]\n"
   ]
  },
  {
   "cell_type": "code",
   "execution_count": 14,
   "metadata": {
    "button": false,
    "collapsed": true,
    "new_sheet": false,
    "run_control": {
     "read_only": false
    }
   },
   "outputs": [],
   "source": [
    "def clean_question(text):\n",
    "    start = text[:6].upper()\n",
    "    if start == 'ELI5: ':\n",
    "        return text[6:]\n",
    "    start = text[:5].upper()\n",
    "    if start == 'ELI5:':\n",
    "        return text[5:]\n",
    "    return text"
   ]
  },
  {
   "cell_type": "markdown",
   "metadata": {
    "button": false,
    "new_sheet": false,
    "run_control": {
     "read_only": false
    }
   },
   "source": [
    "## Samples Questions"
   ]
  },
  {
   "cell_type": "code",
   "execution_count": 26,
   "metadata": {
    "button": false,
    "new_sheet": false,
    "run_control": {
     "read_only": false
    }
   },
   "outputs": [
    {
     "name": "stdout",
     "output_type": "stream",
     "text": [
      "Size: (1300, 3)\n"
     ]
    },
    {
     "data": {
      "image/png": "[encoded data removed]",
      "text/plain": [
       "<matplotlib.figure.Figure at 0x1142c02e8>"
      ]
     },
     "metadata": {
      "image/png": {
       "height": 248,
       "width": 367
      }
     },
     "output_type": "display_data"
    },
    {
     "name": "stdout",
     "output_type": "stream",
     "text": [
      "Number: 89\n",
      "Average score: 240.4943820224719\n"
     ]
    }
   ],
   "source": [
    "collected_posts = RedditDataJSON.from_filenames(CURRENTS)\n",
    "print('Size:', collected_posts.size)\n",
    "raw_scores = {post['title']: int(post['score']) for post in collected_posts.posts}\n",
    "texts_only = list(raw_scores.keys())\n",
    "texts_only.sort(key=lambda post: raw_scores[post])\n",
    "\n",
    "middle = [post for post in texts_only if 100 <= raw_scores[post] <= 600]\n",
    "middle_scores = [raw_scores[post] for post in middle]\n",
    "\n",
    "plt.hist(middle_scores)\n",
    "plt.show()\n",
    "\n",
    "average_score = sum(middle_scores) / len(middle)\n",
    "cleaned = [clean_question(post) for post in middle]\n",
    "\n",
    "print('Number:', len(cleaned))\n",
    "print('Average score:', average_score)"
   ]
  },
  {
   "cell_type": "code",
   "execution_count": 29,
   "metadata": {
    "button": false,
    "new_sheet": false,
    "run_control": {
     "read_only": false
    }
   },
   "outputs": [
    {
     "name": "stdout",
     "output_type": "stream",
     "text": [
      "[\"What make objects 'bouncier' than others?\", \"Why do car windows get a grid pattern on them\", \"Why does shampoo not lather up well when you shampoo for the first time in a while?\", \"Why can't the asteroid belt accumulate into one rocky planet?\", \"How do such small doses of things like cocaine and heroin kill you? How do these small powders have such a big effect on your body?\", \"How do scientists know what the global temperature was millions of years ago?\", \"Why does giving someone a transfusion of my blood to someone not give them my immunity?\", \"How did we \\\"solve\\\" the Y2K problem? Was our solution completely thorough?\", \"Why is therapy effective? What is it about the brain that allows talking about your problems to help fix them?\", \"How does rabies induce hydrophobia?\", \"What causes those pulled neck muscles that happen from doing nothing like yawning or rolling in your sleep?\", \"FCC and net neutrality megathread.\", \"Why do we toss and turn/constantly reposition ourselves during our sleep? What makes one position suddenly stop being comfortable even when we are not fully conscious?\", \"What makes something microwaveable or non-microwaveable? Is all food microwaveable?\", \"How do earphones produce adequate bass despite their size?\", \"Why do you feel sick and not hungry when you haven't eaten\", \"How snails form their shells\", \"How does sleep restore the body's energy?\", \"ELIF What is the difference between time signatures that have the same ratio?\", \"Why aren't other animals as freaked out by bugs and creepy crawlies as humans?\", \"What's special about CO2 that we add it to water/soda and not other gasses? Why not use compressed air or another gas?\", \"What occurs physically that causes a person to foam at the mouth?\", \"Do multivitamins and Omega-3 pills actually do anything? or is it more of a placebo-type thing?\", \"Why do typical spray pump bottles of cologne or perfume evaporate quickly when left on their side or \\\"tipped over\\\" but not upright?\", \"Why is it hard to implement a standard volume across various mediums like radio and television?\", \"How our lungs prevent/eliminate dust ?\", \"Why waves ? All energy transfer in nature from one point to another happens in waves. Light, sound, even gravity travels in waves. Which fundamental property of nature is responsible for wave like nature ? Are there other non-wave like ways to transfer energy from one point to another ?\", \"The meaning of Auld Lang Syne\", \"Why do leather belts start out straight, but after being worn a lot, get curved?\", \"What exactly does radiation poisoning do to our bodies, and how does medicine cure it?\", \"Difference between beat, bar, steps, tempo, tact, and rhythm.\", \"Why do US based airlines lag behind in service and quality, especially in their premium cabins?\", \"The Circle of Fifths\", \"Why is it that when you drink fizzy drinks, even if they don't touch your teeth, are harmful to your teeth\", \"Why does meat to stick to cooking surfaces?\", \"Why are 9mm bullets less dangerous than 7.62 or even 5.56 ones? Shouldn\\u2019t they deal more damage with bigger size?\", \"When you're standing up you have 14.7PSI of atmosphere (weight of the air above you) pressing down on all the surfaces perpendicular to this force; shoulders, top of head. Lay down and you expose much more surface area to this force. How does a scale not reflect this change in surface area?\", \"What exactly is a dependent triad or \\\"devil's tritone\\\" in music and how does it work?\", \"How do the parasites that infect insect brains and such actually manipulate the host body's movements ?\", \"Why is alligator tail meat as white as (if not whiter than) poultry\\u2014i.e. chicken breast? Is it similar muscle? What makes it that way?\"]\n"
     ]
    }
   ],
   "source": [
    "w# Random Sampling\n",
    "questions = list(np.random.choice(cleaned, 40, replace=False))\n",
    "print(json.dumps(questions))"
   ]
  },
  {
   "cell_type": "code",
   "execution_count": 17,
   "metadata": {
    "button": false,
    "new_sheet": false,
    "run_control": {
     "read_only": false
    }
   },
   "outputs": [
    {
     "data": {
      "text/plain": [
       "(2941.525423728813, 29.0)"
      ]
     },
     "execution_count": 17,
     "metadata": {},
     "output_type": "execute_result"
    }
   ],
   "source": [
    "high_baseline = average_score * 10\n",
    "low_baseline = average_score // 10\n",
    "high_baseline, low_baseline"
   ]
  }
 ],
 "metadata": {
  "kernel_info": {
   "name": "python3"
  },
  "kernelspec": {
   "display_name": "Python 3",
   "language": "python",
   "name": "python3"
  },
  "language_info": {
   "codemirror_mode": {
    "name": "ipython",
    "version": 3
   },
   "file_extension": ".py",
   "mimetype": "text/x-python",
   "name": "python",
   "nbconvert_exporter": "python",
   "pygments_lexer": "ipython3",
   "version": "3.6.1"
  },
  "nteract": {
   "version": "0.5.5"
  }
 },
 "nbformat": 4,
 "nbformat_minor": 2
}
