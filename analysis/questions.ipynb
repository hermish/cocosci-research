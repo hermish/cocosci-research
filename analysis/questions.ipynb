{
  "cells": [
    {
      "cell_type": "markdown",
      "source": [
        "# Study Questions\n",
        "## Imports & Constants"
      ],
      "metadata": {
        "button": false,
        "deletable": true,
        "new_sheet": false,
        "run_control": {
          "read_only": false
        }
      }
    },
    {
      "cell_type": "code",
      "source": [
        "import numpy as np\n",
        "import pandas as pd\n",
        "import matplotlib.pyplot as plt\n",
        "import seaborn as sns\n",
        "import scipy\n",
        "from scipy import stats\n",
        "from textstat.textstat import textstat\n",
        "import pprint, math\n",
        "\n",
        "%matplotlib inline\n",
        "%run -i datajson.py\n",
        "# Ensures higher quality graphs!\n",
        "%config InlineBackend.figure_format = 'retina'"
      ],
      "outputs": [
        {
          "output_type": "stream",
          "name": "stderr",
          "text": [
            "/Users/hermish/anaconda/lib/python3.6/site-packages/statsmodels/compat/pandas.py:56: FutureWarning: The pandas.core.datetools module is deprecated and will be removed in a future version. Please use the pandas.tseries module instead.\n",
            "  from pandas.core import datetools\n"
          ]
        }
      ],
      "execution_count": 1,
      "metadata": {
        "button": false,
        "collapsed": false,
        "deletable": true,
        "new_sheet": false,
        "run_control": {
          "read_only": false
        }
      }
    },
    {
      "cell_type": "code",
      "source": [
        "# File Names\n",
        "name = ['2017-10-02', '2017-10-06', '2017-10-16', '2017-10-25', '2017-11-01', \n",
        "        '2017-11-13', '2017-11-18', '2017-11-25', '2017-12-06', '2017-12-25']\n",
        "CURRENTS = ['../private/output/' + name + '.txt' for name in name]"
      ],
      "outputs": [],
      "execution_count": 6,
      "metadata": {
        "button": false,
        "collapsed": true,
        "deletable": true,
        "new_sheet": false,
        "run_control": {
          "read_only": false
        }
      }
    },
    {
      "cell_type": "code",
      "source": [
        "# Utilities\n",
        "def head(arr, num=5):\n",
        "    try:\n",
        "        pprint.pprint(arr[:num])\n",
        "    except IndexError:\n",
        "        pprint.pprint(arr)\n",
        "\n",
        "def tail(arr, num=5):\n",
        "    try:\n",
        "        pprint.pprint(arr[-num-1:])\n",
        "    except IndexError:\n",
        "        pprint.pprint(arr)\n",
        "\n",
        "def clean_question(text):\n",
        "    start = text[:6].upper()\n",
        "    if start == 'ELI5: ':\n",
        "        return text[6:]\n",
        "    start = text[:5].upper()\n",
        "    if start == 'ELI5:':\n",
        "        return text[5:]\n",
        "    return text"
      ],
      "outputs": [],
      "execution_count": 7,
      "metadata": {
        "button": false,
        "collapsed": true,
        "deletable": true,
        "new_sheet": false,
        "run_control": {
          "read_only": false
        }
      }
    },
    {
      "cell_type": "markdown",
      "source": [
        "## Samples Questions"
      ],
      "metadata": {
        "button": false,
        "deletable": true,
        "new_sheet": false,
        "run_control": {
          "read_only": false
        }
      }
    },
    {
      "cell_type": "code",
      "source": [
        "collected_posts = RedditDataJSON.from_filenames(CURRENTS)\n",
        "print(collected_posts.size)\n",
        "raw_scores = {post['title']: int(post['score']) for post in collected_posts.posts}\n",
        "texts_only = list(raw_scores.keys())\n",
        "texts_only.sort(key=lambda post: raw_scores[post])\n",
        "\n",
        "middle = [post for post in texts_only if 99 < raw_scores[post] < 401]\n",
        "average_score = sum(raw_scores[post] for post in middle) / len(middle)\n",
        "cleaned = [clean_question(post) for post in middle]"
      ],
      "outputs": [
        {
          "output_type": "stream",
          "name": "stdout",
          "text": [
            "(1000, 3)\n"
          ]
        }
      ],
      "execution_count": 16,
      "metadata": {
        "button": false,
        "collapsed": false,
        "deletable": true,
        "new_sheet": false,
        "run_control": {
          "read_only": false
        }
      }
    },
    {
      "cell_type": "code",
      "source": [
        "# Random Sampling\n",
        "questions = list(np.random.choice(cleaned, 15, replace=False))\n",
        "questions"
      ],
      "outputs": [
        {
          "output_type": "execute_result",
          "execution_count": 17,
          "data": {
            "text/plain": [
              "['Do multivitamins and Omega-3 pills actually do anything? or is it more of a placebo-type thing?',\n",
              " \"What happens that makes beer taste terrible after warming up and then re-chilling? What makes beer 'skunky'?\",\n",
              " 'Difference between beat, bar, steps, tempo, tact, and rhythm.',\n",
              " 'How can alcohol withdrawal or detox kill you?',\n",
              " \"Why do some alcoholics suffer life threatening withdrawl symptoms when others with the same drinking habits don't when they quit?\",\n",
              " 'Why are bubbles round?',\n",
              " 'How do activated carbon filters work?',\n",
              " \"how do breeders ensure diversity among their animals' offspring? Wouldn't they have to constantly buy new breeding pairs?\",\n",
              " 'What is matching? (Clothing)',\n",
              " \"What gives something it's taste? Does pyrite taste like table salt because they are both cubes?\",\n",
              " \"In cartoons, certain clothing patterns such as checkered or plaid, it seems like it's a static pattern that the characters move around on. Why is this, and how is it done?\",\n",
              " 'How did we \"solve\" the Y2K problem? Was our solution completely thorough?',\n",
              " 'How does the Federal Reserve figure out how much money to print/mint each year?',\n",
              " \"Why are bodies able to create an entire body with it's own lifetime supply of regenetive cells, but is itself unable to prevent gradual decay over a lifetime?\",\n",
              " 'What stops pop up ads and viruses from simply making the \"no\" or \"cancel\" button take users to the same place as the yes button?']"
            ]
          },
          "metadata": {}
        }
      ],
      "execution_count": 17,
      "metadata": {
        "button": false,
        "collapsed": false,
        "deletable": true,
        "new_sheet": false,
        "run_control": {
          "read_only": false
        }
      }
    },
    {
      "cell_type": "code",
      "source": [
        "high_baseline = average_score * 10\n",
        "low_baseline = average_score // 10\n",
        "high_baseline, low_baseline"
      ],
      "outputs": [
        {
          "output_type": "execute_result",
          "execution_count": 15,
          "data": {
            "text/plain": [
              "(1338.8571428571427, 13.0)"
            ]
          },
          "metadata": {}
        }
      ],
      "execution_count": 15,
      "metadata": {
        "button": false,
        "collapsed": false,
        "deletable": true,
        "new_sheet": false,
        "run_control": {
          "read_only": false
        }
      }
    },
    {
      "cell_type": "code",
      "source": [],
      "outputs": [],
      "execution_count": null,
      "metadata": {
        "button": false,
        "collapsed": true,
        "deletable": true,
        "new_sheet": false,
        "run_control": {
          "read_only": false
        }
      }
    }
  ],
  "metadata": {
    "kernelspec": {
      "name": "python3",
      "language": "python",
      "display_name": "Python 3"
    },
    "language_info": {
      "name": "python",
      "version": "3.6.1",
      "mimetype": "text/x-python",
      "codemirror_mode": {
        "name": "ipython",
        "version": 3
      },
      "pygments_lexer": "ipython3",
      "nbconvert_exporter": "python",
      "file_extension": ".py"
    },
    "kernel_info": {
      "name": "python3"
    },
    "nteract": {
      "version": "0.4.3"
    }
  },
  "nbformat": 4,
  "nbformat_minor": 2
}